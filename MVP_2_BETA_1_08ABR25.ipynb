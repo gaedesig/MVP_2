{
 "cells": [
  {
   "cell_type": "code",
   "execution_count": 0,
   "metadata": {
    "application/vnd.databricks.v1+cell": {
     "cellMetadata": {
      "byteLimit": 2048000,
      "rowLimit": 10000
     },
     "inputWidgets": {},
     "nuid": "a6476e1e-d35b-4709-842a-9a7fd969be33",
     "showTitle": false,
     "tableResultSettingsMap": {},
     "title": ""
    }
   },
   "outputs": [
    {
     "output_type": "stream",
     "name": "stdout",
     "output_type": "stream",
     "text": [
      "Oi!!!\n"
     ]
    }
   ],
   "source": [
    "print('Oi!!!')"
   ]
  },
  {
   "cell_type": "code",
   "execution_count": 0,
   "metadata": {
    "application/vnd.databricks.v1+cell": {
     "cellMetadata": {
      "byteLimit": 2048000,
      "rowLimit": 10000
     },
     "inputWidgets": {},
     "nuid": "af4af71d-b716-4b1b-ba7b-3fc66a60f394",
     "showTitle": false,
     "tableResultSettingsMap": {},
     "title": ""
    }
   },
   "outputs": [
    {
     "output_type": "stream",
     "name": "stdout",
     "output_type": "stream",
     "text": [
      "Diretório criado com sucesso!\n"
     ]
    }
   ],
   "source": [
    "# Criar o diretório no Databricks\n",
    "dbutils.fs.mkdirs(\"/FileStore/tables/\")\n",
    "print(\"Diretório criado com sucesso!\")\n"
   ]
  },
  {
   "cell_type": "code",
   "execution_count": 0,
   "metadata": {
    "application/vnd.databricks.v1+cell": {
     "cellMetadata": {
      "byteLimit": 2048000,
      "rowLimit": 10000
     },
     "inputWidgets": {},
     "nuid": "b8c698d0-0a48-460c-96a6-f36bbceafe7e",
     "showTitle": false,
     "tableResultSettingsMap": {},
     "title": ""
    }
   },
   "outputs": [
    {
     "output_type": "stream",
     "name": "stdout",
     "output_type": "stream",
     "text": [
      "Wrote 208036 bytes.\nArquivo orders salvo em: /FileStore/tables/orders.csv\nWrote 208108 bytes.\nArquivo customers salvo em: /FileStore/tables/customers.csv\nWrote 208116 bytes.\nArquivo products salvo em: /FileStore/tables/products.csv\nWrote 208162 bytes.\nArquivo ord_prds salvo em: /FileStore/tables/ord_prds.csv\nWrote 214240 bytes.\nArquivo categories salvo em: /FileStore/tables/categories.csv\n"
     ]
    }
   ],
   "source": [
    "import requests\n",
    "\n",
    "# Links diretos dos arquivos CSV no GitHub\n",
    "file_urls = {\n",
    "    \"orders\": \"https://github.com/gaedesig/MVP_2/blob/main/olist_orders_dataset.csv\",\n",
    "    \"customers\": \"https://github.com/gaedesig/MVP_2/blob/main/olist_customers_dataset.csv\",\n",
    "    \"products\": \"https://github.com/gaedesig/MVP_2/blob/main/olist_products_dataset.csv\",\n",
    "    \"ord_prds\": \"https://github.com/gaedesig/MVP_2/blob/main/olist_order_items_dataset.csv\",\n",
    "    \"categories\": \"https://github.com/gaedesig/MVP_2/blob/main/product_category_name_translation.csv\"\n",
    "}\n",
    "\n",
    "# Caminhos locais no Databricks para salvar os arquivos\n",
    "local_paths = {name: f\"/FileStore/tables/{name}.csv\" for name in file_urls.keys()}\n",
    "\n",
    "# Baixar cada arquivo e salvar no Databricks usando dbutils.fs.put\n",
    "for name, url in file_urls.items():\n",
    "    response = requests.get(url)\n",
    "    if response.status_code == 200:  # Checar se o download foi bem-sucedido\n",
    "        file_content = response.content.decode(\"utf-8\")  # Decodificar o conteúdo do arquivo\n",
    "        dbutils.fs.put(local_paths[name], file_content, overwrite=True)\n",
    "        print(f\"Arquivo {name} salvo em: {local_paths[name]}\")\n",
    "    else:\n",
    "        print(f\"Erro ao baixar o arquivo {name}: {response.status_code}\")\n"
   ]
  },
  {
   "cell_type": "code",
   "execution_count": 0,
   "metadata": {
    "application/vnd.databricks.v1+cell": {
     "cellMetadata": {
      "byteLimit": 2048000,
      "rowLimit": 10000
     },
     "inputWidgets": {},
     "nuid": "df2598dd-6319-4c61-ab63-d4ead6e073d9",
     "showTitle": false,
     "tableResultSettingsMap": {},
     "title": ""
    }
   },
   "outputs": [
    {
     "output_type": "stream",
     "name": "stdout",
     "output_type": "stream",
     "text": [
      "Out[5]: [FileInfo(path='dbfs:/FileStore/tables/categories.csv', name='categories.csv', size=214240, modificationTime=1744117422000),\n FileInfo(path='dbfs:/FileStore/tables/category_translation.csv', name='category_translation.csv', size=2613, modificationTime=1743963189000),\n FileInfo(path='dbfs:/FileStore/tables/customers.csv', name='customers.csv', size=208108, modificationTime=1744117420000),\n FileInfo(path='dbfs:/FileStore/tables/olist_customers_dataset-1.csv', name='olist_customers_dataset-1.csv', size=9033957, modificationTime=1743952663000),\n FileInfo(path='dbfs:/FileStore/tables/olist_customers_dataset.csv', name='olist_customers_dataset.csv', size=9033957, modificationTime=1743952422000),\n FileInfo(path='dbfs:/FileStore/tables/olist_geolocation_dataset.csv', name='olist_geolocation_dataset.csv', size=61273883, modificationTime=1743952673000),\n FileInfo(path='dbfs:/FileStore/tables/olist_order_items_dataset.csv', name='olist_order_items_dataset.csv', size=15438671, modificationTime=1743952666000),\n FileInfo(path='dbfs:/FileStore/tables/olist_order_payments_dataset.csv', name='olist_order_payments_dataset.csv', size=5777138, modificationTime=1743952668000),\n FileInfo(path='dbfs:/FileStore/tables/olist_order_reviews_dataset.csv', name='olist_order_reviews_dataset.csv', size=14451670, modificationTime=1743952671000),\n FileInfo(path='dbfs:/FileStore/tables/olist_orders_dataset.csv', name='olist_orders_dataset.csv', size=17654914, modificationTime=1743952675000),\n FileInfo(path='dbfs:/FileStore/tables/olist_products_dataset.csv', name='olist_products_dataset.csv', size=2379446, modificationTime=1743952675000),\n FileInfo(path='dbfs:/FileStore/tables/olist_sellers_dataset.csv', name='olist_sellers_dataset.csv', size=174703, modificationTime=1743952675000),\n FileInfo(path='dbfs:/FileStore/tables/ord_prds.csv', name='ord_prds.csv', size=208162, modificationTime=1744117421000),\n FileInfo(path='dbfs:/FileStore/tables/order_items.csv', name='order_items.csv', size=15438671, modificationTime=1743963188000),\n FileInfo(path='dbfs:/FileStore/tables/orders.csv', name='orders.csv', size=208036, modificationTime=1744117419000),\n FileInfo(path='dbfs:/FileStore/tables/product_category_name_translation.csv', name='product_category_name_translation.csv', size=2613, modificationTime=1743952675000),\n FileInfo(path='dbfs:/FileStore/tables/products.csv', name='products.csv', size=208116, modificationTime=1744117421000)]"
     ]
    }
   ],
   "source": [
    "# Listar os arquivos no diretório\n",
    "dbutils.fs.ls(\"/FileStore/tables/\")\n"
   ]
  },
  {
   "cell_type": "markdown",
   "metadata": {
    "application/vnd.databricks.v1+cell": {
     "cellMetadata": {},
     "inputWidgets": {},
     "nuid": "43998b7e-c727-438f-9466-a2b2de8a4d40",
     "showTitle": false,
     "tableResultSettingsMap": {},
     "title": ""
    }
   },
   "source": [
    "Limpar arquivos desnecessários acima... Procurar como fazer"
   ]
  },
  {
   "cell_type": "code",
   "execution_count": 0,
   "metadata": {
    "application/vnd.databricks.v1+cell": {
     "cellMetadata": {
      "byteLimit": 2048000,
      "rowLimit": 10000
     },
     "inputWidgets": {},
     "nuid": "2d56f40d-f8da-424d-9bd5-e036fc61d8e1",
     "showTitle": false,
     "tableResultSettingsMap": {},
     "title": ""
    }
   },
   "outputs": [
    {
     "output_type": "display_data",
     "data": {
      "application/vnd.databricks.v1+bamboolib_hint": "{\"pd.DataFrames\": [], \"version\": \"0.0.1\"}",
      "text/plain": []
     },
     "metadata": {},
     "output_type": "display_data"
    }
   ],
   "source": [
    "import pandas as pd"
   ]
  },
  {
   "cell_type": "code",
   "execution_count": 0,
   "metadata": {
    "application/vnd.databricks.v1+cell": {
     "cellMetadata": {
      "byteLimit": 2048000,
      "rowLimit": 10000
     },
     "inputWidgets": {},
     "nuid": "ce8f7ea6-3997-4074-8115-7912c3585534",
     "showTitle": false,
     "tableResultSettingsMap": {},
     "title": ""
    }
   },
   "outputs": [
    {
     "output_type": "stream",
     "name": "stdout",
     "output_type": "stream",
     "text": [
      "Link válido! O arquivo pode ser baixado.\n\"order_id\",\"customer_id\",\"order_status\",\"order_purchase_timestamp\",\"order_approved_at\",\"order_delive\n"
     ]
    }
   ],
   "source": [
    "import requests\n",
    "\n",
    "# Testar o link de download\n",
    "url = \"https://raw.githubusercontent.com/gaedesig/MVP_2/main/olist_orders_dataset.csv\"\n",
    "response = requests.get(url)\n",
    "\n",
    "if response.status_code == 200:\n",
    "    print(\"Link válido! O arquivo pode ser baixado.\")\n",
    "    # Exibir os primeiros caracteres do conteúdo como teste\n",
    "    print(response.text[:100])  # Mostrar os primeiros 100 caracteres\n",
    "else:\n",
    "    print(f\"Erro ao acessar o link: {response.status_code}\")\n"
   ]
  },
  {
   "cell_type": "code",
   "execution_count": 0,
   "metadata": {
    "application/vnd.databricks.v1+cell": {
     "cellMetadata": {
      "byteLimit": 2048000,
      "rowLimit": 10000
     },
     "inputWidgets": {},
     "nuid": "0e326672-2541-461c-92c1-b3e0234cc561",
     "showTitle": false,
     "tableResultSettingsMap": {},
     "title": ""
    }
   },
   "outputs": [
    {
     "output_type": "stream",
     "name": "stdout",
     "output_type": "stream",
     "text": [
      "Wrote 17654914 bytes.\nArquivo salvo com sucesso em: /FileStore/tables/orders.csv\n"
     ]
    }
   ],
   "source": [
    "# Link do arquivo CSV no GitHub\n",
    "file_url = \"https://raw.githubusercontent.com/gaedesig/MVP_2/refs/heads/main/olist_orders_dataset.csv\"\n",
    "\n",
    "# Caminho local no Databricks\n",
    "local_path = \"/FileStore/tables/orders.csv\"\n",
    "\n",
    "# Baixar e salvar o conteúdo\n",
    "response = requests.get(file_url)\n",
    "if response.status_code == 200:\n",
    "    content = response.text  # Conteúdo do arquivo em formato de texto\n",
    "    dbutils.fs.put(local_path, content, overwrite=True)\n",
    "    print(f\"Arquivo salvo com sucesso em: {local_path}\")\n",
    "else:\n",
    "    print(f\"Erro ao acessar o link: {response.status_code}\")\n"
   ]
  },
  {
   "cell_type": "code",
   "execution_count": 0,
   "metadata": {
    "application/vnd.databricks.v1+cell": {
     "cellMetadata": {
      "byteLimit": 2048000,
      "rowLimit": 10000
     },
     "inputWidgets": {},
     "nuid": "f3268c43-9caf-4b7c-9503-9a8c9d0f7f5a",
     "showTitle": false,
     "tableResultSettingsMap": {},
     "title": ""
    }
   },
   "outputs": [
    {
     "output_type": "stream",
     "name": "stdout",
     "output_type": "stream",
     "text": [
      "+--------------------+--------------------+------------+------------------------+-------------------+----------------------------+-----------------------------+-----------------------------+\n|            order_id|         customer_id|order_status|order_purchase_timestamp|  order_approved_at|order_delivered_carrier_date|order_delivered_customer_date|order_estimated_delivery_date|\n+--------------------+--------------------+------------+------------------------+-------------------+----------------------------+-----------------------------+-----------------------------+\n|e481f51cbdc54678b...|9ef432eb625129730...|   delivered|     2017-10-02 10:56:33|2017-10-02 11:07:15|         2017-10-04 19:55:00|          2017-10-10 21:25:13|          2017-10-18 00:00:00|\n|53cdb2fc8bc7dce0b...|b0830fb4747a6c6d2...|   delivered|     2018-07-24 20:41:37|2018-07-26 03:24:27|         2018-07-26 14:31:00|          2018-08-07 15:27:45|          2018-08-13 00:00:00|\n|47770eb9100c2d0c4...|41ce2a54c0b03bf34...|   delivered|     2018-08-08 08:38:49|2018-08-08 08:55:23|         2018-08-08 13:50:00|          2018-08-17 18:06:29|          2018-09-04 00:00:00|\n|949d5b44dbf5de918...|f88197465ea7920ad...|   delivered|     2017-11-18 19:28:06|2017-11-18 19:45:59|         2017-11-22 13:39:59|          2017-12-02 00:28:42|          2017-12-15 00:00:00|\n|ad21c59c0840e6cb8...|8ab97904e6daea886...|   delivered|     2018-02-13 21:18:39|2018-02-13 22:20:29|         2018-02-14 19:46:34|          2018-02-16 18:17:02|          2018-02-26 00:00:00|\n+--------------------+--------------------+------------+------------------------+-------------------+----------------------------+-----------------------------+-----------------------------+\nonly showing top 5 rows\n\n"
     ]
    }
   ],
   "source": [
    "# Ler o arquivo CSV salvo no Databricks\n",
    "orders_raw_df = spark.read.format(\"csv\").option(\"header\", \"true\").load(\"/FileStore/tables/orders.csv\")\n",
    "\n",
    "# Exibir os primeiros registros\n",
    "orders_raw_df.show(5)\n"
   ]
  },
  {
   "cell_type": "code",
   "execution_count": 0,
   "metadata": {
    "application/vnd.databricks.v1+cell": {
     "cellMetadata": {
      "byteLimit": 2048000,
      "rowLimit": 10000
     },
     "inputWidgets": {},
     "nuid": "98ce3371-7cbe-4e61-896a-9f853bf3cc3b",
     "showTitle": false,
     "tableResultSettingsMap": {},
     "title": ""
    }
   },
   "outputs": [
    {
     "output_type": "stream",
     "name": "stdout",
     "output_type": "stream",
     "text": [
      "Wrote 9033957 bytes.\nArquivo customers salvo com sucesso em: /FileStore/tables/customers.csv\nWrote 2379446 bytes.\nArquivo products salvo com sucesso em: /FileStore/tables/products.csv\nWrote 15438671 bytes.\nArquivo order_items salvo com sucesso em: /FileStore/tables/order_items.csv\nWrote 2613 bytes.\nArquivo category_translation salvo com sucesso em: /FileStore/tables/category_translation.csv\n"
     ]
    }
   ],
   "source": [
    "import requests\n",
    "\n",
    "# Links diretos dos arquivos CSV\n",
    "file_urls = {\n",
    "    \"customers\": \"https://raw.githubusercontent.com/gaedesig/MVP_2/main/olist_customers_dataset.csv\",\n",
    "    \"products\": \"https://raw.githubusercontent.com/gaedesig/MVP_2/main/olist_products_dataset.csv\",\n",
    "    \"order_items\": \"https://raw.githubusercontent.com/gaedesig/MVP_2/main/olist_order_items_dataset.csv\",\n",
    "    \"category_translation\": \"https://raw.githubusercontent.com/gaedesig/MVP_2/main/product_category_name_translation.csv\"\n",
    "}\n",
    "\n",
    "# Caminhos locais no Databricks para salvar os arquivos\n",
    "local_paths = {name: f\"/FileStore/tables/{name}.csv\" for name in file_urls.keys()}\n",
    "\n",
    "# Baixar cada arquivo e salvar no Databricks\n",
    "for name, url in file_urls.items():\n",
    "    response = requests.get(url)\n",
    "    if response.status_code == 200:  # Verificar se o download foi bem-sucedido\n",
    "        content = response.text  # Conteúdo do arquivo\n",
    "        dbutils.fs.put(local_paths[name], content, overwrite=True)\n",
    "        print(f\"Arquivo {name} salvo com sucesso em: {local_paths[name]}\")\n",
    "    else:\n",
    "        print(f\"Erro ao baixar o arquivo {name}: {response.status_code}\")\n"
   ]
  },
  {
   "cell_type": "code",
   "execution_count": 0,
   "metadata": {
    "application/vnd.databricks.v1+cell": {
     "cellMetadata": {
      "byteLimit": 2048000,
      "rowLimit": 10000
     },
     "inputWidgets": {},
     "nuid": "82c4b583-665e-40da-a4d5-44a61a3ca552",
     "showTitle": false,
     "tableResultSettingsMap": {},
     "title": ""
    }
   },
   "outputs": [
    {
     "output_type": "stream",
     "name": "stdout",
     "output_type": "stream",
     "text": [
      "+--------------------+--------------------+------------------------+--------------------+--------------+\n|         customer_id|  customer_unique_id|customer_zip_code_prefix|       customer_city|customer_state|\n+--------------------+--------------------+------------------------+--------------------+--------------+\n|06b8999e2fba1a1fb...|861eff4711a542e4b...|                   14409|              franca|            SP|\n|18955e83d337fd6b2...|290c77bc529b7ac93...|                   09790|sao bernardo do c...|            SP|\n|4e7b3e00288586ebd...|060e732b5b29e8181...|                   01151|           sao paulo|            SP|\n|b2b6027bc5c5109e5...|259dac757896d24d7...|                   08775|     mogi das cruzes|            SP|\n|4f2d8ab171c80ec83...|345ecd01c38d18a90...|                   13056|            campinas|            SP|\n+--------------------+--------------------+------------------------+--------------------+--------------+\nonly showing top 5 rows\n\n+--------------------+---------------------+-------------------+--------------------------+------------------+----------------+-----------------+-----------------+----------------+\n|          product_id|product_category_name|product_name_lenght|product_description_lenght|product_photos_qty|product_weight_g|product_length_cm|product_height_cm|product_width_cm|\n+--------------------+---------------------+-------------------+--------------------------+------------------+----------------+-----------------+-----------------+----------------+\n|1e9e8ef04dbcff454...|           perfumaria|                 40|                       287|                 1|             225|               16|               10|              14|\n|3aa071139cb16b67c...|                artes|                 44|                       276|                 1|            1000|               30|               18|              20|\n|96bd76ec8810374ed...|        esporte_lazer|                 46|                       250|                 1|             154|               18|                9|              15|\n|cef67bcfe19066a93...|                bebes|                 27|                       261|                 1|             371|               26|                4|              26|\n|9dc1a7de274444849...| utilidades_domest...|                 37|                       402|                 4|             625|               20|               17|              13|\n+--------------------+---------------------+-------------------+--------------------------+------------------+----------------+-----------------+-----------------+----------------+\nonly showing top 5 rows\n\n+--------------------+-------------+--------------------+--------------------+-------------------+------+-------------+\n|            order_id|order_item_id|          product_id|           seller_id|shipping_limit_date| price|freight_value|\n+--------------------+-------------+--------------------+--------------------+-------------------+------+-------------+\n|00010242fe8c5a6d1...|            1|4244733e06e7ecb49...|48436dade18ac8b2b...|2017-09-19 09:45:35| 58.90|        13.29|\n|00018f77f2f0320c5...|            1|e5f2d52b802189ee6...|dd7ddc04e1b6c2c61...|2017-05-03 11:05:13|239.90|        19.93|\n|000229ec398224ef6...|            1|c777355d18b72b67a...|5b51032eddd242adc...|2018-01-18 14:48:30|199.00|        17.87|\n|00024acbcdf0a6daa...|            1|7634da152a4610f15...|9d7a1d34a50524090...|2018-08-15 10:10:18| 12.99|        12.79|\n|00042b26cf59d7ce6...|            1|ac6c3623068f30de0...|df560393f3a51e745...|2017-02-13 13:57:51|199.90|        18.14|\n+--------------------+-------------+--------------------+--------------------+-------------------+------+-------------+\nonly showing top 5 rows\n\n+---------------------+-----------------------------+\n|product_category_name|product_category_name_english|\n+---------------------+-----------------------------+\n|         beleza_saude|                health_beauty|\n| informatica_acess...|         computers_accesso...|\n|           automotivo|                         auto|\n|      cama_mesa_banho|               bed_bath_table|\n|     moveis_decoracao|              furniture_decor|\n+---------------------+-----------------------------+\nonly showing top 5 rows\n\n+--------------------+--------------------+------------+------------------------+-------------------+----------------------------+-----------------------------+-----------------------------+\n|            order_id|         customer_id|order_status|order_purchase_timestamp|  order_approved_at|order_delivered_carrier_date|order_delivered_customer_date|order_estimated_delivery_date|\n+--------------------+--------------------+------------+------------------------+-------------------+----------------------------+-----------------------------+-----------------------------+\n|e481f51cbdc54678b...|9ef432eb625129730...|   delivered|     2017-10-02 10:56:33|2017-10-02 11:07:15|         2017-10-04 19:55:00|          2017-10-10 21:25:13|          2017-10-18 00:00:00|\n|53cdb2fc8bc7dce0b...|b0830fb4747a6c6d2...|   delivered|     2018-07-24 20:41:37|2018-07-26 03:24:27|         2018-07-26 14:31:00|          2018-08-07 15:27:45|          2018-08-13 00:00:00|\n|47770eb9100c2d0c4...|41ce2a54c0b03bf34...|   delivered|     2018-08-08 08:38:49|2018-08-08 08:55:23|         2018-08-08 13:50:00|          2018-08-17 18:06:29|          2018-09-04 00:00:00|\n|949d5b44dbf5de918...|f88197465ea7920ad...|   delivered|     2017-11-18 19:28:06|2017-11-18 19:45:59|         2017-11-22 13:39:59|          2017-12-02 00:28:42|          2017-12-15 00:00:00|\n|ad21c59c0840e6cb8...|8ab97904e6daea886...|   delivered|     2018-02-13 21:18:39|2018-02-13 22:20:29|         2018-02-14 19:46:34|          2018-02-16 18:17:02|          2018-02-26 00:00:00|\n+--------------------+--------------------+------------+------------------------+-------------------+----------------------------+-----------------------------+-----------------------------+\nonly showing top 5 rows\n\n"
     ]
    }
   ],
   "source": [
    "# Ler os arquivos CSV salvos\n",
    "customers_df = spark.read.format(\"csv\").option(\"header\", \"true\").load(\"/FileStore/tables/customers.csv\")\n",
    "products_df = spark.read.format(\"csv\").option(\"header\", \"true\").load(\"/FileStore/tables/products.csv\")\n",
    "order_items_df = spark.read.format(\"csv\").option(\"header\", \"true\").load(\"/FileStore/tables/order_items.csv\")\n",
    "category_translation_df = spark.read.format(\"csv\").option(\"header\", \"true\").load(\"/FileStore/tables/category_translation.csv\")\n",
    "\n",
    "# Visualizar os primeiros registros\n",
    "customers_df.show(5)\n",
    "products_df.show(5)\n",
    "order_items_df.show(5)\n",
    "category_translation_df.show(5)\n",
    "orders_raw_df.show(5)"
   ]
  }
 ],
 "metadata": {
  "application/vnd.databricks.v1+notebook": {
   "computePreferences": null,
   "dashboards": [],
   "environmentMetadata": {
    "base_environment": "",
    "environment_version": "1"
   },
   "inputWidgetPreferences": null,
   "language": "python",
   "notebookMetadata": {
    "pythonIndentUnit": 4
   },
   "notebookName": "MVP_2_BETA",
   "widgets": {}
  }
 },
 "nbformat": 4,
 "nbformat_minor": 0
}
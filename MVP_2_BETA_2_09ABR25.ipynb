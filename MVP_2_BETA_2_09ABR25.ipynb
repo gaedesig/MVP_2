{
 "cells": [
  {
   "cell_type": "code",
   "execution_count": 0,
   "metadata": {
    "application/vnd.databricks.v1+cell": {
     "cellMetadata": {
      "byteLimit": 2048000,
      "rowLimit": 10000
     },
     "inputWidgets": {},
     "nuid": "a6476e1e-d35b-4709-842a-9a7fd969be33",
     "showTitle": false,
     "tableResultSettingsMap": {},
     "title": ""
    }
   },
   "outputs": [
    {
     "output_type": "stream",
     "name": "stdout",
     "output_type": "stream",
     "text": [
      "Oi!!!\n"
     ]
    }
   ],
   "source": [
    "print('Oi!!!')"
   ]
  },
  {
   "cell_type": "code",
   "execution_count": 0,
   "metadata": {
    "application/vnd.databricks.v1+cell": {
     "cellMetadata": {
      "byteLimit": 2048000,
      "rowLimit": 10000
     },
     "inputWidgets": {},
     "nuid": "af4af71d-b716-4b1b-ba7b-3fc66a60f394",
     "showTitle": false,
     "tableResultSettingsMap": {},
     "title": ""
    }
   },
   "outputs": [
    {
     "output_type": "stream",
     "name": "stdout",
     "output_type": "stream",
     "text": [
      "Diretório criado com sucesso!\n"
     ]
    }
   ],
   "source": [
    "# Criar o diretório no Databricks\n",
    "dbutils.fs.mkdirs(\"/FileStore/tables/\")\n",
    "print(\"Diretório criado com sucesso!\")\n"
   ]
  },
  {
   "cell_type": "markdown",
   "metadata": {
    "application/vnd.databricks.v1+cell": {
     "cellMetadata": {},
     "inputWidgets": {},
     "nuid": "410fe0bd-b87b-43cc-8f07-f6e72b0f8a6a",
     "showTitle": false,
     "tableResultSettingsMap": {},
     "title": ""
    }
   },
   "source": [
    "# **1**"
   ]
  },
  {
   "cell_type": "code",
   "execution_count": 0,
   "metadata": {
    "application/vnd.databricks.v1+cell": {
     "cellMetadata": {
      "byteLimit": 2048000,
      "rowLimit": 10000
     },
     "inputWidgets": {},
     "nuid": "b8c698d0-0a48-460c-96a6-f36bbceafe7e",
     "showTitle": false,
     "tableResultSettingsMap": {},
     "title": ""
    }
   },
   "outputs": [
    {
     "output_type": "stream",
     "name": "stdout",
     "output_type": "stream",
     "text": [
      "Wrote 17654914 bytes.\nArquivo orders salvo em: /FileStore/tables/orders.csv\nWrote 9033957 bytes.\nArquivo customers salvo em: /FileStore/tables/customers.csv\nWrote 2379446 bytes.\nArquivo products salvo em: /FileStore/tables/products.csv\nWrote 15438671 bytes.\nArquivo ord_prds salvo em: /FileStore/tables/ord_prds.csv\nWrote 2613 bytes.\nArquivo categories salvo em: /FileStore/tables/categories.csv\nWrote 174703 bytes.\nArquivo sellers salvo em: /FileStore/tables/sellers.csv\nWrote 5777138 bytes.\nArquivo payments salvo em: /FileStore/tables/payments.csv\nWrote 14451670 bytes.\nArquivo ord_reviews salvo em: /FileStore/tables/ord_reviews.csv\n"
     ]
    }
   ],
   "source": [
    "# 1\n",
    "import requests\n",
    "\n",
    "# Links diretos dos arquivos CSV no GitHub\n",
    "file_urls = {\n",
    "    \"orders\": \"https://raw.githubusercontent.com/gaedesig/MVP_2/refs/heads/main/olist_orders_dataset.csv\",\n",
    "    \"customers\": \"https://raw.githubusercontent.com/gaedesig/MVP_2/refs/heads/main/olist_customers_dataset.csv\",\n",
    "    \"products\": \"https://raw.githubusercontent.com/gaedesig/MVP_2/refs/heads/main/olist_products_dataset.csv\",\n",
    "    \"ord_prds\": \"https://raw.githubusercontent.com/gaedesig/MVP_2/refs/heads/main/olist_order_items_dataset.csv\",\n",
    "    \"categories\": \"https://raw.githubusercontent.com/gaedesig/MVP_2/refs/heads/main/product_category_name_translation.csv\",\n",
    "    \"sellers\": \"https://raw.githubusercontent.com/gaedesig/MVP_2/refs/heads/main/olist_sellers_dataset.csv\",\n",
    "    \"payments\": \"https://raw.githubusercontent.com/gaedesig/MVP_2/refs/heads/main/olist_order_payments_dataset.csv\",\n",
    "    \"ord_reviews\": \"https://raw.githubusercontent.com/gaedesig/MVP_2/refs/heads/main/olist_order_reviews_dataset.csv\"\n",
    "}\n",
    "\n",
    "# Caminhos locais no Databricks para salvar os arquivos\n",
    "local_paths = {name: f\"/FileStore/tables/{name}.csv\" for name in file_urls.keys()}\n",
    "\n",
    "# Baixar cada arquivo e salvar no Databricks usando dbutils.fs.put\n",
    "for name, url in file_urls.items():\n",
    "    response = requests.get(url)\n",
    "    if response.status_code == 200:  # Checar se o download foi bem-sucedido\n",
    "        file_content = response.content.decode(\"utf-8\")  # Decodificar o conteúdo do arquivo\n",
    "        dbutils.fs.put(local_paths[name], file_content, overwrite=True)\n",
    "        print(f\"Arquivo {name} salvo em: {local_paths[name]}\")\n",
    "    else:\n",
    "        print(f\"Erro ao baixar o arquivo {name}: {response.status_code}\")\n"
   ]
  },
  {
   "cell_type": "markdown",
   "metadata": {
    "application/vnd.databricks.v1+cell": {
     "cellMetadata": {},
     "inputWidgets": {},
     "nuid": "c002b9f7-43a8-438f-a853-05565b8ac0ea",
     "showTitle": false,
     "tableResultSettingsMap": {},
     "title": ""
    }
   },
   "source": [
    "# **2**"
   ]
  },
  {
   "cell_type": "code",
   "execution_count": 0,
   "metadata": {
    "application/vnd.databricks.v1+cell": {
     "cellMetadata": {
      "byteLimit": 2048000,
      "rowLimit": 10000
     },
     "inputWidgets": {},
     "nuid": "df2598dd-6319-4c61-ab63-d4ead6e073d9",
     "showTitle": false,
     "tableResultSettingsMap": {},
     "title": ""
    }
   },
   "outputs": [
    {
     "output_type": "stream",
     "name": "stdout",
     "output_type": "stream",
     "text": [
      "Out[55]: [FileInfo(path='dbfs:/FileStore/tables/categories.csv', name='categories.csv', size=2613, modificationTime=1744201820000),\n FileInfo(path='dbfs:/FileStore/tables/customers.csv', name='customers.csv', size=9033957, modificationTime=1744201815000),\n FileInfo(path='dbfs:/FileStore/tables/ord_prds.csv', name='ord_prds.csv', size=15438671, modificationTime=1744201819000),\n FileInfo(path='dbfs:/FileStore/tables/ord_reviews.csv', name='ord_reviews.csv', size=14451670, modificationTime=1744201825000),\n FileInfo(path='dbfs:/FileStore/tables/orders.csv', name='orders.csv', size=17654914, modificationTime=1744201813000),\n FileInfo(path='dbfs:/FileStore/tables/payments.csv', name='payments.csv', size=5777138, modificationTime=1744201821000),\n FileInfo(path='dbfs:/FileStore/tables/products.csv', name='products.csv', size=2379446, modificationTime=1744201816000),\n FileInfo(path='dbfs:/FileStore/tables/sellers.csv', name='sellers.csv', size=174703, modificationTime=1744201820000)]"
     ]
    }
   ],
   "source": [
    "# 2\n",
    "# Listar os arquivos no diretório\n",
    "dbutils.fs.ls(\"/FileStore/tables/\")\n"
   ]
  },
  {
   "cell_type": "markdown",
   "metadata": {
    "application/vnd.databricks.v1+cell": {
     "cellMetadata": {},
     "inputWidgets": {},
     "nuid": "43998b7e-c727-438f-9466-a2b2de8a4d40",
     "showTitle": false,
     "tableResultSettingsMap": {},
     "title": ""
    }
   },
   "source": [
    "Para limpar arquivos desnecessários acima... célula seguinte"
   ]
  },
  {
   "cell_type": "markdown",
   "metadata": {
    "application/vnd.databricks.v1+cell": {
     "cellMetadata": {},
     "inputWidgets": {},
     "nuid": "6df81d15-1fc3-4f39-814d-86cfa6f94a48",
     "showTitle": false,
     "tableResultSettingsMap": {},
     "title": ""
    }
   },
   "source": [
    "## MANUTENÇÃO"
   ]
  },
  {
   "cell_type": "code",
   "execution_count": 0,
   "metadata": {
    "application/vnd.databricks.v1+cell": {
     "cellMetadata": {
      "byteLimit": 2048000,
      "rowLimit": 10000
     },
     "inputWidgets": {},
     "nuid": "ff09b5eb-e29f-4af5-bdcf-0cc916ce69e1",
     "showTitle": false,
     "tableResultSettingsMap": {},
     "title": ""
    }
   },
   "outputs": [
    {
     "output_type": "stream",
     "name": "stdout",
     "output_type": "stream",
     "text": [
      "Pasta '/FileStore/tables/' limpa com sucesso!\n"
     ]
    }
   ],
   "source": [
    "# Limpar todos os arquivos da pasta \"/FileStore/tables/\"\n",
    "files = dbutils.fs.ls(\"/FileStore/tables/\")\n",
    "for file in files:\n",
    "    dbutils.fs.rm(file.path, recurse=True)\n",
    "\n",
    "print(\"Pasta '/FileStore/tables/' limpa com sucesso!\")\n"
   ]
  },
  {
   "cell_type": "markdown",
   "metadata": {
    "application/vnd.databricks.v1+cell": {
     "cellMetadata": {},
     "inputWidgets": {},
     "nuid": "79311612-02bc-4e84-9cd1-2502cd8c2002",
     "showTitle": false,
     "tableResultSettingsMap": {},
     "title": ""
    }
   },
   "source": [
    "# **3**"
   ]
  },
  {
   "cell_type": "code",
   "execution_count": 0,
   "metadata": {
    "application/vnd.databricks.v1+cell": {
     "cellMetadata": {
      "byteLimit": 2048000,
      "rowLimit": 10000
     },
     "inputWidgets": {},
     "nuid": "2d56f40d-f8da-424d-9bd5-e036fc61d8e1",
     "showTitle": false,
     "tableResultSettingsMap": {},
     "title": ""
    }
   },
   "outputs": [
    {
     "output_type": "display_data",
     "data": {
      "application/vnd.databricks.v1+bamboolib_hint": "{\"pd.DataFrames\": [], \"version\": \"0.0.1\"}",
      "text/plain": []
     },
     "metadata": {},
     "output_type": "display_data"
    }
   ],
   "source": [
    "# 3\n",
    "import pandas as pd"
   ]
  },
  {
   "cell_type": "code",
   "execution_count": 0,
   "metadata": {
    "application/vnd.databricks.v1+cell": {
     "cellMetadata": {
      "byteLimit": 2048000,
      "rowLimit": 10000
     },
     "inputWidgets": {},
     "nuid": "b564cfa0-5bc4-4245-88ee-888921a7954c",
     "showTitle": false,
     "tableResultSettingsMap": {},
     "title": ""
    }
   },
   "outputs": [
    {
     "output_type": "display_data",
     "data": {
      "text/html": [
       "<div>\n",
       "<style scoped>\n",
       "    .dataframe tbody tr th:only-of-type {\n",
       "        vertical-align: middle;\n",
       "    }\n",
       "\n",
       "    .dataframe tbody tr th {\n",
       "        vertical-align: top;\n",
       "    }\n",
       "\n",
       "    .dataframe thead th {\n",
       "        text-align: right;\n",
       "    }\n",
       "</style>\n",
       "<table border=\"1\" class=\"dataframe\">\n",
       "  <thead>\n",
       "    <tr style=\"text-align: right;\">\n",
       "      <th></th>\n",
       "      <th>order_id</th>\n",
       "      <th>customer_id</th>\n",
       "      <th>order_status</th>\n",
       "      <th>order_purchase_timestamp</th>\n",
       "      <th>order_approved_at</th>\n",
       "      <th>order_delivered_carrier_date</th>\n",
       "      <th>order_delivered_customer_date</th>\n",
       "      <th>order_estimated_delivery_date</th>\n",
       "    </tr>\n",
       "  </thead>\n",
       "  <tbody>\n",
       "    <tr>\n",
       "      <th>count</th>\n",
       "      <td>99441</td>\n",
       "      <td>99441</td>\n",
       "      <td>99441</td>\n",
       "      <td>99441</td>\n",
       "      <td>99281</td>\n",
       "      <td>97658</td>\n",
       "      <td>96476</td>\n",
       "      <td>99441</td>\n",
       "    </tr>\n",
       "    <tr>\n",
       "      <th>unique</th>\n",
       "      <td>99441</td>\n",
       "      <td>99441</td>\n",
       "      <td>8</td>\n",
       "      <td>98875</td>\n",
       "      <td>90733</td>\n",
       "      <td>81018</td>\n",
       "      <td>95664</td>\n",
       "      <td>459</td>\n",
       "    </tr>\n",
       "    <tr>\n",
       "      <th>top</th>\n",
       "      <td>e481f51cbdc54678b7cc49136f2d6af7</td>\n",
       "      <td>9ef432eb6251297304e76186b10a928d</td>\n",
       "      <td>delivered</td>\n",
       "      <td>2018-04-11 10:48:14</td>\n",
       "      <td>2018-02-27 04:31:10</td>\n",
       "      <td>2018-05-09 15:48:00</td>\n",
       "      <td>2018-05-08 23:38:46</td>\n",
       "      <td>2017-12-20 00:00:00</td>\n",
       "    </tr>\n",
       "    <tr>\n",
       "      <th>freq</th>\n",
       "      <td>1</td>\n",
       "      <td>1</td>\n",
       "      <td>96478</td>\n",
       "      <td>3</td>\n",
       "      <td>9</td>\n",
       "      <td>47</td>\n",
       "      <td>3</td>\n",
       "      <td>522</td>\n",
       "    </tr>\n",
       "  </tbody>\n",
       "</table>\n",
       "</div>"
      ]
     },
     "metadata": {
      "application/vnd.databricks.v1+output": {
       "addedWidgets": {},
       "arguments": {},
       "data": "<div>\n<style scoped>\n    .dataframe tbody tr th:only-of-type {\n        vertical-align: middle;\n    }\n\n    .dataframe tbody tr th {\n        vertical-align: top;\n    }\n\n    .dataframe thead th {\n        text-align: right;\n    }\n</style>\n<table border=\"1\" class=\"dataframe\">\n  <thead>\n    <tr style=\"text-align: right;\">\n      <th></th>\n      <th>order_id</th>\n      <th>customer_id</th>\n      <th>order_status</th>\n      <th>order_purchase_timestamp</th>\n      <th>order_approved_at</th>\n      <th>order_delivered_carrier_date</th>\n      <th>order_delivered_customer_date</th>\n      <th>order_estimated_delivery_date</th>\n    </tr>\n  </thead>\n  <tbody>\n    <tr>\n      <th>count</th>\n      <td>99441</td>\n      <td>99441</td>\n      <td>99441</td>\n      <td>99441</td>\n      <td>99281</td>\n      <td>97658</td>\n      <td>96476</td>\n      <td>99441</td>\n    </tr>\n    <tr>\n      <th>unique</th>\n      <td>99441</td>\n      <td>99441</td>\n      <td>8</td>\n      <td>98875</td>\n      <td>90733</td>\n      <td>81018</td>\n      <td>95664</td>\n      <td>459</td>\n    </tr>\n    <tr>\n      <th>top</th>\n      <td>e481f51cbdc54678b7cc49136f2d6af7</td>\n      <td>9ef432eb6251297304e76186b10a928d</td>\n      <td>delivered</td>\n      <td>2018-04-11 10:48:14</td>\n      <td>2018-02-27 04:31:10</td>\n      <td>2018-05-09 15:48:00</td>\n      <td>2018-05-08 23:38:46</td>\n      <td>2017-12-20 00:00:00</td>\n    </tr>\n    <tr>\n      <th>freq</th>\n      <td>1</td>\n      <td>1</td>\n      <td>96478</td>\n      <td>3</td>\n      <td>9</td>\n      <td>47</td>\n      <td>3</td>\n      <td>522</td>\n    </tr>\n  </tbody>\n</table>\n</div>",
       "datasetInfos": [],
       "metadata": {},
       "removedWidgets": [],
       "textData": null,
       "type": "htmlSandbox"
      }
     },
     "output_type": "display_data"
    }
   ],
   "source": [
    "orders_pandas_df.describe()"
   ]
  },
  {
   "cell_type": "markdown",
   "metadata": {
    "application/vnd.databricks.v1+cell": {
     "cellMetadata": {},
     "inputWidgets": {},
     "nuid": "9959d63a-62ec-431b-893b-9ef852a1a12e",
     "showTitle": false,
     "tableResultSettingsMap": {},
     "title": ""
    }
   },
   "source": [
    "# **4**"
   ]
  },
  {
   "cell_type": "code",
   "execution_count": 0,
   "metadata": {
    "application/vnd.databricks.v1+cell": {
     "cellMetadata": {
      "byteLimit": 2048000,
      "rowLimit": 10000
     },
     "inputWidgets": {},
     "nuid": "758e44e2-d170-4e24-b762-8e43ebd82d3e",
     "showTitle": false,
     "tableResultSettingsMap": {},
     "title": ""
    }
   },
   "outputs": [],
   "source": [
    "# 4\n",
    "# Ler os arquivos CSV salvos\n",
    "\n",
    "customers_df = spark.read.format(\"csv\").option(\"header\", \"true\").load(\"/FileStore/tables/customers.csv\")\n",
    "products_df = spark.read.format(\"csv\").option(\"header\", \"true\").load(\"/FileStore/tables/products.csv\")\n",
    "order_items_df = spark.read.format(\"csv\").option(\"header\", \"true\").load(\"/FileStore/tables/ord_prds.csv\")\n",
    "category_translation_df = spark.read.format(\"csv\").option(\"header\", \"true\").load(\"/FileStore/tables/categories.csv\")\n",
    "sellers_df = spark.read.format(\"csv\").option(\"header\", \"true\").load(\"/FileStore/tables/sellers.csv\")\n",
    "payments_df = spark.read.format(\"csv\").option(\"header\", \"true\").load(\"/FileStore/tables/payments.csv\")\n",
    "order_reviews_df = spark.read.format(\"csv\").option(\"header\", \"true\").load(\"/FileStore/tables/ord_reviews.csv\")\n",
    "orders_df = spark.read.format(\"csv\").option(\"header\", \"true\").load(\"/FileStore/tables/orders.csv\")"
   ]
  },
  {
   "cell_type": "code",
   "execution_count": 0,
   "metadata": {
    "application/vnd.databricks.v1+cell": {
     "cellMetadata": {
      "byteLimit": 2048000,
      "rowLimit": 10000
     },
     "inputWidgets": {},
     "nuid": "1d005012-6fa9-43b9-9c69-db157ae8848e",
     "showTitle": false,
     "tableResultSettingsMap": {},
     "title": ""
    }
   },
   "outputs": [],
   "source": [
    "# Fazendo dataframes em pandas para melhor visualização\n",
    "\n",
    "\n",
    "# Converter o DataFrame Spark para Pandas\n",
    "orders_pandas_df = orders_df.toPandas()\n",
    "customer_pandas_df = \n",
    "order_items_pandas_df =\n",
    "order_reviews_pandas_df =\n",
    "payments_pandas_df = \n",
    "products_pandas_df = \n",
    "sellers_pandas_df = \n",
    "category_translation_pandas_df = \n",
    "\n",
    "# parei aqui as 11:30\n",
    "\n",
    "\n",
    "\n",
    "\n",
    "# Verificar os dados carregados\n",
    "#print(orders_pandas_df.head())\n",
    "\n"
   ]
  },
  {
   "cell_type": "code",
   "execution_count": 0,
   "metadata": {
    "application/vnd.databricks.v1+cell": {
     "cellMetadata": {},
     "inputWidgets": {},
     "nuid": "316757ec-bee3-4bc4-a308-b802897dbafd",
     "showTitle": false,
     "tableResultSettingsMap": {},
     "title": ""
    }
   },
   "outputs": [],
   "source": []
  },
  {
   "cell_type": "markdown",
   "metadata": {
    "application/vnd.databricks.v1+cell": {
     "cellMetadata": {},
     "inputWidgets": {},
     "nuid": "fa3c350f-13a7-4137-b9f9-a56dc192972b",
     "showTitle": false,
     "tableResultSettingsMap": {},
     "title": ""
    }
   },
   "source": [
    "# **5**"
   ]
  },
  {
   "cell_type": "code",
   "execution_count": 0,
   "metadata": {
    "application/vnd.databricks.v1+cell": {
     "cellMetadata": {
      "byteLimit": 2048000,
      "rowLimit": 10000
     },
     "inputWidgets": {},
     "nuid": "82c4b583-665e-40da-a4d5-44a61a3ca552",
     "showTitle": false,
     "tableResultSettingsMap": {},
     "title": ""
    }
   },
   "outputs": [],
   "source": [
    "# 5\n",
    "# Visualizar os primeiros registros \n",
    "customers_df.show(5)\n",
    "products_df.show(5)\n",
    "order_items_df.show(5)\n",
    "category_translation_df.show(5)\n",
    "orders_df.show(5)\n",
    "sellers_df.show(5)\n",
    "payments_df.show(5)\n",
    "order_reviews_df.show(5)"
   ]
  },
  {
   "cell_type": "markdown",
   "metadata": {
    "application/vnd.databricks.v1+cell": {
     "cellMetadata": {},
     "inputWidgets": {},
     "nuid": "8077da11-6454-4de6-8317-a7c8fbe268fa",
     "showTitle": false,
     "tableResultSettingsMap": {},
     "title": ""
    }
   },
   "source": [
    "# **6**"
   ]
  },
  {
   "cell_type": "code",
   "execution_count": 0,
   "metadata": {
    "application/vnd.databricks.v1+cell": {
     "cellMetadata": {
      "byteLimit": 2048000,
      "rowLimit": 10000
     },
     "inputWidgets": {},
     "nuid": "ffdb8f12-1e96-49e0-8139-92730146ba12",
     "showTitle": false,
     "tableResultSettingsMap": {},
     "title": ""
    }
   },
   "outputs": [
    {
     "output_type": "stream",
     "name": "stdout",
     "output_type": "stream",
     "text": [
      "Out[21]: True"
     ]
    }
   ],
   "source": [
    "# 6\n",
    "bronze_path = \"/mnt/bronze/\"  # Diretório para persistir os dados na camada Bronze\n",
    "dbutils.fs.mkdirs(bronze_path)  # Criar o diretório no Databricks\n"
   ]
  },
  {
   "cell_type": "markdown",
   "metadata": {
    "application/vnd.databricks.v1+cell": {
     "cellMetadata": {},
     "inputWidgets": {},
     "nuid": "fb003d7b-0500-493c-9a01-0ea02aaf1f91",
     "showTitle": false,
     "tableResultSettingsMap": {},
     "title": ""
    }
   },
   "source": [
    "# **7**"
   ]
  },
  {
   "cell_type": "code",
   "execution_count": 0,
   "metadata": {
    "application/vnd.databricks.v1+cell": {
     "cellMetadata": {
      "byteLimit": 2048000,
      "rowLimit": 10000
     },
     "inputWidgets": {},
     "nuid": "9bee3154-0c10-4b6b-b62b-27f4bc99a6bd",
     "showTitle": false,
     "tableResultSettingsMap": {},
     "title": ""
    }
   },
   "outputs": [
    {
     "output_type": "stream",
     "name": "stdout",
     "output_type": "stream",
     "text": [
      "DataFrames persistidos com sucesso na camada Bronze!\n"
     ]
    }
   ],
   "source": [
    "# 7 \n",
    "# Persistir o DataFrame orders_df\n",
    "orders_df.write.format(\"delta\").mode(\"overwrite\").save(\"/mnt/bronze/orders\")\n",
    "\n",
    "# Persistir o DataFrame customers_df\n",
    "customers_df.write.format(\"delta\").mode(\"overwrite\").save(\"/mnt/bronze/customers\")\n",
    "\n",
    "# Persistir o DataFrame products_df\n",
    "products_df.write.format(\"delta\").mode(\"overwrite\").save(\"/mnt/bronze/products\")\n",
    "\n",
    "\n",
    "# Persistir o DataFrame order_items_df\n",
    "order_items_df.write.format(\"delta\").mode(\"overwrite\").save(\"/mnt/bronze/order_items\")\n",
    "\n",
    "\n",
    "# Persistir o DataFrame category_translation_df\n",
    "category_translation_df.write.format(\"delta\").mode(\"overwrite\").save(\"/mnt/bronze/category_translation\")\n",
    "\n",
    "\n",
    "# Persistir o DataFrame sellers_df\n",
    "sellers_df.write.format(\"delta\").mode(\"overwrite\").save(\"/mnt/bronze/sellers\")\n",
    "\n",
    "\n",
    "# Persistir o DataFrame payments_df\n",
    "payments_df.write.format(\"delta\").mode(\"overwrite\").save(\"/mnt/bronze/payments\")\n",
    "\n",
    "\n",
    "# Persistir o DataFrame order_reviews_df\n",
    "order_reviews_df.write.format(\"delta\").mode(\"overwrite\").save(\"/mnt/bronze/ord_reviews\")\n",
    "\n",
    "\n",
    "print(\"DataFrames persistidos com sucesso na camada Bronze!\")\n"
   ]
  },
  {
   "cell_type": "markdown",
   "metadata": {
    "application/vnd.databricks.v1+cell": {
     "cellMetadata": {},
     "inputWidgets": {},
     "nuid": "ac56e4ae-210c-4d7a-b41e-cb1b797aa7f3",
     "showTitle": false,
     "tableResultSettingsMap": {},
     "title": ""
    }
   },
   "source": [
    "## Para testar resultado"
   ]
  },
  {
   "cell_type": "code",
   "execution_count": 0,
   "metadata": {
    "application/vnd.databricks.v1+cell": {
     "cellMetadata": {
      "byteLimit": 2048000,
      "rowLimit": 10000
     },
     "inputWidgets": {},
     "nuid": "b1e9748c-ae56-43ec-bc6f-0b9c827b21e8",
     "showTitle": false,
     "tableResultSettingsMap": {},
     "title": ""
    }
   },
   "outputs": [
    {
     "output_type": "stream",
     "name": "stdout",
     "output_type": "stream",
     "text": [
      "['product_category_name', 'product_category_name_english']\n"
     ]
    }
   ],
   "source": [
    "# Exibir nomes das colunas\n",
    "print(category_translation_df.columns)\n"
   ]
  },
  {
   "cell_type": "code",
   "execution_count": 0,
   "metadata": {
    "application/vnd.databricks.v1+cell": {
     "cellMetadata": {
      "byteLimit": 2048000,
      "rowLimit": 10000
     },
     "inputWidgets": {},
     "nuid": "fc9dd62b-a091-4fea-9c88-d858dd82dbc8",
     "showTitle": false,
     "tableResultSettingsMap": {},
     "title": ""
    }
   },
   "outputs": [
    {
     "output_type": "stream",
     "name": "stdout",
     "output_type": "stream",
     "text": [
      "Out[25]: [FileInfo(path='dbfs:/mnt/bronze/category_translation/', name='category_translation/', size=0, modificationTime=0),\n FileInfo(path='dbfs:/mnt/bronze/customers/', name='customers/', size=0, modificationTime=0),\n FileInfo(path='dbfs:/mnt/bronze/ord_reviews/', name='ord_reviews/', size=0, modificationTime=0),\n FileInfo(path='dbfs:/mnt/bronze/order_items/', name='order_items/', size=0, modificationTime=0),\n FileInfo(path='dbfs:/mnt/bronze/orders/', name='orders/', size=0, modificationTime=0),\n FileInfo(path='dbfs:/mnt/bronze/payments/', name='payments/', size=0, modificationTime=0),\n FileInfo(path='dbfs:/mnt/bronze/products/', name='products/', size=0, modificationTime=0),\n FileInfo(path='dbfs:/mnt/bronze/sellers/', name='sellers/', size=0, modificationTime=0)]"
     ]
    }
   ],
   "source": [
    "# Listar os arquivos no diretório Bronze\n",
    "dbutils.fs.ls(\"/mnt/bronze/\")\n"
   ]
  },
  {
   "cell_type": "markdown",
   "metadata": {
    "application/vnd.databricks.v1+cell": {
     "cellMetadata": {},
     "inputWidgets": {},
     "nuid": "c46b2724-e69d-49e5-ba75-4f138a67f077",
     "showTitle": false,
     "tableResultSettingsMap": {},
     "title": ""
    }
   },
   "source": [
    "## MANUTENÇÃO"
   ]
  },
  {
   "cell_type": "code",
   "execution_count": 0,
   "metadata": {
    "application/vnd.databricks.v1+cell": {
     "cellMetadata": {
      "byteLimit": 2048000,
      "rowLimit": 10000
     },
     "inputWidgets": {},
     "nuid": "a42f3d6c-18bb-435f-825b-1f0c7a8d18ee",
     "showTitle": false,
     "tableResultSettingsMap": {},
     "title": ""
    }
   },
   "outputs": [
    {
     "output_type": "stream",
     "name": "stdout",
     "output_type": "stream",
     "text": [
      "Pasta '/mnt/bronze/' limpa com sucesso!\n"
     ]
    }
   ],
   "source": [
    "# Limpar todos os arquivos da pasta \"/mnt/bronze/\"\n",
    "files = dbutils.fs.ls(\"/mnt/bronze/\")\n",
    "for file in files:\n",
    "    dbutils.fs.rm(file.path, recurse=True)\n",
    "\n",
    "print(\"Pasta '/mnt/bronze/' limpa com sucesso!\")"
   ]
  },
  {
   "cell_type": "markdown",
   "metadata": {
    "application/vnd.databricks.v1+cell": {
     "cellMetadata": {},
     "inputWidgets": {},
     "nuid": "fcac302b-0b93-48ab-8fe5-9f986234f7be",
     "showTitle": false,
     "tableResultSettingsMap": {},
     "title": ""
    }
   },
   "source": [
    "## Ínicio tratamento dos dados para enviá-los a camada prata"
   ]
  },
  {
   "cell_type": "markdown",
   "metadata": {
    "application/vnd.databricks.v1+cell": {
     "cellMetadata": {},
     "inputWidgets": {},
     "nuid": "066f97d4-3eef-4c81-b271-b1908d778c6c",
     "showTitle": false,
     "tableResultSettingsMap": {},
     "title": ""
    }
   },
   "source": [
    "# **8**"
   ]
  },
  {
   "cell_type": "code",
   "execution_count": 0,
   "metadata": {
    "application/vnd.databricks.v1+cell": {
     "cellMetadata": {
      "byteLimit": 2048000,
      "rowLimit": 10000
     },
     "inputWidgets": {},
     "nuid": "8c527699-fcfa-46df-9540-b51d3b31a156",
     "showTitle": false,
     "tableResultSettingsMap": {},
     "title": ""
    }
   },
   "outputs": [],
   "source": [
    "# 8 \n",
    "# Carregar dados da camada Bronze\n",
    "bronze_orders_df = spark.read.format(\"delta\").load(\"/mnt/bronze/orders\")\n",
    "bronze_customers_df = spark.read.format(\"delta\").load(\"/mnt/bronze/customers\")\n",
    "bronze_products_df = spark.read.format(\"delta\").load(\"/mnt/bronze/products\")\n",
    "bronze_order_items_df = spark.read.format(\"delta\").load(\"/mnt/bronze/order_items\")\n",
    "bronze_category_translation_df = spark.read.format(\"delta\").load(\"/mnt/bronze/category_translation\")\n",
    "bronze_sellers_df = spark.read.format(\"delta\").load(\"/mnt/bronze/sellers\")\n",
    "bronze_payments_df = spark.read.format(\"delta\").load(\"/mnt/bronze/payments\")\n",
    "bronze_order_reviews = spark.read.format(\"delta\").load(\"/mnt/bronze/ord_reviews\")\n",
    "\n"
   ]
  },
  {
   "cell_type": "markdown",
   "metadata": {
    "application/vnd.databricks.v1+cell": {
     "cellMetadata": {},
     "inputWidgets": {},
     "nuid": "d8ea901f-6652-4efb-9c45-4ac03898399e",
     "showTitle": false,
     "tableResultSettingsMap": {},
     "title": ""
    }
   },
   "source": [
    "## Análise inicial nos dataframes que originarão as tabelas"
   ]
  },
  {
   "cell_type": "code",
   "execution_count": 0,
   "metadata": {
    "application/vnd.databricks.v1+cell": {
     "cellMetadata": {},
     "inputWidgets": {},
     "nuid": "915023ac-1362-423d-b3e9-d1af4677b290",
     "showTitle": false,
     "tableResultSettingsMap": {},
     "title": ""
    }
   },
   "outputs": [],
   "source": []
  },
  {
   "cell_type": "code",
   "execution_count": 0,
   "metadata": {
    "application/vnd.databricks.v1+cell": {
     "cellMetadata": {},
     "inputWidgets": {},
     "nuid": "281ee6a4-5181-43c8-b963-48a3c89ad8e2",
     "showTitle": false,
     "tableResultSettingsMap": {},
     "title": ""
    }
   },
   "outputs": [],
   "source": []
  },
  {
   "cell_type": "code",
   "execution_count": 0,
   "metadata": {
    "application/vnd.databricks.v1+cell": {
     "cellMetadata": {},
     "inputWidgets": {},
     "nuid": "9793c0f2-2e51-4597-a04e-5bd15fbed63c",
     "showTitle": false,
     "tableResultSettingsMap": {},
     "title": ""
    }
   },
   "outputs": [],
   "source": []
  },
  {
   "cell_type": "markdown",
   "metadata": {
    "application/vnd.databricks.v1+cell": {
     "cellMetadata": {},
     "inputWidgets": {},
     "nuid": "936f4df4-7b72-41a1-a006-7008281defd5",
     "showTitle": false,
     "tableResultSettingsMap": {},
     "title": ""
    }
   },
   "source": [
    "## Fim da análise"
   ]
  },
  {
   "cell_type": "markdown",
   "metadata": {
    "application/vnd.databricks.v1+cell": {
     "cellMetadata": {},
     "inputWidgets": {},
     "nuid": "e08d0cad-a014-4144-981a-0c3d767e9720",
     "showTitle": false,
     "tableResultSettingsMap": {},
     "title": ""
    }
   },
   "source": [
    "# **9**"
   ]
  },
  {
   "cell_type": "code",
   "execution_count": 0,
   "metadata": {
    "application/vnd.databricks.v1+cell": {
     "cellMetadata": {
      "byteLimit": 2048000,
      "rowLimit": 10000
     },
     "inputWidgets": {},
     "nuid": "29049564-83df-4642-a6f4-603aa003d6ec",
     "showTitle": false,
     "tableResultSettingsMap": {},
     "title": ""
    }
   },
   "outputs": [
    {
     "output_type": "stream",
     "name": "stdout",
     "output_type": "stream",
     "text": [
      "Views temporárias criadas com sucesso!\n"
     ]
    }
   ],
   "source": [
    "# Registrar os DataFrames como Temporary Views\n",
    "bronze_orders_df.createOrReplaceTempView(\"bronze_orders\")\n",
    "bronze_customers_df.createOrReplaceTempView(\"bronze_customers\")\n",
    "bronze_products_df.createOrReplaceTempView(\"bronze_products\")\n",
    "bronze_order_items_df.createOrReplaceTempView(\"bronze_order_items\")\n",
    "bronze_category_translation_df.createOrReplaceTempView(\"bronze_category_translation\")\n",
    "# Continuar aqui\n",
    "bronze_sellers_df.createOrReplaceTempView(\"bronze_sellers\")\n",
    "bronze_payments_df.createOrReplaceTempView(\"bronze_payments\")\n",
    "bronze_order_reviews.createOrReplaceTempView(\"bronze_order_reviews\")\n",
    "print(\"Views temporárias criadas com sucesso!\")\n"
   ]
  },
  {
   "cell_type": "code",
   "execution_count": 0,
   "metadata": {
    "application/vnd.databricks.v1+cell": {
     "cellMetadata": {
      "byteLimit": 2048000,
      "implicitDf": true,
      "rowLimit": 10000
     },
     "inputWidgets": {},
     "nuid": "9eb38d3a-3ac7-46b4-bf1a-bc4b6cd3eba5",
     "showTitle": false,
     "tableResultSettingsMap": {},
     "title": ""
    }
   },
   "outputs": [],
   "source": [
    "%sql\n",
    "SELECT * FROM bronze_orders"
   ]
  },
  {
   "cell_type": "markdown",
   "metadata": {
    "application/vnd.databricks.v1+cell": {
     "cellMetadata": {},
     "inputWidgets": {},
     "nuid": "e80ebd27-f4bc-4d09-ac2b-044b2cad9449",
     "showTitle": false,
     "tableResultSettingsMap": {},
     "title": ""
    }
   },
   "source": [
    "# **10**"
   ]
  },
  {
   "cell_type": "markdown",
   "metadata": {
    "application/vnd.databricks.v1+cell": {
     "cellMetadata": {},
     "inputWidgets": {},
     "nuid": "9ae45c62-b26b-4ab0-aa99-7c639eaf760a",
     "showTitle": false,
     "tableResultSettingsMap": {},
     "title": ""
    }
   },
   "source": [
    "## Se necessário..."
   ]
  },
  {
   "cell_type": "code",
   "execution_count": 0,
   "metadata": {
    "application/vnd.databricks.v1+cell": {
     "cellMetadata": {
      "byteLimit": 2048000,
      "implicitDf": true,
      "rowLimit": 10000
     },
     "inputWidgets": {},
     "nuid": "e4099618-5392-4cde-bd11-8ffa9f11fe88",
     "showTitle": false,
     "tableResultSettingsMap": {},
     "title": ""
    }
   },
   "outputs": [],
   "source": [
    "%sql\n",
    "DROP TABLE delta_bronze_orders\n",
    "DROP TABLE delta_bronze_customers;\n",
    "DROP TABLE delta_bronze_products;\n",
    "DROP TABLE delta_bronze_order_items;\n",
    "DROP TABLE delta_bronze_category_translation;\n",
    "DROP TABLE delta_bronze_sellers;\n",
    "DROP TABLE delta_bronze_payments;\n",
    "DROP TABLE delta_bronze_order_reviews"
   ]
  },
  {
   "cell_type": "code",
   "execution_count": 0,
   "metadata": {
    "application/vnd.databricks.v1+cell": {
     "cellMetadata": {
      "byteLimit": 2048000,
      "implicitDf": true,
      "rowLimit": 10000
     },
     "inputWidgets": {},
     "nuid": "051ae179-35d1-404e-b1e3-e093d955de40",
     "showTitle": false,
     "tableResultSettingsMap": {},
     "title": ""
    }
   },
   "outputs": [
    {
     "output_type": "display_data",
     "data": {
      "text/html": [
       "<style scoped>\n",
       "  .table-result-container {\n",
       "    max-height: 300px;\n",
       "    overflow: auto;\n",
       "  }\n",
       "  table, th, td {\n",
       "    border: 1px solid black;\n",
       "    border-collapse: collapse;\n",
       "  }\n",
       "  th, td {\n",
       "    padding: 5px;\n",
       "  }\n",
       "  th {\n",
       "    text-align: left;\n",
       "  }\n",
       "</style><div class='table-result-container'><table class='table-result'><thead style='background-color: white'><tr><th>database</th><th>tableName</th><th>isTemporary</th></tr></thead><tbody><tr><td>default</td><td>delta_bronze_orders</td><td>false</td></tr><tr><td></td><td>bronze_category_translation</td><td>true</td></tr><tr><td></td><td>bronze_customers</td><td>true</td></tr><tr><td></td><td>bronze_order_items</td><td>true</td></tr><tr><td></td><td>bronze_order_reviews</td><td>true</td></tr><tr><td></td><td>bronze_orders</td><td>true</td></tr><tr><td></td><td>bronze_payments</td><td>true</td></tr><tr><td></td><td>bronze_products</td><td>true</td></tr><tr><td></td><td>bronze_sellers</td><td>true</td></tr></tbody></table></div>"
      ]
     },
     "metadata": {
      "application/vnd.databricks.v1+output": {
       "addedWidgets": {},
       "aggData": [],
       "aggError": "",
       "aggOverflow": false,
       "aggSchema": [],
       "aggSeriesLimitReached": false,
       "aggType": "",
       "arguments": {},
       "columnCustomDisplayInfos": {},
       "data": [
        [
         "default",
         "delta_bronze_orders",
         false
        ],
        [
         "",
         "bronze_category_translation",
         true
        ],
        [
         "",
         "bronze_customers",
         true
        ],
        [
         "",
         "bronze_order_items",
         true
        ],
        [
         "",
         "bronze_order_reviews",
         true
        ],
        [
         "",
         "bronze_orders",
         true
        ],
        [
         "",
         "bronze_payments",
         true
        ],
        [
         "",
         "bronze_products",
         true
        ],
        [
         "",
         "bronze_sellers",
         true
        ]
       ],
       "datasetInfos": [],
       "dbfsResultPath": null,
       "isJsonSchema": true,
       "metadata": {},
       "overflow": false,
       "plotOptions": {
        "customPlotOptions": {},
        "displayType": "table",
        "pivotAggregation": null,
        "pivotColumns": null,
        "xColumns": null,
        "yColumns": null
       },
       "removedWidgets": [],
       "schema": [
        {
         "metadata": "{}",
         "name": "database",
         "type": "\"string\""
        },
        {
         "metadata": "{}",
         "name": "tableName",
         "type": "\"string\""
        },
        {
         "metadata": "{}",
         "name": "isTemporary",
         "type": "\"boolean\""
        }
       ],
       "type": "table"
      }
     },
     "output_type": "display_data"
    }
   ],
   "source": [
    "%sql\n",
    "SHOW TABLES"
   ]
  },
  {
   "cell_type": "code",
   "execution_count": 0,
   "metadata": {
    "application/vnd.databricks.v1+cell": {
     "cellMetadata": {
      "byteLimit": 2048000,
      "implicitDf": true,
      "rowLimit": 10000
     },
     "inputWidgets": {},
     "nuid": "dc961d0f-14df-4075-bd1c-519a301202b1",
     "showTitle": false,
     "tableResultSettingsMap": {},
     "title": ""
    }
   },
   "outputs": [],
   "source": [
    "%sql\n",
    "SELECT * FROM delta_bronze_orders"
   ]
  },
  {
   "cell_type": "markdown",
   "metadata": {
    "application/vnd.databricks.v1+cell": {
     "cellMetadata": {},
     "inputWidgets": {},
     "nuid": "22851d37-4d4a-442e-a0b6-8c604b6c85d5",
     "showTitle": false,
     "tableResultSettingsMap": {},
     "title": ""
    }
   },
   "source": [
    "# **11**"
   ]
  },
  {
   "cell_type": "code",
   "execution_count": 0,
   "metadata": {
    "application/vnd.databricks.v1+cell": {
     "cellMetadata": {
      "byteLimit": 2048000,
      "implicitDf": true,
      "rowLimit": 10000
     },
     "inputWidgets": {},
     "nuid": "8aef9438-bcde-4f9d-8764-990010515713",
     "showTitle": false,
     "tableResultSettingsMap": {},
     "title": ""
    }
   },
   "outputs": [
    {
     "output_type": "display_data",
     "data": {
      "text/html": [
       "<style scoped>\n",
       "  .table-result-container {\n",
       "    max-height: 300px;\n",
       "    overflow: auto;\n",
       "  }\n",
       "  table, th, td {\n",
       "    border: 1px solid black;\n",
       "    border-collapse: collapse;\n",
       "  }\n",
       "  th, td {\n",
       "    padding: 5px;\n",
       "  }\n",
       "  th {\n",
       "    text-align: left;\n",
       "  }\n",
       "</style><div class='table-result-container'><table class='table-result'><thead style='background-color: white'><tr><th>database</th><th>tableName</th><th>isTemporary</th></tr></thead><tbody><tr><td>default</td><td>delta_bronze_category_translation</td><td>false</td></tr><tr><td>default</td><td>delta_bronze_customers</td><td>false</td></tr><tr><td>default</td><td>delta_bronze_order_items</td><td>false</td></tr><tr><td>default</td><td>delta_bronze_order_reviews</td><td>false</td></tr><tr><td>default</td><td>delta_bronze_orders</td><td>false</td></tr><tr><td>default</td><td>delta_bronze_payments</td><td>false</td></tr><tr><td>default</td><td>delta_bronze_products</td><td>false</td></tr><tr><td>default</td><td>delta_bronze_sellers</td><td>false</td></tr><tr><td></td><td>bronze_category_translation</td><td>true</td></tr><tr><td></td><td>bronze_customers</td><td>true</td></tr><tr><td></td><td>bronze_order_items</td><td>true</td></tr><tr><td></td><td>bronze_order_reviews</td><td>true</td></tr><tr><td></td><td>bronze_orders</td><td>true</td></tr><tr><td></td><td>bronze_payments</td><td>true</td></tr><tr><td></td><td>bronze_products</td><td>true</td></tr><tr><td></td><td>bronze_sellers</td><td>true</td></tr></tbody></table></div>"
      ]
     },
     "metadata": {
      "application/vnd.databricks.v1+output": {
       "addedWidgets": {},
       "aggData": [],
       "aggError": "",
       "aggOverflow": false,
       "aggSchema": [],
       "aggSeriesLimitReached": false,
       "aggType": "",
       "arguments": {},
       "columnCustomDisplayInfos": {},
       "data": [
        [
         "default",
         "delta_bronze_category_translation",
         false
        ],
        [
         "default",
         "delta_bronze_customers",
         false
        ],
        [
         "default",
         "delta_bronze_order_items",
         false
        ],
        [
         "default",
         "delta_bronze_order_reviews",
         false
        ],
        [
         "default",
         "delta_bronze_orders",
         false
        ],
        [
         "default",
         "delta_bronze_payments",
         false
        ],
        [
         "default",
         "delta_bronze_products",
         false
        ],
        [
         "default",
         "delta_bronze_sellers",
         false
        ],
        [
         "",
         "bronze_category_translation",
         true
        ],
        [
         "",
         "bronze_customers",
         true
        ],
        [
         "",
         "bronze_order_items",
         true
        ],
        [
         "",
         "bronze_order_reviews",
         true
        ],
        [
         "",
         "bronze_orders",
         true
        ],
        [
         "",
         "bronze_payments",
         true
        ],
        [
         "",
         "bronze_products",
         true
        ],
        [
         "",
         "bronze_sellers",
         true
        ]
       ],
       "datasetInfos": [],
       "dbfsResultPath": null,
       "isJsonSchema": true,
       "metadata": {},
       "overflow": false,
       "plotOptions": {
        "customPlotOptions": {},
        "displayType": "table",
        "pivotAggregation": null,
        "pivotColumns": null,
        "xColumns": null,
        "yColumns": null
       },
       "removedWidgets": [],
       "schema": [
        {
         "metadata": "{}",
         "name": "database",
         "type": "\"string\""
        },
        {
         "metadata": "{}",
         "name": "tableName",
         "type": "\"string\""
        },
        {
         "metadata": "{}",
         "name": "isTemporary",
         "type": "\"boolean\""
        }
       ],
       "type": "table"
      }
     },
     "output_type": "display_data"
    }
   ],
   "source": [
    "%sql\n",
    "-- Criar tabela Delta para bronze_orders\n",
    "-- CREATE TABLE delta_bronze_orders\n",
    "-- USING DELTA\n",
    "-- AS SELECT * FROM bronze_orders;\n",
    "\n",
    "-- Criar tabela Delta para bronze_customers\n",
    "CREATE TABLE delta_bronze_customers\n",
    "USING DELTA\n",
    "AS SELECT * FROM bronze_customers;\n",
    "\n",
    "-- Criar tabela Delta para bronze_products\n",
    "CREATE TABLE delta_bronze_products\n",
    "USING DELTA\n",
    "AS SELECT * FROM bronze_products;\n",
    "\n",
    "-- Criar tabela Delta para bronze_order_items\n",
    "CREATE TABLE delta_bronze_order_items\n",
    "USING DELTA\n",
    "AS SELECT * FROM bronze_order_items;\n",
    "\n",
    "-- Criar tabela Delta para bronze_category_translation\n",
    "CREATE TABLE delta_bronze_category_translation\n",
    "USING DELTA\n",
    "AS SELECT * FROM bronze_category_translation;\n",
    "\n",
    "-- Criar tabela Delta para bronze_sellers\n",
    "CREATE TABLE delta_bronze_sellers\n",
    "USING DELTA\n",
    "AS SELECT * FROM bronze_sellers;\n",
    "\n",
    "-- Criar tabela Delta para bronze_payments\n",
    "CREATE TABLE delta_bronze_payments\n",
    "USING DELTA\n",
    "AS SELECT * FROM bronze_payments;\n",
    "\n",
    "-- Criar tabela Delta para bronze_order_reviews\n",
    "CREATE TABLE delta_bronze_order_reviews\n",
    "USING DELTA\n",
    "AS SELECT * FROM bronze_order_reviews;\n",
    "\n",
    "-- Exibir confirmação\n",
    "SHOW TABLES;\n"
   ]
  },
  {
   "cell_type": "code",
   "execution_count": 0,
   "metadata": {
    "application/vnd.databricks.v1+cell": {
     "cellMetadata": {
      "byteLimit": 2048000,
      "rowLimit": 10000
     },
     "inputWidgets": {},
     "nuid": "2dc9f509-f096-4b34-8d9a-c25df589fd9a",
     "showTitle": false,
     "tableResultSettingsMap": {},
     "title": ""
    }
   },
   "outputs": [
    {
     "output_type": "stream",
     "name": "stdout",
     "output_type": "stream",
     "text": [
      "Out[43]: True"
     ]
    }
   ],
   "source": [
    "# Se confirmar que o diretório pode ser apagado, use:\n",
    "dbutils.fs.rm(\"dbfs:/user/hive/warehouse/delta_bronze_order_reviews\", True)  # True para deletar recursivamente\n"
   ]
  },
  {
   "cell_type": "markdown",
   "metadata": {
    "application/vnd.databricks.v1+cell": {
     "cellMetadata": {},
     "inputWidgets": {},
     "nuid": "2b475746-23fe-4b40-a42a-e4c9e2042b20",
     "showTitle": false,
     "tableResultSettingsMap": {},
     "title": ""
    }
   },
   "source": [
    "## Análise inicial dos dados na camada bronze"
   ]
  },
  {
   "cell_type": "code",
   "execution_count": 0,
   "metadata": {
    "application/vnd.databricks.v1+cell": {
     "cellMetadata": {
      "byteLimit": 2048000,
      "implicitDf": true,
      "rowLimit": 10000
     },
     "inputWidgets": {},
     "nuid": "749dbb4a-d88c-4cc0-86c1-5811edab0c77",
     "showTitle": false,
     "tableResultSettingsMap": {},
     "title": ""
    }
   },
   "outputs": [],
   "source": [
    "%sql\n",
    "SELECT DISTINCT customer_city FROM delta_bronze_customers\n",
    "ORDER BY customer_city\n"
   ]
  },
  {
   "cell_type": "code",
   "execution_count": 0,
   "metadata": {
    "application/vnd.databricks.v1+cell": {
     "cellMetadata": {
      "byteLimit": 2048000,
      "implicitDf": true,
      "rowLimit": 10000
     },
     "inputWidgets": {},
     "nuid": "d832f37a-6270-4ed2-8074-d52077bf5780",
     "showTitle": false,
     "tableResultSettingsMap": {},
     "title": ""
    }
   },
   "outputs": [],
   "source": [
    "%sql\n",
    "SELECT * from delta_bronze_order_items"
   ]
  },
  {
   "cell_type": "code",
   "execution_count": 0,
   "metadata": {
    "application/vnd.databricks.v1+cell": {
     "cellMetadata": {
      "byteLimit": 2048000,
      "implicitDf": true,
      "rowLimit": 10000
     },
     "inputWidgets": {},
     "nuid": "3f22b4fb-b63d-4405-8b38-dc2bf61292ab",
     "showTitle": false,
     "tableResultSettingsMap": {},
     "title": ""
    }
   },
   "outputs": [],
   "source": [
    "%sql\n",
    "SELECT order_id, product_id FROM delta_bronze_order_items\n",
    "WHERE order_id = \"00143d0f86d6fbd9f9b38ab440ac16f5\"\n"
   ]
  },
  {
   "cell_type": "code",
   "execution_count": 0,
   "metadata": {
    "application/vnd.databricks.v1+cell": {
     "cellMetadata": {
      "byteLimit": 2048000,
      "implicitDf": true,
      "rowLimit": 10000
     },
     "inputWidgets": {},
     "nuid": "f3115bf8-3c3d-4119-b82f-2ffee427eab9",
     "showTitle": false,
     "tableResultSettingsMap": {},
     "title": ""
    }
   },
   "outputs": [],
   "source": [
    "%sql\n",
    "SELECT * FROM delta_bronze_products"
   ]
  },
  {
   "cell_type": "code",
   "execution_count": 0,
   "metadata": {
    "application/vnd.databricks.v1+cell": {
     "cellMetadata": {
      "byteLimit": 2048000,
      "implicitDf": true,
      "rowLimit": 10000
     },
     "inputWidgets": {},
     "nuid": "b9f98bcb-bdca-49e3-aa93-eff862714549",
     "showTitle": false,
     "tableResultSettingsMap": {},
     "title": ""
    }
   },
   "outputs": [],
   "source": [
    "%sql\n",
    "SELECT * FROM delta_bronze_category_translation"
   ]
  },
  {
   "cell_type": "code",
   "execution_count": 0,
   "metadata": {
    "application/vnd.databricks.v1+cell": {
     "cellMetadata": {
      "byteLimit": 2048000,
      "implicitDf": true,
      "rowLimit": 10000
     },
     "inputWidgets": {},
     "nuid": "704cd4d3-4b07-42a5-8abb-749e88612161",
     "showTitle": false,
     "tableResultSettingsMap": {},
     "title": ""
    }
   },
   "outputs": [],
   "source": [
    "%sql\n",
    "SELECT customer_state, COUNT(DISTINCT customer_id) AS qtd_clientes\n",
    "FROM delta_bronze_customers\n",
    "GROUP BY customer_state\n",
    "ORDER BY qtd_clientes DESC\n"
   ]
  },
  {
   "cell_type": "code",
   "execution_count": 0,
   "metadata": {
    "application/vnd.databricks.v1+cell": {
     "cellMetadata": {
      "byteLimit": 2048000,
      "implicitDf": true,
      "rowLimit": 10000
     },
     "inputWidgets": {},
     "nuid": "5e3fbb9a-4afe-4692-826a-a5d94c8b9d22",
     "showTitle": false,
     "tableResultSettingsMap": {},
     "title": ""
    }
   },
   "outputs": [],
   "source": [
    "%sql\n",
    "SELECT product_category_name, COUNT(DISTINCT product_id) AS qtd_produtos\n",
    "FROM delta_bronze_products p\n",
    "GROUP BY product_category_name\n",
    "ORDER BY qtd_produtos DESC"
   ]
  },
  {
   "cell_type": "code",
   "execution_count": 0,
   "metadata": {
    "application/vnd.databricks.v1+cell": {
     "cellMetadata": {
      "byteLimit": 2048000,
      "implicitDf": true,
      "rowLimit": 10000
     },
     "inputWidgets": {},
     "nuid": "4a9bc265-dc47-4fb2-8b3a-fe7b79482a04",
     "showTitle": false,
     "tableResultSettingsMap": {},
     "title": ""
    }
   },
   "outputs": [],
   "source": [
    "%sql\n",
    "SELECT order_item_id, order_id, product_id, price FROM delta_bronze_order_items\n",
    "ORDER BY price DESC"
   ]
  },
  {
   "cell_type": "code",
   "execution_count": 0,
   "metadata": {
    "application/vnd.databricks.v1+cell": {
     "cellMetadata": {
      "byteLimit": 2048000,
      "implicitDf": true,
      "rowLimit": 10000
     },
     "inputWidgets": {},
     "nuid": "3a2738b0-fb8f-421f-b864-123e79897791",
     "showTitle": false,
     "tableResultSettingsMap": {},
     "title": ""
    }
   },
   "outputs": [],
   "source": [
    "%sql\n",
    "SELECT p.product_category_name, p.product_id, oi.price\n",
    "FROM delta_bronze_order_items oi LEFT JOIN delta_bronze_products p ON (p.product_id = oi.product_id)\n",
    "WHERE price = (SELECT MAX(price) FROM delta_bronze_order_items oi)\n"
   ]
  },
  {
   "cell_type": "code",
   "execution_count": 0,
   "metadata": {
    "application/vnd.databricks.v1+cell": {
     "cellMetadata": {
      "byteLimit": 2048000,
      "implicitDf": true,
      "rowLimit": 10000
     },
     "inputWidgets": {},
     "nuid": "18e11402-367e-4d6c-a1e7-59a7e21206c2",
     "showTitle": false,
     "tableResultSettingsMap": {},
     "title": ""
    }
   },
   "outputs": [],
   "source": [
    "%sql\n",
    "SELECT order_status, COUNT(DISTINCT customer_id) AS qtd_clientes\n",
    "FROM delta_bronze_orders o \n",
    "WHERE( o.order_status IN ('processing','shipped','delivered')) AND\n",
    "     (o.order_purchase_timestamp BETWEEN '2016-10-01' AND '2016-10-31')\n",
    "GROUP BY o.order_status\n",
    "HAVING qtd_clientes>1\n"
   ]
  },
  {
   "cell_type": "code",
   "execution_count": 0,
   "metadata": {
    "application/vnd.databricks.v1+cell": {
     "cellMetadata": {
      "byteLimit": 2048000,
      "implicitDf": true,
      "rowLimit": 10000
     },
     "inputWidgets": {},
     "nuid": "8d17c5bd-601f-4e0e-8408-f55715756fd8",
     "showTitle": false,
     "tableResultSettingsMap": {},
     "title": ""
    }
   },
   "outputs": [],
   "source": [
    "%sql\n",
    "WITH categoria_preco AS (\n",
    "  SELECT oi.product_id,\n",
    "    (CASE\n",
    "      WHEN price < 50 THEN 'Categoria_E'\n",
    "      WHEN price >= 50 AND price <100 THEN 'Categoria_D'\n",
    "      WHEN price >= 100 AND price <500 THEN 'Categoria_C'\n",
    "      WHEN price >= 500 AND price <1500 THEN 'Categoria_B'\n",
    "      ELSE 'Categoria_A'\n",
    "    END) AS categoria_produto\n",
    "  FROM delta_bronze_order_items oi  \n",
    "    \n",
    ")\n",
    "SELECT categoria_produto, COUNT(DISTINCT product_id) AS qtd_produto\n",
    "FROM categoria_preco cp\n",
    "GROUP BY cp.categoria_produto\n",
    "ORDER BY cp.categoria_produto"
   ]
  },
  {
   "cell_type": "code",
   "execution_count": 0,
   "metadata": {
    "application/vnd.databricks.v1+cell": {
     "cellMetadata": {
      "byteLimit": 2048000,
      "implicitDf": true,
      "rowLimit": 10000
     },
     "inputWidgets": {},
     "nuid": "e6a6b87f-7898-4c06-bcc3-6bab99247cc7",
     "showTitle": false,
     "tableResultSettingsMap": {},
     "title": ""
    }
   },
   "outputs": [],
   "source": [
    "%sql\n",
    "SELECT * FROM delta_bronze_customers"
   ]
  },
  {
   "cell_type": "code",
   "execution_count": 0,
   "metadata": {
    "application/vnd.databricks.v1+cell": {
     "cellMetadata": {
      "byteLimit": 2048000,
      "implicitDf": true,
      "rowLimit": 10000
     },
     "inputWidgets": {},
     "nuid": "85bc2ab7-209a-4da1-855f-1116a4b60207",
     "showTitle": false,
     "tableResultSettingsMap": {},
     "title": ""
    }
   },
   "outputs": [],
   "source": [
    "%sql\n",
    "WITH vendas AS (\n",
    "  SELECT c.customer_state AS estado, p.product_category_name AS categoria, COUNT(oi.product_id) AS produtos\n",
    "  FROM delta_bronze_orders o LEFT JOIN delta_bronze_order_items oi ON (oi.order_id = o.order_id)\n",
    "                             LEFT JOIN delta_bronze_products p ON (p.product_id = oi.product_id)\n",
    "                             LEFT JOIN delta_bronze_customers c ON (c.customer_id = o.customer_id)\n",
    "  GROUP BY c.customer_state, p.product_category_name\n",
    "  HAVING p.product_category_name IS NOT NULL                           \n",
    ")\n",
    "SELECT estado, categoria, produtos,\n",
    "       SUM(produtos) OVER (PARTITION BY estado) AS total_vendas_estado,\n",
    "       produtos*1.0/SUM(produtos) OVER (PARTITION BY estado) AS percentual_vendas\n",
    "FROM vendas v \n",
    "ORDER BY estado, percentual_vendas DESC"
   ]
  },
  {
   "cell_type": "code",
   "execution_count": 0,
   "metadata": {
    "application/vnd.databricks.v1+cell": {
     "cellMetadata": {
      "byteLimit": 2048000,
      "implicitDf": true,
      "rowLimit": 10000
     },
     "inputWidgets": {},
     "nuid": "7a84e4d5-6ac2-4b02-b6be-dbf97f498f98",
     "showTitle": false,
     "tableResultSettingsMap": {},
     "title": ""
    }
   },
   "outputs": [],
   "source": [
    "%sql\n",
    "WITH vendas_lojas AS (\n",
    "  SELECT s.seller_id, COUNT(DISTINCT o.order_id) AS total_pedidos\n",
    "  FROM delta_bronze_orders o LEFT JOIN delta_bronze_order_items oi ON (oi.order_id=o.order_id)\n",
    "                             LEFT JOIN delta_bronze_sellers s ON (s.seller_id=oi.seller_id)\n",
    "  WHERE s.seller_id IS NOT NULL\n",
    "  GROUP BY s.seller_id                           \n",
    ")\n",
    "SELECT seller_id, total_pedidos,\n",
    "NTILE(4) OVER (ORDER BY total_pedidos) AS quartil\n",
    "FROM vendas_lojas vl"
   ]
  }
 ],
 "metadata": {
  "application/vnd.databricks.v1+notebook": {
   "computePreferences": null,
   "dashboards": [],
   "environmentMetadata": {
    "base_environment": "",
    "environment_version": "1"
   },
   "inputWidgetPreferences": null,
   "language": "python",
   "notebookMetadata": {
    "mostRecentlyExecutedCommandWithImplicitDF": {
     "commandId": 3274573737244464,
     "dataframes": [
      "_sqldf"
     ]
    },
    "pythonIndentUnit": 4
   },
   "notebookName": "MVP_2_BETA",
   "widgets": {}
  }
 },
 "nbformat": 4,
 "nbformat_minor": 0
}
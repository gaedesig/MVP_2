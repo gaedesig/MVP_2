{
 "cells": [
  {
   "cell_type": "markdown",
   "metadata": {
    "application/vnd.databricks.v1+cell": {
     "cellMetadata": {},
     "inputWidgets": {},
     "nuid": "410fe0bd-b87b-43cc-8f07-f6e72b0f8a6a",
     "showTitle": false,
     "tableResultSettingsMap": {},
     "title": ""
    }
   },
   "source": [
    "**Criar o diretórios \"tables\" para receber os arquivos origem dos dados**"
   ]
  },
  {
   "cell_type": "code",
   "execution_count": 0,
   "metadata": {
    "application/vnd.databricks.v1+cell": {
     "cellMetadata": {
      "byteLimit": 2048000,
      "rowLimit": 10000
     },
     "inputWidgets": {},
     "nuid": "af4af71d-b716-4b1b-ba7b-3fc66a60f394",
     "showTitle": false,
     "tableResultSettingsMap": {},
     "title": ""
    }
   },
   "outputs": [],
   "source": [
    "# Criar o diretório no Databricks\n",
    "dbutils.fs.mkdirs(\"/FileStore/tables/\")\n",
    "print(\"Diretório criado com sucesso!\")\n"
   ]
  },
  {
   "cell_type": "code",
   "execution_count": 0,
   "metadata": {
    "application/vnd.databricks.v1+cell": {
     "cellMetadata": {
      "byteLimit": 2048000,
      "rowLimit": 10000
     },
     "inputWidgets": {},
     "nuid": "b8c698d0-0a48-460c-96a6-f36bbceafe7e",
     "showTitle": false,
     "tableResultSettingsMap": {},
     "title": ""
    }
   },
   "outputs": [
    {
     "output_type": "stream",
     "name": "stdout",
     "output_type": "stream",
     "text": [
      "Wrote 17654914 bytes.\nArquivo orders salvo em: /FileStore/tables/orders.csv\nWrote 9033957 bytes.\nArquivo customers salvo em: /FileStore/tables/customers.csv\nWrote 2379446 bytes.\nArquivo products salvo em: /FileStore/tables/products.csv\nWrote 15438671 bytes.\nArquivo ord_prds salvo em: /FileStore/tables/ord_prds.csv\nWrote 2613 bytes.\nArquivo categories salvo em: /FileStore/tables/categories.csv\nWrote 174703 bytes.\nArquivo sellers salvo em: /FileStore/tables/sellers.csv\nWrote 5777138 bytes.\nArquivo payments salvo em: /FileStore/tables/payments.csv\nWrote 14451670 bytes.\nArquivo ord_reviews salvo em: /FileStore/tables/ord_reviews.csv\n"
     ]
    }
   ],
   "source": [
    "import requests\n",
    "\n",
    "# Links diretos dos arquivos CSV no GitHub\n",
    "file_urls = {\n",
    "    \"orders\": \"https://raw.githubusercontent.com/gaedesig/MVP_2/refs/heads/main/olist_orders_dataset.csv\",\n",
    "    \"customers\": \"https://raw.githubusercontent.com/gaedesig/MVP_2/refs/heads/main/olist_customers_dataset.csv\",\n",
    "    \"products\": \"https://raw.githubusercontent.com/gaedesig/MVP_2/refs/heads/main/olist_products_dataset.csv\",\n",
    "    \"ord_prds\": \"https://raw.githubusercontent.com/gaedesig/MVP_2/refs/heads/main/olist_order_items_dataset.csv\",\n",
    "    \"categories\": \"https://raw.githubusercontent.com/gaedesig/MVP_2/refs/heads/main/product_category_name_translation.csv\",\n",
    "    \"sellers\": \"https://raw.githubusercontent.com/gaedesig/MVP_2/refs/heads/main/olist_sellers_dataset.csv\",\n",
    "    \"payments\": \"https://raw.githubusercontent.com/gaedesig/MVP_2/refs/heads/main/olist_order_payments_dataset.csv\",\n",
    "    \"ord_reviews\": \"https://raw.githubusercontent.com/gaedesig/MVP_2/refs/heads/main/olist_order_reviews_dataset.csv\"\n",
    "}\n",
    "\n",
    "# Caminhos locais no Databricks para salvar os arquivos\n",
    "local_paths = {name: f\"/FileStore/tables/{name}.csv\" for name in file_urls.keys()}\n",
    "\n",
    "# Baixar cada arquivo e salvar no Databricks usando dbutils.fs.put\n",
    "for name, url in file_urls.items():\n",
    "    response = requests.get(url)\n",
    "    if response.status_code == 200:  # Checar se o download foi bem-sucedido\n",
    "        file_content = response.content.decode(\"utf-8\")  # Decodificar o conteúdo do arquivo\n",
    "        dbutils.fs.put(local_paths[name], file_content, overwrite=True)\n",
    "        print(f\"Arquivo {name} salvo em: {local_paths[name]}\")\n",
    "    else:\n",
    "        print(f\"Erro ao baixar o arquivo {name}: {response.status_code}\")\n"
   ]
  },
  {
   "cell_type": "code",
   "execution_count": 0,
   "metadata": {
    "application/vnd.databricks.v1+cell": {
     "cellMetadata": {
      "byteLimit": 2048000,
      "rowLimit": 10000
     },
     "inputWidgets": {},
     "nuid": "df2598dd-6319-4c61-ab63-d4ead6e073d9",
     "showTitle": false,
     "tableResultSettingsMap": {},
     "title": ""
    }
   },
   "outputs": [
    {
     "output_type": "stream",
     "name": "stdout",
     "output_type": "stream",
     "text": [
      "Out[2]: [FileInfo(path='dbfs:/FileStore/tables/categories.csv', name='categories.csv', size=2613, modificationTime=1744328101000),\n FileInfo(path='dbfs:/FileStore/tables/customers.csv', name='customers.csv', size=9033957, modificationTime=1744328097000),\n FileInfo(path='dbfs:/FileStore/tables/ord_prds.csv', name='ord_prds.csv', size=15438671, modificationTime=1744328101000),\n FileInfo(path='dbfs:/FileStore/tables/ord_reviews.csv', name='ord_reviews.csv', size=14451670, modificationTime=1744328106000),\n FileInfo(path='dbfs:/FileStore/tables/orders.csv', name='orders.csv', size=17654914, modificationTime=1744328094000),\n FileInfo(path='dbfs:/FileStore/tables/payments.csv', name='payments.csv', size=5777138, modificationTime=1744328103000),\n FileInfo(path='dbfs:/FileStore/tables/products.csv', name='products.csv', size=2379446, modificationTime=1744328098000),\n FileInfo(path='dbfs:/FileStore/tables/sellers.csv', name='sellers.csv', size=174703, modificationTime=1744328102000)]"
     ]
    }
   ],
   "source": [
    "# Listar os arquivos no diretório\n",
    "dbutils.fs.ls(\"/FileStore/tables/\")\n"
   ]
  },
  {
   "cell_type": "markdown",
   "metadata": {
    "application/vnd.databricks.v1+cell": {
     "cellMetadata": {},
     "inputWidgets": {},
     "nuid": "9959d63a-62ec-431b-893b-9ef852a1a12e",
     "showTitle": false,
     "tableResultSettingsMap": {},
     "title": ""
    }
   },
   "source": [
    "# Análise inicial dos dados"
   ]
  },
  {
   "cell_type": "code",
   "execution_count": 0,
   "metadata": {
    "application/vnd.databricks.v1+cell": {
     "cellMetadata": {
      "byteLimit": 2048000,
      "rowLimit": 10000
     },
     "inputWidgets": {},
     "nuid": "758e44e2-d170-4e24-b762-8e43ebd82d3e",
     "showTitle": false,
     "tableResultSettingsMap": {},
     "title": ""
    }
   },
   "outputs": [],
   "source": [
    "\n",
    "# Ler os arquivos CSV salvos\n",
    "\n",
    "customers_df = spark.read.format(\"csv\").option(\"header\", \"true\").load(\"/FileStore/tables/customers.csv\")\n",
    "products_df = spark.read.format(\"csv\").option(\"header\", \"true\").load(\"/FileStore/tables/products.csv\")\n",
    "order_items_df = spark.read.format(\"csv\").option(\"header\", \"true\").load(\"/FileStore/tables/ord_prds.csv\")\n",
    "category_translation_df = spark.read.format(\"csv\").option(\"header\", \"true\").load(\"/FileStore/tables/categories.csv\")\n",
    "sellers_df = spark.read.format(\"csv\").option(\"header\", \"true\").load(\"/FileStore/tables/sellers.csv\")\n",
    "payments_df = spark.read.format(\"csv\").option(\"header\", \"true\").load(\"/FileStore/tables/payments.csv\")\n",
    "order_reviews_df = spark.read.format(\"csv\").option(\"header\", \"true\").load(\"/FileStore/tables/ord_reviews.csv\")\n",
    "orders_df = spark.read.format(\"csv\").option(\"header\", \"true\").load(\"/FileStore/tables/orders.csv\")"
   ]
  },
  {
   "cell_type": "markdown",
   "metadata": {
    "application/vnd.databricks.v1+cell": {
     "cellMetadata": {},
     "inputWidgets": {},
     "nuid": "1c5d1659-236a-4ab3-8989-f1c63636afdf",
     "showTitle": false,
     "tableResultSettingsMap": {},
     "title": ""
    }
   },
   "source": [
    "# Criando dataframes em pandas para melhor visualização\n"
   ]
  },
  {
   "cell_type": "code",
   "execution_count": 0,
   "metadata": {
    "application/vnd.databricks.v1+cell": {
     "cellMetadata": {},
     "inputWidgets": {},
     "nuid": "57d2786e-2453-441d-9dff-4d62a4961aab",
     "showTitle": false,
     "tableResultSettingsMap": {},
     "title": ""
    }
   },
   "outputs": [],
   "source": [
    "import pandas as pd"
   ]
  },
  {
   "cell_type": "code",
   "execution_count": 0,
   "metadata": {
    "application/vnd.databricks.v1+cell": {
     "cellMetadata": {
      "byteLimit": 2048000,
      "rowLimit": 10000
     },
     "inputWidgets": {},
     "nuid": "1d005012-6fa9-43b9-9c69-db157ae8848e",
     "showTitle": false,
     "tableResultSettingsMap": {},
     "title": ""
    }
   },
   "outputs": [],
   "source": [
    "# Converter o DataFrame Spark para Pandas\n",
    "orders_pandas_df = orders_df.toPandas()\n",
    "customer_pandas_df = customers_df.toPandas()\n",
    "order_items_pandas_df = order_items_df.toPandas()\n",
    "order_reviews_pandas_df = order_reviews_df.toPandas()\n",
    "payments_pandas_df = payments_df.toPandas()\n",
    "products_pandas_df = products_df.toPandas()\n",
    "sellers_pandas_df = sellers_df.toPandas()\n",
    "category_translation_pandas_df = category_translation_df.toPandas()\n",
    "\n"
   ]
  },
  {
   "cell_type": "markdown",
   "metadata": {
    "application/vnd.databricks.v1+cell": {
     "cellMetadata": {},
     "inputWidgets": {},
     "nuid": "87bc6852-8d8d-4365-a68e-f9161d14416d",
     "showTitle": false,
     "tableResultSettingsMap": {},
     "title": ""
    }
   },
   "source": [
    "# Análise inicial nos dataframes que originarão as tabelas"
   ]
  },
  {
   "cell_type": "markdown",
   "metadata": {
    "application/vnd.databricks.v1+cell": {
     "cellMetadata": {},
     "inputWidgets": {},
     "nuid": "f055e3ff-6790-4eb5-8bd0-ea1f3c0c54c8",
     "showTitle": false,
     "tableResultSettingsMap": {},
     "title": ""
    }
   },
   "source": [
    "Analisar nulos, valores ambíguos,  utilizando info(), describe() e outros\n",
    "(ex hipotético: Ilhas das Flores <> I.Flores), possíveis outliers, etc\n"
   ]
  },
  {
   "cell_type": "code",
   "execution_count": 0,
   "metadata": {
    "application/vnd.databricks.v1+cell": {
     "cellMetadata": {
      "byteLimit": 2048000,
      "rowLimit": 10000
     },
     "inputWidgets": {},
     "nuid": "316757ec-bee3-4bc4-a308-b802897dbafd",
     "showTitle": false,
     "tableResultSettingsMap": {},
     "title": ""
    }
   },
   "outputs": [
    {
     "output_type": "stream",
     "name": "stdout",
     "output_type": "stream",
     "text": [
      "<class 'pandas.core.frame.DataFrame'>\nRangeIndex: 99441 entries, 0 to 99440\nData columns (total 8 columns):\n #   Column                         Non-Null Count  Dtype \n---  ------                         --------------  ----- \n 0   order_id                       99441 non-null  object\n 1   customer_id                    99441 non-null  object\n 2   order_status                   99441 non-null  object\n 3   order_purchase_timestamp       99441 non-null  object\n 4   order_approved_at              99281 non-null  object\n 5   order_delivered_carrier_date   97658 non-null  object\n 6   order_delivered_customer_date  96476 non-null  object\n 7   order_estimated_delivery_date  99441 non-null  object\ndtypes: object(8)\nmemory usage: 6.1+ MB\n"
     ]
    }
   ],
   "source": [
    "orders_pandas_df.info()"
   ]
  },
  {
   "cell_type": "code",
   "execution_count": 0,
   "metadata": {
    "application/vnd.databricks.v1+cell": {
     "cellMetadata": {
      "byteLimit": 2048000,
      "rowLimit": 10000
     },
     "inputWidgets": {},
     "nuid": "90680dc3-06ba-4c0e-a1e4-3650861337dc",
     "showTitle": false,
     "tableResultSettingsMap": {},
     "title": ""
    }
   },
   "outputs": [
    {
     "output_type": "stream",
     "name": "stdout",
     "output_type": "stream",
     "text": [
      "Out[7]: order_id                            0\ncustomer_id                         0\norder_status                        0\norder_purchase_timestamp            0\norder_approved_at                 160\norder_delivered_carrier_date     1783\norder_delivered_customer_date    2965\norder_estimated_delivery_date       0\ndtype: int64"
     ]
    }
   ],
   "source": [
    "orders_pandas_df.isnull().sum()"
   ]
  },
  {
   "cell_type": "markdown",
   "metadata": {
    "application/vnd.databricks.v1+cell": {
     "cellMetadata": {},
     "inputWidgets": {},
     "nuid": "de0cf5c4-4d6c-4386-84e9-d095c6efa4a8",
     "showTitle": false,
     "tableResultSettingsMap": {},
     "title": ""
    }
   },
   "source": [
    "## order_pandas_df\n",
    "Contém nulos em 3 colunas. Entendo que esses valores nulos ñ devem influenciar.\n",
    "\n",
    "A coluna que, provavelmente mais influenciaria, 'order_approved_at' tem\n",
    "poucos valores nulos - 160 em mais de 99 mil registros"
   ]
  },
  {
   "cell_type": "code",
   "execution_count": 0,
   "metadata": {
    "application/vnd.databricks.v1+cell": {
     "cellMetadata": {
      "byteLimit": 2048000,
      "rowLimit": 10000
     },
     "inputWidgets": {},
     "nuid": "6ddbbc1c-a946-4924-a40f-f1d030776ef0",
     "showTitle": false,
     "tableResultSettingsMap": {},
     "title": ""
    }
   },
   "outputs": [
    {
     "output_type": "stream",
     "name": "stdout",
     "output_type": "stream",
     "text": [
      "<class 'pandas.core.frame.DataFrame'>\nRangeIndex: 99441 entries, 0 to 99440\nData columns (total 5 columns):\n #   Column                    Non-Null Count  Dtype \n---  ------                    --------------  ----- \n 0   customer_id               99441 non-null  object\n 1   customer_unique_id        99441 non-null  object\n 2   customer_zip_code_prefix  99441 non-null  object\n 3   customer_city             99441 non-null  object\n 4   customer_state            99441 non-null  object\ndtypes: object(5)\nmemory usage: 3.8+ MB\n"
     ]
    }
   ],
   "source": [
    "customer_pandas_df.info()"
   ]
  },
  {
   "cell_type": "markdown",
   "metadata": {
    "application/vnd.databricks.v1+cell": {
     "cellMetadata": {},
     "inputWidgets": {},
     "nuid": "35066d9f-3f5c-4d35-ac7b-6b9b41322bd5",
     "showTitle": false,
     "tableResultSettingsMap": {},
     "title": ""
    }
   },
   "source": [
    "## customer_pandas_df\n",
    "Não contém nenhuma coluna com valores nulos"
   ]
  },
  {
   "cell_type": "code",
   "execution_count": 0,
   "metadata": {
    "application/vnd.databricks.v1+cell": {
     "cellMetadata": {
      "byteLimit": 2048000,
      "rowLimit": 10000
     },
     "inputWidgets": {},
     "nuid": "2ffa504b-c104-43c0-93ba-a96cce1e39eb",
     "showTitle": false,
     "tableResultSettingsMap": {},
     "title": ""
    }
   },
   "outputs": [
    {
     "output_type": "stream",
     "name": "stdout",
     "output_type": "stream",
     "text": [
      "<class 'pandas.core.frame.DataFrame'>\nRangeIndex: 103886 entries, 0 to 103885\nData columns (total 5 columns):\n #   Column                Non-Null Count   Dtype \n---  ------                --------------   ----- \n 0   order_id              103886 non-null  object\n 1   payment_sequential    103886 non-null  object\n 2   payment_type          103886 non-null  object\n 3   payment_installments  103886 non-null  object\n 4   payment_value         103886 non-null  object\ndtypes: object(5)\nmemory usage: 4.0+ MB\n"
     ]
    }
   ],
   "source": [
    "payments_pandas_df.info()"
   ]
  },
  {
   "cell_type": "markdown",
   "metadata": {
    "application/vnd.databricks.v1+cell": {
     "cellMetadata": {},
     "inputWidgets": {},
     "nuid": "e7b6f09b-750a-4fc8-b9b0-87cfbe9477b7",
     "showTitle": false,
     "tableResultSettingsMap": {},
     "title": ""
    }
   },
   "source": [
    "## payment_pandas_df \n",
    "Não contém nenhuma coluna com valores nulos\n",
    "\n",
    "Achei valores max(999,68) e min(0,00) questionáveis. Vou avaliar na camada Gold em SQL"
   ]
  },
  {
   "cell_type": "code",
   "execution_count": 0,
   "metadata": {
    "application/vnd.databricks.v1+cell": {
     "cellMetadata": {
      "byteLimit": 2048000,
      "rowLimit": 10000
     },
     "inputWidgets": {},
     "nuid": "e396b09e-7be4-48e2-a45b-e850d939b211",
     "showTitle": false,
     "tableResultSettingsMap": {},
     "title": ""
    }
   },
   "outputs": [
    {
     "output_type": "stream",
     "name": "stdout",
     "output_type": "stream",
     "text": [
      "<class 'pandas.core.frame.DataFrame'>\nRangeIndex: 112650 entries, 0 to 112649\nData columns (total 7 columns):\n #   Column               Non-Null Count   Dtype \n---  ------               --------------   ----- \n 0   order_id             112650 non-null  object\n 1   order_item_id        112650 non-null  object\n 2   product_id           112650 non-null  object\n 3   seller_id            112650 non-null  object\n 4   shipping_limit_date  112650 non-null  object\n 5   price                112650 non-null  object\n 6   freight_value        112650 non-null  object\ndtypes: object(7)\nmemory usage: 6.0+ MB\n"
     ]
    }
   ],
   "source": [
    "order_items_pandas_df.info()"
   ]
  },
  {
   "cell_type": "markdown",
   "metadata": {
    "application/vnd.databricks.v1+cell": {
     "cellMetadata": {},
     "inputWidgets": {},
     "nuid": "70d453ff-8265-43c8-b7d5-5d56a7d01850",
     "showTitle": false,
     "tableResultSettingsMap": {},
     "title": ""
    }
   },
   "source": [
    "## order_items_pandas_df\n",
    "Não contém nenhuma coluna com valores nulos\n",
    "\n",
    "Útil na camada gold para análise"
   ]
  },
  {
   "cell_type": "code",
   "execution_count": 0,
   "metadata": {
    "application/vnd.databricks.v1+cell": {
     "cellMetadata": {
      "byteLimit": 2048000,
      "rowLimit": 10000
     },
     "inputWidgets": {},
     "nuid": "46eafe61-275c-4716-91eb-4861c991e69a",
     "showTitle": false,
     "tableResultSettingsMap": {},
     "title": ""
    }
   },
   "outputs": [
    {
     "output_type": "stream",
     "name": "stdout",
     "output_type": "stream",
     "text": [
      "<class 'pandas.core.frame.DataFrame'>\nRangeIndex: 104162 entries, 0 to 104161\nData columns (total 7 columns):\n #   Column                   Non-Null Count   Dtype \n---  ------                   --------------   ----- \n 0   review_id                104161 non-null  object\n 1   order_id                 101926 non-null  object\n 2   review_score             101782 non-null  object\n 3   review_comment_title     12005 non-null   object\n 4   review_comment_message   41083 non-null   object\n 5   review_creation_date     95398 non-null   object\n 6   review_answer_timestamp  95377 non-null   object\ndtypes: object(7)\nmemory usage: 5.6+ MB\n"
     ]
    }
   ],
   "source": [
    "order_reviews_pandas_df.info()"
   ]
  },
  {
   "cell_type": "code",
   "execution_count": 0,
   "metadata": {
    "application/vnd.databricks.v1+cell": {
     "cellMetadata": {
      "byteLimit": 2048000,
      "rowLimit": 10000
     },
     "inputWidgets": {},
     "nuid": "13b3d8ce-4a35-4754-8637-c227a7e78a2f",
     "showTitle": false,
     "tableResultSettingsMap": {},
     "title": ""
    }
   },
   "outputs": [
    {
     "output_type": "stream",
     "name": "stdout",
     "output_type": "stream",
     "text": [
      "Out[17]: review_id                      1\norder_id                    2236\nreview_score                2380\nreview_comment_title       92157\nreview_comment_message     63079\nreview_creation_date        8764\nreview_answer_timestamp     8785\ndtype: int64"
     ]
    }
   ],
   "source": [
    "order_reviews_pandas_df.isnull().sum()"
   ]
  },
  {
   "cell_type": "code",
   "execution_count": 0,
   "metadata": {
    "application/vnd.databricks.v1+cell": {
     "cellMetadata": {
      "byteLimit": 2048000,
      "rowLimit": 10000
     },
     "inputWidgets": {},
     "nuid": "acb51dbd-b084-433b-9444-a360c5b10a01",
     "showTitle": false,
     "tableResultSettingsMap": {},
     "title": ""
    }
   },
   "outputs": [
    {
     "output_type": "display_data",
     "data": {
      "text/html": [
       "<div>\n",
       "<style scoped>\n",
       "    .dataframe tbody tr th:only-of-type {\n",
       "        vertical-align: middle;\n",
       "    }\n",
       "\n",
       "    .dataframe tbody tr th {\n",
       "        vertical-align: top;\n",
       "    }\n",
       "\n",
       "    .dataframe thead th {\n",
       "        text-align: right;\n",
       "    }\n",
       "</style>\n",
       "<table border=\"1\" class=\"dataframe\">\n",
       "  <thead>\n",
       "    <tr style=\"text-align: right;\">\n",
       "      <th></th>\n",
       "      <th>review_id</th>\n",
       "      <th>order_id</th>\n",
       "      <th>review_score</th>\n",
       "      <th>review_comment_title</th>\n",
       "      <th>review_comment_message</th>\n",
       "      <th>review_creation_date</th>\n",
       "      <th>review_answer_timestamp</th>\n",
       "    </tr>\n",
       "  </thead>\n",
       "  <tbody>\n",
       "    <tr>\n",
       "      <th>0</th>\n",
       "      <td>7bc2406110b926393aa56f80a40eba40</td>\n",
       "      <td>73fc7af87114b39712e6da79b0a377eb</td>\n",
       "      <td>4</td>\n",
       "      <td>None</td>\n",
       "      <td>None</td>\n",
       "      <td>2018-01-18 00:00:00</td>\n",
       "      <td>2018-01-18 21:46:59</td>\n",
       "    </tr>\n",
       "    <tr>\n",
       "      <th>1</th>\n",
       "      <td>80e641a11e56f04c1ad469d5645fdfde</td>\n",
       "      <td>a548910a1c6147796b98fdf73dbeba33</td>\n",
       "      <td>5</td>\n",
       "      <td>None</td>\n",
       "      <td>None</td>\n",
       "      <td>2018-03-10 00:00:00</td>\n",
       "      <td>2018-03-11 03:05:13</td>\n",
       "    </tr>\n",
       "    <tr>\n",
       "      <th>2</th>\n",
       "      <td>228ce5500dc1d8e020d8d1322874b6f0</td>\n",
       "      <td>f9e4b658b201a9f2ecdecbb34bed034b</td>\n",
       "      <td>5</td>\n",
       "      <td>None</td>\n",
       "      <td>None</td>\n",
       "      <td>2018-02-17 00:00:00</td>\n",
       "      <td>2018-02-18 14:36:24</td>\n",
       "    </tr>\n",
       "    <tr>\n",
       "      <th>3</th>\n",
       "      <td>e64fb393e7b32834bb789ff8bb30750e</td>\n",
       "      <td>658677c97b385a9be170737859d3511b</td>\n",
       "      <td>5</td>\n",
       "      <td>None</td>\n",
       "      <td>Recebi bem antes do prazo estipulado.</td>\n",
       "      <td>2017-04-21 00:00:00</td>\n",
       "      <td>2017-04-21 22:02:06</td>\n",
       "    </tr>\n",
       "    <tr>\n",
       "      <th>4</th>\n",
       "      <td>f7c4243c7fe1938f181bec41a392bdeb</td>\n",
       "      <td>8e6bfb81e283fa7e4f11123a3fb894f1</td>\n",
       "      <td>5</td>\n",
       "      <td>None</td>\n",
       "      <td>Parabéns lojas lannister adorei comprar pela I...</td>\n",
       "      <td>2018-03-01 00:00:00</td>\n",
       "      <td>2018-03-02 10:26:53</td>\n",
       "    </tr>\n",
       "  </tbody>\n",
       "</table>\n",
       "</div>"
      ]
     },
     "metadata": {
      "application/vnd.databricks.v1+output": {
       "addedWidgets": {},
       "arguments": {},
       "data": "<div>\n<style scoped>\n    .dataframe tbody tr th:only-of-type {\n        vertical-align: middle;\n    }\n\n    .dataframe tbody tr th {\n        vertical-align: top;\n    }\n\n    .dataframe thead th {\n        text-align: right;\n    }\n</style>\n<table border=\"1\" class=\"dataframe\">\n  <thead>\n    <tr style=\"text-align: right;\">\n      <th></th>\n      <th>review_id</th>\n      <th>order_id</th>\n      <th>review_score</th>\n      <th>review_comment_title</th>\n      <th>review_comment_message</th>\n      <th>review_creation_date</th>\n      <th>review_answer_timestamp</th>\n    </tr>\n  </thead>\n  <tbody>\n    <tr>\n      <th>0</th>\n      <td>7bc2406110b926393aa56f80a40eba40</td>\n      <td>73fc7af87114b39712e6da79b0a377eb</td>\n      <td>4</td>\n      <td>None</td>\n      <td>None</td>\n      <td>2018-01-18 00:00:00</td>\n      <td>2018-01-18 21:46:59</td>\n    </tr>\n    <tr>\n      <th>1</th>\n      <td>80e641a11e56f04c1ad469d5645fdfde</td>\n      <td>a548910a1c6147796b98fdf73dbeba33</td>\n      <td>5</td>\n      <td>None</td>\n      <td>None</td>\n      <td>2018-03-10 00:00:00</td>\n      <td>2018-03-11 03:05:13</td>\n    </tr>\n    <tr>\n      <th>2</th>\n      <td>228ce5500dc1d8e020d8d1322874b6f0</td>\n      <td>f9e4b658b201a9f2ecdecbb34bed034b</td>\n      <td>5</td>\n      <td>None</td>\n      <td>None</td>\n      <td>2018-02-17 00:00:00</td>\n      <td>2018-02-18 14:36:24</td>\n    </tr>\n    <tr>\n      <th>3</th>\n      <td>e64fb393e7b32834bb789ff8bb30750e</td>\n      <td>658677c97b385a9be170737859d3511b</td>\n      <td>5</td>\n      <td>None</td>\n      <td>Recebi bem antes do prazo estipulado.</td>\n      <td>2017-04-21 00:00:00</td>\n      <td>2017-04-21 22:02:06</td>\n    </tr>\n    <tr>\n      <th>4</th>\n      <td>f7c4243c7fe1938f181bec41a392bdeb</td>\n      <td>8e6bfb81e283fa7e4f11123a3fb894f1</td>\n      <td>5</td>\n      <td>None</td>\n      <td>Parabéns lojas lannister adorei comprar pela I...</td>\n      <td>2018-03-01 00:00:00</td>\n      <td>2018-03-02 10:26:53</td>\n    </tr>\n  </tbody>\n</table>\n</div>",
       "datasetInfos": [],
       "metadata": {},
       "removedWidgets": [],
       "textData": null,
       "type": "htmlSandbox"
      }
     },
     "output_type": "display_data"
    }
   ],
   "source": [
    "order_reviews_pandas_df.head()"
   ]
  },
  {
   "cell_type": "markdown",
   "metadata": {
    "application/vnd.databricks.v1+cell": {
     "cellMetadata": {},
     "inputWidgets": {},
     "nuid": "4a44184b-9af7-4351-8bd3-f12cf87aa807",
     "showTitle": false,
     "tableResultSettingsMap": {},
     "title": ""
    }
   },
   "source": [
    "## order_reviews_pandas_df\n",
    "Algumas colunas contêm muitos valores nulos. Avaliar melhor a importância disso.\n",
    "\n",
    "Entendo porém, que as principais como, review_score contêm poucos"
   ]
  },
  {
   "cell_type": "code",
   "execution_count": 0,
   "metadata": {
    "application/vnd.databricks.v1+cell": {
     "cellMetadata": {
      "byteLimit": 2048000,
      "rowLimit": 10000
     },
     "inputWidgets": {},
     "nuid": "bfb5a48e-c5b3-4144-b32a-33fa28ef63fb",
     "showTitle": false,
     "tableResultSettingsMap": {},
     "title": ""
    }
   },
   "outputs": [
    {
     "output_type": "stream",
     "name": "stdout",
     "output_type": "stream",
     "text": [
      "<class 'pandas.core.frame.DataFrame'>\nRangeIndex: 71 entries, 0 to 70\nData columns (total 2 columns):\n #   Column                         Non-Null Count  Dtype \n---  ------                         --------------  ----- \n 0   product_category_name          71 non-null     object\n 1   product_category_name_english  71 non-null     object\ndtypes: object(2)\nmemory usage: 1.2+ KB\n"
     ]
    }
   ],
   "source": [
    "category_translation_pandas_df.info()"
   ]
  },
  {
   "cell_type": "code",
   "execution_count": 0,
   "metadata": {
    "application/vnd.databricks.v1+cell": {
     "cellMetadata": {
      "byteLimit": 2048000,
      "rowLimit": 10000
     },
     "inputWidgets": {},
     "nuid": "8823ce45-3e00-4b5a-9092-33b7afa82377",
     "showTitle": false,
     "tableResultSettingsMap": {},
     "title": ""
    }
   },
   "outputs": [],
   "source": [
    "# Unique\n",
    "pd.unique(category_translation_pandas_df['product_category_name'])"
   ]
  },
  {
   "cell_type": "markdown",
   "metadata": {
    "application/vnd.databricks.v1+cell": {
     "cellMetadata": {},
     "inputWidgets": {},
     "nuid": "4ddba939-d868-4b58-bf91-fd75040f77ac",
     "showTitle": false,
     "tableResultSettingsMap": {},
     "title": ""
    }
   },
   "source": [
    "## category_translation_pandas_df\n",
    "Não contém nenhuma coluna com valores nulos, nem valores ambíguos"
   ]
  },
  {
   "cell_type": "code",
   "execution_count": 0,
   "metadata": {
    "application/vnd.databricks.v1+cell": {
     "cellMetadata": {
      "byteLimit": 2048000,
      "rowLimit": 10000
     },
     "inputWidgets": {},
     "nuid": "26888b51-7cc1-484d-b55f-be71861967a4",
     "showTitle": false,
     "tableResultSettingsMap": {},
     "title": ""
    }
   },
   "outputs": [
    {
     "output_type": "stream",
     "name": "stdout",
     "output_type": "stream",
     "text": [
      "<class 'pandas.core.frame.DataFrame'>\nRangeIndex: 32951 entries, 0 to 32950\nData columns (total 9 columns):\n #   Column                      Non-Null Count  Dtype \n---  ------                      --------------  ----- \n 0   product_id                  32951 non-null  object\n 1   product_category_name       32341 non-null  object\n 2   product_name_lenght         32341 non-null  object\n 3   product_description_lenght  32341 non-null  object\n 4   product_photos_qty          32341 non-null  object\n 5   product_weight_g            32949 non-null  object\n 6   product_length_cm           32949 non-null  object\n 7   product_height_cm           32949 non-null  object\n 8   product_width_cm            32949 non-null  object\ndtypes: object(9)\nmemory usage: 2.3+ MB\n"
     ]
    }
   ],
   "source": [
    "products_pandas_df.info()"
   ]
  },
  {
   "cell_type": "code",
   "execution_count": 0,
   "metadata": {
    "application/vnd.databricks.v1+cell": {
     "cellMetadata": {
      "byteLimit": 2048000,
      "rowLimit": 10000
     },
     "inputWidgets": {},
     "nuid": "55cc64fe-d26f-47c1-8115-93ae98787ea8",
     "showTitle": false,
     "tableResultSettingsMap": {},
     "title": ""
    }
   },
   "outputs": [
    {
     "output_type": "stream",
     "name": "stdout",
     "output_type": "stream",
     "text": [
      "Out[22]: product_id                      0\nproduct_category_name         610\nproduct_name_lenght           610\nproduct_description_lenght    610\nproduct_photos_qty            610\nproduct_weight_g                2\nproduct_length_cm               2\nproduct_height_cm               2\nproduct_width_cm                2\ndtype: int64"
     ]
    }
   ],
   "source": [
    "products_pandas_df.isnull().sum()"
   ]
  },
  {
   "cell_type": "markdown",
   "metadata": {
    "application/vnd.databricks.v1+cell": {
     "cellMetadata": {},
     "inputWidgets": {},
     "nuid": "28df1580-a4da-4ae8-951f-4509ba66263c",
     "showTitle": false,
     "tableResultSettingsMap": {},
     "title": ""
    }
   },
   "source": [
    "## products_pandas_df\n",
    "8 colunas em 9 contêm valores nulos.\n",
    "\n",
    "Um ponto negativo é que esse dataframe não contém a descrição do produto, ficando dependendo muito da category_name, que contém centenas de \n",
    "valores nulos."
   ]
  },
  {
   "cell_type": "code",
   "execution_count": 0,
   "metadata": {
    "application/vnd.databricks.v1+cell": {
     "cellMetadata": {
      "byteLimit": 2048000,
      "rowLimit": 10000
     },
     "inputWidgets": {},
     "nuid": "194a7aa0-4535-4635-af18-82aa7dfd3425",
     "showTitle": false,
     "tableResultSettingsMap": {},
     "title": ""
    }
   },
   "outputs": [
    {
     "output_type": "stream",
     "name": "stdout",
     "output_type": "stream",
     "text": [
      "<class 'pandas.core.frame.DataFrame'>\nRangeIndex: 3095 entries, 0 to 3094\nData columns (total 4 columns):\n #   Column                  Non-Null Count  Dtype \n---  ------                  --------------  ----- \n 0   seller_id               3095 non-null   object\n 1   seller_zip_code_prefix  3095 non-null   object\n 2   seller_city             3095 non-null   object\n 3   seller_state            3095 non-null   object\ndtypes: object(4)\nmemory usage: 96.8+ KB\n"
     ]
    }
   ],
   "source": [
    "sellers_pandas_df.info()"
   ]
  },
  {
   "cell_type": "code",
   "execution_count": 0,
   "metadata": {
    "application/vnd.databricks.v1+cell": {
     "cellMetadata": {
      "byteLimit": 2048000,
      "rowLimit": 10000
     },
     "inputWidgets": {},
     "nuid": "14b4d36b-5360-4e27-8aca-531898be539d",
     "showTitle": false,
     "tableResultSettingsMap": {},
     "title": ""
    }
   },
   "outputs": [],
   "source": [
    "pd.unique(sellers_pandas_df['seller_city'])"
   ]
  },
  {
   "cell_type": "markdown",
   "metadata": {
    "application/vnd.databricks.v1+cell": {
     "cellMetadata": {},
     "inputWidgets": {},
     "nuid": "f93abd55-7585-424b-8280-098dbbbca18b",
     "showTitle": false,
     "tableResultSettingsMap": {},
     "title": ""
    }
   },
   "source": [
    "## sellers_pandas_df\n",
    "Não contém colunas com valores nulos\n",
    "\n",
    "Como em categorias, valores devem ser escolhidos de uma lista no site"
   ]
  },
  {
   "cell_type": "markdown",
   "metadata": {
    "application/vnd.databricks.v1+cell": {
     "cellMetadata": {},
     "inputWidgets": {},
     "nuid": "5da9bc17-9c7f-4a40-a2f0-ee91ce9ba98d",
     "showTitle": false,
     "tableResultSettingsMap": {},
     "title": ""
    }
   },
   "source": [
    "%md\n",
    "# Fim da análise inicial"
   ]
  },
  {
   "cell_type": "markdown",
   "metadata": {
    "application/vnd.databricks.v1+cell": {
     "cellMetadata": {},
     "inputWidgets": {},
     "nuid": "8b17c01b-f341-4ff0-9445-f1e9532e6906",
     "showTitle": false,
     "tableResultSettingsMap": {},
     "title": ""
    }
   },
   "source": [
    "## Criando a camada Bronze"
   ]
  },
  {
   "cell_type": "code",
   "execution_count": 0,
   "metadata": {
    "application/vnd.databricks.v1+cell": {
     "cellMetadata": {
      "byteLimit": 2048000,
      "rowLimit": 10000
     },
     "inputWidgets": {},
     "nuid": "ffdb8f12-1e96-49e0-8139-92730146ba12",
     "showTitle": false,
     "tableResultSettingsMap": {},
     "title": ""
    }
   },
   "outputs": [
    {
     "output_type": "stream",
     "name": "stdout",
     "output_type": "stream",
     "text": [
      "Out[21]: True"
     ]
    }
   ],
   "source": [
    "# Criando o diretório \"bronze\" no Databricks\n",
    "bronze_path = \"/mnt/bronze/\"    # Diretório para persistir os dados na camada Bronze\n",
    "dbutils.fs.mkdirs(bronze_path)  # Criar o diretório no Databricks\n"
   ]
  },
  {
   "cell_type": "code",
   "execution_count": 0,
   "metadata": {
    "application/vnd.databricks.v1+cell": {
     "cellMetadata": {
      "byteLimit": 2048000,
      "rowLimit": 10000
     },
     "inputWidgets": {},
     "nuid": "9bee3154-0c10-4b6b-b62b-27f4bc99a6bd",
     "showTitle": false,
     "tableResultSettingsMap": {},
     "title": ""
    }
   },
   "outputs": [
    {
     "output_type": "stream",
     "name": "stdout",
     "output_type": "stream",
     "text": [
      "DataFrames persistidos com sucesso na camada Bronze!\n"
     ]
    }
   ],
   "source": [
    "# Persistindo os dataframes na camada \"bronze\"\n",
    "\n",
    "# Persistir o DataFrame orders_df\n",
    "orders_df.write.format(\"delta\").mode(\"overwrite\").save(\"/mnt/bronze/orders\")\n",
    "\n",
    "# Persistir o DataFrame customers_df\n",
    "customers_df.write.format(\"delta\").mode(\"overwrite\").save(\"/mnt/bronze/customers\")\n",
    "\n",
    "# Persistir o DataFrame products_df\n",
    "products_df.write.format(\"delta\").mode(\"overwrite\").save(\"/mnt/bronze/products\")\n",
    "\n",
    "\n",
    "# Persistir o DataFrame order_items_df\n",
    "order_items_df.write.format(\"delta\").mode(\"overwrite\").save(\"/mnt/bronze/order_items\")\n",
    "\n",
    "\n",
    "# Persistir o DataFrame category_translation_df\n",
    "category_translation_df.write.format(\"delta\").mode(\"overwrite\").save(\"/mnt/bronze/category_translation\")\n",
    "\n",
    "\n",
    "# Persistir o DataFrame sellers_df\n",
    "sellers_df.write.format(\"delta\").mode(\"overwrite\").save(\"/mnt/bronze/sellers\")\n",
    "\n",
    "\n",
    "# Persistir o DataFrame payments_df\n",
    "payments_df.write.format(\"delta\").mode(\"overwrite\").save(\"/mnt/bronze/payments\")\n",
    "\n",
    "\n",
    "# Persistir o DataFrame order_reviews_df\n",
    "order_reviews_df.write.format(\"delta\").mode(\"overwrite\").save(\"/mnt/bronze/ord_reviews\")\n",
    "\n",
    "\n",
    "print(\"DataFrames persistidos com sucesso na camada Bronze!\")\n"
   ]
  },
  {
   "cell_type": "code",
   "execution_count": 0,
   "metadata": {
    "application/vnd.databricks.v1+cell": {
     "cellMetadata": {
      "byteLimit": 2048000,
      "rowLimit": 10000
     },
     "inputWidgets": {},
     "nuid": "fc9dd62b-a091-4fea-9c88-d858dd82dbc8",
     "showTitle": false,
     "tableResultSettingsMap": {},
     "title": ""
    }
   },
   "outputs": [
    {
     "output_type": "stream",
     "name": "stdout",
     "output_type": "stream",
     "text": [
      "Out[24]: [FileInfo(path='dbfs:/mnt/bronze/category_translation/', name='category_translation/', size=0, modificationTime=0),\n FileInfo(path='dbfs:/mnt/bronze/customers/', name='customers/', size=0, modificationTime=0),\n FileInfo(path='dbfs:/mnt/bronze/ord_reviews/', name='ord_reviews/', size=0, modificationTime=0),\n FileInfo(path='dbfs:/mnt/bronze/order_items/', name='order_items/', size=0, modificationTime=0),\n FileInfo(path='dbfs:/mnt/bronze/orders/', name='orders/', size=0, modificationTime=0),\n FileInfo(path='dbfs:/mnt/bronze/payments/', name='payments/', size=0, modificationTime=0),\n FileInfo(path='dbfs:/mnt/bronze/products/', name='products/', size=0, modificationTime=0),\n FileInfo(path='dbfs:/mnt/bronze/sellers/', name='sellers/', size=0, modificationTime=0)]"
     ]
    }
   ],
   "source": [
    "# Listar os arquivos no diretório \"bronze\"\n",
    "dbutils.fs.ls(\"/mnt/bronze/\")\n"
   ]
  },
  {
   "cell_type": "code",
   "execution_count": 0,
   "metadata": {
    "application/vnd.databricks.v1+cell": {
     "cellMetadata": {
      "byteLimit": 2048000,
      "rowLimit": 10000
     },
     "inputWidgets": {},
     "nuid": "8c527699-fcfa-46df-9540-b51d3b31a156",
     "showTitle": false,
     "tableResultSettingsMap": {},
     "title": ""
    }
   },
   "outputs": [],
   "source": [
    "# Carregar dados da camada Bronze criando dataframes\n",
    "bronze_orders_df = spark.read.format(\"delta\").load(\"/mnt/bronze/orders\")\n",
    "bronze_customers_df = spark.read.format(\"delta\").load(\"/mnt/bronze/customers\")\n",
    "bronze_products_df = spark.read.format(\"delta\").load(\"/mnt/bronze/products\")\n",
    "bronze_order_items_df = spark.read.format(\"delta\").load(\"/mnt/bronze/order_items\")\n",
    "bronze_category_translation_df = spark.read.format(\"delta\").load(\"/mnt/bronze/category_translation\")\n",
    "bronze_sellers_df = spark.read.format(\"delta\").load(\"/mnt/bronze/sellers\")\n",
    "bronze_payments_df = spark.read.format(\"delta\").load(\"/mnt/bronze/payments\")\n",
    "bronze_order_reviews = spark.read.format(\"delta\").load(\"/mnt/bronze/ord_reviews\")\n",
    "\n"
   ]
  },
  {
   "cell_type": "code",
   "execution_count": 0,
   "metadata": {
    "application/vnd.databricks.v1+cell": {
     "cellMetadata": {
      "byteLimit": 2048000,
      "rowLimit": 10000
     },
     "inputWidgets": {},
     "nuid": "29049564-83df-4642-a6f4-603aa003d6ec",
     "showTitle": false,
     "tableResultSettingsMap": {},
     "title": ""
    }
   },
   "outputs": [
    {
     "output_type": "stream",
     "name": "stdout",
     "output_type": "stream",
     "text": [
      "Views temporárias criadas com sucesso!\n"
     ]
    }
   ],
   "source": [
    "# Registrar os DataFrames como Temporary Views\n",
    "bronze_orders_df.createOrReplaceTempView(\"bronze_orders\")\n",
    "bronze_customers_df.createOrReplaceTempView(\"bronze_customers\")\n",
    "bronze_products_df.createOrReplaceTempView(\"bronze_products\")\n",
    "bronze_order_items_df.createOrReplaceTempView(\"bronze_order_items\")\n",
    "bronze_category_translation_df.createOrReplaceTempView(\"bronze_category_translation\")\n",
    "bronze_sellers_df.createOrReplaceTempView(\"bronze_sellers\")\n",
    "bronze_payments_df.createOrReplaceTempView(\"bronze_payments\")\n",
    "bronze_order_reviews.createOrReplaceTempView(\"bronze_order_reviews\")\n",
    "print(\"Views temporárias criadas com sucesso!\")\n"
   ]
  },
  {
   "cell_type": "code",
   "execution_count": 0,
   "metadata": {
    "application/vnd.databricks.v1+cell": {
     "cellMetadata": {
      "byteLimit": 2048000,
      "implicitDf": true,
      "rowLimit": 10000
     },
     "inputWidgets": {},
     "nuid": "5e615ed1-9904-443a-8839-b1dfb6cde451",
     "showTitle": false,
     "tableResultSettingsMap": {},
     "title": ""
    }
   },
   "outputs": [
    {
     "output_type": "display_data",
     "data": {
      "text/html": [
       "<style scoped>\n",
       "  .table-result-container {\n",
       "    max-height: 300px;\n",
       "    overflow: auto;\n",
       "  }\n",
       "  table, th, td {\n",
       "    border: 1px solid black;\n",
       "    border-collapse: collapse;\n",
       "  }\n",
       "  th, td {\n",
       "    padding: 5px;\n",
       "  }\n",
       "  th {\n",
       "    text-align: left;\n",
       "  }\n",
       "</style><div class='table-result-container'><table class='table-result'><thead style='background-color: white'><tr><th>database</th><th>tableName</th><th>isTemporary</th></tr></thead><tbody><tr><td></td><td>bronze_category_translation</td><td>true</td></tr><tr><td></td><td>bronze_customers</td><td>true</td></tr><tr><td></td><td>bronze_order_items</td><td>true</td></tr><tr><td></td><td>bronze_order_reviews</td><td>true</td></tr><tr><td></td><td>bronze_orders</td><td>true</td></tr><tr><td></td><td>bronze_payments</td><td>true</td></tr><tr><td></td><td>bronze_products</td><td>true</td></tr><tr><td></td><td>bronze_sellers</td><td>true</td></tr></tbody></table></div>"
      ]
     },
     "metadata": {
      "application/vnd.databricks.v1+output": {
       "addedWidgets": {},
       "aggData": [],
       "aggError": "",
       "aggOverflow": false,
       "aggSchema": [],
       "aggSeriesLimitReached": false,
       "aggType": "",
       "arguments": {},
       "columnCustomDisplayInfos": {},
       "data": [
        [
         "",
         "bronze_category_translation",
         true
        ],
        [
         "",
         "bronze_customers",
         true
        ],
        [
         "",
         "bronze_order_items",
         true
        ],
        [
         "",
         "bronze_order_reviews",
         true
        ],
        [
         "",
         "bronze_orders",
         true
        ],
        [
         "",
         "bronze_payments",
         true
        ],
        [
         "",
         "bronze_products",
         true
        ],
        [
         "",
         "bronze_sellers",
         true
        ]
       ],
       "datasetInfos": [],
       "dbfsResultPath": null,
       "isJsonSchema": true,
       "metadata": {},
       "overflow": false,
       "plotOptions": {
        "customPlotOptions": {},
        "displayType": "table",
        "pivotAggregation": null,
        "pivotColumns": null,
        "xColumns": null,
        "yColumns": null
       },
       "removedWidgets": [],
       "schema": [
        {
         "metadata": "{}",
         "name": "database",
         "type": "\"string\""
        },
        {
         "metadata": "{}",
         "name": "tableName",
         "type": "\"string\""
        },
        {
         "metadata": "{}",
         "name": "isTemporary",
         "type": "\"boolean\""
        }
       ],
       "type": "table"
      }
     },
     "output_type": "display_data"
    }
   ],
   "source": [
    "%sql\n",
    "SHOW TABLES"
   ]
  },
  {
   "cell_type": "markdown",
   "metadata": {
    "application/vnd.databricks.v1+cell": {
     "cellMetadata": {},
     "inputWidgets": {},
     "nuid": "c35414d0-2a51-49a2-9911-0424a1243bb4",
     "showTitle": false,
     "tableResultSettingsMap": {},
     "title": ""
    }
   },
   "source": [
    "## 8 Views criadas"
   ]
  },
  {
   "cell_type": "markdown",
   "metadata": {
    "application/vnd.databricks.v1+cell": {
     "cellMetadata": {},
     "inputWidgets": {},
     "nuid": "30a5d2c3-6ec3-4d00-9520-28d75cf91fe4",
     "showTitle": false,
     "tableResultSettingsMap": {},
     "title": ""
    }
   },
   "source": [
    "**Criar tabelas com essas views**\n"
   ]
  },
  {
   "cell_type": "code",
   "execution_count": 0,
   "metadata": {
    "application/vnd.databricks.v1+cell": {
     "cellMetadata": {
      "byteLimit": 2048000,
      "implicitDf": true,
      "rowLimit": 10000
     },
     "inputWidgets": {},
     "nuid": "8aef9438-bcde-4f9d-8764-990010515713",
     "showTitle": false,
     "tableResultSettingsMap": {},
     "title": ""
    }
   },
   "outputs": [],
   "source": [
    "%sql\n",
    "-- Criar tabela Delta para bronze_orders\n",
    "CREATE TABLE delta_bronze_orders\n",
    "USING DELTA\n",
    "AS SELECT * FROM bronze_orders;\n",
    "\n",
    "-- Criar tabela Delta para bronze_customers\n",
    "CREATE TABLE delta_bronze_customers\n",
    "USING DELTA\n",
    "AS SELECT * FROM bronze_customers;\n",
    "\n",
    "-- Criar tabela Delta para bronze_products\n",
    "CREATE TABLE delta_bronze_products\n",
    "USING DELTA\n",
    "AS SELECT * FROM bronze_products;\n",
    "\n",
    "-- Criar tabela Delta para bronze_order_items\n",
    "CREATE TABLE delta_bronze_order_items\n",
    "USING DELTA\n",
    "AS SELECT * FROM bronze_order_items;\n",
    "\n",
    "-- Criar tabela Delta para bronze_category_translation\n",
    "CREATE TABLE delta_bronze_category_translation\n",
    "USING DELTA\n",
    "AS SELECT * FROM bronze_category_translation;\n",
    "\n",
    "-- Criar tabela Delta para bronze_sellers\n",
    "CREATE TABLE delta_bronze_sellers\n",
    "USING DELTA\n",
    "AS SELECT * FROM bronze_sellers;\n",
    "\n",
    "-- Criar tabela Delta para bronze_payments\n",
    "CREATE TABLE delta_bronze_payments\n",
    "USING DELTA\n",
    "AS SELECT * FROM bronze_payments;\n",
    "\n",
    "-- Criar tabela Delta para bronze_order_reviews\n",
    "CREATE TABLE delta_bronze_order_reviews\n",
    "USING DELTA\n",
    "AS SELECT * FROM bronze_order_reviews;\n",
    "\n",
    "-- Exibir confirmação\n",
    "SHOW TABLES;\n"
   ]
  },
  {
   "cell_type": "markdown",
   "metadata": {
    "application/vnd.databricks.v1+cell": {
     "cellMetadata": {},
     "inputWidgets": {},
     "nuid": "188ebe6b-455e-4d3a-87bc-e58f8c165d2a",
     "showTitle": false,
     "tableResultSettingsMap": {},
     "title": ""
    }
   },
   "source": []
  },
  {
   "cell_type": "markdown",
   "metadata": {
    "application/vnd.databricks.v1+cell": {
     "cellMetadata": {},
     "inputWidgets": {},
     "nuid": "b5e429d6-3da1-41e5-ad64-76ea738cf5c7",
     "showTitle": false,
     "tableResultSettingsMap": {},
     "title": ""
    }
   },
   "source": [
    "## Passando para a camada prata"
   ]
  },
  {
   "cell_type": "code",
   "execution_count": 0,
   "metadata": {
    "application/vnd.databricks.v1+cell": {
     "cellMetadata": {
      "byteLimit": 2048000,
      "rowLimit": 10000
     },
     "inputWidgets": {},
     "nuid": "8d2631a3-0bba-47a9-aba0-3b498fdfb6a4",
     "showTitle": false,
     "tableResultSettingsMap": {},
     "title": ""
    }
   },
   "outputs": [
    {
     "output_type": "stream",
     "name": "stdout",
     "output_type": "stream",
     "text": [
      "Out[27]: True"
     ]
    }
   ],
   "source": [
    "# Diretório da camada Prata\n",
    "silver_path = \"/mnt/silver/\"\n",
    "dbutils.fs.mkdirs(silver_path)"
   ]
  },
  {
   "cell_type": "code",
   "execution_count": 0,
   "metadata": {
    "application/vnd.databricks.v1+cell": {
     "cellMetadata": {
      "byteLimit": 2048000,
      "rowLimit": 10000
     },
     "inputWidgets": {},
     "nuid": "d8632a96-9756-4775-9d0c-a673f121b6e5",
     "showTitle": false,
     "tableResultSettingsMap": {},
     "title": ""
    }
   },
   "outputs": [
    {
     "output_type": "stream",
     "name": "stdout",
     "output_type": "stream",
     "text": [
      "Out[38]: [FileInfo(path='dbfs:/mnt/silver/category_translation/', name='category_translation/', size=0, modificationTime=0),\n FileInfo(path='dbfs:/mnt/silver/customers/', name='customers/', size=0, modificationTime=0),\n FileInfo(path='dbfs:/mnt/silver/order_items/', name='order_items/', size=0, modificationTime=0),\n FileInfo(path='dbfs:/mnt/silver/order_reviews/', name='order_reviews/', size=0, modificationTime=0),\n FileInfo(path='dbfs:/mnt/silver/orders/', name='orders/', size=0, modificationTime=0),\n FileInfo(path='dbfs:/mnt/silver/payments/', name='payments/', size=0, modificationTime=0),\n FileInfo(path='dbfs:/mnt/silver/products/', name='products/', size=0, modificationTime=0),\n FileInfo(path='dbfs:/mnt/silver/sellers/', name='sellers/', size=0, modificationTime=0)]"
     ]
    }
   ],
   "source": [
    "# Listar os arquivos no diretório Silver\n",
    "dbutils.fs.ls(\"/mnt/silver/\")\n"
   ]
  },
  {
   "cell_type": "code",
   "execution_count": 0,
   "metadata": {
    "application/vnd.databricks.v1+cell": {
     "cellMetadata": {
      "byteLimit": 2048000,
      "rowLimit": 10000
     },
     "inputWidgets": {},
     "nuid": "3f8ed351-5e41-4a76-bd66-c78d8345a73c",
     "showTitle": false,
     "tableResultSettingsMap": {},
     "title": ""
    }
   },
   "outputs": [],
   "source": [
    "# Copiar DataFrames diretamente para a camada Prata \n",
    "bronze_orders_df.write.format(\"delta\").mode(\"overwrite\").save(f\"{silver_path}orders\")\n",
    "bronze_customers_df.write.format(\"delta\").mode(\"overwrite\").save(f\"{silver_path}customers\")\n",
    "bronze_products_df.write.format(\"delta\").mode(\"overwrite\").save(f\"{silver_path}products\")\n",
    "bronze_order_items_df.write.format(\"delta\").mode(\"overwrite\").save(f\"{silver_path}order_items\")\n",
    "bronze_category_translation_df.write.format(\"delta\").mode(\"overwrite\").save(f\"{silver_path}category_translation\")\n",
    "bronze_sellers_df.write.format(\"delta\").mode(\"overwrite\").save(f\"{silver_path}sellers\")\n",
    "bronze_payments_df.write.format(\"delta\").mode(\"overwrite\").save(f\"{silver_path}payments\")\n",
    "bronze_order_reviews.write.format(\"delta\").mode(\"overwrite\").save(f\"{silver_path}order_reviews\")"
   ]
  },
  {
   "cell_type": "code",
   "execution_count": 0,
   "metadata": {
    "application/vnd.databricks.v1+cell": {
     "cellMetadata": {
      "byteLimit": 2048000,
      "rowLimit": 10000
     },
     "inputWidgets": {},
     "nuid": "31c0fd8d-fa55-4428-b368-f7c0d4c1a66f",
     "showTitle": false,
     "tableResultSettingsMap": {},
     "title": ""
    }
   },
   "outputs": [],
   "source": [
    "# Carregar dados da camada Bronze criando dataframes\n",
    "silver_orders_df = spark.read.format(\"delta\").load(\"/mnt/silver/orders\")\n",
    "silver_customers_df = spark.read.format(\"delta\").load(\"/mnt/silver/customers\")\n",
    "silver_products_df = spark.read.format(\"delta\").load(\"/mnt/silver/products\")\n",
    "silver_order_items_df = spark.read.format(\"delta\").load(\"/mnt/silver/order_items\")\n",
    "silver_category_translation_df = spark.read.format(\"delta\").load(\"/mnt/silver/category_translation\")\n",
    "silver_sellers_df = spark.read.format(\"delta\").load(\"/mnt/silver/sellers\")\n",
    "silver_payments_df = spark.read.format(\"delta\").load(\"/mnt/silver/payments\")\n",
    "silver_order_reviews = spark.read.format(\"delta\").load(\"/mnt/silver/order_reviews\")\n",
    "\n"
   ]
  },
  {
   "cell_type": "code",
   "execution_count": 0,
   "metadata": {
    "application/vnd.databricks.v1+cell": {
     "cellMetadata": {
      "byteLimit": 2048000,
      "rowLimit": 10000
     },
     "inputWidgets": {},
     "nuid": "231c8ac7-c1ce-43b3-8116-93426803db81",
     "showTitle": false,
     "tableResultSettingsMap": {},
     "title": ""
    }
   },
   "outputs": [
    {
     "output_type": "stream",
     "name": "stdout",
     "output_type": "stream",
     "text": [
      "+--------------------+--------------------+------------+------------------------+-------------------+----------------------------+-----------------------------+-----------------------------+\n|            order_id|         customer_id|order_status|order_purchase_timestamp|  order_approved_at|order_delivered_carrier_date|order_delivered_customer_date|order_estimated_delivery_date|\n+--------------------+--------------------+------------+------------------------+-------------------+----------------------------+-----------------------------+-----------------------------+\n|e481f51cbdc54678b...|9ef432eb625129730...|   delivered|     2017-10-02 10:56:33|2017-10-02 11:07:15|         2017-10-04 19:55:00|          2017-10-10 21:25:13|          2017-10-18 00:00:00|\n|53cdb2fc8bc7dce0b...|b0830fb4747a6c6d2...|   delivered|     2018-07-24 20:41:37|2018-07-26 03:24:27|         2018-07-26 14:31:00|          2018-08-07 15:27:45|          2018-08-13 00:00:00|\n|47770eb9100c2d0c4...|41ce2a54c0b03bf34...|   delivered|     2018-08-08 08:38:49|2018-08-08 08:55:23|         2018-08-08 13:50:00|          2018-08-17 18:06:29|          2018-09-04 00:00:00|\n|949d5b44dbf5de918...|f88197465ea7920ad...|   delivered|     2017-11-18 19:28:06|2017-11-18 19:45:59|         2017-11-22 13:39:59|          2017-12-02 00:28:42|          2017-12-15 00:00:00|\n|ad21c59c0840e6cb8...|8ab97904e6daea886...|   delivered|     2018-02-13 21:18:39|2018-02-13 22:20:29|         2018-02-14 19:46:34|          2018-02-16 18:17:02|          2018-02-26 00:00:00|\n|a4591c265e18cb1dc...|503740e9ca751ccdd...|   delivered|     2017-07-09 21:57:05|2017-07-09 22:10:13|         2017-07-11 14:58:04|          2017-07-26 10:57:55|          2017-08-01 00:00:00|\n|136cce7faa42fdb2c...|ed0271e0b7da060a3...|    invoiced|     2017-04-11 12:22:08|2017-04-13 13:25:17|                        null|                         null|          2017-05-09 00:00:00|\n|6514b8ad8028c9f2c...|9bdf08b4b3b52b552...|   delivered|     2017-05-16 13:10:30|2017-05-16 13:22:11|         2017-05-22 10:07:46|          2017-05-26 12:55:51|          2017-06-07 00:00:00|\n|76c6e866289321a7c...|f54a9f0e6b351c431...|   delivered|     2017-01-23 18:29:09|2017-01-25 02:50:47|         2017-01-26 14:16:31|          2017-02-02 14:08:10|          2017-03-06 00:00:00|\n|e69bfb5eb88e0ed6a...|31ad1d1b63eb99624...|   delivered|     2017-07-29 11:55:02|2017-07-29 12:05:32|         2017-08-10 19:45:24|          2017-08-16 17:14:30|          2017-08-23 00:00:00|\n|e6ce16cb79ec1d90b...|494dded5b201313c6...|   delivered|     2017-05-16 19:41:10|2017-05-16 19:50:18|         2017-05-18 11:40:40|          2017-05-29 11:18:31|          2017-06-07 00:00:00|\n|34513ce0c4fab462a...|7711cf624183d843a...|   delivered|     2017-07-13 19:58:11|2017-07-13 20:10:08|         2017-07-14 18:43:29|          2017-07-19 14:04:48|          2017-08-08 00:00:00|\n|82566a660a982b15f...|d3e3b74c766bc6214...|   delivered|     2018-06-07 10:06:19|2018-06-09 03:13:12|         2018-06-11 13:29:00|          2018-06-19 12:05:52|          2018-07-18 00:00:00|\n|5ff96c15d0b717ac6...|19402a48fe860416a...|   delivered|     2018-07-25 17:44:10|2018-07-25 17:55:14|         2018-07-26 13:16:00|          2018-07-30 15:52:25|          2018-08-08 00:00:00|\n|432aaf21d85167c2c...|3df704f53d3f1d481...|   delivered|     2018-03-01 14:14:28|2018-03-01 15:10:47|         2018-03-02 21:09:20|          2018-03-12 23:36:26|          2018-03-21 00:00:00|\n|dcb36b511fcac050b...|3b6828a50ffe54694...|   delivered|     2018-06-07 19:03:12|2018-06-12 23:31:02|         2018-06-11 14:54:00|          2018-06-21 15:34:32|          2018-07-04 00:00:00|\n|403b97836b0c04a62...|738b086814c6fcc74...|   delivered|     2018-01-02 19:00:43|2018-01-02 19:09:04|         2018-01-03 18:19:09|          2018-01-20 01:38:59|          2018-02-06 00:00:00|\n|116f0b09343b49556...|3187789bec9909876...|   delivered|     2017-12-26 23:41:31|2017-12-26 23:50:22|         2017-12-28 18:33:05|          2018-01-08 22:36:36|          2018-01-29 00:00:00|\n|85ce859fd6dc634de...|059f7fc5719c7da6c...|   delivered|     2017-11-21 00:03:41|2017-11-21 00:14:22|         2017-11-23 21:32:26|          2017-11-27 18:28:00|          2017-12-11 00:00:00|\n|83018ec114eee8641...|7f8c8b9c2ae27bf33...|   delivered|     2017-10-26 15:54:26|2017-10-26 16:08:14|         2017-10-26 21:46:53|          2017-11-08 22:22:00|          2017-11-23 00:00:00|\n+--------------------+--------------------+------------+------------------------+-------------------+----------------------------+-----------------------------+-----------------------------+\nonly showing top 20 rows\n\n"
     ]
    }
   ],
   "source": [
    "silver_orders_df.show()"
   ]
  },
  {
   "cell_type": "code",
   "execution_count": 0,
   "metadata": {
    "application/vnd.databricks.v1+cell": {
     "cellMetadata": {
      "byteLimit": 2048000,
      "rowLimit": 10000
     },
     "inputWidgets": {},
     "nuid": "62345d1c-7aa0-45e1-9eb4-d44703f63093",
     "showTitle": false,
     "tableResultSettingsMap": {},
     "title": ""
    }
   },
   "outputs": [
    {
     "output_type": "stream",
     "name": "stdout",
     "output_type": "stream",
     "text": [
      "Views temporárias criadas com sucesso!\n"
     ]
    }
   ],
   "source": [
    "# Registrar os DataFrames como Temporary Views\n",
    "silver_orders_df.createOrReplaceTempView(\"silver_orders\")\n",
    "silver_customers_df.createOrReplaceTempView(\"silver_customers\")\n",
    "silver_products_df.createOrReplaceTempView(\"silver_products\")\n",
    "silver_order_items_df.createOrReplaceTempView(\"silver_order_items\")\n",
    "silver_category_translation_df.createOrReplaceTempView(\"silver_category_translation\")\n",
    "silver_sellers_df.createOrReplaceTempView(\"silver_sellers\")\n",
    "silver_payments_df.createOrReplaceTempView(\"silver_payments\")\n",
    "silver_order_reviews.createOrReplaceTempView(\"silver_order_reviews\")\n",
    "print(\"Views temporárias criadas com sucesso!\")\n"
   ]
  },
  {
   "cell_type": "code",
   "execution_count": 0,
   "metadata": {
    "application/vnd.databricks.v1+cell": {
     "cellMetadata": {
      "byteLimit": 2048000,
      "implicitDf": true,
      "rowLimit": 10000
     },
     "inputWidgets": {},
     "nuid": "7f2da3c3-c031-4697-b9b3-e35d7f61b8ce",
     "showTitle": false,
     "tableResultSettingsMap": {},
     "title": ""
    }
   },
   "outputs": [
    {
     "output_type": "display_data",
     "data": {
      "text/html": [
       "<style scoped>\n",
       "  .table-result-container {\n",
       "    max-height: 300px;\n",
       "    overflow: auto;\n",
       "  }\n",
       "  table, th, td {\n",
       "    border: 1px solid black;\n",
       "    border-collapse: collapse;\n",
       "  }\n",
       "  th, td {\n",
       "    padding: 5px;\n",
       "  }\n",
       "  th {\n",
       "    text-align: left;\n",
       "  }\n",
       "</style><div class='table-result-container'><table class='table-result'><thead style='background-color: white'><tr><th>database</th><th>tableName</th><th>isTemporary</th></tr></thead><tbody><tr><td>default</td><td>delta_bronze_category_translation</td><td>false</td></tr><tr><td>default</td><td>delta_bronze_customers</td><td>false</td></tr><tr><td>default</td><td>delta_bronze_order_items</td><td>false</td></tr><tr><td>default</td><td>delta_bronze_order_reviews</td><td>false</td></tr><tr><td>default</td><td>delta_bronze_orders</td><td>false</td></tr><tr><td>default</td><td>delta_bronze_payments</td><td>false</td></tr><tr><td>default</td><td>delta_bronze_products</td><td>false</td></tr><tr><td>default</td><td>delta_bronze_sellers</td><td>false</td></tr><tr><td></td><td>bronze_category_translation</td><td>true</td></tr><tr><td></td><td>bronze_customers</td><td>true</td></tr><tr><td></td><td>bronze_order_items</td><td>true</td></tr><tr><td></td><td>bronze_order_reviews</td><td>true</td></tr><tr><td></td><td>bronze_orders</td><td>true</td></tr><tr><td></td><td>bronze_payments</td><td>true</td></tr><tr><td></td><td>bronze_products</td><td>true</td></tr><tr><td></td><td>bronze_sellers</td><td>true</td></tr><tr><td></td><td>silver_category_translation</td><td>true</td></tr><tr><td></td><td>silver_customers</td><td>true</td></tr><tr><td></td><td>silver_order_items</td><td>true</td></tr><tr><td></td><td>silver_order_reviews</td><td>true</td></tr><tr><td></td><td>silver_orders</td><td>true</td></tr><tr><td></td><td>silver_payments</td><td>true</td></tr><tr><td></td><td>silver_products</td><td>true</td></tr><tr><td></td><td>silver_sellers</td><td>true</td></tr></tbody></table></div>"
      ]
     },
     "metadata": {
      "application/vnd.databricks.v1+output": {
       "addedWidgets": {},
       "aggData": [],
       "aggError": "",
       "aggOverflow": false,
       "aggSchema": [],
       "aggSeriesLimitReached": false,
       "aggType": "",
       "arguments": {},
       "columnCustomDisplayInfos": {},
       "data": [
        [
         "default",
         "delta_bronze_category_translation",
         false
        ],
        [
         "default",
         "delta_bronze_customers",
         false
        ],
        [
         "default",
         "delta_bronze_order_items",
         false
        ],
        [
         "default",
         "delta_bronze_order_reviews",
         false
        ],
        [
         "default",
         "delta_bronze_orders",
         false
        ],
        [
         "default",
         "delta_bronze_payments",
         false
        ],
        [
         "default",
         "delta_bronze_products",
         false
        ],
        [
         "default",
         "delta_bronze_sellers",
         false
        ],
        [
         "",
         "bronze_category_translation",
         true
        ],
        [
         "",
         "bronze_customers",
         true
        ],
        [
         "",
         "bronze_order_items",
         true
        ],
        [
         "",
         "bronze_order_reviews",
         true
        ],
        [
         "",
         "bronze_orders",
         true
        ],
        [
         "",
         "bronze_payments",
         true
        ],
        [
         "",
         "bronze_products",
         true
        ],
        [
         "",
         "bronze_sellers",
         true
        ],
        [
         "",
         "silver_category_translation",
         true
        ],
        [
         "",
         "silver_customers",
         true
        ],
        [
         "",
         "silver_order_items",
         true
        ],
        [
         "",
         "silver_order_reviews",
         true
        ],
        [
         "",
         "silver_orders",
         true
        ],
        [
         "",
         "silver_payments",
         true
        ],
        [
         "",
         "silver_products",
         true
        ],
        [
         "",
         "silver_sellers",
         true
        ]
       ],
       "datasetInfos": [],
       "dbfsResultPath": null,
       "isJsonSchema": true,
       "metadata": {},
       "overflow": false,
       "plotOptions": {
        "customPlotOptions": {},
        "displayType": "table",
        "pivotAggregation": null,
        "pivotColumns": null,
        "xColumns": null,
        "yColumns": null
       },
       "removedWidgets": [],
       "schema": [
        {
         "metadata": "{}",
         "name": "database",
         "type": "\"string\""
        },
        {
         "metadata": "{}",
         "name": "tableName",
         "type": "\"string\""
        },
        {
         "metadata": "{}",
         "name": "isTemporary",
         "type": "\"boolean\""
        }
       ],
       "type": "table"
      }
     },
     "output_type": "display_data"
    }
   ],
   "source": [
    "%sql\n",
    "SHOW TABLES"
   ]
  },
  {
   "cell_type": "code",
   "execution_count": 0,
   "metadata": {
    "application/vnd.databricks.v1+cell": {
     "cellMetadata": {
      "byteLimit": 2048000,
      "implicitDf": true,
      "rowLimit": 10000
     },
     "inputWidgets": {},
     "nuid": "39aa6555-f565-4375-9f34-f354234f68f5",
     "showTitle": false,
     "tableResultSettingsMap": {},
     "title": ""
    }
   },
   "outputs": [
    {
     "output_type": "display_data",
     "data": {
      "text/html": [
       "<style scoped>\n",
       "  .table-result-container {\n",
       "    max-height: 300px;\n",
       "    overflow: auto;\n",
       "  }\n",
       "  table, th, td {\n",
       "    border: 1px solid black;\n",
       "    border-collapse: collapse;\n",
       "  }\n",
       "  th, td {\n",
       "    padding: 5px;\n",
       "  }\n",
       "  th {\n",
       "    text-align: left;\n",
       "  }\n",
       "</style><div class='table-result-container'><table class='table-result'><thead style='background-color: white'><tr><th>database</th><th>tableName</th><th>isTemporary</th></tr></thead><tbody><tr><td>default</td><td>delta_bronze_category_translation</td><td>false</td></tr><tr><td>default</td><td>delta_bronze_customers</td><td>false</td></tr><tr><td>default</td><td>delta_bronze_order_items</td><td>false</td></tr><tr><td>default</td><td>delta_bronze_order_reviews</td><td>false</td></tr><tr><td>default</td><td>delta_bronze_orders</td><td>false</td></tr><tr><td>default</td><td>delta_bronze_payments</td><td>false</td></tr><tr><td>default</td><td>delta_bronze_products</td><td>false</td></tr><tr><td>default</td><td>delta_bronze_sellers</td><td>false</td></tr><tr><td>default</td><td>delta_silver_category_translation</td><td>false</td></tr><tr><td>default</td><td>delta_silver_customers</td><td>false</td></tr><tr><td>default</td><td>delta_silver_order_items</td><td>false</td></tr><tr><td>default</td><td>delta_silver_order_reviews</td><td>false</td></tr><tr><td>default</td><td>delta_silver_orders</td><td>false</td></tr><tr><td>default</td><td>delta_silver_payments</td><td>false</td></tr><tr><td>default</td><td>delta_silver_products</td><td>false</td></tr><tr><td>default</td><td>delta_silver_sellers</td><td>false</td></tr><tr><td></td><td>bronze_category_translation</td><td>true</td></tr><tr><td></td><td>bronze_customers</td><td>true</td></tr><tr><td></td><td>bronze_order_items</td><td>true</td></tr><tr><td></td><td>bronze_order_reviews</td><td>true</td></tr><tr><td></td><td>bronze_orders</td><td>true</td></tr><tr><td></td><td>bronze_payments</td><td>true</td></tr><tr><td></td><td>bronze_products</td><td>true</td></tr><tr><td></td><td>bronze_sellers</td><td>true</td></tr><tr><td></td><td>silver_category_translation</td><td>true</td></tr><tr><td></td><td>silver_customers</td><td>true</td></tr><tr><td></td><td>silver_order_items</td><td>true</td></tr><tr><td></td><td>silver_order_reviews</td><td>true</td></tr><tr><td></td><td>silver_orders</td><td>true</td></tr><tr><td></td><td>silver_payments</td><td>true</td></tr><tr><td></td><td>silver_products</td><td>true</td></tr><tr><td></td><td>silver_sellers</td><td>true</td></tr></tbody></table></div>"
      ]
     },
     "metadata": {
      "application/vnd.databricks.v1+output": {
       "addedWidgets": {},
       "aggData": [],
       "aggError": "",
       "aggOverflow": false,
       "aggSchema": [],
       "aggSeriesLimitReached": false,
       "aggType": "",
       "arguments": {},
       "columnCustomDisplayInfos": {},
       "data": [
        [
         "default",
         "delta_bronze_category_translation",
         false
        ],
        [
         "default",
         "delta_bronze_customers",
         false
        ],
        [
         "default",
         "delta_bronze_order_items",
         false
        ],
        [
         "default",
         "delta_bronze_order_reviews",
         false
        ],
        [
         "default",
         "delta_bronze_orders",
         false
        ],
        [
         "default",
         "delta_bronze_payments",
         false
        ],
        [
         "default",
         "delta_bronze_products",
         false
        ],
        [
         "default",
         "delta_bronze_sellers",
         false
        ],
        [
         "default",
         "delta_silver_category_translation",
         false
        ],
        [
         "default",
         "delta_silver_customers",
         false
        ],
        [
         "default",
         "delta_silver_order_items",
         false
        ],
        [
         "default",
         "delta_silver_order_reviews",
         false
        ],
        [
         "default",
         "delta_silver_orders",
         false
        ],
        [
         "default",
         "delta_silver_payments",
         false
        ],
        [
         "default",
         "delta_silver_products",
         false
        ],
        [
         "default",
         "delta_silver_sellers",
         false
        ],
        [
         "",
         "bronze_category_translation",
         true
        ],
        [
         "",
         "bronze_customers",
         true
        ],
        [
         "",
         "bronze_order_items",
         true
        ],
        [
         "",
         "bronze_order_reviews",
         true
        ],
        [
         "",
         "bronze_orders",
         true
        ],
        [
         "",
         "bronze_payments",
         true
        ],
        [
         "",
         "bronze_products",
         true
        ],
        [
         "",
         "bronze_sellers",
         true
        ],
        [
         "",
         "silver_category_translation",
         true
        ],
        [
         "",
         "silver_customers",
         true
        ],
        [
         "",
         "silver_order_items",
         true
        ],
        [
         "",
         "silver_order_reviews",
         true
        ],
        [
         "",
         "silver_orders",
         true
        ],
        [
         "",
         "silver_payments",
         true
        ],
        [
         "",
         "silver_products",
         true
        ],
        [
         "",
         "silver_sellers",
         true
        ]
       ],
       "datasetInfos": [],
       "dbfsResultPath": null,
       "isJsonSchema": true,
       "metadata": {},
       "overflow": false,
       "plotOptions": {
        "customPlotOptions": {},
        "displayType": "table",
        "pivotAggregation": null,
        "pivotColumns": null,
        "xColumns": null,
        "yColumns": null
       },
       "removedWidgets": [],
       "schema": [
        {
         "metadata": "{}",
         "name": "database",
         "type": "\"string\""
        },
        {
         "metadata": "{}",
         "name": "tableName",
         "type": "\"string\""
        },
        {
         "metadata": "{}",
         "name": "isTemporary",
         "type": "\"boolean\""
        }
       ],
       "type": "table"
      }
     },
     "output_type": "display_data"
    }
   ],
   "source": [
    "%sql\n",
    "-- Criar tabela Delta para silver_orders\n",
    "CREATE TABLE delta_silver_orders\n",
    "USING DELTA\n",
    "AS SELECT * FROM silver_orders;\n",
    "\n",
    "-- Criar tabela Delta para silver_customers\n",
    "CREATE TABLE delta_silver_customers\n",
    "USING DELTA\n",
    "AS SELECT * FROM silver_customers;\n",
    "\n",
    "-- Criar tabela Delta para silver_products\n",
    "CREATE TABLE delta_silver_products\n",
    "USING DELTA\n",
    "AS SELECT * FROM silver_products;\n",
    "\n",
    "-- Criar tabela Delta para silver_order_items\n",
    "CREATE TABLE delta_silver_order_items\n",
    "USING DELTA\n",
    "AS SELECT * FROM silver_order_items;\n",
    "\n",
    "-- Criar tabela Delta para silver_category_translation\n",
    "CREATE TABLE delta_silver_category_translation\n",
    "USING DELTA\n",
    "AS SELECT * FROM silver_category_translation;\n",
    "\n",
    "-- Criar tabela Delta para silver_sellers\n",
    "CREATE TABLE delta_silver_sellers\n",
    "USING DELTA\n",
    "AS SELECT * FROM silver_sellers;\n",
    "\n",
    "-- Criar tabela Delta para silver_payments\n",
    "CREATE TABLE delta_silver_payments\n",
    "USING DELTA\n",
    "AS SELECT * FROM silver_payments;\n",
    "\n",
    "-- Criar tabela Delta para silver_order_reviews\n",
    "CREATE TABLE delta_silver_order_reviews\n",
    "USING DELTA\n",
    "AS SELECT * FROM silver_order_reviews;\n",
    "\n",
    "-- Exibir confirmação\n",
    "SHOW TABLES;\n"
   ]
  },
  {
   "cell_type": "markdown",
   "metadata": {
    "application/vnd.databricks.v1+cell": {
     "cellMetadata": {},
     "inputWidgets": {},
     "nuid": "96476d94-aad3-4f53-ba1b-a2901ed4027b",
     "showTitle": false,
     "tableResultSettingsMap": {},
     "title": ""
    }
   },
   "source": [
    "## Fim da camada prata"
   ]
  },
  {
   "cell_type": "markdown",
   "metadata": {
    "application/vnd.databricks.v1+cell": {
     "cellMetadata": {},
     "inputWidgets": {},
     "nuid": "6b10a8c8-a210-4247-aef7-1aa6ca983f4b",
     "showTitle": false,
     "tableResultSettingsMap": {},
     "title": ""
    }
   },
   "source": [
    "## Início camada gold"
   ]
  },
  {
   "cell_type": "markdown",
   "metadata": {
    "application/vnd.databricks.v1+cell": {
     "cellMetadata": {},
     "inputWidgets": {},
     "nuid": "251ff915-d73a-46ab-b44d-f22f8a7a5d45",
     "showTitle": false,
     "tableResultSettingsMap": {},
     "title": ""
    }
   },
   "source": [
    "## Criando diretório"
   ]
  },
  {
   "cell_type": "code",
   "execution_count": 0,
   "metadata": {
    "application/vnd.databricks.v1+cell": {
     "cellMetadata": {
      "byteLimit": 2048000,
      "rowLimit": 10000
     },
     "inputWidgets": {},
     "nuid": "5d8ba2e6-9130-4331-8fd6-034b8a81cb79",
     "showTitle": false,
     "tableResultSettingsMap": {},
     "title": ""
    }
   },
   "outputs": [
    {
     "output_type": "stream",
     "name": "stdout",
     "output_type": "stream",
     "text": [
      "Out[32]: True"
     ]
    }
   ],
   "source": [
    "# Diretório da camada gold\n",
    "gold_path = \"/mnt/gold/\"\n",
    "dbutils.fs.mkdirs(gold_path)"
   ]
  },
  {
   "cell_type": "code",
   "execution_count": 0,
   "metadata": {
    "application/vnd.databricks.v1+cell": {
     "cellMetadata": {
      "byteLimit": 2048000,
      "rowLimit": 10000
     },
     "inputWidgets": {},
     "nuid": "34226282-4c4e-451c-ae58-b1748e608d33",
     "showTitle": false,
     "tableResultSettingsMap": {},
     "title": ""
    }
   },
   "outputs": [],
   "source": [
    "# Copiar DataFrames diretamente para a camada gold\n",
    "silver_orders_df.write.format(\"delta\").mode(\"overwrite\").save(f\"{gold_path}orders\")\n",
    "silver_customers_df.write.format(\"delta\").mode(\"overwrite\").save(f\"{gold_path}customers\")\n",
    "silver_products_df.write.format(\"delta\").mode(\"overwrite\").save(f\"{gold_path}products\")\n",
    "silver_order_items_df.write.format(\"delta\").mode(\"overwrite\").save(f\"{gold_path}order_items\")\n",
    "silver_category_translation_df.write.format(\"delta\").mode(\"overwrite\").save(f\"{gold_path}category_translation\")\n",
    "silver_sellers_df.write.format(\"delta\").mode(\"overwrite\").save(f\"{gold_path}sellers\")\n",
    "silver_payments_df.write.format(\"delta\").mode(\"overwrite\").save(f\"{gold_path}payments\")\n",
    "silver_order_reviews.write.format(\"delta\").mode(\"overwrite\").save(f\"{gold_path}order_reviews\")"
   ]
  },
  {
   "cell_type": "code",
   "execution_count": 0,
   "metadata": {
    "application/vnd.databricks.v1+cell": {
     "cellMetadata": {
      "byteLimit": 2048000,
      "rowLimit": 10000
     },
     "inputWidgets": {},
     "nuid": "62495852-0c3d-4852-8fb8-fb92e95fa1a4",
     "showTitle": false,
     "tableResultSettingsMap": {},
     "title": ""
    }
   },
   "outputs": [
    {
     "output_type": "stream",
     "name": "stdout",
     "output_type": "stream",
     "text": [
      "Out[42]: [FileInfo(path='dbfs:/mnt/gold/category_translation/', name='category_translation/', size=0, modificationTime=0),\n FileInfo(path='dbfs:/mnt/gold/customers/', name='customers/', size=0, modificationTime=0),\n FileInfo(path='dbfs:/mnt/gold/order_items/', name='order_items/', size=0, modificationTime=0),\n FileInfo(path='dbfs:/mnt/gold/order_reviews/', name='order_reviews/', size=0, modificationTime=0),\n FileInfo(path='dbfs:/mnt/gold/orders/', name='orders/', size=0, modificationTime=0),\n FileInfo(path='dbfs:/mnt/gold/payments/', name='payments/', size=0, modificationTime=0),\n FileInfo(path='dbfs:/mnt/gold/products/', name='products/', size=0, modificationTime=0),\n FileInfo(path='dbfs:/mnt/gold/sellers/', name='sellers/', size=0, modificationTime=0)]"
     ]
    }
   ],
   "source": [
    "# Listar os arquivos no diretório gold\n",
    "dbutils.fs.ls(\"/mnt/gold/\")\n"
   ]
  },
  {
   "cell_type": "code",
   "execution_count": 0,
   "metadata": {
    "application/vnd.databricks.v1+cell": {
     "cellMetadata": {},
     "inputWidgets": {},
     "nuid": "93d06a40-0723-4ba7-896d-f0ebaf148fc2",
     "showTitle": false,
     "tableResultSettingsMap": {},
     "title": ""
    }
   },
   "outputs": [],
   "source": [
    "# Criar dataframes gold_nome_df em \"/mnt/gold/\"\n"
   ]
  },
  {
   "cell_type": "code",
   "execution_count": 0,
   "metadata": {
    "application/vnd.databricks.v1+cell": {
     "cellMetadata": {
      "byteLimit": 2048000,
      "rowLimit": 10000
     },
     "inputWidgets": {},
     "nuid": "7d53d282-2940-42ee-b8a5-3b9cf2bb4841",
     "showTitle": false,
     "tableResultSettingsMap": {},
     "title": ""
    }
   },
   "outputs": [],
   "source": [
    "# Carregar dados da camada Bronze criando dataframes\n",
    "gold_orders_df = spark.read.format(\"delta\").load(\"/mnt/gold/orders\")\n",
    "gold_customers_df = spark.read.format(\"delta\").load(\"/mnt/gold/customers\")\n",
    "gold_products_df = spark.read.format(\"delta\").load(\"/mnt/gold/products\")\n",
    "gold_order_items_df = spark.read.format(\"delta\").load(\"/mnt/gold/order_items\")\n",
    "gold_category_translation_df = spark.read.format(\"delta\").load(\"/mnt/gold/category_translation\")\n",
    "gold_sellers_df = spark.read.format(\"delta\").load(\"/mnt/gold/sellers\")\n",
    "gold_payments_df = spark.read.format(\"delta\").load(\"/mnt/gold/payments\")\n",
    "gold_order_reviews = spark.read.format(\"delta\").load(\"/mnt/gold/order_reviews\")"
   ]
  },
  {
   "cell_type": "code",
   "execution_count": 0,
   "metadata": {
    "application/vnd.databricks.v1+cell": {
     "cellMetadata": {
      "byteLimit": 2048000,
      "rowLimit": 10000
     },
     "inputWidgets": {},
     "nuid": "a7359046-7a09-4490-8899-f1da9f9f1013",
     "showTitle": false,
     "tableResultSettingsMap": {},
     "title": ""
    }
   },
   "outputs": [
    {
     "output_type": "stream",
     "name": "stdout",
     "output_type": "stream",
     "text": [
      "Views gold temporárias criadas com sucesso!\n"
     ]
    }
   ],
   "source": [
    "# Criação de views\n",
    "gold_orders_df.createOrReplaceTempView(\"gold_orders\")\n",
    "gold_customers_df.createOrReplaceTempView(\"gold_customers\")\n",
    "gold_products_df.createOrReplaceTempView(\"gold_products\")\n",
    "gold_order_items_df.createOrReplaceTempView(\"gold_order_items\")\n",
    "gold_category_translation_df.createOrReplaceTempView(\"gold_category_translation\")\n",
    "gold_sellers_df.createOrReplaceTempView(\"gold_sellers\")\n",
    "gold_payments_df.createOrReplaceTempView(\"gold_payments\")\n",
    "gold_order_reviews.createOrReplaceTempView(\"gold_order_reviews\")\n",
    "print(\"Views gold temporárias criadas com sucesso!\")"
   ]
  },
  {
   "cell_type": "code",
   "execution_count": 0,
   "metadata": {
    "application/vnd.databricks.v1+cell": {
     "cellMetadata": {
      "byteLimit": 2048000,
      "implicitDf": true,
      "rowLimit": 10000
     },
     "inputWidgets": {},
     "nuid": "3913d08d-c62d-4a44-97b7-b4a3a595c63b",
     "showTitle": false,
     "tableResultSettingsMap": {},
     "title": ""
    }
   },
   "outputs": [],
   "source": [
    "%sql\n",
    "-- Criar tabela Delta para gold_orders\n",
    "CREATE TABLE delta_gold_orders\n",
    "USING DELTA\n",
    "AS SELECT * FROM gold_orders;\n",
    "\n",
    "-- Criar tabela Delta para gold_customers\n",
    "CREATE TABLE delta_gold_customers\n",
    "USING DELTA\n",
    "AS SELECT * FROM gold_customers;\n",
    "\n",
    "-- Criar tabela Delta para gold_products\n",
    "CREATE TABLE delta_gold_products\n",
    "USING DELTA\n",
    "AS SELECT * FROM gold_products;\n",
    "\n",
    "-- Criar tabela Delta para gold_order_items\n",
    "CREATE TABLE delta_gold_order_items\n",
    "USING DELTA\n",
    "AS SELECT * FROM gold_order_items;\n",
    "\n",
    "-- Criar tabela Delta para gold_category_translation\n",
    "CREATE TABLE delta_gold_category_translation\n",
    "USING DELTA\n",
    "AS SELECT * FROM gold_category_translation;\n",
    "\n",
    "-- Criar tabela Delta para gold_sellers\n",
    "CREATE TABLE delta_gold_sellers\n",
    "USING DELTA\n",
    "AS SELECT * FROM gold_sellers;\n",
    "\n",
    "-- Criar tabela Delta para gold_payments\n",
    "CREATE TABLE delta_gold_payments\n",
    "USING DELTA\n",
    "AS SELECT * FROM gold_payments;\n",
    "\n",
    "-- Criar tabela Delta para gold_order_reviews\n",
    "CREATE TABLE delta_gold_order_reviews\n",
    "USING DELTA\n",
    "AS SELECT * FROM gold_order_reviews;\n",
    "\n",
    "-- Exibir confirmação\n",
    "SHOW TABLES;\n"
   ]
  },
  {
   "cell_type": "markdown",
   "metadata": {
    "application/vnd.databricks.v1+cell": {
     "cellMetadata": {},
     "inputWidgets": {},
     "nuid": "795f1d79-33ab-4d35-bdc3-150492375236",
     "showTitle": false,
     "tableResultSettingsMap": {},
     "title": ""
    }
   },
   "source": [
    "%md\n",
    "Informar no readme que, durante a execução do projeto, na análise dos dados, outras perguntas surgiram.."
   ]
  },
  {
   "cell_type": "markdown",
   "metadata": {
    "application/vnd.databricks.v1+cell": {
     "cellMetadata": {},
     "inputWidgets": {},
     "nuid": "fc805c24-57eb-4d81-b122-4e4a8898caac",
     "showTitle": false,
     "tableResultSettingsMap": {},
     "title": ""
    }
   },
   "source": [
    "Analisar o mercado on-line de forma sintética (Produtos mais vendidos, Produtos que mais faturaram, faixa etária que mais compra, etc.) e analítica (vendas por região, produtos por faixa etária e região, formas de pagamento por faixa etária, por período, etc.)."
   ]
  },
  {
   "cell_type": "code",
   "execution_count": 0,
   "metadata": {
    "application/vnd.databricks.v1+cell": {
     "cellMetadata": {},
     "inputWidgets": {},
     "nuid": "15c1038b-1f9a-4455-be40-37916d26340b",
     "showTitle": false,
     "tableResultSettingsMap": {},
     "title": ""
    }
   },
   "outputs": [],
   "source": [
    "# 1. Qual o produto mais vendido no período registrado?\n",
    "#    a. Como estão divididas as faixas etárias na compra desse produto?\n",
    "# Tabelas products, order e order_items\n"
   ]
  },
  {
   "cell_type": "markdown",
   "metadata": {
    "application/vnd.databricks.v1+cell": {
     "cellMetadata": {},
     "inputWidgets": {},
     "nuid": "40dc405f-628c-4364-9670-ff3d9d91f8d0",
     "showTitle": false,
     "tableResultSettingsMap": {},
     "title": ""
    }
   },
   "source": [
    "## Questão 1\n",
    "**Qual o produto mais vendido no período registrado?**"
   ]
  },
  {
   "cell_type": "code",
   "execution_count": 0,
   "metadata": {
    "application/vnd.databricks.v1+cell": {
     "cellMetadata": {
      "byteLimit": 2048000,
      "implicitDf": true,
      "rowLimit": 10000
     },
     "inputWidgets": {},
     "nuid": "8a86554c-6ea4-429f-b83b-20c533343ba2",
     "showTitle": false,
     "tableResultSettingsMap": {},
     "title": ""
    }
   },
   "outputs": [],
   "source": [
    "%sql\n",
    "-- Questão 1\n",
    "SELECT oi.product_id, COUNT(oi.product_id) AS qtd_item, p.product_category_name\n",
    "FROM delta_gold_order_items oi, delta_gold_products p\n",
    "WHERE oi.product_id = p.product_id\n",
    "GROUP BY oi.product_id, p.product_category_name\n",
    "ORDER BY qtd_item DESC"
   ]
  },
  {
   "cell_type": "markdown",
   "metadata": {
    "application/vnd.databricks.v1+cell": {
     "cellMetadata": {},
     "inputWidgets": {},
     "nuid": "e64afc71-28cf-4f62-9539-ab8533ff1d66",
     "showTitle": false,
     "tableResultSettingsMap": {},
     "title": ""
    }
   },
   "source": [
    "**De acordo com a consulta acima, o produto mais vendido (em quantidade) no período, é da categoria móveis e decoraçãoes, com 527 unidades**\n"
   ]
  },
  {
   "cell_type": "markdown",
   "metadata": {
    "application/vnd.databricks.v1+cell": {
     "cellMetadata": {},
     "inputWidgets": {},
     "nuid": "126997ce-60a2-4985-ae7d-de2b8b289a21",
     "showTitle": false,
     "tableResultSettingsMap": {},
     "title": ""
    }
   },
   "source": [
    "## Questão 1.a\n",
    "**Como estão divididas as faixas etárias na compra desse produto?**\n",
    "\n",
    "Os arquivos csv fonte não contêm qualquer tipo de dado que indique a idade do comprador. O arquivo de cadastro do comprador é muito simples, com poucas colunas e nenhuma delas sobre informações pessoais. Nem data de nascimento, nem sexo.\n"
   ]
  },
  {
   "cell_type": "code",
   "execution_count": 0,
   "metadata": {
    "application/vnd.databricks.v1+cell": {
     "cellMetadata": {},
     "inputWidgets": {},
     "nuid": "6e0723f1-c175-4b39-b38c-b0337e3aa50f",
     "showTitle": false,
     "tableResultSettingsMap": {},
     "title": ""
    }
   },
   "outputs": [],
   "source": [
    "# 2. Qual a forma de pagamento mais usada nas transações?\n",
    "#    a. Qual a faixe etária que mais utiliza esse método?\n",
    "#    b. Qual o percentual de cada faixa etária que utilizam esse método?\n",
    "# Tabelas order e payments"
   ]
  },
  {
   "cell_type": "markdown",
   "metadata": {
    "application/vnd.databricks.v1+cell": {
     "cellMetadata": {},
     "inputWidgets": {},
     "nuid": "60045206-6930-4364-974e-590508faa6bd",
     "showTitle": false,
     "tableResultSettingsMap": {},
     "title": ""
    }
   },
   "source": [
    "## Questão 2\n",
    "**Qual a forma de pagamento mais usada nas transações?**"
   ]
  },
  {
   "cell_type": "code",
   "execution_count": 0,
   "metadata": {
    "application/vnd.databricks.v1+cell": {
     "cellMetadata": {
      "byteLimit": 2048000,
      "implicitDf": true,
      "rowLimit": 10000
     },
     "inputWidgets": {},
     "nuid": "404afefa-6332-43b5-88e3-abebc8f727b7",
     "showTitle": false,
     "tableResultSettingsMap": {},
     "title": ""
    }
   },
   "outputs": [
    {
     "output_type": "display_data",
     "data": {
      "text/html": [
       "<style scoped>\n",
       "  .table-result-container {\n",
       "    max-height: 300px;\n",
       "    overflow: auto;\n",
       "  }\n",
       "  table, th, td {\n",
       "    border: 1px solid black;\n",
       "    border-collapse: collapse;\n",
       "  }\n",
       "  th, td {\n",
       "    padding: 5px;\n",
       "  }\n",
       "  th {\n",
       "    text-align: left;\n",
       "  }\n",
       "</style><div class='table-result-container'><table class='table-result'><thead style='background-color: white'><tr><th>payment_type</th><th>count(payment_type)</th></tr></thead><tbody><tr><td>credit_card</td><td>76795</td></tr><tr><td>boleto</td><td>19784</td></tr><tr><td>voucher</td><td>5775</td></tr><tr><td>debit_card</td><td>1529</td></tr><tr><td>not_defined</td><td>3</td></tr></tbody></table></div>"
      ]
     },
     "metadata": {
      "application/vnd.databricks.v1+output": {
       "addedWidgets": {},
       "aggData": [],
       "aggError": "",
       "aggOverflow": false,
       "aggSchema": [],
       "aggSeriesLimitReached": false,
       "aggType": "",
       "arguments": {},
       "columnCustomDisplayInfos": {},
       "data": [
        [
         "credit_card",
         76795
        ],
        [
         "boleto",
         19784
        ],
        [
         "voucher",
         5775
        ],
        [
         "debit_card",
         1529
        ],
        [
         "not_defined",
         3
        ]
       ],
       "datasetInfos": [],
       "dbfsResultPath": null,
       "isJsonSchema": true,
       "metadata": {},
       "overflow": false,
       "plotOptions": {
        "customPlotOptions": {},
        "displayType": "table",
        "pivotAggregation": null,
        "pivotColumns": null,
        "xColumns": null,
        "yColumns": null
       },
       "removedWidgets": [],
       "schema": [
        {
         "metadata": "{}",
         "name": "payment_type",
         "type": "\"string\""
        },
        {
         "metadata": "{\"__autoGeneratedAlias\":\"true\"}",
         "name": "count(payment_type)",
         "type": "\"long\""
        }
       ],
       "type": "table"
      }
     },
     "output_type": "display_data"
    }
   ],
   "source": [
    "%sql\n",
    "SELECT payment_type, COUNT(payment_type)\n",
    "FROM delta_gold_payments\n",
    "GROUP BY payment_type\n",
    "ORDER BY COUNT(payment_type) DESC"
   ]
  },
  {
   "cell_type": "markdown",
   "metadata": {
    "application/vnd.databricks.v1+cell": {
     "cellMetadata": {},
     "inputWidgets": {},
     "nuid": "c03f4cdb-13e8-4904-9be8-9ba0795499b3",
     "showTitle": false,
     "tableResultSettingsMap": {},
     "title": ""
    },
    "jupyter": {
     "outputs_hidden": true
    }
   },
   "source": [
    "A forma de pagamento mais usada nas transações é com cartão de crédito"
   ]
  },
  {
   "cell_type": "code",
   "execution_count": 0,
   "metadata": {
    "application/vnd.databricks.v1+cell": {
     "cellMetadata": {
      "byteLimit": 2048000,
      "implicitDf": true,
      "rowLimit": 10000
     },
     "inputWidgets": {},
     "nuid": "0adeaaea-fc31-4609-8ce7-5a64dc380549",
     "showTitle": false,
     "tableResultSettingsMap": {},
     "title": ""
    }
   },
   "outputs": [
    {
     "output_type": "display_data",
     "data": {
      "text/html": [
       "<style scoped>\n",
       "  .table-result-container {\n",
       "    max-height: 300px;\n",
       "    overflow: auto;\n",
       "  }\n",
       "  table, th, td {\n",
       "    border: 1px solid black;\n",
       "    border-collapse: collapse;\n",
       "  }\n",
       "  th, td {\n",
       "    padding: 5px;\n",
       "  }\n",
       "  th {\n",
       "    text-align: left;\n",
       "  }\n",
       "</style><div class='table-result-container'><table class='table-result'><thead style='background-color: white'><tr><th>payment_type</th><th>AVG_installments</th><th>AVG_value</th><th>MINimum</th><th>MAXimum</th><th>median_payment_value</th></tr></thead><tbody><tr><td>credit_card</td><td>4.0</td><td>164.0</td><td>1.01</td><td>999.64</td><td>106.95</td></tr><tr><td>null</td><td>3.0</td><td>154.0</td><td>1.00</td><td>999.68</td><td>100.0</td></tr><tr><td>boleto</td><td>1.0</td><td>145.0</td><td>100.00</td><td>999.68</td><td>93.89</td></tr><tr><td>debit_card</td><td>1.0</td><td>143.0</td><td>100.19</td><td>99.90</td><td>89.3</td></tr><tr><td>voucher</td><td>1.0</td><td>67.0</td><td>1.00</td><td>99.98</td><td>40.11</td></tr></tbody></table></div>"
      ]
     },
     "metadata": {
      "application/vnd.databricks.v1+output": {
       "addedWidgets": {},
       "aggData": [],
       "aggError": "",
       "aggOverflow": false,
       "aggSchema": [],
       "aggSeriesLimitReached": false,
       "aggType": "",
       "arguments": {},
       "columnCustomDisplayInfos": {},
       "data": [
        [
         "credit_card",
         4.0,
         164.0,
         "1.01",
         "999.64",
         106.95
        ],
        [
         null,
         3.0,
         154.0,
         "1.00",
         "999.68",
         100.0
        ],
        [
         "boleto",
         1.0,
         145.0,
         "100.00",
         "999.68",
         93.89
        ],
        [
         "debit_card",
         1.0,
         143.0,
         "100.19",
         "99.90",
         89.3
        ],
        [
         "voucher",
         1.0,
         67.0,
         "1.00",
         "99.98",
         40.11
        ]
       ],
       "datasetInfos": [],
       "dbfsResultPath": null,
       "isJsonSchema": true,
       "metadata": {},
       "overflow": false,
       "plotOptions": {
        "customPlotOptions": {},
        "displayType": "table",
        "pivotAggregation": null,
        "pivotColumns": null,
        "xColumns": null,
        "yColumns": null
       },
       "removedWidgets": [],
       "schema": [
        {
         "metadata": "{}",
         "name": "payment_type",
         "type": "\"string\""
        },
        {
         "metadata": "{}",
         "name": "AVG_installments",
         "type": "\"double\""
        },
        {
         "metadata": "{}",
         "name": "AVG_value",
         "type": "\"double\""
        },
        {
         "metadata": "{}",
         "name": "MINimum",
         "type": "\"string\""
        },
        {
         "metadata": "{}",
         "name": "MAXimum",
         "type": "\"string\""
        },
        {
         "metadata": "{}",
         "name": "median_payment_value",
         "type": "\"double\""
        }
       ],
       "type": "table"
      }
     },
     "output_type": "display_data"
    }
   ],
   "source": [
    "%sql\n",
    "SELECT\n",
    "\tP.payment_type,\n",
    "\tround(avg(P.payment_installments)) AVG_installments,\n",
    "\tround(avg(P.payment_value)) AVG_value,\n",
    "\tmin(P.payment_value) MINimum,\n",
    "\tmax(P.payment_value) MAXimum,\n",
    "\tPERCENTILE_CONT(0.5) WITHIN GROUP (ORDER BY P.payment_value) AS median_payment_value\n",
    "FROM\n",
    "\tdelta_gold_payments P\n",
    "WHERE \n",
    "\tP.payment_value > 0\n",
    "GROUP BY rollup\n",
    "\t(P.payment_type)\n",
    "ORDER BY\n",
    "\tAVG_value desc;"
   ]
  },
  {
   "cell_type": "markdown",
   "metadata": {
    "application/vnd.databricks.v1+cell": {
     "cellMetadata": {},
     "inputWidgets": {},
     "nuid": "787fb2cd-e028-41fa-b638-7bc7e82a2558",
     "showTitle": false,
     "tableResultSettingsMap": {},
     "title": ""
    }
   },
   "source": [
    "## Questão 2.a\n",
    "Como na questão 1.a, os arquivos csv fonte não contêm qualquer tipo de dado que indique a idade do comprador. O arquivo de cadastro do comprador é muito simples, com poucas colunas e nenhuma delas sobre informações pessoais. "
   ]
  },
  {
   "cell_type": "markdown",
   "metadata": {
    "application/vnd.databricks.v1+cell": {
     "cellMetadata": {},
     "inputWidgets": {},
     "nuid": "061356b8-079f-4ce5-aa64-99f5ba6949b1",
     "showTitle": false,
     "tableResultSettingsMap": {},
     "title": ""
    }
   },
   "source": [
    "## Questão 2.b\n",
    "Mesma limitação das questões 1.a e 2.a"
   ]
  },
  {
   "cell_type": "code",
   "execution_count": 0,
   "metadata": {
    "application/vnd.databricks.v1+cell": {
     "cellMetadata": {},
     "inputWidgets": {},
     "nuid": "1e5c3d43-7d88-4b2a-aa17-03a9c4685066",
     "showTitle": false,
     "tableResultSettingsMap": {},
     "title": ""
    }
   },
   "outputs": [],
   "source": [
    "# 3.Qual o percentual de cada categoria de produto nas vendas cada estado? \n",
    "# Tabelas products, orders, order_items\n"
   ]
  },
  {
   "cell_type": "markdown",
   "metadata": {
    "application/vnd.databricks.v1+cell": {
     "cellMetadata": {},
     "inputWidgets": {},
     "nuid": "ebec810a-1175-4d36-9951-6d99b1d42850",
     "showTitle": false,
     "tableResultSettingsMap": {},
     "title": ""
    }
   },
   "source": [
    "## Questão 3\n",
    "**Qual o percentual de cada categoria de produto nas vendas cada estado?** \n"
   ]
  },
  {
   "cell_type": "code",
   "execution_count": 0,
   "metadata": {
    "application/vnd.databricks.v1+cell": {
     "cellMetadata": {
      "byteLimit": 2048000,
      "implicitDf": true,
      "rowLimit": 10000
     },
     "inputWidgets": {},
     "nuid": "4568e24b-5d22-4865-9ae0-5d6031fb1283",
     "showTitle": false,
     "tableResultSettingsMap": {},
     "title": ""
    }
   },
   "outputs": [
    {
     "output_type": "display_data",
     "data": {
      "text/html": [
       "<style scoped>\n",
       "  .table-result-container {\n",
       "    max-height: 300px;\n",
       "    overflow: auto;\n",
       "  }\n",
       "  table, th, td {\n",
       "    border: 1px solid black;\n",
       "    border-collapse: collapse;\n",
       "  }\n",
       "  th, td {\n",
       "    padding: 5px;\n",
       "  }\n",
       "  th {\n",
       "    text-align: left;\n",
       "  }\n",
       "</style><div class='table-result-container'><table class='table-result'><thead style='background-color: white'><tr><th>estado</th><th>categoria</th><th>produtos</th><th>total_vendas_estado</th><th>percentual_vendas</th></tr></thead><tbody><tr><td>AC</td><td>moveis_decoracao</td><td>12</td><td>90</td><td>0.1333333333333333</td></tr><tr><td>AC</td><td>esporte_lazer</td><td>9</td><td>90</td><td>0.1000000000000000</td></tr><tr><td>AC</td><td>informatica_acessorios</td><td>9</td><td>90</td><td>0.1000000000000000</td></tr><tr><td>AC</td><td>beleza_saude</td><td>7</td><td>90</td><td>0.0777777777777778</td></tr><tr><td>AC</td><td>telefonia</td><td>5</td><td>90</td><td>0.0555555555555556</td></tr><tr><td>AC</td><td>relogios_presentes</td><td>4</td><td>90</td><td>0.0444444444444444</td></tr><tr><td>AC</td><td>utilidades_domesticas</td><td>4</td><td>90</td><td>0.0444444444444444</td></tr><tr><td>AC</td><td>automotivo</td><td>4</td><td>90</td><td>0.0444444444444444</td></tr><tr><td>AC</td><td>cama_mesa_banho</td><td>4</td><td>90</td><td>0.0444444444444444</td></tr><tr><td>AC</td><td>eletronicos</td><td>4</td><td>90</td><td>0.0444444444444444</td></tr><tr><td>AC</td><td>bebes</td><td>3</td><td>90</td><td>0.0333333333333333</td></tr><tr><td>AC</td><td>brinquedos</td><td>3</td><td>90</td><td>0.0333333333333333</td></tr><tr><td>AC</td><td>perfumaria</td><td>3</td><td>90</td><td>0.0333333333333333</td></tr><tr><td>AC</td><td>ferramentas_jardim</td><td>2</td><td>90</td><td>0.0222222222222222</td></tr><tr><td>AC</td><td>papelaria</td><td>2</td><td>90</td><td>0.0222222222222222</td></tr><tr><td>AC</td><td>fashion_calcados</td><td>2</td><td>90</td><td>0.0222222222222222</td></tr><tr><td>AC</td><td>livros_interesse_geral</td><td>2</td><td>90</td><td>0.0222222222222222</td></tr><tr><td>AC</td><td>malas_acessorios</td><td>2</td><td>90</td><td>0.0222222222222222</td></tr><tr><td>AC</td><td>cool_stuff</td><td>1</td><td>90</td><td>0.0111111111111111</td></tr><tr><td>AC</td><td>market_place</td><td>1</td><td>90</td><td>0.0111111111111111</td></tr><tr><td>AC</td><td>consoles_games</td><td>1</td><td>90</td><td>0.0111111111111111</td></tr><tr><td>AC</td><td>moveis_sala</td><td>1</td><td>90</td><td>0.0111111111111111</td></tr><tr><td>AC</td><td>fashion_bolsas_e_acessorios</td><td>1</td><td>90</td><td>0.0111111111111111</td></tr><tr><td>AC</td><td>pcs</td><td>1</td><td>90</td><td>0.0111111111111111</td></tr><tr><td>AC</td><td>eletroportateis</td><td>1</td><td>90</td><td>0.0111111111111111</td></tr><tr><td>AC</td><td>artigos_de_natal</td><td>1</td><td>90</td><td>0.0111111111111111</td></tr><tr><td>AC</td><td>instrumentos_musicais</td><td>1</td><td>90</td><td>0.0111111111111111</td></tr><tr><td>AL</td><td>beleza_saude</td><td>63</td><td>440</td><td>0.1431818181818182</td></tr><tr><td>AL</td><td>informatica_acessorios</td><td>41</td><td>440</td><td>0.0931818181818182</td></tr><tr><td>AL</td><td>relogios_presentes</td><td>36</td><td>440</td><td>0.0818181818181818</td></tr><tr><td>AL</td><td>moveis_decoracao</td><td>34</td><td>440</td><td>0.0772727272727273</td></tr><tr><td>AL</td><td>esporte_lazer</td><td>33</td><td>440</td><td>0.0750000000000000</td></tr><tr><td>AL</td><td>telefonia</td><td>28</td><td>440</td><td>0.0636363636363636</td></tr><tr><td>AL</td><td>automotivo</td><td>22</td><td>440</td><td>0.0500000000000000</td></tr><tr><td>AL</td><td>cama_mesa_banho</td><td>20</td><td>440</td><td>0.0454545454545455</td></tr><tr><td>AL</td><td>cool_stuff</td><td>16</td><td>440</td><td>0.0363636363636364</td></tr><tr><td>AL</td><td>eletronicos</td><td>14</td><td>440</td><td>0.0318181818181818</td></tr><tr><td>AL</td><td>ferramentas_jardim</td><td>14</td><td>440</td><td>0.0318181818181818</td></tr><tr><td>AL</td><td>brinquedos</td><td>12</td><td>440</td><td>0.0272727272727273</td></tr><tr><td>AL</td><td>perfumaria</td><td>12</td><td>440</td><td>0.0272727272727273</td></tr><tr><td>AL</td><td>utilidades_domesticas</td><td>10</td><td>440</td><td>0.0227272727272727</td></tr><tr><td>AL</td><td>papelaria</td><td>8</td><td>440</td><td>0.0181818181818182</td></tr><tr><td>AL</td><td>bebes</td><td>7</td><td>440</td><td>0.0159090909090909</td></tr><tr><td>AL</td><td>consoles_games</td><td>7</td><td>440</td><td>0.0159090909090909</td></tr><tr><td>AL</td><td>moveis_escritorio</td><td>7</td><td>440</td><td>0.0159090909090909</td></tr><tr><td>AL</td><td>malas_acessorios</td><td>6</td><td>440</td><td>0.0136363636363636</td></tr><tr><td>AL</td><td>audio</td><td>5</td><td>440</td><td>0.0113636363636364</td></tr><tr><td>AL</td><td>fashion_bolsas_e_acessorios</td><td>4</td><td>440</td><td>0.0090909090909091</td></tr><tr><td>AL</td><td>telefonia_fixa</td><td>4</td><td>440</td><td>0.0090909090909091</td></tr><tr><td>AL</td><td>eletrodomesticos</td><td>3</td><td>440</td><td>0.0068181818181818</td></tr><tr><td>AL</td><td>pet_shop</td><td>3</td><td>440</td><td>0.0068181818181818</td></tr><tr><td>AL</td><td>fashion_calcados</td><td>3</td><td>440</td><td>0.0068181818181818</td></tr><tr><td>AL</td><td>casa_construcao</td><td>3</td><td>440</td><td>0.0068181818181818</td></tr><tr><td>AL</td><td>moveis_sala</td><td>3</td><td>440</td><td>0.0068181818181818</td></tr><tr><td>AL</td><td>market_place</td><td>3</td><td>440</td><td>0.0068181818181818</td></tr><tr><td>AL</td><td>eletrodomesticos_2</td><td>2</td><td>440</td><td>0.0045454545454545</td></tr><tr><td>AL</td><td>moveis_cozinha_area_de_servico_jantar_e_jardim</td><td>2</td><td>440</td><td>0.0045454545454545</td></tr><tr><td>AL</td><td>livros_interesse_geral</td><td>2</td><td>440</td><td>0.0045454545454545</td></tr><tr><td>AL</td><td>pcs</td><td>2</td><td>440</td><td>0.0045454545454545</td></tr><tr><td>AL</td><td>construcao_ferramentas_construcao</td><td>2</td><td>440</td><td>0.0045454545454545</td></tr><tr><td>AL</td><td>climatizacao</td><td>1</td><td>440</td><td>0.0022727272727273</td></tr><tr><td>AL</td><td>bebidas</td><td>1</td><td>440</td><td>0.0022727272727273</td></tr><tr><td>AL</td><td>alimentos_bebidas</td><td>1</td><td>440</td><td>0.0022727272727273</td></tr><tr><td>AL</td><td>alimentos</td><td>1</td><td>440</td><td>0.0022727272727273</td></tr><tr><td>AL</td><td>instrumentos_musicais</td><td>1</td><td>440</td><td>0.0022727272727273</td></tr><tr><td>AL</td><td>casa_conforto</td><td>1</td><td>440</td><td>0.0022727272727273</td></tr><tr><td>AL</td><td>dvds_blu_ray</td><td>1</td><td>440</td><td>0.0022727272727273</td></tr><tr><td>AL</td><td>industria_comercio_e_negocios</td><td>1</td><td>440</td><td>0.0022727272727273</td></tr><tr><td>AL</td><td>agro_industria_e_comercio</td><td>1</td><td>440</td><td>0.0022727272727273</td></tr><tr><td>AM</td><td>beleza_saude</td><td>20</td><td>163</td><td>0.1226993865030675</td></tr><tr><td>AM</td><td>informatica_acessorios</td><td>17</td><td>163</td><td>0.1042944785276074</td></tr><tr><td>AM</td><td>telefonia</td><td>15</td><td>163</td><td>0.0920245398773006</td></tr><tr><td>AM</td><td>esporte_lazer</td><td>12</td><td>163</td><td>0.0736196319018405</td></tr><tr><td>AM</td><td>relogios_presentes</td><td>11</td><td>163</td><td>0.0674846625766871</td></tr><tr><td>AM</td><td>cama_mesa_banho</td><td>8</td><td>163</td><td>0.0490797546012270</td></tr><tr><td>AM</td><td>brinquedos</td><td>7</td><td>163</td><td>0.0429447852760736</td></tr><tr><td>AM</td><td>automotivo</td><td>6</td><td>163</td><td>0.0368098159509202</td></tr><tr><td>AM</td><td>papelaria</td><td>6</td><td>163</td><td>0.0368098159509202</td></tr><tr><td>AM</td><td>bebes</td><td>5</td><td>163</td><td>0.0306748466257669</td></tr><tr><td>AM</td><td>ferramentas_jardim</td><td>5</td><td>163</td><td>0.0306748466257669</td></tr><tr><td>AM</td><td>eletronicos</td><td>4</td><td>163</td><td>0.0245398773006135</td></tr><tr><td>AM</td><td>casa_construcao</td><td>4</td><td>163</td><td>0.0245398773006135</td></tr><tr><td>AM</td><td>cool_stuff</td><td>4</td><td>163</td><td>0.0245398773006135</td></tr><tr><td>AM</td><td>moveis_decoracao</td><td>4</td><td>163</td><td>0.0245398773006135</td></tr><tr><td>AM</td><td>utilidades_domesticas</td><td>4</td><td>163</td><td>0.0245398773006135</td></tr><tr><td>AM</td><td>pet_shop</td><td>4</td><td>163</td><td>0.0245398773006135</td></tr><tr><td>AM</td><td>malas_acessorios</td><td>3</td><td>163</td><td>0.0184049079754601</td></tr><tr><td>AM</td><td>moveis_escritorio</td><td>2</td><td>163</td><td>0.0122699386503067</td></tr><tr><td>AM</td><td>perfumaria</td><td>2</td><td>163</td><td>0.0122699386503067</td></tr><tr><td>AM</td><td>construcao_ferramentas_jardim</td><td>2</td><td>163</td><td>0.0122699386503067</td></tr><tr><td>AM</td><td>eletrodomesticos</td><td>2</td><td>163</td><td>0.0122699386503067</td></tr><tr><td>AM</td><td>consoles_games</td><td>2</td><td>163</td><td>0.0122699386503067</td></tr><tr><td>AM</td><td>musica</td><td>1</td><td>163</td><td>0.0061349693251534</td></tr><tr><td>AM</td><td>telefonia_fixa</td><td>1</td><td>163</td><td>0.0061349693251534</td></tr><tr><td>AM</td><td>tablets_impressao_imagem</td><td>1</td><td>163</td><td>0.0061349693251534</td></tr><tr><td>AM</td><td>eletrodomesticos_2</td><td>1</td><td>163</td><td>0.0061349693251534</td></tr><tr><td>AM</td><td>climatizacao</td><td>1</td><td>163</td><td>0.0061349693251534</td></tr><tr><td>AM</td><td>alimentos</td><td>1</td><td>163</td><td>0.0061349693251534</td></tr><tr><td>AM</td><td>bebidas</td><td>1</td><td>163</td><td>0.0061349693251534</td></tr><tr><td>AM</td><td>artes</td><td>1</td><td>163</td><td>0.0061349693251534</td></tr><tr><td>AM</td><td>fashion_bolsas_e_acessorios</td><td>1</td><td>163</td><td>0.0061349693251534</td></tr><tr><td>AM</td><td>livros_interesse_geral</td><td>1</td><td>163</td><td>0.0061349693251534</td></tr><tr><td>AM</td><td>market_place</td><td>1</td><td>163</td><td>0.0061349693251534</td></tr><tr><td>AM</td><td>audio</td><td>1</td><td>163</td><td>0.0061349693251534</td></tr><tr><td>AM</td><td>instrumentos_musicais</td><td>1</td><td>163</td><td>0.0061349693251534</td></tr><tr><td>AM</td><td>pcs</td><td>1</td><td>163</td><td>0.0061349693251534</td></tr><tr><td>AP</td><td>beleza_saude</td><td>10</td><td>82</td><td>0.1219512195121951</td></tr><tr><td>AP</td><td>informatica_acessorios</td><td>9</td><td>82</td><td>0.1097560975609756</td></tr><tr><td>AP</td><td>relogios_presentes</td><td>8</td><td>82</td><td>0.0975609756097561</td></tr><tr><td>AP</td><td>esporte_lazer</td><td>7</td><td>82</td><td>0.0853658536585366</td></tr><tr><td>AP</td><td>telefonia_fixa</td><td>6</td><td>82</td><td>0.0731707317073171</td></tr><tr><td>AP</td><td>cama_mesa_banho</td><td>6</td><td>82</td><td>0.0731707317073171</td></tr><tr><td>AP</td><td>telefonia</td><td>4</td><td>82</td><td>0.0487804878048780</td></tr><tr><td>AP</td><td>utilidades_domesticas</td><td>4</td><td>82</td><td>0.0487804878048780</td></tr><tr><td>AP</td><td>eletronicos</td><td>4</td><td>82</td><td>0.0487804878048780</td></tr><tr><td>AP</td><td>automotivo</td><td>3</td><td>82</td><td>0.0365853658536585</td></tr><tr><td>AP</td><td>brinquedos</td><td>3</td><td>82</td><td>0.0365853658536585</td></tr><tr><td>AP</td><td>moveis_decoracao</td><td>3</td><td>82</td><td>0.0365853658536585</td></tr><tr><td>AP</td><td>artes</td><td>2</td><td>82</td><td>0.0243902439024390</td></tr><tr><td>AP</td><td>pet_shop</td><td>2</td><td>82</td><td>0.0243902439024390</td></tr><tr><td>AP</td><td>papelaria</td><td>2</td><td>82</td><td>0.0243902439024390</td></tr><tr><td>AP</td><td>cool_stuff</td><td>2</td><td>82</td><td>0.0243902439024390</td></tr><tr><td>AP</td><td>ferramentas_jardim</td><td>2</td><td>82</td><td>0.0243902439024390</td></tr><tr><td>AP</td><td>instrumentos_musicais</td><td>2</td><td>82</td><td>0.0243902439024390</td></tr><tr><td>AP</td><td>agro_industria_e_comercio</td><td>1</td><td>82</td><td>0.0121951219512195</td></tr><tr><td>AP</td><td>pcs</td><td>1</td><td>82</td><td>0.0121951219512195</td></tr><tr><td>AP</td><td>consoles_games</td><td>1</td><td>82</td><td>0.0121951219512195</td></tr><tr><td>BA</td><td>beleza_saude</td><td>350</td><td>3739</td><td>0.0936079165552287</td></tr><tr><td>BA</td><td>esporte_lazer</td><td>293</td><td>3739</td><td>0.0783631987162343</td></tr><tr><td>BA</td><td>cama_mesa_banho</td><td>263</td><td>3739</td><td>0.0703396630115004</td></tr><tr><td>BA</td><td>informatica_acessorios</td><td>259</td><td>3739</td><td>0.0692698582508692</td></tr><tr><td>BA</td><td>moveis_decoracao</td><td>252</td><td>3739</td><td>0.0673976999197646</td></tr><tr><td>BA</td><td>telefonia</td><td>250</td><td>3739</td><td>0.0668627975394491</td></tr><tr><td>BA</td><td>relogios_presentes</td><td>233</td><td>3739</td><td>0.0623161273067665</td></tr><tr><td>BA</td><td>ferramentas_jardim</td><td>178</td><td>3739</td><td>0.0476063118480877</td></tr><tr><td>BA</td><td>utilidades_domesticas</td><td>161</td><td>3739</td><td>0.0430596416154052</td></tr><tr><td>BA</td><td>automotivo</td><td>158</td><td>3739</td><td>0.0422572880449318</td></tr><tr><td>BA</td><td>cool_stuff</td><td>146</td><td>3739</td><td>0.0390478737630382</td></tr><tr><td>BA</td><td>brinquedos</td><td>117</td><td>3739</td><td>0.0312917892484622</td></tr><tr><td>BA</td><td>eletronicos</td><td>108</td><td>3739</td><td>0.0288847285370420</td></tr><tr><td>BA</td><td>bebes</td><td>97</td><td>3739</td><td>0.0259427654453062</td></tr><tr><td>BA</td><td>moveis_escritorio</td><td>92</td><td>3739</td><td>0.0246055094945173</td></tr><tr><td>BA</td><td>perfumaria</td><td>81</td><td>3739</td><td>0.0216635464027815</td></tr><tr><td>BA</td><td>fashion_bolsas_e_acessorios</td><td>77</td><td>3739</td><td>0.0205937416421503</td></tr><tr><td>BA</td><td>papelaria</td><td>77</td><td>3739</td><td>0.0205937416421503</td></tr><tr><td>BA</td><td>pet_shop</td><td>62</td><td>3739</td><td>0.0165819737897834</td></tr><tr><td>BA</td><td>instrumentos_musicais</td><td>39</td><td>3739</td><td>0.0104305964161541</td></tr><tr><td>BA</td><td>eletrodomesticos</td><td>39</td><td>3739</td><td>0.0104305964161541</td></tr><tr><td>BA</td><td>construcao_ferramentas_construcao</td><td>36</td><td>3739</td><td>0.0096282428456807</td></tr><tr><td>BA</td><td>consoles_games</td><td>36</td><td>3739</td><td>0.0096282428456807</td></tr><tr><td>BA</td><td>malas_acessorios</td><td>32</td><td>3739</td><td>0.0085584380850495</td></tr><tr><td>BA</td><td>pcs</td><td>25</td><td>3739</td><td>0.0066862797539449</td></tr><tr><td>BA</td><td>moveis_sala</td><td>20</td><td>3739</td><td>0.0053490238031559</td></tr><tr><td>BA</td><td>eletroportateis</td><td>18</td><td>3739</td><td>0.0048141214228403</td></tr><tr><td>BA</td><td>alimentos</td><td>18</td><td>3739</td><td>0.0048141214228403</td></tr><tr><td>BA</td><td>livros_interesse_geral</td><td>15</td><td>3739</td><td>0.0040117678523669</td></tr><tr><td>BA</td><td>audio</td><td>14</td><td>3739</td><td>0.0037443166622091</td></tr><tr><td>BA</td><td>casa_construcao</td><td>14</td><td>3739</td><td>0.0037443166622091</td></tr><tr><td>BA</td><td>telefonia_fixa</td><td>12</td><td>3739</td><td>0.0032094142818936</td></tr><tr><td>BA</td><td>bebidas</td><td>11</td><td>3739</td><td>0.0029419630917358</td></tr><tr><td>BA</td><td>casa_conforto</td><td>11</td><td>3739</td><td>0.0029419630917358</td></tr><tr><td>BA</td><td>livros_tecnicos</td><td>10</td><td>3739</td><td>0.0026745119015780</td></tr><tr><td>BA</td><td>artes</td><td>10</td><td>3739</td><td>0.0026745119015780</td></tr><tr><td>BA</td><td>artigos_de_natal</td><td>10</td><td>3739</td><td>0.0026745119015780</td></tr><tr><td>BA</td><td>fashion_roupa_masculina</td><td>9</td><td>3739</td><td>0.0024070607114202</td></tr><tr><td>BA</td><td>construcao_ferramentas_jardim</td><td>8</td><td>3739</td><td>0.0021396095212624</td></tr><tr><td>BA</td><td>alimentos_bebidas</td><td>8</td><td>3739</td><td>0.0021396095212624</td></tr><tr><td>BA</td><td>construcao_ferramentas_seguranca</td><td>7</td><td>3739</td><td>0.0018721583311046</td></tr><tr><td>BA</td><td>fashion_calcados</td><td>7</td><td>3739</td><td>0.0018721583311046</td></tr><tr><td>BA</td><td>tablets_impressao_imagem</td><td>6</td><td>3739</td><td>0.0016047071409468</td></tr><tr><td>BA</td><td>construcao_ferramentas_iluminacao</td><td>6</td><td>3739</td><td>0.0016047071409468</td></tr><tr><td>BA</td><td>sinalizacao_e_seguranca</td><td>6</td><td>3739</td><td>0.0016047071409468</td></tr><tr><td>BA</td><td>climatizacao</td><td>6</td><td>3739</td><td>0.0016047071409468</td></tr><tr><td>BA</td><td>eletrodomesticos_2</td><td>6</td><td>3739</td><td>0.0016047071409468</td></tr><tr><td>BA</td><td>fashion_underwear_e_moda_praia</td><td>6</td><td>3739</td><td>0.0016047071409468</td></tr><tr><td>BA</td><td>industria_comercio_e_negocios</td><td>5</td><td>3739</td><td>0.0013372559507890</td></tr><tr><td>BA</td><td>construcao_ferramentas_ferramentas</td><td>5</td><td>3739</td><td>0.0013372559507890</td></tr><tr><td>BA</td><td>agro_industria_e_comercio</td><td>5</td><td>3739</td><td>0.0013372559507890</td></tr><tr><td>BA</td><td>market_place</td><td>4</td><td>3739</td><td>0.0010698047606312</td></tr><tr><td>BA</td><td>moveis_quarto</td><td>4</td><td>3739</td><td>0.0010698047606312</td></tr><tr><td>BA</td><td>cine_foto</td><td>3</td><td>3739</td><td>0.0008023535704734</td></tr><tr><td>BA</td><td>moveis_cozinha_area_de_servico_jantar_e_jardim</td><td>3</td><td>3739</td><td>0.0008023535704734</td></tr><tr><td>BA</td><td>portateis_casa_forno_e_cafe</td><td>3</td><td>3739</td><td>0.0008023535704734</td></tr><tr><td>BA</td><td>fashion_esporte</td><td>2</td><td>3739</td><td>0.0005349023803156</td></tr><tr><td>BA</td><td>fashion_roupa_infanto_juvenil</td><td>1</td><td>3739</td><td>0.0002674511901578</td></tr><tr><td>BA</td><td>fashion_roupa_feminina</td><td>1</td><td>3739</td><td>0.0002674511901578</td></tr><tr><td>BA</td><td>fraldas_higiene</td><td>1</td><td>3739</td><td>0.0002674511901578</td></tr><tr><td>BA</td><td>livros_importados</td><td>1</td><td>3739</td><td>0.0002674511901578</td></tr><tr><td>BA</td><td>portateis_cozinha_e_preparadores_de_alimentos</td><td>1</td><td>3739</td><td>0.0002674511901578</td></tr><tr><td>BA</td><td>casa_conforto_2</td><td>1</td><td>3739</td><td>0.0002674511901578</td></tr><tr><td>CE</td><td>beleza_saude</td><td>167</td><td>1460</td><td>0.1143835616438356</td></tr><tr><td>CE</td><td>relogios_presentes</td><td>136</td><td>1460</td><td>0.0931506849315068</td></tr><tr><td>CE</td><td>telefonia</td><td>99</td><td>1460</td><td>0.0678082191780822</td></tr><tr><td>CE</td><td>esporte_lazer</td><td>93</td><td>1460</td><td>0.0636986301369863</td></tr><tr><td>CE</td><td>informatica_acessorios</td><td>93</td><td>1460</td><td>0.0636986301369863</td></tr><tr><td>CE</td><td>moveis_decoracao</td><td>87</td><td>1460</td><td>0.0595890410958904</td></tr><tr><td>CE</td><td>cama_mesa_banho</td><td>83</td><td>1460</td><td>0.0568493150684932</td></tr><tr><td>CE</td><td>brinquedos</td><td>66</td><td>1460</td><td>0.0452054794520548</td></tr><tr><td>CE</td><td>automotivo</td><td>59</td><td>1460</td><td>0.0404109589041096</td></tr><tr><td>CE</td><td>utilidades_domesticas</td><td>59</td><td>1460</td><td>0.0404109589041096</td></tr><tr><td>CE</td><td>perfumaria</td><td>57</td><td>1460</td><td>0.0390410958904110</td></tr><tr><td>CE</td><td>ferramentas_jardim</td><td>56</td><td>1460</td><td>0.0383561643835616</td></tr><tr><td>CE</td><td>cool_stuff</td><td>51</td><td>1460</td><td>0.0349315068493151</td></tr><tr><td>CE</td><td>eletronicos</td><td>46</td><td>1460</td><td>0.0315068493150685</td></tr><tr><td>CE</td><td>papelaria</td><td>38</td><td>1460</td><td>0.0260273972602740</td></tr><tr><td>CE</td><td>bebes</td><td>31</td><td>1460</td><td>0.0212328767123288</td></tr><tr><td>CE</td><td>fashion_bolsas_e_acessorios</td><td>30</td><td>1460</td><td>0.0205479452054795</td></tr><tr><td>CE</td><td>moveis_escritorio</td><td>28</td><td>1460</td><td>0.0191780821917808</td></tr><tr><td>CE</td><td>malas_acessorios</td><td>24</td><td>1460</td><td>0.0164383561643836</td></tr><tr><td>CE</td><td>consoles_games</td><td>16</td><td>1460</td><td>0.0109589041095890</td></tr><tr><td>CE</td><td>pet_shop</td><td>13</td><td>1460</td><td>0.0089041095890411</td></tr><tr><td>CE</td><td>casa_construcao</td><td>10</td><td>1460</td><td>0.0068493150684932</td></tr><tr><td>CE</td><td>construcao_ferramentas_construcao</td><td>10</td><td>1460</td><td>0.0068493150684932</td></tr><tr><td>CE</td><td>eletroportateis</td><td>8</td><td>1460</td><td>0.0054794520547945</td></tr><tr><td>CE</td><td>construcao_ferramentas_jardim</td><td>8</td><td>1460</td><td>0.0054794520547945</td></tr><tr><td>CE</td><td>eletrodomesticos</td><td>7</td><td>1460</td><td>0.0047945205479452</td></tr><tr><td>CE</td><td>instrumentos_musicais</td><td>7</td><td>1460</td><td>0.0047945205479452</td></tr><tr><td>CE</td><td>livros_interesse_geral</td><td>7</td><td>1460</td><td>0.0047945205479452</td></tr><tr><td>CE</td><td>agro_industria_e_comercio</td><td>6</td><td>1460</td><td>0.0041095890410959</td></tr><tr><td>CE</td><td>pcs</td><td>6</td><td>1460</td><td>0.0041095890410959</td></tr><tr><td>CE</td><td>construcao_ferramentas_seguranca</td><td>5</td><td>1460</td><td>0.0034246575342466</td></tr><tr><td>CE</td><td>audio</td><td>5</td><td>1460</td><td>0.0034246575342466</td></tr><tr><td>CE</td><td>alimentos</td><td>5</td><td>1460</td><td>0.0034246575342466</td></tr><tr><td>CE</td><td>casa_conforto</td><td>4</td><td>1460</td><td>0.0027397260273973</td></tr><tr><td>CE</td><td>market_place</td><td>4</td><td>1460</td><td>0.0027397260273973</td></tr><tr><td>CE</td><td>livros_tecnicos</td><td>4</td><td>1460</td><td>0.0027397260273973</td></tr><tr><td>CE</td><td>telefonia_fixa</td><td>4</td><td>1460</td><td>0.0027397260273973</td></tr><tr><td>CE</td><td>alimentos_bebidas</td><td>4</td><td>1460</td><td>0.0027397260273973</td></tr><tr><td>CE</td><td>bebidas</td><td>3</td><td>1460</td><td>0.0020547945205479</td></tr><tr><td>CE</td><td>eletrodomesticos_2</td><td>3</td><td>1460</td><td>0.0020547945205479</td></tr><tr><td>CE</td><td>fashion_calcados</td><td>3</td><td>1460</td><td>0.0020547945205479</td></tr><tr><td>CE</td><td>climatizacao</td><td>2</td><td>1460</td><td>0.0013698630136986</td></tr><tr><td>CE</td><td>artigos_de_natal</td><td>2</td><td>1460</td><td>0.0013698630136986</td></tr><tr><td>CE</td><td>industria_comercio_e_negocios</td><td>2</td><td>1460</td><td>0.0013698630136986</td></tr><tr><td>CE</td><td>moveis_sala</td><td>2</td><td>1460</td><td>0.0013698630136986</td></tr><tr><td>CE</td><td>construcao_ferramentas_ferramentas</td><td>1</td><td>1460</td><td>0.0006849315068493</td></tr><tr><td>CE</td><td>moveis_cozinha_area_de_servico_jantar_e_jardim</td><td>1</td><td>1460</td><td>0.0006849315068493</td></tr><tr><td>CE</td><td>fraldas_higiene</td><td>1</td><td>1460</td><td>0.0006849315068493</td></tr><tr><td>CE</td><td>musica</td><td>1</td><td>1460</td><td>0.0006849315068493</td></tr><tr><td>CE</td><td>fashion_roupa_masculina</td><td>1</td><td>1460</td><td>0.0006849315068493</td></tr><tr><td>CE</td><td>tablets_impressao_imagem</td><td>1</td><td>1460</td><td>0.0006849315068493</td></tr><tr><td>CE</td><td>construcao_ferramentas_iluminacao</td><td>1</td><td>1460</td><td>0.0006849315068493</td></tr><tr><td>DF</td><td>beleza_saude</td><td>246</td><td>2373</td><td>0.1036662452591656</td></tr><tr><td>DF</td><td>esporte_lazer</td><td>224</td><td>2373</td><td>0.0943952802359882</td></tr><tr><td>DF</td><td>cama_mesa_banho</td><td>209</td><td>2373</td><td>0.0880741677201854</td></tr><tr><td>DF</td><td>informatica_acessorios</td><td>163</td><td>2373</td><td>0.0686894226717236</td></tr><tr><td>DF</td><td>utilidades_domesticas</td><td>155</td><td>2373</td><td>0.0653181626632954</td></tr><tr><td>DF</td><td>moveis_decoracao</td><td>152</td><td>2373</td><td>0.0640539401601349</td></tr><tr><td>DF</td><td>relogios_presentes</td><td>148</td><td>2373</td><td>0.0623683101559208</td></tr><tr><td>DF</td><td>automotivo</td><td>110</td><td>2373</td><td>0.0463548251158871</td></tr><tr><td>DF</td><td>brinquedos</td><td>97</td><td>2373</td><td>0.0408765276021913</td></tr><tr><td>DF</td><td>telefonia</td><td>94</td><td>2373</td><td>0.0396123050990308</td></tr><tr><td>DF</td><td>perfumaria</td><td>88</td><td>2373</td><td>0.0370838600927097</td></tr><tr><td>DF</td><td>cool_stuff</td><td>80</td><td>2373</td><td>0.0337126000842815</td></tr><tr><td>DF</td><td>bebes</td><td>69</td><td>2373</td><td>0.0290771175726928</td></tr><tr><td>DF</td><td>ferramentas_jardim</td><td>60</td><td>2373</td><td>0.0252844500632111</td></tr><tr><td>DF</td><td>eletronicos</td><td>51</td><td>2373</td><td>0.0214917825537295</td></tr><tr><td>DF</td><td>papelaria</td><td>48</td><td>2373</td><td>0.0202275600505689</td></tr><tr><td>DF</td><td>fashion_bolsas_e_acessorios</td><td>46</td><td>2373</td><td>0.0193847450484619</td></tr><tr><td>DF</td><td>pet_shop</td><td>40</td><td>2373</td><td>0.0168563000421408</td></tr><tr><td>DF</td><td>consoles_games</td><td>28</td><td>2373</td><td>0.0117994100294985</td></tr><tr><td>DF</td><td>malas_acessorios</td><td>24</td><td>2373</td><td>0.0101137800252845</td></tr><tr><td>DF</td><td>eletroportateis</td><td>23</td><td>2373</td><td>0.0096923725242309</td></tr><tr><td>DF</td><td>moveis_escritorio</td><td>19</td><td>2373</td><td>0.0080067425200169</td></tr><tr><td>DF</td><td>livros_interesse_geral</td><td>18</td><td>2373</td><td>0.0075853350189633</td></tr><tr><td>DF</td><td>audio</td><td>16</td><td>2373</td><td>0.0067425200168563</td></tr><tr><td>DF</td><td>eletrodomesticos</td><td>15</td><td>2373</td><td>0.0063211125158028</td></tr><tr><td>DF</td><td>construcao_ferramentas_construcao</td><td>11</td><td>2373</td><td>0.0046354825115887</td></tr><tr><td>DF</td><td>instrumentos_musicais</td><td>10</td><td>2373</td><td>0.0042140750105352</td></tr><tr><td>DF</td><td>alimentos</td><td>9</td><td>2373</td><td>0.0037926675094817</td></tr><tr><td>DF</td><td>artigos_de_natal</td><td>8</td><td>2373</td><td>0.0033712600084282</td></tr><tr><td>DF</td><td>moveis_sala</td><td>7</td><td>2373</td><td>0.0029498525073746</td></tr><tr><td>DF</td><td>casa_construcao</td><td>7</td><td>2373</td><td>0.0029498525073746</td></tr><tr><td>DF</td><td>casa_conforto</td><td>7</td><td>2373</td><td>0.0029498525073746</td></tr><tr><td>DF</td><td>fashion_calcados</td><td>7</td><td>2373</td><td>0.0029498525073746</td></tr><tr><td>DF</td><td>pcs</td><td>7</td><td>2373</td><td>0.0029498525073746</td></tr><tr><td>DF</td><td>artes</td><td>6</td><td>2373</td><td>0.0025284450063211</td></tr><tr><td>DF</td><td>industria_comercio_e_negocios</td><td>6</td><td>2373</td><td>0.0025284450063211</td></tr><tr><td>DF</td><td>moveis_cozinha_area_de_servico_jantar_e_jardim</td><td>5</td><td>2373</td><td>0.0021070375052676</td></tr><tr><td>DF</td><td>bebidas</td><td>5</td><td>2373</td><td>0.0021070375052676</td></tr><tr><td>DF</td><td>construcao_ferramentas_jardim</td><td>5</td><td>2373</td><td>0.0021070375052676</td></tr><tr><td>DF</td><td>eletrodomesticos_2</td><td>5</td><td>2373</td><td>0.0021070375052676</td></tr><tr><td>DF</td><td>livros_tecnicos</td><td>5</td><td>2373</td><td>0.0021070375052676</td></tr><tr><td>DF</td><td>alimentos_bebidas</td><td>4</td><td>2373</td><td>0.0016856300042141</td></tr><tr><td>DF</td><td>construcao_ferramentas_iluminacao</td><td>4</td><td>2373</td><td>0.0016856300042141</td></tr><tr><td>DF</td><td>sinalizacao_e_seguranca</td><td>4</td><td>2373</td><td>0.0016856300042141</td></tr><tr><td>DF</td><td>market_place</td><td>4</td><td>2373</td><td>0.0016856300042141</td></tr><tr><td>DF</td><td>climatizacao</td><td>3</td><td>2373</td><td>0.0012642225031606</td></tr><tr><td>DF</td><td>dvds_blu_ray</td><td>3</td><td>2373</td><td>0.0012642225031606</td></tr><tr><td>DF</td><td>construcao_ferramentas_seguranca</td><td>3</td><td>2373</td><td>0.0012642225031606</td></tr><tr><td>DF</td><td>telefonia_fixa</td><td>3</td><td>2373</td><td>0.0012642225031606</td></tr><tr><td>DF</td><td>fashion_underwear_e_moda_praia</td><td>2</td><td>2373</td><td>0.0008428150021070</td></tr><tr><td>DF</td><td>fashion_roupa_feminina</td><td>1</td><td>2373</td><td>0.0004214075010535</td></tr><tr><td>DF</td><td>seguros_e_servicos</td><td>1</td><td>2373</td><td>0.0004214075010535</td></tr><tr><td>DF</td><td>artigos_de_festas</td><td>1</td><td>2373</td><td>0.0004214075010535</td></tr><tr><td>DF</td><td>artes_e_artesanato</td><td>1</td><td>2373</td><td>0.0004214075010535</td></tr><tr><td>DF</td><td>moveis_quarto</td><td>1</td><td>2373</td><td>0.0004214075010535</td></tr><tr><td>DF</td><td>portateis_casa_forno_e_cafe</td><td>1</td><td>2373</td><td>0.0004214075010535</td></tr><tr><td>DF</td><td>moveis_colchao_e_estofado</td><td>1</td><td>2373</td><td>0.0004214075010535</td></tr><tr><td>DF</td><td>cine_foto</td><td>1</td><td>2373</td><td>0.0004214075010535</td></tr><tr><td>DF</td><td>musica</td><td>1</td><td>2373</td><td>0.0004214075010535</td></tr><tr><td>DF</td><td>fashion_esporte</td><td>1</td><td>2373</td><td>0.0004214075010535</td></tr><tr><td>ES</td><td>cama_mesa_banho</td><td>225</td><td>2238</td><td>0.1005361930294906</td></tr><tr><td>ES</td><td>esporte_lazer</td><td>174</td><td>2238</td><td>0.0777479892761394</td></tr><tr><td>ES</td><td>beleza_saude</td><td>165</td><td>2238</td><td>0.0737265415549598</td></tr><tr><td>ES</td><td>relogios_presentes</td><td>152</td><td>2238</td><td>0.0679177837354781</td></tr><tr><td>ES</td><td>informatica_acessorios</td><td>152</td><td>2238</td><td>0.0679177837354781</td></tr><tr><td>ES</td><td>moveis_decoracao</td><td>145</td><td>2238</td><td>0.0647899910634495</td></tr><tr><td>ES</td><td>telefonia</td><td>115</td><td>2238</td><td>0.0513851653261841</td></tr><tr><td>ES</td><td>utilidades_domesticas</td><td>114</td><td>2238</td><td>0.0509383378016086</td></tr><tr><td>ES</td><td>ferramentas_jardim</td><td>104</td><td>2238</td><td>0.0464700625558534</td></tr><tr><td>ES</td><td>brinquedos</td><td>97</td><td>2238</td><td>0.0433422698838248</td></tr><tr><td>ES</td><td>automotivo</td><td>87</td><td>2238</td><td>0.0388739946380697</td></tr><tr><td>ES</td><td>eletronicos</td><td>79</td><td>2238</td><td>0.0352993744414656</td></tr><tr><td>ES</td><td>perfumaria</td><td>68</td><td>2238</td><td>0.0303842716711349</td></tr><tr><td>ES</td><td>cool_stuff</td><td>66</td><td>2238</td><td>0.0294906166219839</td></tr><tr><td>ES</td><td>bebes</td><td>62</td><td>2238</td><td>0.0277033065236819</td></tr><tr><td>ES</td><td>fashion_bolsas_e_acessorios</td><td>50</td><td>2238</td><td>0.0223413762287757</td></tr><tr><td>ES</td><td>papelaria</td><td>50</td><td>2238</td><td>0.0223413762287757</td></tr><tr><td>ES</td><td>moveis_escritorio</td><td>30</td><td>2238</td><td>0.0134048257372654</td></tr><tr><td>ES</td><td>pet_shop</td><td>26</td><td>2238</td><td>0.0116175156389634</td></tr><tr><td>ES</td><td>consoles_games</td><td>23</td><td>2238</td><td>0.0102770330652368</td></tr><tr><td>ES</td><td>instrumentos_musicais</td><td>21</td><td>2238</td><td>0.0093833780160858</td></tr><tr><td>ES</td><td>malas_acessorios</td><td>16</td><td>2238</td><td>0.0071492403932082</td></tr><tr><td>ES</td><td>eletrodomesticos</td><td>15</td><td>2238</td><td>0.0067024128686327</td></tr><tr><td>ES</td><td>casa_construcao</td><td>15</td><td>2238</td><td>0.0067024128686327</td></tr><tr><td>ES</td><td>alimentos</td><td>14</td><td>2238</td><td>0.0062555853440572</td></tr><tr><td>ES</td><td>audio</td><td>14</td><td>2238</td><td>0.0062555853440572</td></tr><tr><td>ES</td><td>livros_tecnicos</td><td>14</td><td>2238</td><td>0.0062555853440572</td></tr><tr><td>ES</td><td>moveis_sala</td><td>14</td><td>2238</td><td>0.0062555853440572</td></tr><tr><td>ES</td><td>casa_conforto</td><td>12</td><td>2238</td><td>0.0053619302949062</td></tr><tr><td>ES</td><td>construcao_ferramentas_construcao</td><td>12</td><td>2238</td><td>0.0053619302949062</td></tr><tr><td>ES</td><td>livros_interesse_geral</td><td>11</td><td>2238</td><td>0.0049151027703307</td></tr><tr><td>ES</td><td>construcao_ferramentas_iluminacao</td><td>9</td><td>2238</td><td>0.0040214477211796</td></tr><tr><td>ES</td><td>telefonia_fixa</td><td>9</td><td>2238</td><td>0.0040214477211796</td></tr><tr><td>ES</td><td>market_place</td><td>7</td><td>2238</td><td>0.0031277926720286</td></tr><tr><td>ES</td><td>alimentos_bebidas</td><td>7</td><td>2238</td><td>0.0031277926720286</td></tr><tr><td>ES</td><td>climatizacao</td><td>6</td><td>2238</td><td>0.0026809651474531</td></tr><tr><td>ES</td><td>sinalizacao_e_seguranca</td><td>6</td><td>2238</td><td>0.0026809651474531</td></tr><tr><td>ES</td><td>construcao_ferramentas_jardim</td><td>5</td><td>2238</td><td>0.0022341376228776</td></tr><tr><td>ES</td><td>bebidas</td><td>5</td><td>2238</td><td>0.0022341376228776</td></tr><tr><td>ES</td><td>fashion_calcados</td><td>5</td><td>2238</td><td>0.0022341376228776</td></tr><tr><td>ES</td><td>construcao_ferramentas_ferramentas</td><td>4</td><td>2238</td><td>0.0017873100983021</td></tr><tr><td>ES</td><td>tablets_impressao_imagem</td><td>4</td><td>2238</td><td>0.0017873100983021</td></tr><tr><td>ES</td><td>fashion_roupa_masculina</td><td>3</td><td>2238</td><td>0.0013404825737265</td></tr><tr><td>ES</td><td>pcs</td><td>3</td><td>2238</td><td>0.0013404825737265</td></tr><tr><td>ES</td><td>eletroportateis</td><td>3</td><td>2238</td><td>0.0013404825737265</td></tr><tr><td>ES</td><td>eletrodomesticos_2</td><td>3</td><td>2238</td><td>0.0013404825737265</td></tr><tr><td>ES</td><td>agro_industria_e_comercio</td><td>2</td><td>2238</td><td>0.0008936550491510</td></tr><tr><td>ES</td><td>industria_comercio_e_negocios</td><td>2</td><td>2238</td><td>0.0008936550491510</td></tr><tr><td>ES</td><td>artigos_de_festas</td><td>2</td><td>2238</td><td>0.0008936550491510</td></tr><tr><td>ES</td><td>artigos_de_natal</td><td>2</td><td>2238</td><td>0.0008936550491510</td></tr><tr><td>ES</td><td>flores</td><td>2</td><td>2238</td><td>0.0008936550491510</td></tr><tr><td>ES</td><td>cine_foto</td><td>1</td><td>2238</td><td>0.0004468275245755</td></tr><tr><td>ES</td><td>artes</td><td>1</td><td>2238</td><td>0.0004468275245755</td></tr><tr><td>ES</td><td>fashion_underwear_e_moda_praia</td><td>1</td><td>2238</td><td>0.0004468275245755</td></tr><tr><td>ES</td><td>casa_conforto_2</td><td>1</td><td>2238</td><td>0.0004468275245755</td></tr><tr><td>ES</td><td>moveis_quarto</td><td>1</td><td>2238</td><td>0.0004468275245755</td></tr><tr><td>ES</td><td>fashion_roupa_feminina</td><td>1</td><td>2238</td><td>0.0004468275245755</td></tr><tr><td>ES</td><td>moveis_cozinha_area_de_servico_jantar_e_jardim</td><td>1</td><td>2238</td><td>0.0004468275245755</td></tr><tr><td>GO</td><td>cama_mesa_banho</td><td>235</td><td>2280</td><td>0.1030701754385965</td></tr><tr><td>GO</td><td>beleza_saude</td><td>229</td><td>2280</td><td>0.1004385964912281</td></tr><tr><td>GO</td><td>esporte_lazer</td><td>167</td><td>2280</td><td>0.0732456140350877</td></tr><tr><td>GO</td><td>relogios_presentes</td><td>147</td><td>2280</td><td>0.0644736842105263</td></tr><tr><td>GO</td><td>utilidades_domesticas</td><td>132</td><td>2280</td><td>0.0578947368421053</td></tr><tr><td>GO</td><td>moveis_decoracao</td><td>128</td><td>2280</td><td>0.0561403508771930</td></tr><tr><td>GO</td><td>informatica_acessorios</td><td>124</td><td>2280</td><td>0.0543859649122807</td></tr><tr><td>GO</td><td>telefonia</td><td>123</td><td>2280</td><td>0.0539473684210526</td></tr><tr><td>GO</td><td>ferramentas_jardim</td><td>118</td><td>2280</td><td>0.0517543859649123</td></tr><tr><td>GO</td><td>cool_stuff</td><td>99</td><td>2280</td><td>0.0434210526315789</td></tr><tr><td>GO</td><td>automotivo</td><td>99</td><td>2280</td><td>0.0434210526315789</td></tr><tr><td>GO</td><td>perfumaria</td><td>93</td><td>2280</td><td>0.0407894736842105</td></tr><tr><td>GO</td><td>brinquedos</td><td>83</td><td>2280</td><td>0.0364035087719298</td></tr><tr><td>GO</td><td>bebes</td><td>54</td><td>2280</td><td>0.0236842105263158</td></tr><tr><td>GO</td><td>papelaria</td><td>50</td><td>2280</td><td>0.0219298245614035</td></tr><tr><td>GO</td><td>fashion_bolsas_e_acessorios</td><td>45</td><td>2280</td><td>0.0197368421052632</td></tr><tr><td>GO</td><td>eletronicos</td><td>33</td><td>2280</td><td>0.0144736842105263</td></tr><tr><td>GO</td><td>pet_shop</td><td>28</td><td>2280</td><td>0.0122807017543860</td></tr><tr><td>GO</td><td>consoles_games</td><td>22</td><td>2280</td><td>0.0096491228070175</td></tr><tr><td>GO</td><td>moveis_escritorio</td><td>22</td><td>2280</td><td>0.0096491228070175</td></tr><tr><td>GO</td><td>livros_interesse_geral</td><td>15</td><td>2280</td><td>0.0065789473684211</td></tr><tr><td>GO</td><td>eletrodomesticos</td><td>14</td><td>2280</td><td>0.0061403508771930</td></tr><tr><td>GO</td><td>market_place</td><td>13</td><td>2280</td><td>0.0057017543859649</td></tr><tr><td>GO</td><td>casa_construcao</td><td>13</td><td>2280</td><td>0.0057017543859649</td></tr><tr><td>GO</td><td>malas_acessorios</td><td>12</td><td>2280</td><td>0.0052631578947368</td></tr><tr><td>GO</td><td>construcao_ferramentas_construcao</td><td>11</td><td>2280</td><td>0.0048245614035088</td></tr><tr><td>GO</td><td>eletroportateis</td><td>11</td><td>2280</td><td>0.0048245614035088</td></tr><tr><td>GO</td><td>moveis_sala</td><td>10</td><td>2280</td><td>0.0043859649122807</td></tr><tr><td>GO</td><td>instrumentos_musicais</td><td>9</td><td>2280</td><td>0.0039473684210526</td></tr><tr><td>GO</td><td>casa_conforto</td><td>8</td><td>2280</td><td>0.0035087719298246</td></tr><tr><td>GO</td><td>climatizacao</td><td>7</td><td>2280</td><td>0.0030701754385965</td></tr><tr><td>GO</td><td>audio</td><td>7</td><td>2280</td><td>0.0030701754385965</td></tr><tr><td>GO</td><td>alimentos</td><td>7</td><td>2280</td><td>0.0030701754385965</td></tr><tr><td>GO</td><td>bebidas</td><td>7</td><td>2280</td><td>0.0030701754385965</td></tr><tr><td>GO</td><td>agro_industria_e_comercio</td><td>7</td><td>2280</td><td>0.0030701754385965</td></tr><tr><td>GO</td><td>industria_comercio_e_negocios</td><td>7</td><td>2280</td><td>0.0030701754385965</td></tr><tr><td>GO</td><td>fashion_calcados</td><td>7</td><td>2280</td><td>0.0030701754385965</td></tr><tr><td>GO</td><td>construcao_ferramentas_ferramentas</td><td>7</td><td>2280</td><td>0.0030701754385965</td></tr><tr><td>GO</td><td>construcao_ferramentas_seguranca</td><td>7</td><td>2280</td><td>0.0030701754385965</td></tr><tr><td>GO</td><td>sinalizacao_e_seguranca</td><td>6</td><td>2280</td><td>0.0026315789473684</td></tr><tr><td>GO</td><td>telefonia_fixa</td><td>6</td><td>2280</td><td>0.0026315789473684</td></tr><tr><td>GO</td><td>construcao_ferramentas_iluminacao</td><td>5</td><td>2280</td><td>0.0021929824561404</td></tr><tr><td>GO</td><td>pcs</td><td>5</td><td>2280</td><td>0.0021929824561404</td></tr><tr><td>GO</td><td>construcao_ferramentas_jardim</td><td>5</td><td>2280</td><td>0.0021929824561404</td></tr><tr><td>GO</td><td>fashion_underwear_e_moda_praia</td><td>5</td><td>2280</td><td>0.0021929824561404</td></tr><tr><td>GO</td><td>casa_conforto_2</td><td>5</td><td>2280</td><td>0.0021929824561404</td></tr><tr><td>GO</td><td>artes</td><td>4</td><td>2280</td><td>0.0017543859649123</td></tr><tr><td>GO</td><td>moveis_cozinha_area_de_servico_jantar_e_jardim</td><td>4</td><td>2280</td><td>0.0017543859649123</td></tr><tr><td>GO</td><td>fashion_roupa_masculina</td><td>3</td><td>2280</td><td>0.0013157894736842</td></tr><tr><td>GO</td><td>eletrodomesticos_2</td><td>3</td><td>2280</td><td>0.0013157894736842</td></tr><tr><td>GO</td><td>artigos_de_natal</td><td>3</td><td>2280</td><td>0.0013157894736842</td></tr><tr><td>GO</td><td>livros_tecnicos</td><td>3</td><td>2280</td><td>0.0013157894736842</td></tr><tr><td>GO</td><td>fashion_roupa_feminina</td><td>2</td><td>2280</td><td>0.0008771929824561</td></tr><tr><td>GO</td><td>artigos_de_festas</td><td>2</td><td>2280</td><td>0.0008771929824561</td></tr><tr><td>GO</td><td>dvds_blu_ray</td><td>1</td><td>2280</td><td>0.0004385964912281</td></tr><tr><td>GO</td><td>flores</td><td>1</td><td>2280</td><td>0.0004385964912281</td></tr><tr><td>GO</td><td>musica</td><td>1</td><td>2280</td><td>0.0004385964912281</td></tr><tr><td>GO</td><td>portateis_cozinha_e_preparadores_de_alimentos</td><td>1</td><td>2280</td><td>0.0004385964912281</td></tr><tr><td>GO</td><td>tablets_impressao_imagem</td><td>1</td><td>2280</td><td>0.0004385964912281</td></tr><tr><td>GO</td><td>la_cuisine</td><td>1</td><td>2280</td><td>0.0004385964912281</td></tr><tr><td>GO</td><td>cine_foto</td><td>1</td><td>2280</td><td>0.0004385964912281</td></tr><tr><td>GO</td><td>moveis_colchao_e_estofado</td><td>1</td><td>2280</td><td>0.0004385964912281</td></tr><tr><td>GO</td><td>moveis_quarto</td><td>1</td><td>2280</td><td>0.0004385964912281</td></tr><tr><td>MA</td><td>beleza_saude</td><td>89</td><td>813</td><td>0.1094710947109471</td></tr><tr><td>MA</td><td>informatica_acessorios</td><td>73</td><td>813</td><td>0.0897908979089791</td></tr><tr><td>MA</td><td>esporte_lazer</td><td>66</td><td>813</td><td>0.0811808118081181</td></tr><tr><td>MA</td><td>telefonia</td><td>65</td><td>813</td><td>0.0799507995079951</td></tr><tr><td>MA</td><td>relogios_presentes</td><td>61</td><td>813</td><td>0.0750307503075031</td></tr><tr><td>MA</td><td>moveis_decoracao</td><td>48</td><td>813</td><td>0.0590405904059041</td></tr><tr><td>MA</td><td>automotivo</td><td>39</td><td>813</td><td>0.0479704797047970</td></tr><tr><td>MA</td><td>cama_mesa_banho</td><td>36</td><td>813</td><td>0.0442804428044280</td></tr><tr><td>MA</td><td>cool_stuff</td><td>35</td><td>813</td><td>0.0430504305043050</td></tr><tr><td>MA</td><td>perfumaria</td><td>31</td><td>813</td><td>0.0381303813038130</td></tr><tr><td>MA</td><td>bebes</td><td>27</td><td>813</td><td>0.0332103321033210</td></tr><tr><td>MA</td><td>fashion_bolsas_e_acessorios</td><td>26</td><td>813</td><td>0.0319803198031980</td></tr><tr><td>MA</td><td>utilidades_domesticas</td><td>24</td><td>813</td><td>0.0295202952029520</td></tr><tr><td>MA</td><td>ferramentas_jardim</td><td>24</td><td>813</td><td>0.0295202952029520</td></tr><tr><td>MA</td><td>brinquedos</td><td>23</td><td>813</td><td>0.0282902829028290</td></tr><tr><td>MA</td><td>moveis_escritorio</td><td>23</td><td>813</td><td>0.0282902829028290</td></tr><tr><td>MA</td><td>papelaria</td><td>20</td><td>813</td><td>0.0246002460024600</td></tr><tr><td>MA</td><td>eletronicos</td><td>13</td><td>813</td><td>0.0159901599015990</td></tr><tr><td>MA</td><td>instrumentos_musicais</td><td>10</td><td>813</td><td>0.0123001230012300</td></tr><tr><td>MA</td><td>pet_shop</td><td>10</td><td>813</td><td>0.0123001230012300</td></tr><tr><td>MA</td><td>malas_acessorios</td><td>9</td><td>813</td><td>0.0110701107011070</td></tr><tr><td>MA</td><td>market_place</td><td>9</td><td>813</td><td>0.0110701107011070</td></tr><tr><td>MA</td><td>consoles_games</td><td>6</td><td>813</td><td>0.0073800738007380</td></tr><tr><td>MA</td><td>casa_construcao</td><td>5</td><td>813</td><td>0.0061500615006150</td></tr><tr><td>MA</td><td>pcs</td><td>5</td><td>813</td><td>0.0061500615006150</td></tr><tr><td>MA</td><td>moveis_sala</td><td>4</td><td>813</td><td>0.0049200492004920</td></tr><tr><td>MA</td><td>livros_interesse_geral</td><td>3</td><td>813</td><td>0.0036900369003690</td></tr><tr><td>MA</td><td>livros_tecnicos</td><td>3</td><td>813</td><td>0.0036900369003690</td></tr><tr><td>MA</td><td>audio</td><td>3</td><td>813</td><td>0.0036900369003690</td></tr><tr><td>MA</td><td>eletrodomesticos</td><td>3</td><td>813</td><td>0.0036900369003690</td></tr><tr><td>MA</td><td>eletroportateis</td><td>2</td><td>813</td><td>0.0024600246002460</td></tr><tr><td>MA</td><td>alimentos_bebidas</td><td>2</td><td>813</td><td>0.0024600246002460</td></tr><tr><td>MA</td><td>casa_conforto</td><td>2</td><td>813</td><td>0.0024600246002460</td></tr><tr><td>MA</td><td>agro_industria_e_comercio</td><td>1</td><td>813</td><td>0.0012300123001230</td></tr><tr><td>MA</td><td>artigos_de_natal</td><td>1</td><td>813</td><td>0.0012300123001230</td></tr><tr><td>MA</td><td>cine_foto</td><td>1</td><td>813</td><td>0.0012300123001230</td></tr><tr><td>MA</td><td>telefonia_fixa</td><td>1</td><td>813</td><td>0.0012300123001230</td></tr><tr><td>MA</td><td>construcao_ferramentas_construcao</td><td>1</td><td>813</td><td>0.0012300123001230</td></tr><tr><td>MA</td><td>tablets_impressao_imagem</td><td>1</td><td>813</td><td>0.0012300123001230</td></tr><tr><td>MA</td><td>fashion_roupa_masculina</td><td>1</td><td>813</td><td>0.0012300123001230</td></tr><tr><td>MA</td><td>livros_importados</td><td>1</td><td>813</td><td>0.0012300123001230</td></tr><tr><td>MA</td><td>construcao_ferramentas_iluminacao</td><td>1</td><td>813</td><td>0.0012300123001230</td></tr><tr><td>MA</td><td>cds_dvds_musicais</td><td>1</td><td>813</td><td>0.0012300123001230</td></tr><tr><td>MA</td><td>climatizacao</td><td>1</td><td>813</td><td>0.0012300123001230</td></tr><tr><td>MA</td><td>fashion_calcados</td><td>1</td><td>813</td><td>0.0012300123001230</td></tr><tr><td>MA</td><td>industria_comercio_e_negocios</td><td>1</td><td>813</td><td>0.0012300123001230</td></tr><tr><td>MA</td><td>fashion_esporte</td><td>1</td><td>813</td><td>0.0012300123001230</td></tr><tr><td>MG</td><td>cama_mesa_banho</td><td>1331</td><td>12948</td><td>0.1027957985789311</td></tr><tr><td>MG</td><td>beleza_saude</td><td>1086</td><td>12948</td><td>0.0838739573679333</td></tr><tr><td>MG</td><td>informatica_acessorios</td><td>1000</td><td>12948</td><td>0.0772320049428483</td></tr><tr><td>MG</td><td>esporte_lazer</td><td>966</td><td>12948</td><td>0.0746061167747915</td></tr><tr><td>MG</td><td>moveis_decoracao</td><td>949</td><td>12948</td><td>0.0732931726907631</td></tr><tr><td>MG</td><td>utilidades_domesticas</td><td>835</td><td>12948</td><td>0.0644887241272783</td></tr><tr><td>MG</td><td>relogios_presentes</td><td>637</td><td>12948</td><td>0.0491967871485944</td></tr><tr><td>MG</td><td>ferramentas_jardim</td><td>608</td><td>12948</td><td>0.0469570590052518</td></tr><tr><td>MG</td><td>automotivo</td><td>513</td><td>12948</td><td>0.0396200185356812</td></tr><tr><td>MG</td><td>brinquedos</td><td>494</td><td>12948</td><td>0.0381526104417671</td></tr><tr><td>MG</td><td>telefonia</td><td>484</td><td>12948</td><td>0.0373802903923386</td></tr><tr><td>MG</td><td>cool_stuff</td><td>459</td><td>12948</td><td>0.0354494902687674</td></tr><tr><td>MG</td><td>perfumaria</td><td>408</td><td>12948</td><td>0.0315106580166821</td></tr><tr><td>MG</td><td>bebes</td><td>372</td><td>12948</td><td>0.0287303058387396</td></tr><tr><td>MG</td><td>eletronicos</td><td>296</td><td>12948</td><td>0.0228606734630831</td></tr><tr><td>MG</td><td>papelaria</td><td>273</td><td>12948</td><td>0.0210843373493976</td></tr><tr><td>MG</td><td>fashion_bolsas_e_acessorios</td><td>265</td><td>12948</td><td>0.0204664813098548</td></tr><tr><td>MG</td><td>pet_shop</td><td>250</td><td>12948</td><td>0.0193080012357121</td></tr><tr><td>MG</td><td>malas_acessorios</td><td>183</td><td>12948</td><td>0.0141334569045412</td></tr><tr><td>MG</td><td>moveis_escritorio</td><td>167</td><td>12948</td><td>0.0128977448254557</td></tr><tr><td>MG</td><td>consoles_games</td><td>133</td><td>12948</td><td>0.0102718566573988</td></tr><tr><td>MG</td><td>construcao_ferramentas_construcao</td><td>121</td><td>12948</td><td>0.0093450725980846</td></tr><tr><td>MG</td><td>eletrodomesticos</td><td>86</td><td>12948</td><td>0.0066419524250850</td></tr><tr><td>MG</td><td>instrumentos_musicais</td><td>80</td><td>12948</td><td>0.0061785603954279</td></tr><tr><td>MG</td><td>eletroportateis</td><td>66</td><td>12948</td><td>0.0050973123262280</td></tr><tr><td>MG</td><td>casa_construcao</td><td>63</td><td>12948</td><td>0.0048656163113994</td></tr><tr><td>MG</td><td>casa_conforto</td><td>57</td><td>12948</td><td>0.0044022242817424</td></tr><tr><td>MG</td><td>livros_interesse_geral</td><td>54</td><td>12948</td><td>0.0041705282669138</td></tr><tr><td>MG</td><td>moveis_sala</td><td>48</td><td>12948</td><td>0.0037071362372567</td></tr><tr><td>MG</td><td>fashion_calcados</td><td>43</td><td>12948</td><td>0.0033209762125425</td></tr><tr><td>MG</td><td>construcao_ferramentas_iluminacao</td><td>41</td><td>12948</td><td>0.0031665122026568</td></tr><tr><td>MG</td><td>alimentos</td><td>38</td><td>12948</td><td>0.0029348161878282</td></tr><tr><td>MG</td><td>audio</td><td>35</td><td>12948</td><td>0.0027031201729997</td></tr><tr><td>MG</td><td>market_place</td><td>33</td><td>12948</td><td>0.0025486561631140</td></tr><tr><td>MG</td><td>construcao_ferramentas_jardim</td><td>30</td><td>12948</td><td>0.0023169601482854</td></tr><tr><td>MG</td><td>construcao_ferramentas_seguranca</td><td>29</td><td>12948</td><td>0.0022397281433426</td></tr><tr><td>MG</td><td>moveis_cozinha_area_de_servico_jantar_e_jardim</td><td>29</td><td>12948</td><td>0.0022397281433426</td></tr><tr><td>MG</td><td>livros_tecnicos</td><td>29</td><td>12948</td><td>0.0022397281433426</td></tr><tr><td>MG</td><td>alimentos_bebidas</td><td>26</td><td>12948</td><td>0.0020080321285141</td></tr><tr><td>MG</td><td>bebidas</td><td>26</td><td>12948</td><td>0.0020080321285141</td></tr><tr><td>MG</td><td>agro_industria_e_comercio</td><td>21</td><td>12948</td><td>0.0016218721037998</td></tr><tr><td>MG</td><td>eletrodomesticos_2</td><td>20</td><td>12948</td><td>0.0015446400988570</td></tr><tr><td>MG</td><td>climatizacao</td><td>20</td><td>12948</td><td>0.0015446400988570</td></tr><tr><td>MG</td><td>fashion_roupa_masculina</td><td>20</td><td>12948</td><td>0.0015446400988570</td></tr><tr><td>MG</td><td>pcs</td><td>19</td><td>12948</td><td>0.0014674080939141</td></tr><tr><td>MG</td><td>artigos_de_natal</td><td>19</td><td>12948</td><td>0.0014674080939141</td></tr><tr><td>MG</td><td>artes</td><td>18</td><td>12948</td><td>0.0013901760889713</td></tr><tr><td>MG</td><td>construcao_ferramentas_ferramentas</td><td>18</td><td>12948</td><td>0.0013901760889713</td></tr><tr><td>MG</td><td>fashion_underwear_e_moda_praia</td><td>18</td><td>12948</td><td>0.0013901760889713</td></tr><tr><td>MG</td><td>telefonia_fixa</td><td>17</td><td>12948</td><td>0.0013129440840284</td></tr><tr><td>MG</td><td>industria_comercio_e_negocios</td><td>17</td><td>12948</td><td>0.0013129440840284</td></tr><tr><td>MG</td><td>sinalizacao_e_seguranca</td><td>11</td><td>12948</td><td>0.0008495520543713</td></tr><tr><td>MG</td><td>tablets_impressao_imagem</td><td>10</td><td>12948</td><td>0.0007723200494285</td></tr><tr><td>MG</td><td>portateis_casa_forno_e_cafe</td><td>10</td><td>12948</td><td>0.0007723200494285</td></tr><tr><td>MG</td><td>moveis_quarto</td><td>7</td><td>12948</td><td>0.0005406240345999</td></tr><tr><td>MG</td><td>fashion_roupa_feminina</td><td>7</td><td>12948</td><td>0.0005406240345999</td></tr><tr><td>MG</td><td>livros_importados</td><td>7</td><td>12948</td><td>0.0005406240345999</td></tr><tr><td>MG</td><td>artes_e_artesanato</td><td>6</td><td>12948</td><td>0.0004633920296571</td></tr><tr><td>MG</td><td>cine_foto</td><td>6</td><td>12948</td><td>0.0004633920296571</td></tr><tr><td>MG</td><td>musica</td><td>6</td><td>12948</td><td>0.0004633920296571</td></tr><tr><td>MG</td><td>flores</td><td>5</td><td>12948</td><td>0.0003861600247142</td></tr><tr><td>MG</td><td>artigos_de_festas</td><td>5</td><td>12948</td><td>0.0003861600247142</td></tr><tr><td>MG</td><td>dvds_blu_ray</td><td>4</td><td>12948</td><td>0.0003089280197714</td></tr><tr><td>MG</td><td>moveis_colchao_e_estofado</td><td>3</td><td>12948</td><td>0.0002316960148285</td></tr><tr><td>MG</td><td>casa_conforto_2</td><td>3</td><td>12948</td><td>0.0002316960148285</td></tr><tr><td>MG</td><td>la_cuisine</td><td>2</td><td>12948</td><td>0.0001544640098857</td></tr><tr><td>MG</td><td>portateis_cozinha_e_preparadores_de_alimentos</td><td>2</td><td>12948</td><td>0.0001544640098857</td></tr><tr><td>MG</td><td>fashion_esporte</td><td>2</td><td>12948</td><td>0.0001544640098857</td></tr><tr><td>MG</td><td>fraldas_higiene</td><td>1</td><td>12948</td><td>0.0000772320049428</td></tr><tr><td>MG</td><td>pc_gamer</td><td>1</td><td>12948</td><td>0.0000772320049428</td></tr><tr><td>MS</td><td>esporte_lazer</td><td>75</td><td>810</td><td>0.0925925925925926</td></tr><tr><td>MS</td><td>moveis_decoracao</td><td>65</td><td>810</td><td>0.0802469135802469</td></tr><tr><td>MS</td><td>beleza_saude</td><td>65</td><td>810</td><td>0.0802469135802469</td></tr><tr><td>MS</td><td>cama_mesa_banho</td><td>64</td><td>810</td><td>0.0790123456790123</td></tr><tr><td>MS</td><td>informatica_acessorios</td><td>63</td><td>810</td><td>0.0777777777777778</td></tr><tr><td>MS</td><td>utilidades_domesticas</td><td>39</td><td>810</td><td>0.0481481481481481</td></tr><tr><td>MS</td><td>relogios_presentes</td><td>37</td><td>810</td><td>0.0456790123456790</td></tr><tr><td>MS</td><td>brinquedos</td><td>36</td><td>810</td><td>0.0444444444444444</td></tr><tr><td>MS</td><td>bebes</td><td>31</td><td>810</td><td>0.0382716049382716</td></tr><tr><td>MS</td><td>telefonia</td><td>28</td><td>810</td><td>0.0345679012345679</td></tr><tr><td>MS</td><td>cool_stuff</td><td>26</td><td>810</td><td>0.0320987654320988</td></tr><tr><td>MS</td><td>automotivo</td><td>26</td><td>810</td><td>0.0320987654320988</td></tr><tr><td>MS</td><td>perfumaria</td><td>25</td><td>810</td><td>0.0308641975308642</td></tr><tr><td>MS</td><td>pet_shop</td><td>25</td><td>810</td><td>0.0308641975308642</td></tr><tr><td>MS</td><td>ferramentas_jardim</td><td>22</td><td>810</td><td>0.0271604938271605</td></tr><tr><td>MS</td><td>eletronicos</td><td>22</td><td>810</td><td>0.0271604938271605</td></tr><tr><td>MS</td><td>papelaria</td><td>22</td><td>810</td><td>0.0271604938271605</td></tr><tr><td>MS</td><td>construcao_ferramentas_construcao</td><td>14</td><td>810</td><td>0.0172839506172840</td></tr><tr><td>MS</td><td>fashion_bolsas_e_acessorios</td><td>14</td><td>810</td><td>0.0172839506172840</td></tr><tr><td>MS</td><td>malas_acessorios</td><td>9</td><td>810</td><td>0.0111111111111111</td></tr><tr><td>MS</td><td>construcao_ferramentas_iluminacao</td><td>9</td><td>810</td><td>0.0111111111111111</td></tr><tr><td>MS</td><td>casa_construcao</td><td>8</td><td>810</td><td>0.0098765432098765</td></tr><tr><td>MS</td><td>instrumentos_musicais</td><td>7</td><td>810</td><td>0.0086419753086420</td></tr><tr><td>MS</td><td>eletrodomesticos</td><td>6</td><td>810</td><td>0.0074074074074074</td></tr><tr><td>MS</td><td>consoles_games</td><td>6</td><td>810</td><td>0.0074074074074074</td></tr><tr><td>MS</td><td>eletroportateis</td><td>6</td><td>810</td><td>0.0074074074074074</td></tr><tr><td>MS</td><td>eletrodomesticos_2</td><td>4</td><td>810</td><td>0.0049382716049383</td></tr><tr><td>MS</td><td>alimentos</td><td>4</td><td>810</td><td>0.0049382716049383</td></tr><tr><td>MS</td><td>fashion_calcados</td><td>4</td><td>810</td><td>0.0049382716049383</td></tr><tr><td>MS</td><td>livros_tecnicos</td><td>4</td><td>810</td><td>0.0049382716049383</td></tr><tr><td>MS</td><td>moveis_escritorio</td><td>4</td><td>810</td><td>0.0049382716049383</td></tr><tr><td>MS</td><td>bebidas</td><td>4</td><td>810</td><td>0.0049382716049383</td></tr><tr><td>MS</td><td>dvds_blu_ray</td><td>3</td><td>810</td><td>0.0037037037037037</td></tr><tr><td>MS</td><td>agro_industria_e_comercio</td><td>3</td><td>810</td><td>0.0037037037037037</td></tr><tr><td>MS</td><td>moveis_sala</td><td>3</td><td>810</td><td>0.0037037037037037</td></tr><tr><td>MS</td><td>fashion_underwear_e_moda_praia</td><td>3</td><td>810</td><td>0.0037037037037037</td></tr><tr><td>MS</td><td>construcao_ferramentas_seguranca</td><td>2</td><td>810</td><td>0.0024691358024691</td></tr><tr><td>MS</td><td>tablets_impressao_imagem</td><td>2</td><td>810</td><td>0.0024691358024691</td></tr><tr><td>MS</td><td>construcao_ferramentas_jardim</td><td>2</td><td>810</td><td>0.0024691358024691</td></tr><tr><td>MS</td><td>livros_interesse_geral</td><td>2</td><td>810</td><td>0.0024691358024691</td></tr><tr><td>MS</td><td>market_place</td><td>2</td><td>810</td><td>0.0024691358024691</td></tr><tr><td>MS</td><td>artigos_de_natal</td><td>2</td><td>810</td><td>0.0024691358024691</td></tr><tr><td>MS</td><td>sinalizacao_e_seguranca</td><td>1</td><td>810</td><td>0.0012345679012346</td></tr><tr><td>MS</td><td>artes</td><td>1</td><td>810</td><td>0.0012345679012346</td></tr><tr><td>MS</td><td>pcs</td><td>1</td><td>810</td><td>0.0012345679012346</td></tr><tr><td>MS</td><td>portateis_casa_forno_e_cafe</td><td>1</td><td>810</td><td>0.0012345679012346</td></tr><tr><td>MS</td><td>casa_conforto</td><td>1</td><td>810</td><td>0.0012345679012346</td></tr><tr><td>MS</td><td>construcao_ferramentas_ferramentas</td><td>1</td><td>810</td><td>0.0012345679012346</td></tr><tr><td>MS</td><td>audio</td><td>1</td><td>810</td><td>0.0012345679012346</td></tr><tr><td>MS</td><td>flores</td><td>1</td><td>810</td><td>0.0012345679012346</td></tr><tr><td>MS</td><td>telefonia_fixa</td><td>1</td><td>810</td><td>0.0012345679012346</td></tr><tr><td>MS</td><td>alimentos_bebidas</td><td>1</td><td>810</td><td>0.0012345679012346</td></tr><tr><td>MS</td><td>moveis_quarto</td><td>1</td><td>810</td><td>0.0012345679012346</td></tr><tr><td>MS</td><td>industria_comercio_e_negocios</td><td>1</td><td>810</td><td>0.0012345679012346</td></tr><tr><td>MT</td><td>beleza_saude</td><td>90</td><td>1043</td><td>0.0862895493767977</td></tr><tr><td>MT</td><td>esporte_lazer</td><td>76</td><td>1043</td><td>0.0728667305848514</td></tr><tr><td>MT</td><td>moveis_decoracao</td><td>75</td><td>1043</td><td>0.0719079578139981</td></tr><tr><td>MT</td><td>cama_mesa_banho</td><td>70</td><td>1043</td><td>0.0671140939597315</td></tr><tr><td>MT</td><td>telefonia</td><td>66</td><td>1043</td><td>0.0632790028763183</td></tr><tr><td>MT</td><td>relogios_presentes</td><td>61</td><td>1043</td><td>0.0584851390220518</td></tr><tr><td>MT</td><td>automotivo</td><td>56</td><td>1043</td><td>0.0536912751677852</td></tr><tr><td>MT</td><td>informatica_acessorios</td><td>55</td><td>1043</td><td>0.0527325023969319</td></tr><tr><td>MT</td><td>ferramentas_jardim</td><td>53</td><td>1043</td><td>0.0508149568552253</td></tr><tr><td>MT</td><td>utilidades_domesticas</td><td>52</td><td>1043</td><td>0.0498561840843720</td></tr><tr><td>MT</td><td>cool_stuff</td><td>46</td><td>1043</td><td>0.0441035474592522</td></tr><tr><td>MT</td><td>brinquedos</td><td>44</td><td>1043</td><td>0.0421860019175455</td></tr><tr><td>MT</td><td>bebes</td><td>35</td><td>1043</td><td>0.0335570469798658</td></tr><tr><td>MT</td><td>perfumaria</td><td>30</td><td>1043</td><td>0.0287631831255992</td></tr><tr><td>MT</td><td>papelaria</td><td>28</td><td>1043</td><td>0.0268456375838926</td></tr><tr><td>MT</td><td>eletronicos</td><td>26</td><td>1043</td><td>0.0249280920421860</td></tr><tr><td>MT</td><td>moveis_escritorio</td><td>20</td><td>1043</td><td>0.0191754554170662</td></tr><tr><td>MT</td><td>pet_shop</td><td>16</td><td>1043</td><td>0.0153403643336529</td></tr><tr><td>MT</td><td>fashion_bolsas_e_acessorios</td><td>14</td><td>1043</td><td>0.0134228187919463</td></tr><tr><td>MT</td><td>consoles_games</td><td>9</td><td>1043</td><td>0.0086289549376798</td></tr><tr><td>MT</td><td>eletrodomesticos</td><td>8</td><td>1043</td><td>0.0076701821668265</td></tr><tr><td>MT</td><td>eletroportateis</td><td>8</td><td>1043</td><td>0.0076701821668265</td></tr><tr><td>MT</td><td>malas_acessorios</td><td>8</td><td>1043</td><td>0.0076701821668265</td></tr><tr><td>MT</td><td>alimentos</td><td>7</td><td>1043</td><td>0.0067114093959732</td></tr><tr><td>MT</td><td>casa_construcao</td><td>7</td><td>1043</td><td>0.0067114093959732</td></tr><tr><td>MT</td><td>construcao_ferramentas_construcao</td><td>7</td><td>1043</td><td>0.0067114093959732</td></tr><tr><td>MT</td><td>instrumentos_musicais</td><td>6</td><td>1043</td><td>0.0057526366251198</td></tr><tr><td>MT</td><td>sinalizacao_e_seguranca</td><td>6</td><td>1043</td><td>0.0057526366251198</td></tr><tr><td>MT</td><td>livros_tecnicos</td><td>5</td><td>1043</td><td>0.0047938638542665</td></tr><tr><td>MT</td><td>market_place</td><td>5</td><td>1043</td><td>0.0047938638542665</td></tr><tr><td>MT</td><td>climatizacao</td><td>5</td><td>1043</td><td>0.0047938638542665</td></tr><tr><td>MT</td><td>audio</td><td>4</td><td>1043</td><td>0.0038350910834132</td></tr><tr><td>MT</td><td>construcao_ferramentas_seguranca</td><td>4</td><td>1043</td><td>0.0038350910834132</td></tr><tr><td>MT</td><td>casa_conforto</td><td>4</td><td>1043</td><td>0.0038350910834132</td></tr><tr><td>MT</td><td>moveis_sala</td><td>3</td><td>1043</td><td>0.0028763183125599</td></tr><tr><td>MT</td><td>industria_comercio_e_negocios</td><td>3</td><td>1043</td><td>0.0028763183125599</td></tr><tr><td>MT</td><td>moveis_cozinha_area_de_servico_jantar_e_jardim</td><td>3</td><td>1043</td><td>0.0028763183125599</td></tr><tr><td>MT</td><td>construcao_ferramentas_iluminacao</td><td>3</td><td>1043</td><td>0.0028763183125599</td></tr><tr><td>MT</td><td>fashion_calcados</td><td>3</td><td>1043</td><td>0.0028763183125599</td></tr><tr><td>MT</td><td>eletrodomesticos_2</td><td>3</td><td>1043</td><td>0.0028763183125599</td></tr><tr><td>MT</td><td>agro_industria_e_comercio</td><td>2</td><td>1043</td><td>0.0019175455417066</td></tr><tr><td>MT</td><td>livros_interesse_geral</td><td>2</td><td>1043</td><td>0.0019175455417066</td></tr><tr><td>MT</td><td>tablets_impressao_imagem</td><td>2</td><td>1043</td><td>0.0019175455417066</td></tr><tr><td>MT</td><td>pcs</td><td>2</td><td>1043</td><td>0.0019175455417066</td></tr><tr><td>MT</td><td>moveis_quarto</td><td>2</td><td>1043</td><td>0.0019175455417066</td></tr><tr><td>MT</td><td>cine_foto</td><td>1</td><td>1043</td><td>0.0009587727708533</td></tr><tr><td>MT</td><td>construcao_ferramentas_ferramentas</td><td>1</td><td>1043</td><td>0.0009587727708533</td></tr><tr><td>MT</td><td>fashion_underwear_e_moda_praia</td><td>1</td><td>1043</td><td>0.0009587727708533</td></tr><tr><td>MT</td><td>artes</td><td>1</td><td>1043</td><td>0.0009587727708533</td></tr><tr><td>MT</td><td>fashion_roupa_masculina</td><td>1</td><td>1043</td><td>0.0009587727708533</td></tr><tr><td>MT</td><td>portateis_casa_forno_e_cafe</td><td>1</td><td>1043</td><td>0.0009587727708533</td></tr><tr><td>MT</td><td>artigos_de_natal</td><td>1</td><td>1043</td><td>0.0009587727708533</td></tr><tr><td>MT</td><td>fashion_roupa_feminina</td><td>1</td><td>1043</td><td>0.0009587727708533</td></tr><tr><td>MT</td><td>bebidas</td><td>1</td><td>1043</td><td>0.0009587727708533</td></tr><tr><td>PA</td><td>beleza_saude</td><td>107</td><td>1061</td><td>0.1008482563619227</td></tr><tr><td>PA</td><td>informatica_acessorios</td><td>90</td><td>1061</td><td>0.0848256361922714</td></tr><tr><td>PA</td><td>esporte_lazer</td><td>85</td><td>1061</td><td>0.0801131008482564</td></tr><tr><td>PA</td><td>telefonia</td><td>77</td><td>1061</td><td>0.0725730442978322</td></tr><tr><td>PA</td><td>relogios_presentes</td><td>76</td><td>1061</td><td>0.0716305372290292</td></tr><tr><td>PA</td><td>moveis_decoracao</td><td>71</td><td>1061</td><td>0.0669180018850141</td></tr><tr><td>PA</td><td>automotivo</td><td>51</td><td>1061</td><td>0.0480678605089538</td></tr><tr><td>PA</td><td>cool_stuff</td><td>49</td><td>1061</td><td>0.0461828463713478</td></tr><tr><td>PA</td><td>bebes</td><td>44</td><td>1061</td><td>0.0414703110273327</td></tr><tr><td>PA</td><td>cama_mesa_banho</td><td>38</td><td>1061</td><td>0.0358152686145146</td></tr><tr><td>PA</td><td>utilidades_domesticas</td><td>38</td><td>1061</td><td>0.0358152686145146</td></tr><tr><td>PA</td><td>ferramentas_jardim</td><td>37</td><td>1061</td><td>0.0348727615457116</td></tr><tr><td>PA</td><td>perfumaria</td><td>35</td><td>1061</td><td>0.0329877474081056</td></tr><tr><td>PA</td><td>fashion_bolsas_e_acessorios</td><td>31</td><td>1061</td><td>0.0292177191328935</td></tr><tr><td>PA</td><td>brinquedos</td><td>29</td><td>1061</td><td>0.0273327049952875</td></tr><tr><td>PA</td><td>eletronicos</td><td>28</td><td>1061</td><td>0.0263901979264844</td></tr><tr><td>PA</td><td>moveis_escritorio</td><td>27</td><td>1061</td><td>0.0254476908576814</td></tr><tr><td>PA</td><td>papelaria</td><td>22</td><td>1061</td><td>0.0207351555136664</td></tr><tr><td>PA</td><td>consoles_games</td><td>14</td><td>1061</td><td>0.0131950989632422</td></tr><tr><td>PA</td><td>pet_shop</td><td>11</td><td>1061</td><td>0.0103675777568332</td></tr><tr><td>PA</td><td>instrumentos_musicais</td><td>10</td><td>1061</td><td>0.0094250706880302</td></tr><tr><td>PA</td><td>eletrodomesticos</td><td>10</td><td>1061</td><td>0.0094250706880302</td></tr><tr><td>PA</td><td>eletroportateis</td><td>9</td><td>1061</td><td>0.0084825636192271</td></tr><tr><td>PA</td><td>malas_acessorios</td><td>7</td><td>1061</td><td>0.0065975494816211</td></tr><tr><td>PA</td><td>artigos_de_natal</td><td>6</td><td>1061</td><td>0.0056550424128181</td></tr><tr><td>PA</td><td>market_place</td><td>5</td><td>1061</td><td>0.0047125353440151</td></tr><tr><td>PA</td><td>livros_interesse_geral</td><td>5</td><td>1061</td><td>0.0047125353440151</td></tr><tr><td>PA</td><td>pcs</td><td>4</td><td>1061</td><td>0.0037700282752121</td></tr><tr><td>PA</td><td>tablets_impressao_imagem</td><td>4</td><td>1061</td><td>0.0037700282752121</td></tr><tr><td>PA</td><td>fashion_calcados</td><td>4</td><td>1061</td><td>0.0037700282752121</td></tr><tr><td>PA</td><td>fashion_esporte</td><td>4</td><td>1061</td><td>0.0037700282752121</td></tr><tr><td>PA</td><td>fashion_underwear_e_moda_praia</td><td>3</td><td>1061</td><td>0.0028275212064090</td></tr><tr><td>PA</td><td>sinalizacao_e_seguranca</td><td>3</td><td>1061</td><td>0.0028275212064090</td></tr><tr><td>PA</td><td>cine_foto</td><td>3</td><td>1061</td><td>0.0028275212064090</td></tr><tr><td>PA</td><td>artes</td><td>2</td><td>1061</td><td>0.0018850141376060</td></tr><tr><td>PA</td><td>construcao_ferramentas_construcao</td><td>2</td><td>1061</td><td>0.0018850141376060</td></tr><tr><td>PA</td><td>livros_tecnicos</td><td>2</td><td>1061</td><td>0.0018850141376060</td></tr><tr><td>PA</td><td>casa_construcao</td><td>2</td><td>1061</td><td>0.0018850141376060</td></tr><tr><td>PA</td><td>fashion_roupa_masculina</td><td>2</td><td>1061</td><td>0.0018850141376060</td></tr><tr><td>PA</td><td>agro_industria_e_comercio</td><td>2</td><td>1061</td><td>0.0018850141376060</td></tr><tr><td>PA</td><td>livros_importados</td><td>2</td><td>1061</td><td>0.0018850141376060</td></tr><tr><td>PA</td><td>construcao_ferramentas_jardim</td><td>1</td><td>1061</td><td>0.0009425070688030</td></tr><tr><td>PA</td><td>alimentos_bebidas</td><td>1</td><td>1061</td><td>0.0009425070688030</td></tr><tr><td>PA</td><td>bebidas</td><td>1</td><td>1061</td><td>0.0009425070688030</td></tr><tr><td>PA</td><td>moveis_cozinha_area_de_servico_jantar_e_jardim</td><td>1</td><td>1061</td><td>0.0009425070688030</td></tr><tr><td>PA</td><td>telefonia_fixa</td><td>1</td><td>1061</td><td>0.0009425070688030</td></tr><tr><td>PA</td><td>construcao_ferramentas_iluminacao</td><td>1</td><td>1061</td><td>0.0009425070688030</td></tr><tr><td>PA</td><td>portateis_cozinha_e_preparadores_de_alimentos</td><td>1</td><td>1061</td><td>0.0009425070688030</td></tr><tr><td>PA</td><td>moveis_sala</td><td>1</td><td>1061</td><td>0.0009425070688030</td></tr><tr><td>PA</td><td>construcao_ferramentas_ferramentas</td><td>1</td><td>1061</td><td>0.0009425070688030</td></tr><tr><td>PA</td><td>audio</td><td>1</td><td>1061</td><td>0.0009425070688030</td></tr><tr><td>PB</td><td>beleza_saude</td><td>78</td><td>592</td><td>0.1317567567567568</td></tr><tr><td>PB</td><td>informatica_acessorios</td><td>54</td><td>592</td><td>0.0912162162162162</td></tr><tr><td>PB</td><td>relogios_presentes</td><td>43</td><td>592</td><td>0.0726351351351351</td></tr><tr><td>PB</td><td>moveis_decoracao</td><td>42</td><td>592</td><td>0.0709459459459459</td></tr><tr><td>PB</td><td>esporte_lazer</td><td>36</td><td>592</td><td>0.0608108108108108</td></tr><tr><td>PB</td><td>cama_mesa_banho</td><td>32</td><td>592</td><td>0.0540540540540541</td></tr><tr><td>PB</td><td>telefonia</td><td>27</td><td>592</td><td>0.0456081081081081</td></tr><tr><td>PB</td><td>cool_stuff</td><td>25</td><td>592</td><td>0.0422297297297297</td></tr><tr><td>PB</td><td>utilidades_domesticas</td><td>23</td><td>592</td><td>0.0388513513513514</td></tr><tr><td>PB</td><td>automotivo</td><td>22</td><td>592</td><td>0.0371621621621622</td></tr><tr><td>PB</td><td>perfumaria</td><td>18</td><td>592</td><td>0.0304054054054054</td></tr><tr><td>PB</td><td>papelaria</td><td>18</td><td>592</td><td>0.0304054054054054</td></tr><tr><td>PB</td><td>brinquedos</td><td>16</td><td>592</td><td>0.0270270270270270</td></tr><tr><td>PB</td><td>ferramentas_jardim</td><td>15</td><td>592</td><td>0.0253378378378378</td></tr><tr><td>PB</td><td>fashion_bolsas_e_acessorios</td><td>15</td><td>592</td><td>0.0253378378378378</td></tr><tr><td>PB</td><td>eletronicos</td><td>13</td><td>592</td><td>0.0219594594594595</td></tr><tr><td>PB</td><td>bebes</td><td>13</td><td>592</td><td>0.0219594594594595</td></tr><tr><td>PB</td><td>moveis_escritorio</td><td>10</td><td>592</td><td>0.0168918918918919</td></tr><tr><td>PB</td><td>construcao_ferramentas_seguranca</td><td>8</td><td>592</td><td>0.0135135135135135</td></tr><tr><td>PB</td><td>pet_shop</td><td>8</td><td>592</td><td>0.0135135135135135</td></tr><tr><td>PB</td><td>consoles_games</td><td>7</td><td>592</td><td>0.0118243243243243</td></tr><tr><td>PB</td><td>malas_acessorios</td><td>7</td><td>592</td><td>0.0118243243243243</td></tr><tr><td>PB</td><td>sinalizacao_e_seguranca</td><td>6</td><td>592</td><td>0.0101351351351351</td></tr><tr><td>PB</td><td>casa_construcao</td><td>5</td><td>592</td><td>0.0084459459459459</td></tr><tr><td>PB</td><td>telefonia_fixa</td><td>5</td><td>592</td><td>0.0084459459459459</td></tr><tr><td>PB</td><td>livros_interesse_geral</td><td>5</td><td>592</td><td>0.0084459459459459</td></tr><tr><td>PB</td><td>pcs</td><td>4</td><td>592</td><td>0.0067567567567568</td></tr><tr><td>PB</td><td>eletroportateis</td><td>4</td><td>592</td><td>0.0067567567567568</td></tr><tr><td>PB</td><td>instrumentos_musicais</td><td>4</td><td>592</td><td>0.0067567567567568</td></tr><tr><td>PB</td><td>alimentos</td><td>3</td><td>592</td><td>0.0050675675675676</td></tr><tr><td>PB</td><td>market_place</td><td>3</td><td>592</td><td>0.0050675675675676</td></tr><tr><td>PB</td><td>industria_comercio_e_negocios</td><td>3</td><td>592</td><td>0.0050675675675676</td></tr><tr><td>PB</td><td>moveis_sala</td><td>3</td><td>592</td><td>0.0050675675675676</td></tr><tr><td>PB</td><td>eletrodomesticos</td><td>2</td><td>592</td><td>0.0033783783783784</td></tr><tr><td>PB</td><td>fashion_roupa_feminina</td><td>2</td><td>592</td><td>0.0033783783783784</td></tr><tr><td>PB</td><td>fashion_calcados</td><td>2</td><td>592</td><td>0.0033783783783784</td></tr><tr><td>PB</td><td>agro_industria_e_comercio</td><td>2</td><td>592</td><td>0.0033783783783784</td></tr><tr><td>PB</td><td>audio</td><td>1</td><td>592</td><td>0.0016891891891892</td></tr><tr><td>PB</td><td>construcao_ferramentas_ferramentas</td><td>1</td><td>592</td><td>0.0016891891891892</td></tr><tr><td>PB</td><td>construcao_ferramentas_construcao</td><td>1</td><td>592</td><td>0.0016891891891892</td></tr><tr><td>PB</td><td>climatizacao</td><td>1</td><td>592</td><td>0.0016891891891892</td></tr><tr><td>PB</td><td>casa_conforto</td><td>1</td><td>592</td><td>0.0016891891891892</td></tr><tr><td>PB</td><td>moveis_cozinha_area_de_servico_jantar_e_jardim</td><td>1</td><td>592</td><td>0.0016891891891892</td></tr><tr><td>PB</td><td>fraldas_higiene</td><td>1</td><td>592</td><td>0.0016891891891892</td></tr><tr><td>PB</td><td>artes</td><td>1</td><td>592</td><td>0.0016891891891892</td></tr><tr><td>PB</td><td>construcao_ferramentas_jardim</td><td>1</td><td>592</td><td>0.0016891891891892</td></tr><tr><td>PE</td><td>beleza_saude</td><td>240</td><td>1783</td><td>0.1346045989904655</td></tr><tr><td>PE</td><td>relogios_presentes</td><td>165</td><td>1783</td><td>0.0925406618059450</td></tr><tr><td>PE</td><td>esporte_lazer</td><td>149</td><td>1783</td><td>0.0835670218732473</td></tr><tr><td>PE</td><td>telefonia</td><td>129</td><td>1783</td><td>0.0723499719573752</td></tr><tr><td>PE</td><td>informatica_acessorios</td><td>106</td><td>1783</td><td>0.0594503645541223</td></tr><tr><td>PE</td><td>moveis_decoracao</td><td>98</td><td>1783</td><td>0.0549635445877734</td></tr><tr><td>PE</td><td>cama_mesa_banho</td><td>93</td><td>1783</td><td>0.0521592821088054</td></tr><tr><td>PE</td><td>automotivo</td><td>86</td><td>1783</td><td>0.0482333146382501</td></tr><tr><td>PE</td><td>cool_stuff</td><td>79</td><td>1783</td><td>0.0443073471676949</td></tr><tr><td>PE</td><td>ferramentas_jardim</td><td>65</td><td>1783</td><td>0.0364554122265844</td></tr><tr><td>PE</td><td>brinquedos</td><td>64</td><td>1783</td><td>0.0358945597307908</td></tr><tr><td>PE</td><td>utilidades_domesticas</td><td>60</td><td>1783</td><td>0.0336511497476164</td></tr><tr><td>PE</td><td>perfumaria</td><td>50</td><td>1783</td><td>0.0280426247896803</td></tr><tr><td>PE</td><td>papelaria</td><td>48</td><td>1783</td><td>0.0269209197980931</td></tr><tr><td>PE</td><td>bebes</td><td>41</td><td>1783</td><td>0.0229949523275379</td></tr><tr><td>PE</td><td>eletronicos</td><td>41</td><td>1783</td><td>0.0229949523275379</td></tr><tr><td>PE</td><td>fashion_bolsas_e_acessorios</td><td>36</td><td>1783</td><td>0.0201906898485698</td></tr><tr><td>PE</td><td>pet_shop</td><td>23</td><td>1783</td><td>0.0128996074032529</td></tr><tr><td>PE</td><td>moveis_escritorio</td><td>20</td><td>1783</td><td>0.0112170499158721</td></tr><tr><td>PE</td><td>consoles_games</td><td>20</td><td>1783</td><td>0.0112170499158721</td></tr><tr><td>PE</td><td>malas_acessorios</td><td>13</td><td>1783</td><td>0.0072910824453169</td></tr><tr><td>PE</td><td>construcao_ferramentas_construcao</td><td>12</td><td>1783</td><td>0.0067302299495233</td></tr><tr><td>PE</td><td>fashion_calcados</td><td>11</td><td>1783</td><td>0.0061693774537297</td></tr><tr><td>PE</td><td>instrumentos_musicais</td><td>11</td><td>1783</td><td>0.0061693774537297</td></tr><tr><td>PE</td><td>pcs</td><td>10</td><td>1783</td><td>0.0056085249579361</td></tr><tr><td>PE</td><td>alimentos</td><td>8</td><td>1783</td><td>0.0044868199663489</td></tr><tr><td>PE</td><td>casa_conforto</td><td>8</td><td>1783</td><td>0.0044868199663489</td></tr><tr><td>PE</td><td>livros_interesse_geral</td><td>8</td><td>1783</td><td>0.0044868199663489</td></tr><tr><td>PE</td><td>casa_construcao</td><td>7</td><td>1783</td><td>0.0039259674705552</td></tr><tr><td>PE</td><td>construcao_ferramentas_jardim</td><td>6</td><td>1783</td><td>0.0033651149747616</td></tr><tr><td>PE</td><td>agro_industria_e_comercio</td><td>5</td><td>1783</td><td>0.0028042624789680</td></tr><tr><td>PE</td><td>eletrodomesticos</td><td>5</td><td>1783</td><td>0.0028042624789680</td></tr><tr><td>PE</td><td>alimentos_bebidas</td><td>5</td><td>1783</td><td>0.0028042624789680</td></tr><tr><td>PE</td><td>audio</td><td>4</td><td>1783</td><td>0.0022434099831744</td></tr><tr><td>PE</td><td>moveis_cozinha_area_de_servico_jantar_e_jardim</td><td>4</td><td>1783</td><td>0.0022434099831744</td></tr><tr><td>PE</td><td>artigos_de_natal</td><td>4</td><td>1783</td><td>0.0022434099831744</td></tr><tr><td>PE</td><td>industria_comercio_e_negocios</td><td>4</td><td>1783</td><td>0.0022434099831744</td></tr><tr><td>PE</td><td>market_place</td><td>4</td><td>1783</td><td>0.0022434099831744</td></tr><tr><td>PE</td><td>construcao_ferramentas_seguranca</td><td>4</td><td>1783</td><td>0.0022434099831744</td></tr><tr><td>PE</td><td>moveis_sala</td><td>4</td><td>1783</td><td>0.0022434099831744</td></tr><tr><td>PE</td><td>livros_tecnicos</td><td>4</td><td>1783</td><td>0.0022434099831744</td></tr><tr><td>PE</td><td>eletroportateis</td><td>3</td><td>1783</td><td>0.0016825574873808</td></tr><tr><td>PE</td><td>construcao_ferramentas_iluminacao</td><td>3</td><td>1783</td><td>0.0016825574873808</td></tr><tr><td>PE</td><td>telefonia_fixa</td><td>3</td><td>1783</td><td>0.0016825574873808</td></tr><tr><td>PE</td><td>dvds_blu_ray</td><td>2</td><td>1783</td><td>0.0011217049915872</td></tr><tr><td>PE</td><td>flores</td><td>2</td><td>1783</td><td>0.0011217049915872</td></tr><tr><td>PE</td><td>climatizacao</td><td>2</td><td>1783</td><td>0.0011217049915872</td></tr><tr><td>PE</td><td>eletrodomesticos_2</td><td>2</td><td>1783</td><td>0.0011217049915872</td></tr><tr><td>PE</td><td>tablets_impressao_imagem</td><td>2</td><td>1783</td><td>0.0011217049915872</td></tr><tr><td>PE</td><td>fashion_underwear_e_moda_praia</td><td>2</td><td>1783</td><td>0.0011217049915872</td></tr><tr><td>PE</td><td>sinalizacao_e_seguranca</td><td>2</td><td>1783</td><td>0.0011217049915872</td></tr><tr><td>PE</td><td>pc_gamer</td><td>1</td><td>1783</td><td>0.0005608524957936</td></tr><tr><td>PE</td><td>moveis_quarto</td><td>1</td><td>1783</td><td>0.0005608524957936</td></tr><tr><td>PE</td><td>artes</td><td>1</td><td>1783</td><td>0.0005608524957936</td></tr><tr><td>PE</td><td>cine_foto</td><td>1</td><td>1783</td><td>0.0005608524957936</td></tr><tr><td>PE</td><td>portateis_casa_forno_e_cafe</td><td>1</td><td>1783</td><td>0.0005608524957936</td></tr><tr><td>PE</td><td>construcao_ferramentas_ferramentas</td><td>1</td><td>1783</td><td>0.0005608524957936</td></tr><tr><td>PI</td><td>beleza_saude</td><td>54</td><td>535</td><td>0.1009345794392523</td></tr><tr><td>PI</td><td>relogios_presentes</td><td>41</td><td>535</td><td>0.0766355140186916</td></tr><tr><td>PI</td><td>telefonia</td><td>38</td><td>535</td><td>0.0710280373831776</td></tr><tr><td>PI</td><td>informatica_acessorios</td><td>36</td><td>535</td><td>0.0672897196261682</td></tr><tr><td>PI</td><td>esporte_lazer</td><td>34</td><td>535</td><td>0.0635514018691589</td></tr><tr><td>PI</td><td>cama_mesa_banho</td><td>34</td><td>535</td><td>0.0635514018691589</td></tr><tr><td>PI</td><td>automotivo</td><td>34</td><td>535</td><td>0.0635514018691589</td></tr><tr><td>PI</td><td>brinquedos</td><td>28</td><td>535</td><td>0.0523364485981308</td></tr><tr><td>PI</td><td>moveis_decoracao</td><td>22</td><td>535</td><td>0.0411214953271028</td></tr><tr><td>PI</td><td>eletronicos</td><td>22</td><td>535</td><td>0.0411214953271028</td></tr><tr><td>PI</td><td>cool_stuff</td><td>20</td><td>535</td><td>0.0373831775700935</td></tr><tr><td>PI</td><td>utilidades_domesticas</td><td>19</td><td>535</td><td>0.0355140186915888</td></tr><tr><td>PI</td><td>ferramentas_jardim</td><td>17</td><td>535</td><td>0.0317757009345794</td></tr><tr><td>PI</td><td>perfumaria</td><td>16</td><td>535</td><td>0.0299065420560748</td></tr><tr><td>PI</td><td>bebes</td><td>12</td><td>535</td><td>0.0224299065420561</td></tr><tr><td>PI</td><td>papelaria</td><td>11</td><td>535</td><td>0.0205607476635514</td></tr><tr><td>PI</td><td>moveis_escritorio</td><td>9</td><td>535</td><td>0.0168224299065421</td></tr><tr><td>PI</td><td>consoles_games</td><td>9</td><td>535</td><td>0.0168224299065421</td></tr><tr><td>PI</td><td>pet_shop</td><td>7</td><td>535</td><td>0.0130841121495327</td></tr><tr><td>PI</td><td>instrumentos_musicais</td><td>6</td><td>535</td><td>0.0112149532710280</td></tr><tr><td>PI</td><td>fashion_bolsas_e_acessorios</td><td>5</td><td>535</td><td>0.0093457943925234</td></tr><tr><td>PI</td><td>malas_acessorios</td><td>5</td><td>535</td><td>0.0093457943925234</td></tr><tr><td>PI</td><td>casa_construcao</td><td>4</td><td>535</td><td>0.0074766355140187</td></tr><tr><td>PI</td><td>audio</td><td>4</td><td>535</td><td>0.0074766355140187</td></tr><tr><td>PI</td><td>construcao_ferramentas_jardim</td><td>4</td><td>535</td><td>0.0074766355140187</td></tr><tr><td>PI</td><td>eletrodomesticos</td><td>4</td><td>535</td><td>0.0074766355140187</td></tr><tr><td>PI</td><td>pcs</td><td>3</td><td>535</td><td>0.0056074766355140</td></tr><tr><td>PI</td><td>climatizacao</td><td>3</td><td>535</td><td>0.0056074766355140</td></tr><tr><td>PI</td><td>tablets_impressao_imagem</td><td>3</td><td>535</td><td>0.0056074766355140</td></tr><tr><td>PI</td><td>market_place</td><td>3</td><td>535</td><td>0.0056074766355140</td></tr><tr><td>PI</td><td>industria_comercio_e_negocios</td><td>3</td><td>535</td><td>0.0056074766355140</td></tr><tr><td>PI</td><td>agro_industria_e_comercio</td><td>3</td><td>535</td><td>0.0056074766355140</td></tr><tr><td>PI</td><td>casa_conforto</td><td>3</td><td>535</td><td>0.0056074766355140</td></tr><tr><td>PI</td><td>telefonia_fixa</td><td>2</td><td>535</td><td>0.0037383177570093</td></tr><tr><td>PI</td><td>livros_tecnicos</td><td>2</td><td>535</td><td>0.0037383177570093</td></tr><tr><td>PI</td><td>moveis_sala</td><td>2</td><td>535</td><td>0.0037383177570093</td></tr><tr><td>PI</td><td>artes</td><td>2</td><td>535</td><td>0.0037383177570093</td></tr><tr><td>PI</td><td>dvds_blu_ray</td><td>1</td><td>535</td><td>0.0018691588785047</td></tr><tr><td>PI</td><td>alimentos</td><td>1</td><td>535</td><td>0.0018691588785047</td></tr><tr><td>PI</td><td>fashion_calcados</td><td>1</td><td>535</td><td>0.0018691588785047</td></tr><tr><td>PI</td><td>fashion_underwear_e_moda_praia</td><td>1</td><td>535</td><td>0.0018691588785047</td></tr><tr><td>PI</td><td>artigos_de_festas</td><td>1</td><td>535</td><td>0.0018691588785047</td></tr><tr><td>PI</td><td>bebidas</td><td>1</td><td>535</td><td>0.0018691588785047</td></tr><tr><td>PI</td><td>eletrodomesticos_2</td><td>1</td><td>535</td><td>0.0018691588785047</td></tr><tr><td>PI</td><td>construcao_ferramentas_construcao</td><td>1</td><td>535</td><td>0.0018691588785047</td></tr><tr><td>PI</td><td>construcao_ferramentas_iluminacao</td><td>1</td><td>535</td><td>0.0018691588785047</td></tr><tr><td>PI</td><td>alimentos_bebidas</td><td>1</td><td>535</td><td>0.0018691588785047</td></tr><tr><td>PI</td><td>livros_interesse_geral</td><td>1</td><td>535</td><td>0.0018691588785047</td></tr><tr><td>PR</td><td>moveis_decoracao</td><td>520</td><td>5661</td><td>0.0918565624447977</td></tr><tr><td>PR</td><td>esporte_lazer</td><td>486</td><td>5661</td><td>0.0858505564387917</td></tr><tr><td>PR</td><td>cama_mesa_banho</td><td>468</td><td>5661</td><td>0.0826709062003180</td></tr><tr><td>PR</td><td>beleza_saude</td><td>425</td><td>5661</td><td>0.0750750750750751</td></tr><tr><td>PR</td><td>informatica_acessorios</td><td>389</td><td>5661</td><td>0.0687157745981275</td></tr><tr><td>PR</td><td>utilidades_domesticas</td><td>337</td><td>5661</td><td>0.0595301183536478</td></tr><tr><td>PR</td><td>relogios_presentes</td><td>307</td><td>5661</td><td>0.0542307012895248</td></tr><tr><td>PR</td><td>telefonia</td><td>250</td><td>5661</td><td>0.0441618088676912</td></tr><tr><td>PR</td><td>automotivo</td><td>234</td><td>5661</td><td>0.0413354531001590</td></tr><tr><td>PR</td><td>cool_stuff</td><td>215</td><td>5661</td><td>0.0379791556262144</td></tr><tr><td>PR</td><td>ferramentas_jardim</td><td>209</td><td>5661</td><td>0.0369192722133899</td></tr><tr><td>PR</td><td>brinquedos</td><td>205</td><td>5661</td><td>0.0362126832715068</td></tr><tr><td>PR</td><td>eletronicos</td><td>183</td><td>5661</td><td>0.0323264440911500</td></tr><tr><td>PR</td><td>bebes</td><td>161</td><td>5661</td><td>0.0284402049107931</td></tr><tr><td>PR</td><td>perfumaria</td><td>153</td><td>5661</td><td>0.0270270270270270</td></tr><tr><td>PR</td><td>papelaria</td><td>128</td><td>5661</td><td>0.0226108461402579</td></tr><tr><td>PR</td><td>fashion_bolsas_e_acessorios</td><td>118</td><td>5661</td><td>0.0208443737855503</td></tr><tr><td>PR</td><td>moveis_escritorio</td><td>92</td><td>5661</td><td>0.0162515456633104</td></tr><tr><td>PR</td><td>pet_shop</td><td>91</td><td>5661</td><td>0.0160748984278396</td></tr><tr><td>PR</td><td>construcao_ferramentas_construcao</td><td>51</td><td>5661</td><td>0.0090090090090090</td></tr><tr><td>PR</td><td>malas_acessorios</td><td>51</td><td>5661</td><td>0.0090090090090090</td></tr><tr><td>PR</td><td>consoles_games</td><td>47</td><td>5661</td><td>0.0083024200671259</td></tr><tr><td>PR</td><td>eletrodomesticos</td><td>44</td><td>5661</td><td>0.0077724783607137</td></tr><tr><td>PR</td><td>eletroportateis</td><td>42</td><td>5661</td><td>0.0074191838897721</td></tr><tr><td>PR</td><td>instrumentos_musicais</td><td>37</td><td>5661</td><td>0.0065359477124183</td></tr><tr><td>PR</td><td>livros_interesse_geral</td><td>37</td><td>5661</td><td>0.0065359477124183</td></tr><tr><td>PR</td><td>alimentos</td><td>29</td><td>5661</td><td>0.0051227698286522</td></tr><tr><td>PR</td><td>casa_construcao</td><td>24</td><td>5661</td><td>0.0042395336512984</td></tr><tr><td>PR</td><td>fashion_calcados</td><td>18</td><td>5661</td><td>0.0031796502384738</td></tr><tr><td>PR</td><td>construcao_ferramentas_seguranca</td><td>18</td><td>5661</td><td>0.0031796502384738</td></tr><tr><td>PR</td><td>audio</td><td>18</td><td>5661</td><td>0.0031796502384738</td></tr><tr><td>PR</td><td>moveis_sala</td><td>17</td><td>5661</td><td>0.0030030030030030</td></tr><tr><td>PR</td><td>alimentos_bebidas</td><td>16</td><td>5661</td><td>0.0028263557675322</td></tr><tr><td>PR</td><td>eletrodomesticos_2</td><td>16</td><td>5661</td><td>0.0028263557675322</td></tr><tr><td>PR</td><td>livros_tecnicos</td><td>15</td><td>5661</td><td>0.0026497085320615</td></tr><tr><td>PR</td><td>market_place</td><td>15</td><td>5661</td><td>0.0026497085320615</td></tr><tr><td>PR</td><td>bebidas</td><td>15</td><td>5661</td><td>0.0026497085320615</td></tr><tr><td>PR</td><td>moveis_cozinha_area_de_servico_jantar_e_jardim</td><td>14</td><td>5661</td><td>0.0024730612965907</td></tr><tr><td>PR</td><td>construcao_ferramentas_iluminacao</td><td>13</td><td>5661</td><td>0.0022964140611199</td></tr><tr><td>PR</td><td>casa_conforto</td><td>13</td><td>5661</td><td>0.0022964140611199</td></tr><tr><td>PR</td><td>fashion_roupa_masculina</td><td>12</td><td>5661</td><td>0.0021197668256492</td></tr><tr><td>PR</td><td>agro_industria_e_comercio</td><td>12</td><td>5661</td><td>0.0021197668256492</td></tr><tr><td>PR</td><td>industria_comercio_e_negocios</td><td>12</td><td>5661</td><td>0.0021197668256492</td></tr><tr><td>PR</td><td>climatizacao</td><td>12</td><td>5661</td><td>0.0021197668256492</td></tr><tr><td>PR</td><td>moveis_quarto</td><td>9</td><td>5661</td><td>0.0015898251192369</td></tr><tr><td>PR</td><td>artes</td><td>9</td><td>5661</td><td>0.0015898251192369</td></tr><tr><td>PR</td><td>portateis_casa_forno_e_cafe</td><td>8</td><td>5661</td><td>0.0014131778837661</td></tr><tr><td>PR</td><td>construcao_ferramentas_ferramentas</td><td>8</td><td>5661</td><td>0.0014131778837661</td></tr><tr><td>PR</td><td>musica</td><td>7</td><td>5661</td><td>0.0012365306482954</td></tr><tr><td>PR</td><td>construcao_ferramentas_jardim</td><td>6</td><td>5661</td><td>0.0010598834128246</td></tr><tr><td>PR</td><td>telefonia_fixa</td><td>6</td><td>5661</td><td>0.0010598834128246</td></tr><tr><td>PR</td><td>fashion_underwear_e_moda_praia</td><td>6</td><td>5661</td><td>0.0010598834128246</td></tr><tr><td>PR</td><td>artigos_de_natal</td><td>6</td><td>5661</td><td>0.0010598834128246</td></tr><tr><td>PR</td><td>dvds_blu_ray</td><td>5</td><td>5661</td><td>0.0008832361773538</td></tr><tr><td>PR</td><td>pcs</td><td>4</td><td>5661</td><td>0.0007065889418831</td></tr><tr><td>PR</td><td>tablets_impressao_imagem</td><td>3</td><td>5661</td><td>0.0005299417064123</td></tr><tr><td>PR</td><td>sinalizacao_e_seguranca</td><td>3</td><td>5661</td><td>0.0005299417064123</td></tr><tr><td>PR</td><td>fraldas_higiene</td><td>2</td><td>5661</td><td>0.0003532944709415</td></tr><tr><td>PR</td><td>fashion_roupa_feminina</td><td>2</td><td>5661</td><td>0.0003532944709415</td></tr><tr><td>PR</td><td>cine_foto</td><td>2</td><td>5661</td><td>0.0003532944709415</td></tr><tr><td>PR</td><td>artigos_de_festas</td><td>2</td><td>5661</td><td>0.0003532944709415</td></tr><tr><td>PR</td><td>livros_importados</td><td>2</td><td>5661</td><td>0.0003532944709415</td></tr><tr><td>PR</td><td>casa_conforto_2</td><td>1</td><td>5661</td><td>0.0001766472354708</td></tr><tr><td>PR</td><td>fashion_esporte</td><td>1</td><td>5661</td><td>0.0001766472354708</td></tr><tr><td>RJ</td><td>cama_mesa_banho</td><td>1644</td><td>14355</td><td>0.1145245559038662</td></tr><tr><td>RJ</td><td>moveis_decoracao</td><td>1090</td><td>14355</td><td>0.0759317311041449</td></tr><tr><td>RJ</td><td>beleza_saude</td><td>1064</td><td>14355</td><td>0.0741205154998258</td></tr><tr><td>RJ</td><td>esporte_lazer</td><td>1041</td><td>14355</td><td>0.0725182863113898</td></tr><tr><td>RJ</td><td>informatica_acessorios</td><td>1002</td><td>14355</td><td>0.0698014629049112</td></tr><tr><td>RJ</td><td>utilidades_domesticas</td><td>877</td><td>14355</td><td>0.0610936955764542</td></tr><tr><td>RJ</td><td>relogios_presentes</td><td>874</td><td>14355</td><td>0.0608847091605712</td></tr><tr><td>RJ</td><td>ferramentas_jardim</td><td>656</td><td>14355</td><td>0.0456983629397423</td></tr><tr><td>RJ</td><td>brinquedos</td><td>585</td><td>14355</td><td>0.0407523510971787</td></tr><tr><td>RJ</td><td>cool_stuff</td><td>523</td><td>14355</td><td>0.0364332985022640</td></tr><tr><td>RJ</td><td>perfumaria</td><td>451</td><td>14355</td><td>0.0314176245210728</td></tr><tr><td>RJ</td><td>automotivo</td><td>442</td><td>14355</td><td>0.0307906652734239</td></tr><tr><td>RJ</td><td>telefonia</td><td>438</td><td>14355</td><td>0.0305120167189133</td></tr><tr><td>RJ</td><td>eletronicos</td><td>437</td><td>14355</td><td>0.0304423545802856</td></tr><tr><td>RJ</td><td>bebes</td><td>359</td><td>14355</td><td>0.0250087077673285</td></tr><tr><td>RJ</td><td>papelaria</td><td>331</td><td>14355</td><td>0.0230581678857541</td></tr><tr><td>RJ</td><td>moveis_escritorio</td><td>306</td><td>14355</td><td>0.0213166144200627</td></tr><tr><td>RJ</td><td>pet_shop</td><td>218</td><td>14355</td><td>0.0151863462208290</td></tr><tr><td>RJ</td><td>fashion_bolsas_e_acessorios</td><td>200</td><td>14355</td><td>0.0139324277255312</td></tr><tr><td>RJ</td><td>consoles_games</td><td>142</td><td>14355</td><td>0.0098920236851271</td></tr><tr><td>RJ</td><td>malas_acessorios</td><td>123</td><td>14355</td><td>0.0085684430512017</td></tr><tr><td>RJ</td><td>construcao_ferramentas_construcao</td><td>122</td><td>14355</td><td>0.0084987809125740</td></tr><tr><td>RJ</td><td>moveis_sala</td><td>117</td><td>14355</td><td>0.0081504702194357</td></tr><tr><td>RJ</td><td>eletroportateis</td><td>88</td><td>14355</td><td>0.0061302681992337</td></tr><tr><td>RJ</td><td>eletrodomesticos</td><td>83</td><td>14355</td><td>0.0057819575060954</td></tr><tr><td>RJ</td><td>instrumentos_musicais</td><td>80</td><td>14355</td><td>0.0055729710902125</td></tr><tr><td>RJ</td><td>casa_construcao</td><td>72</td><td>14355</td><td>0.0050156739811912</td></tr><tr><td>RJ</td><td>climatizacao</td><td>69</td><td>14355</td><td>0.0048066875653083</td></tr><tr><td>RJ</td><td>casa_conforto</td><td>61</td><td>14355</td><td>0.0042493904562870</td></tr><tr><td>RJ</td><td>audio</td><td>58</td><td>14355</td><td>0.0040404040404040</td></tr><tr><td>RJ</td><td>livros_interesse_geral</td><td>57</td><td>14355</td><td>0.0039707419017764</td></tr><tr><td>RJ</td><td>bebidas</td><td>55</td><td>14355</td><td>0.0038314176245211</td></tr><tr><td>RJ</td><td>alimentos_bebidas</td><td>52</td><td>14355</td><td>0.0036224312086381</td></tr><tr><td>RJ</td><td>alimentos</td><td>47</td><td>14355</td><td>0.0032741205154998</td></tr><tr><td>RJ</td><td>moveis_cozinha_area_de_servico_jantar_e_jardim</td><td>47</td><td>14355</td><td>0.0032741205154998</td></tr><tr><td>RJ</td><td>eletrodomesticos_2</td><td>45</td><td>14355</td><td>0.0031347962382445</td></tr><tr><td>RJ</td><td>construcao_ferramentas_jardim</td><td>39</td><td>14355</td><td>0.0027168234064786</td></tr><tr><td>RJ</td><td>telefonia_fixa</td><td>36</td><td>14355</td><td>0.0025078369905956</td></tr><tr><td>RJ</td><td>market_place</td><td>36</td><td>14355</td><td>0.0025078369905956</td></tr><tr><td>RJ</td><td>artes</td><td>33</td><td>14355</td><td>0.0022988505747126</td></tr><tr><td>RJ</td><td>livros_tecnicos</td><td>29</td><td>14355</td><td>0.0020202020202020</td></tr><tr><td>RJ</td><td>fashion_calcados</td><td>29</td><td>14355</td><td>0.0020202020202020</td></tr><tr><td>RJ</td><td>agro_industria_e_comercio</td><td>28</td><td>14355</td><td>0.0019505398815744</td></tr><tr><td>RJ</td><td>industria_comercio_e_negocios</td><td>28</td><td>14355</td><td>0.0019505398815744</td></tr><tr><td>RJ</td><td>pcs</td><td>23</td><td>14355</td><td>0.0016022291884361</td></tr><tr><td>RJ</td><td>construcao_ferramentas_iluminacao</td><td>21</td><td>14355</td><td>0.0014629049111808</td></tr><tr><td>RJ</td><td>moveis_quarto</td><td>20</td><td>14355</td><td>0.0013932427725531</td></tr><tr><td>RJ</td><td>sinalizacao_e_seguranca</td><td>20</td><td>14355</td><td>0.0013932427725531</td></tr><tr><td>RJ</td><td>fashion_underwear_e_moda_praia</td><td>17</td><td>14355</td><td>0.0011842563566701</td></tr><tr><td>RJ</td><td>construcao_ferramentas_seguranca</td><td>17</td><td>14355</td><td>0.0011842563566701</td></tr><tr><td>RJ</td><td>artigos_de_natal</td><td>15</td><td>14355</td><td>0.0010449320794148</td></tr><tr><td>RJ</td><td>dvds_blu_ray</td><td>13</td><td>14355</td><td>0.0009056078021595</td></tr><tr><td>RJ</td><td>fashion_roupa_masculina</td><td>12</td><td>14355</td><td>0.0008359456635319</td></tr><tr><td>RJ</td><td>tablets_impressao_imagem</td><td>10</td><td>14355</td><td>0.0006966213862766</td></tr><tr><td>RJ</td><td>construcao_ferramentas_ferramentas</td><td>9</td><td>14355</td><td>0.0006269592476489</td></tr><tr><td>RJ</td><td>flores</td><td>8</td><td>14355</td><td>0.0005572971090212</td></tr><tr><td>RJ</td><td>musica</td><td>8</td><td>14355</td><td>0.0005572971090212</td></tr><tr><td>RJ</td><td>moveis_colchao_e_estofado</td><td>8</td><td>14355</td><td>0.0005572971090212</td></tr><tr><td>RJ</td><td>portateis_casa_forno_e_cafe</td><td>7</td><td>14355</td><td>0.0004876349703936</td></tr><tr><td>RJ</td><td>artigos_de_festas</td><td>6</td><td>14355</td><td>0.0004179728317659</td></tr><tr><td>RJ</td><td>livros_importados</td><td>6</td><td>14355</td><td>0.0004179728317659</td></tr><tr><td>RJ</td><td>cine_foto</td><td>5</td><td>14355</td><td>0.0003483106931383</td></tr><tr><td>RJ</td><td>casa_conforto_2</td><td>4</td><td>14355</td><td>0.0002786485545106</td></tr><tr><td>RJ</td><td>fraldas_higiene</td><td>2</td><td>14355</td><td>0.0001393242772553</td></tr><tr><td>RJ</td><td>pc_gamer</td><td>2</td><td>14355</td><td>0.0001393242772553</td></tr><tr><td>RJ</td><td>cds_dvds_musicais</td><td>2</td><td>14355</td><td>0.0001393242772553</td></tr><tr><td>RJ</td><td>fashion_esporte</td><td>2</td><td>14355</td><td>0.0001393242772553</td></tr><tr><td>RJ</td><td>fashion_roupa_feminina</td><td>2</td><td>14355</td><td>0.0001393242772553</td></tr><tr><td>RJ</td><td>fashion_roupa_infanto_juvenil</td><td>1</td><td>14355</td><td>0.0000696621386277</td></tr><tr><td>RJ</td><td>portateis_cozinha_e_preparadores_de_alimentos</td><td>1</td><td>14355</td><td>0.0000696621386277</td></tr><tr><td>RN</td><td>beleza_saude</td><td>58</td><td>523</td><td>0.1108986615678776</td></tr><tr><td>RN</td><td>relogios_presentes</td><td>49</td><td>523</td><td>0.0936902485659656</td></tr><tr><td>RN</td><td>informatica_acessorios</td><td>32</td><td>523</td><td>0.0611854684512428</td></tr><tr><td>RN</td><td>cama_mesa_banho</td><td>30</td><td>523</td><td>0.0573613766730402</td></tr><tr><td>RN</td><td>moveis_decoracao</td><td>29</td><td>523</td><td>0.0554493307839388</td></tr><tr><td>RN</td><td>livros_interesse_geral</td><td>27</td><td>523</td><td>0.0516252390057361</td></tr><tr><td>RN</td><td>utilidades_domesticas</td><td>25</td><td>523</td><td>0.0478011472275335</td></tr><tr><td>RN</td><td>telefonia</td><td>25</td><td>523</td><td>0.0478011472275335</td></tr><tr><td>RN</td><td>brinquedos</td><td>25</td><td>523</td><td>0.0478011472275335</td></tr><tr><td>RN</td><td>esporte_lazer</td><td>22</td><td>523</td><td>0.0420650095602294</td></tr><tr><td>RN</td><td>cool_stuff</td><td>21</td><td>523</td><td>0.0401529636711281</td></tr><tr><td>RN</td><td>perfumaria</td><td>21</td><td>523</td><td>0.0401529636711281</td></tr><tr><td>RN</td><td>ferramentas_jardim</td><td>19</td><td>523</td><td>0.0363288718929254</td></tr><tr><td>RN</td><td>automotivo</td><td>19</td><td>523</td><td>0.0363288718929254</td></tr><tr><td>RN</td><td>bebes</td><td>15</td><td>523</td><td>0.0286806883365201</td></tr><tr><td>RN</td><td>eletronicos</td><td>14</td><td>523</td><td>0.0267686424474187</td></tr><tr><td>RN</td><td>pet_shop</td><td>13</td><td>523</td><td>0.0248565965583174</td></tr><tr><td>RN</td><td>papelaria</td><td>13</td><td>523</td><td>0.0248565965583174</td></tr><tr><td>RN</td><td>construcao_ferramentas_construcao</td><td>8</td><td>523</td><td>0.0152963671128107</td></tr><tr><td>RN</td><td>fashion_bolsas_e_acessorios</td><td>8</td><td>523</td><td>0.0152963671128107</td></tr><tr><td>RN</td><td>consoles_games</td><td>6</td><td>523</td><td>0.0114722753346080</td></tr><tr><td>RN</td><td>moveis_escritorio</td><td>5</td><td>523</td><td>0.0095602294455067</td></tr><tr><td>RN</td><td>alimentos_bebidas</td><td>4</td><td>523</td><td>0.0076481835564054</td></tr><tr><td>RN</td><td>moveis_quarto</td><td>3</td><td>523</td><td>0.0057361376673040</td></tr><tr><td>RN</td><td>eletroportateis</td><td>3</td><td>523</td><td>0.0057361376673040</td></tr><tr><td>RN</td><td>construcao_ferramentas_jardim</td><td>3</td><td>523</td><td>0.0057361376673040</td></tr><tr><td>RN</td><td>moveis_cozinha_area_de_servico_jantar_e_jardim</td><td>2</td><td>523</td><td>0.0038240917782027</td></tr><tr><td>RN</td><td>fashion_calcados</td><td>2</td><td>523</td><td>0.0038240917782027</td></tr><tr><td>RN</td><td>market_place</td><td>2</td><td>523</td><td>0.0038240917782027</td></tr><tr><td>RN</td><td>instrumentos_musicais</td><td>2</td><td>523</td><td>0.0038240917782027</td></tr><tr><td>RN</td><td>eletrodomesticos_2</td><td>2</td><td>523</td><td>0.0038240917782027</td></tr><tr><td>RN</td><td>alimentos</td><td>2</td><td>523</td><td>0.0038240917782027</td></tr><tr><td>RN</td><td>eletrodomesticos</td><td>2</td><td>523</td><td>0.0038240917782027</td></tr><tr><td>RN</td><td>livros_tecnicos</td><td>1</td><td>523</td><td>0.0019120458891013</td></tr><tr><td>RN</td><td>artigos_de_natal</td><td>1</td><td>523</td><td>0.0019120458891013</td></tr><tr><td>RN</td><td>artes</td><td>1</td><td>523</td><td>0.0019120458891013</td></tr><tr><td>RN</td><td>industria_comercio_e_negocios</td><td>1</td><td>523</td><td>0.0019120458891013</td></tr><tr><td>RN</td><td>dvds_blu_ray</td><td>1</td><td>523</td><td>0.0019120458891013</td></tr><tr><td>RN</td><td>casa_conforto</td><td>1</td><td>523</td><td>0.0019120458891013</td></tr><tr><td>RN</td><td>audio</td><td>1</td><td>523</td><td>0.0019120458891013</td></tr><tr><td>RN</td><td>malas_acessorios</td><td>1</td><td>523</td><td>0.0019120458891013</td></tr><tr><td>RN</td><td>construcao_ferramentas_seguranca</td><td>1</td><td>523</td><td>0.0019120458891013</td></tr><tr><td>RN</td><td>casa_construcao</td><td>1</td><td>523</td><td>0.0019120458891013</td></tr><tr><td>RN</td><td>moveis_colchao_e_estofado</td><td>1</td><td>523</td><td>0.0019120458891013</td></tr><tr><td>RN</td><td>sinalizacao_e_seguranca</td><td>1</td><td>523</td><td>0.0019120458891013</td></tr><tr><td>RO</td><td>beleza_saude</td><td>25</td><td>272</td><td>0.0919117647058824</td></tr><tr><td>RO</td><td>informatica_acessorios</td><td>23</td><td>272</td><td>0.0845588235294118</td></tr><tr><td>RO</td><td>esporte_lazer</td><td>20</td><td>272</td><td>0.0735294117647059</td></tr><tr><td>RO</td><td>telefonia</td><td>19</td><td>272</td><td>0.0698529411764706</td></tr><tr><td>RO</td><td>relogios_presentes</td><td>15</td><td>272</td><td>0.0551470588235294</td></tr><tr><td>RO</td><td>brinquedos</td><td>15</td><td>272</td><td>0.0551470588235294</td></tr><tr><td>RO</td><td>cama_mesa_banho</td><td>15</td><td>272</td><td>0.0551470588235294</td></tr><tr><td>RO</td><td>cool_stuff</td><td>13</td><td>272</td><td>0.0477941176470588</td></tr><tr><td>RO</td><td>moveis_decoracao</td><td>13</td><td>272</td><td>0.0477941176470588</td></tr><tr><td>RO</td><td>bebes</td><td>11</td><td>272</td><td>0.0404411764705882</td></tr><tr><td>RO</td><td>automotivo</td><td>10</td><td>272</td><td>0.0367647058823529</td></tr><tr><td>RO</td><td>fashion_bolsas_e_acessorios</td><td>9</td><td>272</td><td>0.0330882352941176</td></tr><tr><td>RO</td><td>pet_shop</td><td>8</td><td>272</td><td>0.0294117647058824</td></tr><tr><td>RO</td><td>papelaria</td><td>8</td><td>272</td><td>0.0294117647058824</td></tr><tr><td>RO</td><td>ferramentas_jardim</td><td>7</td><td>272</td><td>0.0257352941176471</td></tr><tr><td>RO</td><td>eletronicos</td><td>6</td><td>272</td><td>0.0220588235294118</td></tr><tr><td>RO</td><td>malas_acessorios</td><td>6</td><td>272</td><td>0.0220588235294118</td></tr><tr><td>RO</td><td>moveis_escritorio</td><td>6</td><td>272</td><td>0.0220588235294118</td></tr><tr><td>RO</td><td>perfumaria</td><td>6</td><td>272</td><td>0.0220588235294118</td></tr><tr><td>RO</td><td>utilidades_domesticas</td><td>5</td><td>272</td><td>0.0183823529411765</td></tr><tr><td>RO</td><td>construcao_ferramentas_construcao</td><td>4</td><td>272</td><td>0.0147058823529412</td></tr><tr><td>RO</td><td>agro_industria_e_comercio</td><td>4</td><td>272</td><td>0.0147058823529412</td></tr><tr><td>RO</td><td>pcs</td><td>2</td><td>272</td><td>0.0073529411764706</td></tr><tr><td>RO</td><td>artes</td><td>2</td><td>272</td><td>0.0073529411764706</td></tr><tr><td>RO</td><td>construcao_ferramentas_jardim</td><td>2</td><td>272</td><td>0.0073529411764706</td></tr><tr><td>RO</td><td>artigos_de_natal</td><td>2</td><td>272</td><td>0.0073529411764706</td></tr><tr><td>RO</td><td>eletrodomesticos</td><td>2</td><td>272</td><td>0.0073529411764706</td></tr><tr><td>RO</td><td>moveis_sala</td><td>1</td><td>272</td><td>0.0036764705882353</td></tr><tr><td>RO</td><td>construcao_ferramentas_seguranca</td><td>1</td><td>272</td><td>0.0036764705882353</td></tr><tr><td>RO</td><td>seguros_e_servicos</td><td>1</td><td>272</td><td>0.0036764705882353</td></tr><tr><td>RO</td><td>dvds_blu_ray</td><td>1</td><td>272</td><td>0.0036764705882353</td></tr><tr><td>RO</td><td>market_place</td><td>1</td><td>272</td><td>0.0036764705882353</td></tr><tr><td>RO</td><td>consoles_games</td><td>1</td><td>272</td><td>0.0036764705882353</td></tr><tr><td>RO</td><td>fashion_calcados</td><td>1</td><td>272</td><td>0.0036764705882353</td></tr><tr><td>RO</td><td>casa_conforto</td><td>1</td><td>272</td><td>0.0036764705882353</td></tr><tr><td>RO</td><td>livros_interesse_geral</td><td>1</td><td>272</td><td>0.0036764705882353</td></tr><tr><td>RO</td><td>portateis_casa_forno_e_cafe</td><td>1</td><td>272</td><td>0.0036764705882353</td></tr><tr><td>RO</td><td>industria_comercio_e_negocios</td><td>1</td><td>272</td><td>0.0036764705882353</td></tr><tr><td>RO</td><td>eletroportateis</td><td>1</td><td>272</td><td>0.0036764705882353</td></tr><tr><td>RO</td><td>alimentos</td><td>1</td><td>272</td><td>0.0036764705882353</td></tr><tr><td>RO</td><td>instrumentos_musicais</td><td>1</td><td>272</td><td>0.0036764705882353</td></tr><tr><td>RR</td><td>esporte_lazer</td><td>8</td><td>50</td><td>0.1600000000000000</td></tr><tr><td>RR</td><td>beleza_saude</td><td>7</td><td>50</td><td>0.1400000000000000</td></tr><tr><td>RR</td><td>moveis_decoracao</td><td>6</td><td>50</td><td>0.1200000000000000</td></tr><tr><td>RR</td><td>informatica_acessorios</td><td>5</td><td>50</td><td>0.1000000000000000</td></tr><tr><td>RR</td><td>telefonia</td><td>4</td><td>50</td><td>0.0800000000000000</td></tr><tr><td>RR</td><td>cama_mesa_banho</td><td>3</td><td>50</td><td>0.0600000000000000</td></tr><tr><td>RR</td><td>eletrodomesticos</td><td>3</td><td>50</td><td>0.0600000000000000</td></tr><tr><td>RR</td><td>papelaria</td><td>2</td><td>50</td><td>0.0400000000000000</td></tr><tr><td>RR</td><td>cool_stuff</td><td>2</td><td>50</td><td>0.0400000000000000</td></tr><tr><td>RR</td><td>bebes</td><td>2</td><td>50</td><td>0.0400000000000000</td></tr><tr><td>RR</td><td>eletronicos</td><td>2</td><td>50</td><td>0.0400000000000000</td></tr><tr><td>RR</td><td>ferramentas_jardim</td><td>2</td><td>50</td><td>0.0400000000000000</td></tr><tr><td>RR</td><td>perfumaria</td><td>1</td><td>50</td><td>0.0200000000000000</td></tr><tr><td>RR</td><td>automotivo</td><td>1</td><td>50</td><td>0.0200000000000000</td></tr><tr><td>RR</td><td>moveis_escritorio</td><td>1</td><td>50</td><td>0.0200000000000000</td></tr><tr><td>RR</td><td>relogios_presentes</td><td>1</td><td>50</td><td>0.0200000000000000</td></tr><tr><td>RS</td><td>cama_mesa_banho</td><td>614</td><td>6136</td><td>0.1000651890482399</td></tr><tr><td>RS</td><td>moveis_decoracao</td><td>561</td><td>6136</td><td>0.0914276401564537</td></tr><tr><td>RS</td><td>informatica_acessorios</td><td>485</td><td>6136</td><td>0.0790417209908735</td></tr><tr><td>RS</td><td>esporte_lazer</td><td>475</td><td>6136</td><td>0.0774119947848761</td></tr><tr><td>RS</td><td>beleza_saude</td><td>436</td><td>6136</td><td>0.0710560625814863</td></tr><tr><td>RS</td><td>utilidades_domesticas</td><td>434</td><td>6136</td><td>0.0707301173402868</td></tr><tr><td>RS</td><td>telefonia</td><td>292</td><td>6136</td><td>0.0475880052151239</td></tr><tr><td>RS</td><td>ferramentas_jardim</td><td>290</td><td>6136</td><td>0.0472620599739244</td></tr><tr><td>RS</td><td>cool_stuff</td><td>262</td><td>6136</td><td>0.0426988265971317</td></tr><tr><td>RS</td><td>relogios_presentes</td><td>233</td><td>6136</td><td>0.0379726205997392</td></tr><tr><td>RS</td><td>brinquedos</td><td>212</td><td>6136</td><td>0.0345501955671447</td></tr><tr><td>RS</td><td>bebes</td><td>210</td><td>6136</td><td>0.0342242503259452</td></tr><tr><td>RS</td><td>automotivo</td><td>188</td><td>6136</td><td>0.0306388526727510</td></tr><tr><td>RS</td><td>eletronicos</td><td>165</td><td>6136</td><td>0.0268904823989570</td></tr><tr><td>RS</td><td>perfumaria</td><td>155</td><td>6136</td><td>0.0252607561929596</td></tr><tr><td>RS</td><td>papelaria</td><td>148</td><td>6136</td><td>0.0241199478487614</td></tr><tr><td>RS</td><td>pet_shop</td><td>99</td><td>6136</td><td>0.0161342894393742</td></tr><tr><td>RS</td><td>fashion_bolsas_e_acessorios</td><td>80</td><td>6136</td><td>0.0130378096479791</td></tr><tr><td>RS</td><td>moveis_escritorio</td><td>68</td><td>6136</td><td>0.0110821382007823</td></tr><tr><td>RS</td><td>consoles_games</td><td>61</td><td>6136</td><td>0.0099413298565841</td></tr><tr><td>RS</td><td>malas_acessorios</td><td>56</td><td>6136</td><td>0.0091264667535854</td></tr><tr><td>RS</td><td>eletroportateis</td><td>45</td><td>6136</td><td>0.0073337679269883</td></tr><tr><td>RS</td><td>construcao_ferramentas_construcao</td><td>44</td><td>6136</td><td>0.0071707953063885</td></tr><tr><td>RS</td><td>eletrodomesticos</td><td>44</td><td>6136</td><td>0.0071707953063885</td></tr><tr><td>RS</td><td>casa_construcao</td><td>43</td><td>6136</td><td>0.0070078226857888</td></tr><tr><td>RS</td><td>instrumentos_musicais</td><td>32</td><td>6136</td><td>0.0052151238591917</td></tr><tr><td>RS</td><td>livros_interesse_geral</td><td>28</td><td>6136</td><td>0.0045632333767927</td></tr><tr><td>RS</td><td>construcao_ferramentas_iluminacao</td><td>24</td><td>6136</td><td>0.0039113428943937</td></tr><tr><td>RS</td><td>moveis_sala</td><td>24</td><td>6136</td><td>0.0039113428943937</td></tr><tr><td>RS</td><td>industria_comercio_e_negocios</td><td>23</td><td>6136</td><td>0.0037483702737940</td></tr><tr><td>RS</td><td>market_place</td><td>21</td><td>6136</td><td>0.0034224250325945</td></tr><tr><td>RS</td><td>casa_conforto</td><td>21</td><td>6136</td><td>0.0034224250325945</td></tr><tr><td>RS</td><td>telefonia_fixa</td><td>19</td><td>6136</td><td>0.0030964797913950</td></tr><tr><td>RS</td><td>bebidas</td><td>18</td><td>6136</td><td>0.0029335071707953</td></tr><tr><td>RS</td><td>sinalizacao_e_seguranca</td><td>17</td><td>6136</td><td>0.0027705345501956</td></tr><tr><td>RS</td><td>audio</td><td>16</td><td>6136</td><td>0.0026075619295958</td></tr><tr><td>RS</td><td>climatizacao</td><td>15</td><td>6136</td><td>0.0024445893089961</td></tr><tr><td>RS</td><td>alimentos</td><td>13</td><td>6136</td><td>0.0021186440677966</td></tr><tr><td>RS</td><td>moveis_cozinha_area_de_servico_jantar_e_jardim</td><td>13</td><td>6136</td><td>0.0021186440677966</td></tr><tr><td>RS</td><td>eletrodomesticos_2</td><td>12</td><td>6136</td><td>0.0019556714471969</td></tr><tr><td>RS</td><td>cine_foto</td><td>12</td><td>6136</td><td>0.0019556714471969</td></tr><tr><td>RS</td><td>livros_tecnicos</td><td>12</td><td>6136</td><td>0.0019556714471969</td></tr><tr><td>RS</td><td>fashion_calcados</td><td>10</td><td>6136</td><td>0.0016297262059974</td></tr><tr><td>RS</td><td>fashion_roupa_masculina</td><td>9</td><td>6136</td><td>0.0014667535853977</td></tr><tr><td>RS</td><td>artes</td><td>9</td><td>6136</td><td>0.0014667535853977</td></tr><tr><td>RS</td><td>agro_industria_e_comercio</td><td>9</td><td>6136</td><td>0.0014667535853977</td></tr><tr><td>RS</td><td>pcs</td><td>8</td><td>6136</td><td>0.0013037809647979</td></tr><tr><td>RS</td><td>construcao_ferramentas_seguranca</td><td>8</td><td>6136</td><td>0.0013037809647979</td></tr><tr><td>RS</td><td>construcao_ferramentas_ferramentas</td><td>8</td><td>6136</td><td>0.0013037809647979</td></tr><tr><td>RS</td><td>construcao_ferramentas_jardim</td><td>7</td><td>6136</td><td>0.0011408083441982</td></tr><tr><td>RS</td><td>alimentos_bebidas</td><td>6</td><td>6136</td><td>0.0009778357235984</td></tr><tr><td>RS</td><td>artigos_de_natal</td><td>6</td><td>6136</td><td>0.0009778357235984</td></tr><tr><td>RS</td><td>cds_dvds_musicais</td><td>5</td><td>6136</td><td>0.0008148631029987</td></tr><tr><td>RS</td><td>dvds_blu_ray</td><td>4</td><td>6136</td><td>0.0006518904823990</td></tr><tr><td>RS</td><td>artigos_de_festas</td><td>4</td><td>6136</td><td>0.0006518904823990</td></tr><tr><td>RS</td><td>la_cuisine</td><td>3</td><td>6136</td><td>0.0004889178617992</td></tr><tr><td>RS</td><td>fashion_underwear_e_moda_praia</td><td>3</td><td>6136</td><td>0.0004889178617992</td></tr><tr><td>RS</td><td>flores</td><td>3</td><td>6136</td><td>0.0004889178617992</td></tr><tr><td>RS</td><td>portateis_casa_forno_e_cafe</td><td>3</td><td>6136</td><td>0.0004889178617992</td></tr><tr><td>RS</td><td>fashion_esporte</td><td>2</td><td>6136</td><td>0.0003259452411995</td></tr><tr><td>RS</td><td>moveis_quarto</td><td>2</td><td>6136</td><td>0.0003259452411995</td></tr><tr><td>RS</td><td>livros_importados</td><td>2</td><td>6136</td><td>0.0003259452411995</td></tr><tr><td>RS</td><td>musica</td><td>1</td><td>6136</td><td>0.0001629726205997</td></tr><tr><td>RS</td><td>tablets_impressao_imagem</td><td>1</td><td>6136</td><td>0.0001629726205997</td></tr><tr><td>RS</td><td>casa_conforto_2</td><td>1</td><td>6136</td><td>0.0001629726205997</td></tr><tr><td>RS</td><td>portateis_cozinha_e_preparadores_de_alimentos</td><td>1</td><td>6136</td><td>0.0001629726205997</td></tr><tr><td>RS</td><td>pc_gamer</td><td>1</td><td>6136</td><td>0.0001629726205997</td></tr><tr><td>SC</td><td>esporte_lazer</td><td>363</td><td>4113</td><td>0.0882567469000729</td></tr><tr><td>SC</td><td>moveis_decoracao</td><td>354</td><td>4113</td><td>0.0860685630926331</td></tr><tr><td>SC</td><td>cama_mesa_banho</td><td>330</td><td>4113</td><td>0.0802334062727936</td></tr><tr><td>SC</td><td>informatica_acessorios</td><td>320</td><td>4113</td><td>0.0778020909311938</td></tr><tr><td>SC</td><td>beleza_saude</td><td>309</td><td>4113</td><td>0.0751276440554340</td></tr><tr><td>SC</td><td>utilidades_domesticas</td><td>264</td><td>4113</td><td>0.0641867250182349</td></tr><tr><td>SC</td><td>relogios_presentes</td><td>185</td><td>4113</td><td>0.0449793338195964</td></tr><tr><td>SC</td><td>ferramentas_jardim</td><td>183</td><td>4113</td><td>0.0444930707512764</td></tr><tr><td>SC</td><td>automotivo</td><td>182</td><td>4113</td><td>0.0442499392171165</td></tr><tr><td>SC</td><td>telefonia</td><td>175</td><td>4113</td><td>0.0425480184779966</td></tr><tr><td>SC</td><td>cool_stuff</td><td>159</td><td>4113</td><td>0.0386579139314369</td></tr><tr><td>SC</td><td>eletronicos</td><td>125</td><td>4113</td><td>0.0303914417699976</td></tr><tr><td>SC</td><td>brinquedos</td><td>120</td><td>4113</td><td>0.0291757840991977</td></tr><tr><td>SC</td><td>perfumaria</td><td>118</td><td>4113</td><td>0.0286895210308777</td></tr><tr><td>SC</td><td>bebes</td><td>113</td><td>4113</td><td>0.0274738633600778</td></tr><tr><td>SC</td><td>papelaria</td><td>94</td><td>4113</td><td>0.0228543642110382</td></tr><tr><td>SC</td><td>pet_shop</td><td>85</td><td>4113</td><td>0.0206661804035983</td></tr><tr><td>SC</td><td>fashion_bolsas_e_acessorios</td><td>79</td><td>4113</td><td>0.0192073911986385</td></tr><tr><td>SC</td><td>moveis_escritorio</td><td>62</td><td>4113</td><td>0.0150741551179188</td></tr><tr><td>SC</td><td>malas_acessorios</td><td>35</td><td>4113</td><td>0.0085096036955993</td></tr><tr><td>SC</td><td>consoles_games</td><td>34</td><td>4113</td><td>0.0082664721614393</td></tr><tr><td>SC</td><td>instrumentos_musicais</td><td>30</td><td>4113</td><td>0.0072939460247994</td></tr><tr><td>SC</td><td>construcao_ferramentas_construcao</td><td>30</td><td>4113</td><td>0.0072939460247994</td></tr><tr><td>SC</td><td>eletroportateis</td><td>28</td><td>4113</td><td>0.0068076829564795</td></tr><tr><td>SC</td><td>casa_construcao</td><td>25</td><td>4113</td><td>0.0060782883539995</td></tr><tr><td>SC</td><td>eletrodomesticos</td><td>25</td><td>4113</td><td>0.0060782883539995</td></tr><tr><td>SC</td><td>livros_interesse_geral</td><td>23</td><td>4113</td><td>0.0055920252856796</td></tr><tr><td>SC</td><td>eletrodomesticos_2</td><td>17</td><td>4113</td><td>0.0041332360807197</td></tr><tr><td>SC</td><td>construcao_ferramentas_iluminacao</td><td>16</td><td>4113</td><td>0.0038901045465597</td></tr><tr><td>SC</td><td>industria_comercio_e_negocios</td><td>16</td><td>4113</td><td>0.0038901045465597</td></tr><tr><td>SC</td><td>alimentos</td><td>16</td><td>4113</td><td>0.0038901045465597</td></tr><tr><td>SC</td><td>bebidas</td><td>14</td><td>4113</td><td>0.0034038414782397</td></tr><tr><td>SC</td><td>artigos_de_natal</td><td>14</td><td>4113</td><td>0.0034038414782397</td></tr><tr><td>SC</td><td>market_place</td><td>14</td><td>4113</td><td>0.0034038414782397</td></tr><tr><td>SC</td><td>construcao_ferramentas_seguranca</td><td>13</td><td>4113</td><td>0.0031607099440797</td></tr><tr><td>SC</td><td>casa_conforto</td><td>12</td><td>4113</td><td>0.0029175784099198</td></tr><tr><td>SC</td><td>moveis_sala</td><td>12</td><td>4113</td><td>0.0029175784099198</td></tr><tr><td>SC</td><td>livros_tecnicos</td><td>10</td><td>4113</td><td>0.0024313153415998</td></tr><tr><td>SC</td><td>audio</td><td>10</td><td>4113</td><td>0.0024313153415998</td></tr><tr><td>SC</td><td>sinalizacao_e_seguranca</td><td>10</td><td>4113</td><td>0.0024313153415998</td></tr><tr><td>SC</td><td>fashion_underwear_e_moda_praia</td><td>8</td><td>4113</td><td>0.0019450522732798</td></tr><tr><td>SC</td><td>telefonia_fixa</td><td>7</td><td>4113</td><td>0.0017019207391199</td></tr><tr><td>SC</td><td>moveis_cozinha_area_de_servico_jantar_e_jardim</td><td>7</td><td>4113</td><td>0.0017019207391199</td></tr><tr><td>SC</td><td>fashion_calcados</td><td>7</td><td>4113</td><td>0.0017019207391199</td></tr><tr><td>SC</td><td>artes</td><td>6</td><td>4113</td><td>0.0014587892049599</td></tr><tr><td>SC</td><td>construcao_ferramentas_jardim</td><td>5</td><td>4113</td><td>0.0012156576707999</td></tr><tr><td>SC</td><td>pcs</td><td>5</td><td>4113</td><td>0.0012156576707999</td></tr><tr><td>SC</td><td>construcao_ferramentas_ferramentas</td><td>5</td><td>4113</td><td>0.0012156576707999</td></tr><tr><td>SC</td><td>portateis_casa_forno_e_cafe</td><td>4</td><td>4113</td><td>0.0009725261366399</td></tr><tr><td>SC</td><td>cine_foto</td><td>4</td><td>4113</td><td>0.0009725261366399</td></tr><tr><td>SC</td><td>climatizacao</td><td>4</td><td>4113</td><td>0.0009725261366399</td></tr><tr><td>SC</td><td>alimentos_bebidas</td><td>3</td><td>4113</td><td>0.0007293946024799</td></tr><tr><td>SC</td><td>fashion_esporte</td><td>3</td><td>4113</td><td>0.0007293946024799</td></tr><tr><td>SC</td><td>agro_industria_e_comercio</td><td>3</td><td>4113</td><td>0.0007293946024799</td></tr><tr><td>SC</td><td>moveis_quarto</td><td>3</td><td>4113</td><td>0.0007293946024799</td></tr><tr><td>SC</td><td>fashion_roupa_masculina</td><td>2</td><td>4113</td><td>0.0004862630683200</td></tr><tr><td>SC</td><td>moveis_colchao_e_estofado</td><td>2</td><td>4113</td><td>0.0004862630683200</td></tr><tr><td>SC</td><td>artigos_de_festas</td><td>2</td><td>4113</td><td>0.0004862630683200</td></tr><tr><td>SC</td><td>dvds_blu_ray</td><td>2</td><td>4113</td><td>0.0004862630683200</td></tr><tr><td>SC</td><td>la_cuisine</td><td>2</td><td>4113</td><td>0.0004862630683200</td></tr><tr><td>SC</td><td>fashion_roupa_infanto_juvenil</td><td>2</td><td>4113</td><td>0.0004862630683200</td></tr><tr><td>SC</td><td>fashion_roupa_feminina</td><td>1</td><td>4113</td><td>0.0002431315341600</td></tr><tr><td>SC</td><td>artes_e_artesanato</td><td>1</td><td>4113</td><td>0.0002431315341600</td></tr><tr><td>SC</td><td>livros_importados</td><td>1</td><td>4113</td><td>0.0002431315341600</td></tr><tr><td>SE</td><td>beleza_saude</td><td>40</td><td>383</td><td>0.1044386422976501</td></tr><tr><td>SE</td><td>informatica_acessorios</td><td>36</td><td>383</td><td>0.0939947780678851</td></tr><tr><td>SE</td><td>esporte_lazer</td><td>35</td><td>383</td><td>0.0913838120104439</td></tr><tr><td>SE</td><td>ferramentas_jardim</td><td>29</td><td>383</td><td>0.0757180156657963</td></tr><tr><td>SE</td><td>telefonia</td><td>28</td><td>383</td><td>0.0731070496083551</td></tr><tr><td>SE</td><td>moveis_decoracao</td><td>25</td><td>383</td><td>0.0652741514360313</td></tr><tr><td>SE</td><td>automotivo</td><td>21</td><td>383</td><td>0.0548302872062663</td></tr><tr><td>SE</td><td>relogios_presentes</td><td>20</td><td>383</td><td>0.0522193211488251</td></tr><tr><td>SE</td><td>eletronicos</td><td>19</td><td>383</td><td>0.0496083550913838</td></tr><tr><td>SE</td><td>cool_stuff</td><td>17</td><td>383</td><td>0.0443864229765013</td></tr><tr><td>SE</td><td>cama_mesa_banho</td><td>15</td><td>383</td><td>0.0391644908616188</td></tr><tr><td>SE</td><td>brinquedos</td><td>11</td><td>383</td><td>0.0287206266318538</td></tr><tr><td>SE</td><td>utilidades_domesticas</td><td>10</td><td>383</td><td>0.0261096605744125</td></tr><tr><td>SE</td><td>bebes</td><td>8</td><td>383</td><td>0.0208877284595300</td></tr><tr><td>SE</td><td>fashion_bolsas_e_acessorios</td><td>8</td><td>383</td><td>0.0208877284595300</td></tr><tr><td>SE</td><td>perfumaria</td><td>7</td><td>383</td><td>0.0182767624020888</td></tr><tr><td>SE</td><td>consoles_games</td><td>6</td><td>383</td><td>0.0156657963446475</td></tr><tr><td>SE</td><td>casa_construcao</td><td>3</td><td>383</td><td>0.0078328981723238</td></tr><tr><td>SE</td><td>market_place</td><td>3</td><td>383</td><td>0.0078328981723238</td></tr><tr><td>SE</td><td>papelaria</td><td>3</td><td>383</td><td>0.0078328981723238</td></tr><tr><td>SE</td><td>instrumentos_musicais</td><td>3</td><td>383</td><td>0.0078328981723238</td></tr><tr><td>SE</td><td>industria_comercio_e_negocios</td><td>3</td><td>383</td><td>0.0078328981723238</td></tr><tr><td>SE</td><td>eletroportateis</td><td>3</td><td>383</td><td>0.0078328981723238</td></tr><tr><td>SE</td><td>moveis_escritorio</td><td>3</td><td>383</td><td>0.0078328981723238</td></tr><tr><td>SE</td><td>moveis_sala</td><td>3</td><td>383</td><td>0.0078328981723238</td></tr><tr><td>SE</td><td>pet_shop</td><td>3</td><td>383</td><td>0.0078328981723238</td></tr><tr><td>SE</td><td>malas_acessorios</td><td>3</td><td>383</td><td>0.0078328981723238</td></tr><tr><td>SE</td><td>moveis_quarto</td><td>2</td><td>383</td><td>0.0052219321148825</td></tr><tr><td>SE</td><td>pcs</td><td>2</td><td>383</td><td>0.0052219321148825</td></tr><tr><td>SE</td><td>telefonia_fixa</td><td>2</td><td>383</td><td>0.0052219321148825</td></tr><tr><td>SE</td><td>sinalizacao_e_seguranca</td><td>2</td><td>383</td><td>0.0052219321148825</td></tr><tr><td>SE</td><td>construcao_ferramentas_seguranca</td><td>1</td><td>383</td><td>0.0026109660574413</td></tr><tr><td>SE</td><td>alimentos_bebidas</td><td>1</td><td>383</td><td>0.0026109660574413</td></tr><tr><td>SE</td><td>livros_importados</td><td>1</td><td>383</td><td>0.0026109660574413</td></tr><tr><td>SE</td><td>construcao_ferramentas_iluminacao</td><td>1</td><td>383</td><td>0.0026109660574413</td></tr><tr><td>SE</td><td>eletrodomesticos_2</td><td>1</td><td>383</td><td>0.0026109660574413</td></tr><tr><td>SE</td><td>livros_interesse_geral</td><td>1</td><td>383</td><td>0.0026109660574413</td></tr><tr><td>SE</td><td>alimentos</td><td>1</td><td>383</td><td>0.0026109660574413</td></tr><tr><td>SE</td><td>eletrodomesticos</td><td>1</td><td>383</td><td>0.0026109660574413</td></tr><tr><td>SE</td><td>construcao_ferramentas_construcao</td><td>1</td><td>383</td><td>0.0026109660574413</td></tr><tr><td>SE</td><td>casa_conforto</td><td>1</td><td>383</td><td>0.0026109660574413</td></tr><tr><td>SP</td><td>cama_mesa_banho</td><td>5235</td><td>46794</td><td>0.1118733170919349</td></tr><tr><td>SP</td><td>beleza_saude</td><td>4204</td><td>46794</td><td>0.0898405778518613</td></tr><tr><td>SP</td><td>esporte_lazer</td><td>3667</td><td>46794</td><td>0.0783647476172159</td></tr><tr><td>SP</td><td>moveis_decoracao</td><td>3531</td><td>46794</td><td>0.0754583921015515</td></tr><tr><td>SP</td><td>utilidades_domesticas</td><td>3265</td><td>46794</td><td>0.0697739026370902</td></tr><tr><td>SP</td><td>informatica_acessorios</td><td>3170</td><td>46794</td><td>0.0677437278283541</td></tr><tr><td>SP</td><td>relogios_presentes</td><td>2281</td><td>46794</td><td>0.0487455656708125</td></tr><tr><td>SP</td><td>automotivo</td><td>1747</td><td>46794</td><td>0.0373338462196008</td></tr><tr><td>SP</td><td>brinquedos</td><td>1712</td><td>46794</td><td>0.0365858870795401</td></tr><tr><td>SP</td><td>telefonia</td><td>1646</td><td>46794</td><td>0.0351754498439971</td></tr><tr><td>SP</td><td>ferramentas_jardim</td><td>1559</td><td>46794</td><td>0.0333162371244177</td></tr><tr><td>SP</td><td>perfumaria</td><td>1477</td><td>46794</td><td>0.0315638757105612</td></tr><tr><td>SP</td><td>cool_stuff</td><td>1364</td><td>46794</td><td>0.0291490362012224</td></tr><tr><td>SP</td><td>bebes</td><td>1276</td><td>46794</td><td>0.0272684532204984</td></tr><tr><td>SP</td><td>papelaria</td><td>1064</td><td>46794</td><td>0.0227379578578450</td></tr><tr><td>SP</td><td>eletronicos</td><td>1005</td><td>46794</td><td>0.0214771124503141</td></tr><tr><td>SP</td><td>pet_shop</td><td>898</td><td>46794</td><td>0.0191904945078429</td></tr><tr><td>SP</td><td>fashion_bolsas_e_acessorios</td><td>861</td><td>46794</td><td>0.0183997948454930</td></tr><tr><td>SP</td><td>moveis_escritorio</td><td>662</td><td>46794</td><td>0.0141471128777194</td></tr><tr><td>SP</td><td>consoles_games</td><td>496</td><td>46794</td><td>0.0105996495277172</td></tr><tr><td>SP</td><td>malas_acessorios</td><td>455</td><td>46794</td><td>0.0097234688207890</td></tr><tr><td>SP</td><td>construcao_ferramentas_construcao</td><td>428</td><td>46794</td><td>0.0091464717698850</td></tr><tr><td>SP</td><td>eletrodomesticos</td><td>347</td><td>46794</td><td>0.0074154806171731</td></tr><tr><td>SP</td><td>eletroportateis</td><td>307</td><td>46794</td><td>0.0065606701713895</td></tr><tr><td>SP</td><td>alimentos</td><td>285</td><td>46794</td><td>0.0060905244262085</td></tr><tr><td>SP</td><td>instrumentos_musicais</td><td>269</td><td>46794</td><td>0.0057486002478950</td></tr><tr><td>SP</td><td>casa_construcao</td><td>268</td><td>46794</td><td>0.0057272299867504</td></tr><tr><td>SP</td><td>livros_interesse_geral</td><td>227</td><td>46794</td><td>0.0048510492798222</td></tr><tr><td>SP</td><td>bebidas</td><td>211</td><td>46794</td><td>0.0045091251015087</td></tr><tr><td>SP</td><td>casa_conforto</td><td>204</td><td>46794</td><td>0.0043595332734966</td></tr><tr><td>SP</td><td>moveis_sala</td><td>202</td><td>46794</td><td>0.0043167927512074</td></tr><tr><td>SP</td><td>audio</td><td>145</td><td>46794</td><td>0.0030986878659657</td></tr><tr><td>SP</td><td>moveis_cozinha_area_de_servico_jantar_e_jardim</td><td>143</td><td>46794</td><td>0.0030559473436765</td></tr><tr><td>SP</td><td>construcao_ferramentas_iluminacao</td><td>143</td><td>46794</td><td>0.0030559473436765</td></tr><tr><td>SP</td><td>climatizacao</td><td>139</td><td>46794</td><td>0.0029704662990982</td></tr><tr><td>SP</td><td>alimentos_bebidas</td><td>136</td><td>46794</td><td>0.0029063555156644</td></tr><tr><td>SP</td><td>industria_comercio_e_negocios</td><td>128</td><td>46794</td><td>0.0027353934265077</td></tr><tr><td>SP</td><td>market_place</td><td>117</td><td>46794</td><td>0.0025003205539172</td></tr><tr><td>SP</td><td>telefonia_fixa</td><td>117</td><td>46794</td><td>0.0025003205539172</td></tr><tr><td>SP</td><td>livros_tecnicos</td><td>113</td><td>46794</td><td>0.0024148395093388</td></tr><tr><td>SP</td><td>artes</td><td>99</td><td>46794</td><td>0.0021156558533145</td></tr><tr><td>SP</td><td>construcao_ferramentas_jardim</td><td>99</td><td>46794</td><td>0.0021156558533145</td></tr><tr><td>SP</td><td>agro_industria_e_comercio</td><td>95</td><td>46794</td><td>0.0020301748087362</td></tr><tr><td>SP</td><td>sinalizacao_e_seguranca</td><td>95</td><td>46794</td><td>0.0020301748087362</td></tr><tr><td>SP</td><td>fashion_calcados</td><td>91</td><td>46794</td><td>0.0019446937641578</td></tr><tr><td>SP</td><td>eletrodomesticos_2</td><td>89</td><td>46794</td><td>0.0019019532418686</td></tr><tr><td>SP</td><td>construcao_ferramentas_seguranca</td><td>66</td><td>46794</td><td>0.0014104372355430</td></tr><tr><td>SP</td><td>pcs</td><td>59</td><td>46794</td><td>0.0012608454075309</td></tr><tr><td>SP</td><td>fashion_roupa_masculina</td><td>57</td><td>46794</td><td>0.0012181048852417</td></tr><tr><td>SP</td><td>fashion_underwear_e_moda_praia</td><td>55</td><td>46794</td><td>0.0011753643629525</td></tr><tr><td>SP</td><td>moveis_quarto</td><td>52</td><td>46794</td><td>0.0011112535795187</td></tr><tr><td>SP</td><td>artigos_de_natal</td><td>50</td><td>46794</td><td>0.0010685130572296</td></tr><tr><td>SP</td><td>livros_importados</td><td>37</td><td>46794</td><td>0.0007906996623499</td></tr><tr><td>SP</td><td>portateis_casa_forno_e_cafe</td><td>35</td><td>46794</td><td>0.0007479591400607</td></tr><tr><td>SP</td><td>construcao_ferramentas_ferramentas</td><td>33</td><td>46794</td><td>0.0007052186177715</td></tr><tr><td>SP</td><td>tablets_impressao_imagem</td><td>32</td><td>46794</td><td>0.0006838483566269</td></tr><tr><td>SP</td><td>cine_foto</td><td>31</td><td>46794</td><td>0.0006624780954823</td></tr><tr><td>SP</td><td>fraldas_higiene</td><td>31</td><td>46794</td><td>0.0006624780954823</td></tr><tr><td>SP</td><td>fashion_roupa_feminina</td><td>28</td><td>46794</td><td>0.0005983673120486</td></tr><tr><td>SP</td><td>dvds_blu_ray</td><td>23</td><td>46794</td><td>0.0004915160063256</td></tr><tr><td>SP</td><td>moveis_colchao_e_estofado</td><td>22</td><td>46794</td><td>0.0004701457451810</td></tr><tr><td>SP</td><td>artigos_de_festas</td><td>18</td><td>46794</td><td>0.0003846647006026</td></tr><tr><td>SP</td><td>artes_e_artesanato</td><td>16</td><td>46794</td><td>0.0003419241783135</td></tr><tr><td>SP</td><td>casa_conforto_2</td><td>14</td><td>46794</td><td>0.0002991836560243</td></tr><tr><td>SP</td><td>musica</td><td>12</td><td>46794</td><td>0.0002564431337351</td></tr><tr><td>SP</td><td>fashion_esporte</td><td>12</td><td>46794</td><td>0.0002564431337351</td></tr><tr><td>SP</td><td>flores</td><td>11</td><td>46794</td><td>0.0002350728725905</td></tr><tr><td>SP</td><td>portateis_cozinha_e_preparadores_de_alimentos</td><td>8</td><td>46794</td><td>0.0001709620891567</td></tr><tr><td>SP</td><td>cds_dvds_musicais</td><td>6</td><td>46794</td><td>0.0001282215668675</td></tr><tr><td>SP</td><td>la_cuisine</td><td>6</td><td>46794</td><td>0.0001282215668675</td></tr><tr><td>SP</td><td>fashion_roupa_infanto_juvenil</td><td>4</td><td>46794</td><td>0.0000854810445784</td></tr><tr><td>SP</td><td>pc_gamer</td><td>4</td><td>46794</td><td>0.0000854810445784</td></tr><tr><td>TO</td><td>beleza_saude</td><td>36</td><td>310</td><td>0.1161290322580645</td></tr><tr><td>TO</td><td>relogios_presentes</td><td>30</td><td>310</td><td>0.0967741935483871</td></tr><tr><td>TO</td><td>esporte_lazer</td><td>25</td><td>310</td><td>0.0806451612903226</td></tr><tr><td>TO</td><td>informatica_acessorios</td><td>21</td><td>310</td><td>0.0677419354838710</td></tr><tr><td>TO</td><td>telefonia</td><td>21</td><td>310</td><td>0.0677419354838710</td></tr><tr><td>TO</td><td>moveis_decoracao</td><td>18</td><td>310</td><td>0.0580645161290323</td></tr><tr><td>TO</td><td>automotivo</td><td>16</td><td>310</td><td>0.0516129032258065</td></tr><tr><td>TO</td><td>cool_stuff</td><td>16</td><td>310</td><td>0.0516129032258065</td></tr><tr><td>TO</td><td>utilidades_domesticas</td><td>14</td><td>310</td><td>0.0451612903225806</td></tr><tr><td>TO</td><td>perfumaria</td><td>13</td><td>310</td><td>0.0419354838709677</td></tr><tr><td>TO</td><td>brinquedos</td><td>13</td><td>310</td><td>0.0419354838709677</td></tr><tr><td>TO</td><td>ferramentas_jardim</td><td>13</td><td>310</td><td>0.0419354838709677</td></tr><tr><td>TO</td><td>cama_mesa_banho</td><td>10</td><td>310</td><td>0.0322580645161290</td></tr><tr><td>TO</td><td>fashion_bolsas_e_acessorios</td><td>8</td><td>310</td><td>0.0258064516129032</td></tr><tr><td>TO</td><td>bebes</td><td>7</td><td>310</td><td>0.0225806451612903</td></tr><tr><td>TO</td><td>eletronicos</td><td>7</td><td>310</td><td>0.0225806451612903</td></tr><tr><td>TO</td><td>moveis_escritorio</td><td>6</td><td>310</td><td>0.0193548387096774</td></tr><tr><td>TO</td><td>pet_shop</td><td>4</td><td>310</td><td>0.0129032258064516</td></tr><tr><td>TO</td><td>consoles_games</td><td>4</td><td>310</td><td>0.0129032258064516</td></tr><tr><td>TO</td><td>papelaria</td><td>3</td><td>310</td><td>0.0096774193548387</td></tr><tr><td>TO</td><td>eletrodomesticos_2</td><td>3</td><td>310</td><td>0.0096774193548387</td></tr><tr><td>TO</td><td>construcao_ferramentas_iluminacao</td><td>2</td><td>310</td><td>0.0064516129032258</td></tr><tr><td>TO</td><td>telefonia_fixa</td><td>2</td><td>310</td><td>0.0064516129032258</td></tr><tr><td>TO</td><td>livros_tecnicos</td><td>2</td><td>310</td><td>0.0064516129032258</td></tr><tr><td>TO</td><td>malas_acessorios</td><td>2</td><td>310</td><td>0.0064516129032258</td></tr><tr><td>TO</td><td>moveis_sala</td><td>2</td><td>310</td><td>0.0064516129032258</td></tr><tr><td>TO</td><td>instrumentos_musicais</td><td>1</td><td>310</td><td>0.0032258064516129</td></tr><tr><td>TO</td><td>moveis_cozinha_area_de_servico_jantar_e_jardim</td><td>1</td><td>310</td><td>0.0032258064516129</td></tr><tr><td>TO</td><td>industria_comercio_e_negocios</td><td>1</td><td>310</td><td>0.0032258064516129</td></tr><tr><td>TO</td><td>portateis_casa_forno_e_cafe</td><td>1</td><td>310</td><td>0.0032258064516129</td></tr><tr><td>TO</td><td>audio</td><td>1</td><td>310</td><td>0.0032258064516129</td></tr><tr><td>TO</td><td>casa_construcao</td><td>1</td><td>310</td><td>0.0032258064516129</td></tr><tr><td>TO</td><td>eletrodomesticos</td><td>1</td><td>310</td><td>0.0032258064516129</td></tr><tr><td>TO</td><td>fashion_calcados</td><td>1</td><td>310</td><td>0.0032258064516129</td></tr><tr><td>TO</td><td>market_place</td><td>1</td><td>310</td><td>0.0032258064516129</td></tr><tr><td>TO</td><td>casa_conforto</td><td>1</td><td>310</td><td>0.0032258064516129</td></tr><tr><td>TO</td><td>livros_interesse_geral</td><td>1</td><td>310</td><td>0.0032258064516129</td></tr><tr><td>TO</td><td>pcs</td><td>1</td><td>310</td><td>0.0032258064516129</td></tr></tbody></table></div>"
      ]
     },
     "metadata": {
      "application/vnd.databricks.v1+output": {
       "addedWidgets": {},
       "aggData": [],
       "aggError": "",
       "aggOverflow": false,
       "aggSchema": [],
       "aggSeriesLimitReached": false,
       "aggType": "",
       "arguments": {},
       "columnCustomDisplayInfos": {},
       "data": [
        [
         "AC",
         "moveis_decoracao",
         12,
         90,
         "0.1333333333333333"
        ],
        [
         "AC",
         "esporte_lazer",
         9,
         90,
         "0.1000000000000000"
        ],
        [
         "AC",
         "informatica_acessorios",
         9,
         90,
         "0.1000000000000000"
        ],
        [
         "AC",
         "beleza_saude",
         7,
         90,
         "0.0777777777777778"
        ],
        [
         "AC",
         "telefonia",
         5,
         90,
         "0.0555555555555556"
        ],
        [
         "AC",
         "relogios_presentes",
         4,
         90,
         "0.0444444444444444"
        ],
        [
         "AC",
         "utilidades_domesticas",
         4,
         90,
         "0.0444444444444444"
        ],
        [
         "AC",
         "automotivo",
         4,
         90,
         "0.0444444444444444"
        ],
        [
         "AC",
         "cama_mesa_banho",
         4,
         90,
         "0.0444444444444444"
        ],
        [
         "AC",
         "eletronicos",
         4,
         90,
         "0.0444444444444444"
        ],
        [
         "AC",
         "bebes",
         3,
         90,
         "0.0333333333333333"
        ],
        [
         "AC",
         "brinquedos",
         3,
         90,
         "0.0333333333333333"
        ],
        [
         "AC",
         "perfumaria",
         3,
         90,
         "0.0333333333333333"
        ],
        [
         "AC",
         "ferramentas_jardim",
         2,
         90,
         "0.0222222222222222"
        ],
        [
         "AC",
         "papelaria",
         2,
         90,
         "0.0222222222222222"
        ],
        [
         "AC",
         "fashion_calcados",
         2,
         90,
         "0.0222222222222222"
        ],
        [
         "AC",
         "livros_interesse_geral",
         2,
         90,
         "0.0222222222222222"
        ],
        [
         "AC",
         "malas_acessorios",
         2,
         90,
         "0.0222222222222222"
        ],
        [
         "AC",
         "cool_stuff",
         1,
         90,
         "0.0111111111111111"
        ],
        [
         "AC",
         "market_place",
         1,
         90,
         "0.0111111111111111"
        ],
        [
         "AC",
         "consoles_games",
         1,
         90,
         "0.0111111111111111"
        ],
        [
         "AC",
         "moveis_sala",
         1,
         90,
         "0.0111111111111111"
        ],
        [
         "AC",
         "fashion_bolsas_e_acessorios",
         1,
         90,
         "0.0111111111111111"
        ],
        [
         "AC",
         "pcs",
         1,
         90,
         "0.0111111111111111"
        ],
        [
         "AC",
         "eletroportateis",
         1,
         90,
         "0.0111111111111111"
        ],
        [
         "AC",
         "artigos_de_natal",
         1,
         90,
         "0.0111111111111111"
        ],
        [
         "AC",
         "instrumentos_musicais",
         1,
         90,
         "0.0111111111111111"
        ],
        [
         "AL",
         "beleza_saude",
         63,
         440,
         "0.1431818181818182"
        ],
        [
         "AL",
         "informatica_acessorios",
         41,
         440,
         "0.0931818181818182"
        ],
        [
         "AL",
         "relogios_presentes",
         36,
         440,
         "0.0818181818181818"
        ],
        [
         "AL",
         "moveis_decoracao",
         34,
         440,
         "0.0772727272727273"
        ],
        [
         "AL",
         "esporte_lazer",
         33,
         440,
         "0.0750000000000000"
        ],
        [
         "AL",
         "telefonia",
         28,
         440,
         "0.0636363636363636"
        ],
        [
         "AL",
         "automotivo",
         22,
         440,
         "0.0500000000000000"
        ],
        [
         "AL",
         "cama_mesa_banho",
         20,
         440,
         "0.0454545454545455"
        ],
        [
         "AL",
         "cool_stuff",
         16,
         440,
         "0.0363636363636364"
        ],
        [
         "AL",
         "eletronicos",
         14,
         440,
         "0.0318181818181818"
        ],
        [
         "AL",
         "ferramentas_jardim",
         14,
         440,
         "0.0318181818181818"
        ],
        [
         "AL",
         "brinquedos",
         12,
         440,
         "0.0272727272727273"
        ],
        [
         "AL",
         "perfumaria",
         12,
         440,
         "0.0272727272727273"
        ],
        [
         "AL",
         "utilidades_domesticas",
         10,
         440,
         "0.0227272727272727"
        ],
        [
         "AL",
         "papelaria",
         8,
         440,
         "0.0181818181818182"
        ],
        [
         "AL",
         "bebes",
         7,
         440,
         "0.0159090909090909"
        ],
        [
         "AL",
         "consoles_games",
         7,
         440,
         "0.0159090909090909"
        ],
        [
         "AL",
         "moveis_escritorio",
         7,
         440,
         "0.0159090909090909"
        ],
        [
         "AL",
         "malas_acessorios",
         6,
         440,
         "0.0136363636363636"
        ],
        [
         "AL",
         "audio",
         5,
         440,
         "0.0113636363636364"
        ],
        [
         "AL",
         "fashion_bolsas_e_acessorios",
         4,
         440,
         "0.0090909090909091"
        ],
        [
         "AL",
         "telefonia_fixa",
         4,
         440,
         "0.0090909090909091"
        ],
        [
         "AL",
         "eletrodomesticos",
         3,
         440,
         "0.0068181818181818"
        ],
        [
         "AL",
         "pet_shop",
         3,
         440,
         "0.0068181818181818"
        ],
        [
         "AL",
         "fashion_calcados",
         3,
         440,
         "0.0068181818181818"
        ],
        [
         "AL",
         "casa_construcao",
         3,
         440,
         "0.0068181818181818"
        ],
        [
         "AL",
         "moveis_sala",
         3,
         440,
         "0.0068181818181818"
        ],
        [
         "AL",
         "market_place",
         3,
         440,
         "0.0068181818181818"
        ],
        [
         "AL",
         "eletrodomesticos_2",
         2,
         440,
         "0.0045454545454545"
        ],
        [
         "AL",
         "moveis_cozinha_area_de_servico_jantar_e_jardim",
         2,
         440,
         "0.0045454545454545"
        ],
        [
         "AL",
         "livros_interesse_geral",
         2,
         440,
         "0.0045454545454545"
        ],
        [
         "AL",
         "pcs",
         2,
         440,
         "0.0045454545454545"
        ],
        [
         "AL",
         "construcao_ferramentas_construcao",
         2,
         440,
         "0.0045454545454545"
        ],
        [
         "AL",
         "climatizacao",
         1,
         440,
         "0.0022727272727273"
        ],
        [
         "AL",
         "bebidas",
         1,
         440,
         "0.0022727272727273"
        ],
        [
         "AL",
         "alimentos_bebidas",
         1,
         440,
         "0.0022727272727273"
        ],
        [
         "AL",
         "alimentos",
         1,
         440,
         "0.0022727272727273"
        ],
        [
         "AL",
         "instrumentos_musicais",
         1,
         440,
         "0.0022727272727273"
        ],
        [
         "AL",
         "casa_conforto",
         1,
         440,
         "0.0022727272727273"
        ],
        [
         "AL",
         "dvds_blu_ray",
         1,
         440,
         "0.0022727272727273"
        ],
        [
         "AL",
         "industria_comercio_e_negocios",
         1,
         440,
         "0.0022727272727273"
        ],
        [
         "AL",
         "agro_industria_e_comercio",
         1,
         440,
         "0.0022727272727273"
        ],
        [
         "AM",
         "beleza_saude",
         20,
         163,
         "0.1226993865030675"
        ],
        [
         "AM",
         "informatica_acessorios",
         17,
         163,
         "0.1042944785276074"
        ],
        [
         "AM",
         "telefonia",
         15,
         163,
         "0.0920245398773006"
        ],
        [
         "AM",
         "esporte_lazer",
         12,
         163,
         "0.0736196319018405"
        ],
        [
         "AM",
         "relogios_presentes",
         11,
         163,
         "0.0674846625766871"
        ],
        [
         "AM",
         "cama_mesa_banho",
         8,
         163,
         "0.0490797546012270"
        ],
        [
         "AM",
         "brinquedos",
         7,
         163,
         "0.0429447852760736"
        ],
        [
         "AM",
         "automotivo",
         6,
         163,
         "0.0368098159509202"
        ],
        [
         "AM",
         "papelaria",
         6,
         163,
         "0.0368098159509202"
        ],
        [
         "AM",
         "bebes",
         5,
         163,
         "0.0306748466257669"
        ],
        [
         "AM",
         "ferramentas_jardim",
         5,
         163,
         "0.0306748466257669"
        ],
        [
         "AM",
         "eletronicos",
         4,
         163,
         "0.0245398773006135"
        ],
        [
         "AM",
         "casa_construcao",
         4,
         163,
         "0.0245398773006135"
        ],
        [
         "AM",
         "cool_stuff",
         4,
         163,
         "0.0245398773006135"
        ],
        [
         "AM",
         "moveis_decoracao",
         4,
         163,
         "0.0245398773006135"
        ],
        [
         "AM",
         "utilidades_domesticas",
         4,
         163,
         "0.0245398773006135"
        ],
        [
         "AM",
         "pet_shop",
         4,
         163,
         "0.0245398773006135"
        ],
        [
         "AM",
         "malas_acessorios",
         3,
         163,
         "0.0184049079754601"
        ],
        [
         "AM",
         "moveis_escritorio",
         2,
         163,
         "0.0122699386503067"
        ],
        [
         "AM",
         "perfumaria",
         2,
         163,
         "0.0122699386503067"
        ],
        [
         "AM",
         "construcao_ferramentas_jardim",
         2,
         163,
         "0.0122699386503067"
        ],
        [
         "AM",
         "eletrodomesticos",
         2,
         163,
         "0.0122699386503067"
        ],
        [
         "AM",
         "consoles_games",
         2,
         163,
         "0.0122699386503067"
        ],
        [
         "AM",
         "musica",
         1,
         163,
         "0.0061349693251534"
        ],
        [
         "AM",
         "telefonia_fixa",
         1,
         163,
         "0.0061349693251534"
        ],
        [
         "AM",
         "tablets_impressao_imagem",
         1,
         163,
         "0.0061349693251534"
        ],
        [
         "AM",
         "eletrodomesticos_2",
         1,
         163,
         "0.0061349693251534"
        ],
        [
         "AM",
         "climatizacao",
         1,
         163,
         "0.0061349693251534"
        ],
        [
         "AM",
         "alimentos",
         1,
         163,
         "0.0061349693251534"
        ],
        [
         "AM",
         "bebidas",
         1,
         163,
         "0.0061349693251534"
        ],
        [
         "AM",
         "artes",
         1,
         163,
         "0.0061349693251534"
        ],
        [
         "AM",
         "fashion_bolsas_e_acessorios",
         1,
         163,
         "0.0061349693251534"
        ],
        [
         "AM",
         "livros_interesse_geral",
         1,
         163,
         "0.0061349693251534"
        ],
        [
         "AM",
         "market_place",
         1,
         163,
         "0.0061349693251534"
        ],
        [
         "AM",
         "audio",
         1,
         163,
         "0.0061349693251534"
        ],
        [
         "AM",
         "instrumentos_musicais",
         1,
         163,
         "0.0061349693251534"
        ],
        [
         "AM",
         "pcs",
         1,
         163,
         "0.0061349693251534"
        ],
        [
         "AP",
         "beleza_saude",
         10,
         82,
         "0.1219512195121951"
        ],
        [
         "AP",
         "informatica_acessorios",
         9,
         82,
         "0.1097560975609756"
        ],
        [
         "AP",
         "relogios_presentes",
         8,
         82,
         "0.0975609756097561"
        ],
        [
         "AP",
         "esporte_lazer",
         7,
         82,
         "0.0853658536585366"
        ],
        [
         "AP",
         "telefonia_fixa",
         6,
         82,
         "0.0731707317073171"
        ],
        [
         "AP",
         "cama_mesa_banho",
         6,
         82,
         "0.0731707317073171"
        ],
        [
         "AP",
         "telefonia",
         4,
         82,
         "0.0487804878048780"
        ],
        [
         "AP",
         "utilidades_domesticas",
         4,
         82,
         "0.0487804878048780"
        ],
        [
         "AP",
         "eletronicos",
         4,
         82,
         "0.0487804878048780"
        ],
        [
         "AP",
         "automotivo",
         3,
         82,
         "0.0365853658536585"
        ],
        [
         "AP",
         "brinquedos",
         3,
         82,
         "0.0365853658536585"
        ],
        [
         "AP",
         "moveis_decoracao",
         3,
         82,
         "0.0365853658536585"
        ],
        [
         "AP",
         "artes",
         2,
         82,
         "0.0243902439024390"
        ],
        [
         "AP",
         "pet_shop",
         2,
         82,
         "0.0243902439024390"
        ],
        [
         "AP",
         "papelaria",
         2,
         82,
         "0.0243902439024390"
        ],
        [
         "AP",
         "cool_stuff",
         2,
         82,
         "0.0243902439024390"
        ],
        [
         "AP",
         "ferramentas_jardim",
         2,
         82,
         "0.0243902439024390"
        ],
        [
         "AP",
         "instrumentos_musicais",
         2,
         82,
         "0.0243902439024390"
        ],
        [
         "AP",
         "agro_industria_e_comercio",
         1,
         82,
         "0.0121951219512195"
        ],
        [
         "AP",
         "pcs",
         1,
         82,
         "0.0121951219512195"
        ],
        [
         "AP",
         "consoles_games",
         1,
         82,
         "0.0121951219512195"
        ],
        [
         "BA",
         "beleza_saude",
         350,
         3739,
         "0.0936079165552287"
        ],
        [
         "BA",
         "esporte_lazer",
         293,
         3739,
         "0.0783631987162343"
        ],
        [
         "BA",
         "cama_mesa_banho",
         263,
         3739,
         "0.0703396630115004"
        ],
        [
         "BA",
         "informatica_acessorios",
         259,
         3739,
         "0.0692698582508692"
        ],
        [
         "BA",
         "moveis_decoracao",
         252,
         3739,
         "0.0673976999197646"
        ],
        [
         "BA",
         "telefonia",
         250,
         3739,
         "0.0668627975394491"
        ],
        [
         "BA",
         "relogios_presentes",
         233,
         3739,
         "0.0623161273067665"
        ],
        [
         "BA",
         "ferramentas_jardim",
         178,
         3739,
         "0.0476063118480877"
        ],
        [
         "BA",
         "utilidades_domesticas",
         161,
         3739,
         "0.0430596416154052"
        ],
        [
         "BA",
         "automotivo",
         158,
         3739,
         "0.0422572880449318"
        ],
        [
         "BA",
         "cool_stuff",
         146,
         3739,
         "0.0390478737630382"
        ],
        [
         "BA",
         "brinquedos",
         117,
         3739,
         "0.0312917892484622"
        ],
        [
         "BA",
         "eletronicos",
         108,
         3739,
         "0.0288847285370420"
        ],
        [
         "BA",
         "bebes",
         97,
         3739,
         "0.0259427654453062"
        ],
        [
         "BA",
         "moveis_escritorio",
         92,
         3739,
         "0.0246055094945173"
        ],
        [
         "BA",
         "perfumaria",
         81,
         3739,
         "0.0216635464027815"
        ],
        [
         "BA",
         "fashion_bolsas_e_acessorios",
         77,
         3739,
         "0.0205937416421503"
        ],
        [
         "BA",
         "papelaria",
         77,
         3739,
         "0.0205937416421503"
        ],
        [
         "BA",
         "pet_shop",
         62,
         3739,
         "0.0165819737897834"
        ],
        [
         "BA",
         "instrumentos_musicais",
         39,
         3739,
         "0.0104305964161541"
        ],
        [
         "BA",
         "eletrodomesticos",
         39,
         3739,
         "0.0104305964161541"
        ],
        [
         "BA",
         "construcao_ferramentas_construcao",
         36,
         3739,
         "0.0096282428456807"
        ],
        [
         "BA",
         "consoles_games",
         36,
         3739,
         "0.0096282428456807"
        ],
        [
         "BA",
         "malas_acessorios",
         32,
         3739,
         "0.0085584380850495"
        ],
        [
         "BA",
         "pcs",
         25,
         3739,
         "0.0066862797539449"
        ],
        [
         "BA",
         "moveis_sala",
         20,
         3739,
         "0.0053490238031559"
        ],
        [
         "BA",
         "eletroportateis",
         18,
         3739,
         "0.0048141214228403"
        ],
        [
         "BA",
         "alimentos",
         18,
         3739,
         "0.0048141214228403"
        ],
        [
         "BA",
         "livros_interesse_geral",
         15,
         3739,
         "0.0040117678523669"
        ],
        [
         "BA",
         "audio",
         14,
         3739,
         "0.0037443166622091"
        ],
        [
         "BA",
         "casa_construcao",
         14,
         3739,
         "0.0037443166622091"
        ],
        [
         "BA",
         "telefonia_fixa",
         12,
         3739,
         "0.0032094142818936"
        ],
        [
         "BA",
         "bebidas",
         11,
         3739,
         "0.0029419630917358"
        ],
        [
         "BA",
         "casa_conforto",
         11,
         3739,
         "0.0029419630917358"
        ],
        [
         "BA",
         "livros_tecnicos",
         10,
         3739,
         "0.0026745119015780"
        ],
        [
         "BA",
         "artes",
         10,
         3739,
         "0.0026745119015780"
        ],
        [
         "BA",
         "artigos_de_natal",
         10,
         3739,
         "0.0026745119015780"
        ],
        [
         "BA",
         "fashion_roupa_masculina",
         9,
         3739,
         "0.0024070607114202"
        ],
        [
         "BA",
         "construcao_ferramentas_jardim",
         8,
         3739,
         "0.0021396095212624"
        ],
        [
         "BA",
         "alimentos_bebidas",
         8,
         3739,
         "0.0021396095212624"
        ],
        [
         "BA",
         "construcao_ferramentas_seguranca",
         7,
         3739,
         "0.0018721583311046"
        ],
        [
         "BA",
         "fashion_calcados",
         7,
         3739,
         "0.0018721583311046"
        ],
        [
         "BA",
         "tablets_impressao_imagem",
         6,
         3739,
         "0.0016047071409468"
        ],
        [
         "BA",
         "construcao_ferramentas_iluminacao",
         6,
         3739,
         "0.0016047071409468"
        ],
        [
         "BA",
         "sinalizacao_e_seguranca",
         6,
         3739,
         "0.0016047071409468"
        ],
        [
         "BA",
         "climatizacao",
         6,
         3739,
         "0.0016047071409468"
        ],
        [
         "BA",
         "eletrodomesticos_2",
         6,
         3739,
         "0.0016047071409468"
        ],
        [
         "BA",
         "fashion_underwear_e_moda_praia",
         6,
         3739,
         "0.0016047071409468"
        ],
        [
         "BA",
         "industria_comercio_e_negocios",
         5,
         3739,
         "0.0013372559507890"
        ],
        [
         "BA",
         "construcao_ferramentas_ferramentas",
         5,
         3739,
         "0.0013372559507890"
        ],
        [
         "BA",
         "agro_industria_e_comercio",
         5,
         3739,
         "0.0013372559507890"
        ],
        [
         "BA",
         "market_place",
         4,
         3739,
         "0.0010698047606312"
        ],
        [
         "BA",
         "moveis_quarto",
         4,
         3739,
         "0.0010698047606312"
        ],
        [
         "BA",
         "cine_foto",
         3,
         3739,
         "0.0008023535704734"
        ],
        [
         "BA",
         "moveis_cozinha_area_de_servico_jantar_e_jardim",
         3,
         3739,
         "0.0008023535704734"
        ],
        [
         "BA",
         "portateis_casa_forno_e_cafe",
         3,
         3739,
         "0.0008023535704734"
        ],
        [
         "BA",
         "fashion_esporte",
         2,
         3739,
         "0.0005349023803156"
        ],
        [
         "BA",
         "fashion_roupa_infanto_juvenil",
         1,
         3739,
         "0.0002674511901578"
        ],
        [
         "BA",
         "fashion_roupa_feminina",
         1,
         3739,
         "0.0002674511901578"
        ],
        [
         "BA",
         "fraldas_higiene",
         1,
         3739,
         "0.0002674511901578"
        ],
        [
         "BA",
         "livros_importados",
         1,
         3739,
         "0.0002674511901578"
        ],
        [
         "BA",
         "portateis_cozinha_e_preparadores_de_alimentos",
         1,
         3739,
         "0.0002674511901578"
        ],
        [
         "BA",
         "casa_conforto_2",
         1,
         3739,
         "0.0002674511901578"
        ],
        [
         "CE",
         "beleza_saude",
         167,
         1460,
         "0.1143835616438356"
        ],
        [
         "CE",
         "relogios_presentes",
         136,
         1460,
         "0.0931506849315068"
        ],
        [
         "CE",
         "telefonia",
         99,
         1460,
         "0.0678082191780822"
        ],
        [
         "CE",
         "esporte_lazer",
         93,
         1460,
         "0.0636986301369863"
        ],
        [
         "CE",
         "informatica_acessorios",
         93,
         1460,
         "0.0636986301369863"
        ],
        [
         "CE",
         "moveis_decoracao",
         87,
         1460,
         "0.0595890410958904"
        ],
        [
         "CE",
         "cama_mesa_banho",
         83,
         1460,
         "0.0568493150684932"
        ],
        [
         "CE",
         "brinquedos",
         66,
         1460,
         "0.0452054794520548"
        ],
        [
         "CE",
         "automotivo",
         59,
         1460,
         "0.0404109589041096"
        ],
        [
         "CE",
         "utilidades_domesticas",
         59,
         1460,
         "0.0404109589041096"
        ],
        [
         "CE",
         "perfumaria",
         57,
         1460,
         "0.0390410958904110"
        ],
        [
         "CE",
         "ferramentas_jardim",
         56,
         1460,
         "0.0383561643835616"
        ],
        [
         "CE",
         "cool_stuff",
         51,
         1460,
         "0.0349315068493151"
        ],
        [
         "CE",
         "eletronicos",
         46,
         1460,
         "0.0315068493150685"
        ],
        [
         "CE",
         "papelaria",
         38,
         1460,
         "0.0260273972602740"
        ],
        [
         "CE",
         "bebes",
         31,
         1460,
         "0.0212328767123288"
        ],
        [
         "CE",
         "fashion_bolsas_e_acessorios",
         30,
         1460,
         "0.0205479452054795"
        ],
        [
         "CE",
         "moveis_escritorio",
         28,
         1460,
         "0.0191780821917808"
        ],
        [
         "CE",
         "malas_acessorios",
         24,
         1460,
         "0.0164383561643836"
        ],
        [
         "CE",
         "consoles_games",
         16,
         1460,
         "0.0109589041095890"
        ],
        [
         "CE",
         "pet_shop",
         13,
         1460,
         "0.0089041095890411"
        ],
        [
         "CE",
         "casa_construcao",
         10,
         1460,
         "0.0068493150684932"
        ],
        [
         "CE",
         "construcao_ferramentas_construcao",
         10,
         1460,
         "0.0068493150684932"
        ],
        [
         "CE",
         "eletroportateis",
         8,
         1460,
         "0.0054794520547945"
        ],
        [
         "CE",
         "construcao_ferramentas_jardim",
         8,
         1460,
         "0.0054794520547945"
        ],
        [
         "CE",
         "eletrodomesticos",
         7,
         1460,
         "0.0047945205479452"
        ],
        [
         "CE",
         "instrumentos_musicais",
         7,
         1460,
         "0.0047945205479452"
        ],
        [
         "CE",
         "livros_interesse_geral",
         7,
         1460,
         "0.0047945205479452"
        ],
        [
         "CE",
         "agro_industria_e_comercio",
         6,
         1460,
         "0.0041095890410959"
        ],
        [
         "CE",
         "pcs",
         6,
         1460,
         "0.0041095890410959"
        ],
        [
         "CE",
         "construcao_ferramentas_seguranca",
         5,
         1460,
         "0.0034246575342466"
        ],
        [
         "CE",
         "audio",
         5,
         1460,
         "0.0034246575342466"
        ],
        [
         "CE",
         "alimentos",
         5,
         1460,
         "0.0034246575342466"
        ],
        [
         "CE",
         "casa_conforto",
         4,
         1460,
         "0.0027397260273973"
        ],
        [
         "CE",
         "market_place",
         4,
         1460,
         "0.0027397260273973"
        ],
        [
         "CE",
         "livros_tecnicos",
         4,
         1460,
         "0.0027397260273973"
        ],
        [
         "CE",
         "telefonia_fixa",
         4,
         1460,
         "0.0027397260273973"
        ],
        [
         "CE",
         "alimentos_bebidas",
         4,
         1460,
         "0.0027397260273973"
        ],
        [
         "CE",
         "bebidas",
         3,
         1460,
         "0.0020547945205479"
        ],
        [
         "CE",
         "eletrodomesticos_2",
         3,
         1460,
         "0.0020547945205479"
        ],
        [
         "CE",
         "fashion_calcados",
         3,
         1460,
         "0.0020547945205479"
        ],
        [
         "CE",
         "climatizacao",
         2,
         1460,
         "0.0013698630136986"
        ],
        [
         "CE",
         "artigos_de_natal",
         2,
         1460,
         "0.0013698630136986"
        ],
        [
         "CE",
         "industria_comercio_e_negocios",
         2,
         1460,
         "0.0013698630136986"
        ],
        [
         "CE",
         "moveis_sala",
         2,
         1460,
         "0.0013698630136986"
        ],
        [
         "CE",
         "construcao_ferramentas_ferramentas",
         1,
         1460,
         "0.0006849315068493"
        ],
        [
         "CE",
         "moveis_cozinha_area_de_servico_jantar_e_jardim",
         1,
         1460,
         "0.0006849315068493"
        ],
        [
         "CE",
         "fraldas_higiene",
         1,
         1460,
         "0.0006849315068493"
        ],
        [
         "CE",
         "musica",
         1,
         1460,
         "0.0006849315068493"
        ],
        [
         "CE",
         "fashion_roupa_masculina",
         1,
         1460,
         "0.0006849315068493"
        ],
        [
         "CE",
         "tablets_impressao_imagem",
         1,
         1460,
         "0.0006849315068493"
        ],
        [
         "CE",
         "construcao_ferramentas_iluminacao",
         1,
         1460,
         "0.0006849315068493"
        ],
        [
         "DF",
         "beleza_saude",
         246,
         2373,
         "0.1036662452591656"
        ],
        [
         "DF",
         "esporte_lazer",
         224,
         2373,
         "0.0943952802359882"
        ],
        [
         "DF",
         "cama_mesa_banho",
         209,
         2373,
         "0.0880741677201854"
        ],
        [
         "DF",
         "informatica_acessorios",
         163,
         2373,
         "0.0686894226717236"
        ],
        [
         "DF",
         "utilidades_domesticas",
         155,
         2373,
         "0.0653181626632954"
        ],
        [
         "DF",
         "moveis_decoracao",
         152,
         2373,
         "0.0640539401601349"
        ],
        [
         "DF",
         "relogios_presentes",
         148,
         2373,
         "0.0623683101559208"
        ],
        [
         "DF",
         "automotivo",
         110,
         2373,
         "0.0463548251158871"
        ],
        [
         "DF",
         "brinquedos",
         97,
         2373,
         "0.0408765276021913"
        ],
        [
         "DF",
         "telefonia",
         94,
         2373,
         "0.0396123050990308"
        ],
        [
         "DF",
         "perfumaria",
         88,
         2373,
         "0.0370838600927097"
        ],
        [
         "DF",
         "cool_stuff",
         80,
         2373,
         "0.0337126000842815"
        ],
        [
         "DF",
         "bebes",
         69,
         2373,
         "0.0290771175726928"
        ],
        [
         "DF",
         "ferramentas_jardim",
         60,
         2373,
         "0.0252844500632111"
        ],
        [
         "DF",
         "eletronicos",
         51,
         2373,
         "0.0214917825537295"
        ],
        [
         "DF",
         "papelaria",
         48,
         2373,
         "0.0202275600505689"
        ],
        [
         "DF",
         "fashion_bolsas_e_acessorios",
         46,
         2373,
         "0.0193847450484619"
        ],
        [
         "DF",
         "pet_shop",
         40,
         2373,
         "0.0168563000421408"
        ],
        [
         "DF",
         "consoles_games",
         28,
         2373,
         "0.0117994100294985"
        ],
        [
         "DF",
         "malas_acessorios",
         24,
         2373,
         "0.0101137800252845"
        ],
        [
         "DF",
         "eletroportateis",
         23,
         2373,
         "0.0096923725242309"
        ],
        [
         "DF",
         "moveis_escritorio",
         19,
         2373,
         "0.0080067425200169"
        ],
        [
         "DF",
         "livros_interesse_geral",
         18,
         2373,
         "0.0075853350189633"
        ],
        [
         "DF",
         "audio",
         16,
         2373,
         "0.0067425200168563"
        ],
        [
         "DF",
         "eletrodomesticos",
         15,
         2373,
         "0.0063211125158028"
        ],
        [
         "DF",
         "construcao_ferramentas_construcao",
         11,
         2373,
         "0.0046354825115887"
        ],
        [
         "DF",
         "instrumentos_musicais",
         10,
         2373,
         "0.0042140750105352"
        ],
        [
         "DF",
         "alimentos",
         9,
         2373,
         "0.0037926675094817"
        ],
        [
         "DF",
         "artigos_de_natal",
         8,
         2373,
         "0.0033712600084282"
        ],
        [
         "DF",
         "moveis_sala",
         7,
         2373,
         "0.0029498525073746"
        ],
        [
         "DF",
         "casa_construcao",
         7,
         2373,
         "0.0029498525073746"
        ],
        [
         "DF",
         "casa_conforto",
         7,
         2373,
         "0.0029498525073746"
        ],
        [
         "DF",
         "fashion_calcados",
         7,
         2373,
         "0.0029498525073746"
        ],
        [
         "DF",
         "pcs",
         7,
         2373,
         "0.0029498525073746"
        ],
        [
         "DF",
         "artes",
         6,
         2373,
         "0.0025284450063211"
        ],
        [
         "DF",
         "industria_comercio_e_negocios",
         6,
         2373,
         "0.0025284450063211"
        ],
        [
         "DF",
         "moveis_cozinha_area_de_servico_jantar_e_jardim",
         5,
         2373,
         "0.0021070375052676"
        ],
        [
         "DF",
         "bebidas",
         5,
         2373,
         "0.0021070375052676"
        ],
        [
         "DF",
         "construcao_ferramentas_jardim",
         5,
         2373,
         "0.0021070375052676"
        ],
        [
         "DF",
         "eletrodomesticos_2",
         5,
         2373,
         "0.0021070375052676"
        ],
        [
         "DF",
         "livros_tecnicos",
         5,
         2373,
         "0.0021070375052676"
        ],
        [
         "DF",
         "alimentos_bebidas",
         4,
         2373,
         "0.0016856300042141"
        ],
        [
         "DF",
         "construcao_ferramentas_iluminacao",
         4,
         2373,
         "0.0016856300042141"
        ],
        [
         "DF",
         "sinalizacao_e_seguranca",
         4,
         2373,
         "0.0016856300042141"
        ],
        [
         "DF",
         "market_place",
         4,
         2373,
         "0.0016856300042141"
        ],
        [
         "DF",
         "climatizacao",
         3,
         2373,
         "0.0012642225031606"
        ],
        [
         "DF",
         "dvds_blu_ray",
         3,
         2373,
         "0.0012642225031606"
        ],
        [
         "DF",
         "construcao_ferramentas_seguranca",
         3,
         2373,
         "0.0012642225031606"
        ],
        [
         "DF",
         "telefonia_fixa",
         3,
         2373,
         "0.0012642225031606"
        ],
        [
         "DF",
         "fashion_underwear_e_moda_praia",
         2,
         2373,
         "0.0008428150021070"
        ],
        [
         "DF",
         "fashion_roupa_feminina",
         1,
         2373,
         "0.0004214075010535"
        ],
        [
         "DF",
         "seguros_e_servicos",
         1,
         2373,
         "0.0004214075010535"
        ],
        [
         "DF",
         "artigos_de_festas",
         1,
         2373,
         "0.0004214075010535"
        ],
        [
         "DF",
         "artes_e_artesanato",
         1,
         2373,
         "0.0004214075010535"
        ],
        [
         "DF",
         "moveis_quarto",
         1,
         2373,
         "0.0004214075010535"
        ],
        [
         "DF",
         "portateis_casa_forno_e_cafe",
         1,
         2373,
         "0.0004214075010535"
        ],
        [
         "DF",
         "moveis_colchao_e_estofado",
         1,
         2373,
         "0.0004214075010535"
        ],
        [
         "DF",
         "cine_foto",
         1,
         2373,
         "0.0004214075010535"
        ],
        [
         "DF",
         "musica",
         1,
         2373,
         "0.0004214075010535"
        ],
        [
         "DF",
         "fashion_esporte",
         1,
         2373,
         "0.0004214075010535"
        ],
        [
         "ES",
         "cama_mesa_banho",
         225,
         2238,
         "0.1005361930294906"
        ],
        [
         "ES",
         "esporte_lazer",
         174,
         2238,
         "0.0777479892761394"
        ],
        [
         "ES",
         "beleza_saude",
         165,
         2238,
         "0.0737265415549598"
        ],
        [
         "ES",
         "relogios_presentes",
         152,
         2238,
         "0.0679177837354781"
        ],
        [
         "ES",
         "informatica_acessorios",
         152,
         2238,
         "0.0679177837354781"
        ],
        [
         "ES",
         "moveis_decoracao",
         145,
         2238,
         "0.0647899910634495"
        ],
        [
         "ES",
         "telefonia",
         115,
         2238,
         "0.0513851653261841"
        ],
        [
         "ES",
         "utilidades_domesticas",
         114,
         2238,
         "0.0509383378016086"
        ],
        [
         "ES",
         "ferramentas_jardim",
         104,
         2238,
         "0.0464700625558534"
        ],
        [
         "ES",
         "brinquedos",
         97,
         2238,
         "0.0433422698838248"
        ],
        [
         "ES",
         "automotivo",
         87,
         2238,
         "0.0388739946380697"
        ],
        [
         "ES",
         "eletronicos",
         79,
         2238,
         "0.0352993744414656"
        ],
        [
         "ES",
         "perfumaria",
         68,
         2238,
         "0.0303842716711349"
        ],
        [
         "ES",
         "cool_stuff",
         66,
         2238,
         "0.0294906166219839"
        ],
        [
         "ES",
         "bebes",
         62,
         2238,
         "0.0277033065236819"
        ],
        [
         "ES",
         "fashion_bolsas_e_acessorios",
         50,
         2238,
         "0.0223413762287757"
        ],
        [
         "ES",
         "papelaria",
         50,
         2238,
         "0.0223413762287757"
        ],
        [
         "ES",
         "moveis_escritorio",
         30,
         2238,
         "0.0134048257372654"
        ],
        [
         "ES",
         "pet_shop",
         26,
         2238,
         "0.0116175156389634"
        ],
        [
         "ES",
         "consoles_games",
         23,
         2238,
         "0.0102770330652368"
        ],
        [
         "ES",
         "instrumentos_musicais",
         21,
         2238,
         "0.0093833780160858"
        ],
        [
         "ES",
         "malas_acessorios",
         16,
         2238,
         "0.0071492403932082"
        ],
        [
         "ES",
         "eletrodomesticos",
         15,
         2238,
         "0.0067024128686327"
        ],
        [
         "ES",
         "casa_construcao",
         15,
         2238,
         "0.0067024128686327"
        ],
        [
         "ES",
         "alimentos",
         14,
         2238,
         "0.0062555853440572"
        ],
        [
         "ES",
         "audio",
         14,
         2238,
         "0.0062555853440572"
        ],
        [
         "ES",
         "livros_tecnicos",
         14,
         2238,
         "0.0062555853440572"
        ],
        [
         "ES",
         "moveis_sala",
         14,
         2238,
         "0.0062555853440572"
        ],
        [
         "ES",
         "casa_conforto",
         12,
         2238,
         "0.0053619302949062"
        ],
        [
         "ES",
         "construcao_ferramentas_construcao",
         12,
         2238,
         "0.0053619302949062"
        ],
        [
         "ES",
         "livros_interesse_geral",
         11,
         2238,
         "0.0049151027703307"
        ],
        [
         "ES",
         "construcao_ferramentas_iluminacao",
         9,
         2238,
         "0.0040214477211796"
        ],
        [
         "ES",
         "telefonia_fixa",
         9,
         2238,
         "0.0040214477211796"
        ],
        [
         "ES",
         "market_place",
         7,
         2238,
         "0.0031277926720286"
        ],
        [
         "ES",
         "alimentos_bebidas",
         7,
         2238,
         "0.0031277926720286"
        ],
        [
         "ES",
         "climatizacao",
         6,
         2238,
         "0.0026809651474531"
        ],
        [
         "ES",
         "sinalizacao_e_seguranca",
         6,
         2238,
         "0.0026809651474531"
        ],
        [
         "ES",
         "construcao_ferramentas_jardim",
         5,
         2238,
         "0.0022341376228776"
        ],
        [
         "ES",
         "bebidas",
         5,
         2238,
         "0.0022341376228776"
        ],
        [
         "ES",
         "fashion_calcados",
         5,
         2238,
         "0.0022341376228776"
        ],
        [
         "ES",
         "construcao_ferramentas_ferramentas",
         4,
         2238,
         "0.0017873100983021"
        ],
        [
         "ES",
         "tablets_impressao_imagem",
         4,
         2238,
         "0.0017873100983021"
        ],
        [
         "ES",
         "fashion_roupa_masculina",
         3,
         2238,
         "0.0013404825737265"
        ],
        [
         "ES",
         "pcs",
         3,
         2238,
         "0.0013404825737265"
        ],
        [
         "ES",
         "eletroportateis",
         3,
         2238,
         "0.0013404825737265"
        ],
        [
         "ES",
         "eletrodomesticos_2",
         3,
         2238,
         "0.0013404825737265"
        ],
        [
         "ES",
         "agro_industria_e_comercio",
         2,
         2238,
         "0.0008936550491510"
        ],
        [
         "ES",
         "industria_comercio_e_negocios",
         2,
         2238,
         "0.0008936550491510"
        ],
        [
         "ES",
         "artigos_de_festas",
         2,
         2238,
         "0.0008936550491510"
        ],
        [
         "ES",
         "artigos_de_natal",
         2,
         2238,
         "0.0008936550491510"
        ],
        [
         "ES",
         "flores",
         2,
         2238,
         "0.0008936550491510"
        ],
        [
         "ES",
         "cine_foto",
         1,
         2238,
         "0.0004468275245755"
        ],
        [
         "ES",
         "artes",
         1,
         2238,
         "0.0004468275245755"
        ],
        [
         "ES",
         "fashion_underwear_e_moda_praia",
         1,
         2238,
         "0.0004468275245755"
        ],
        [
         "ES",
         "casa_conforto_2",
         1,
         2238,
         "0.0004468275245755"
        ],
        [
         "ES",
         "moveis_quarto",
         1,
         2238,
         "0.0004468275245755"
        ],
        [
         "ES",
         "fashion_roupa_feminina",
         1,
         2238,
         "0.0004468275245755"
        ],
        [
         "ES",
         "moveis_cozinha_area_de_servico_jantar_e_jardim",
         1,
         2238,
         "0.0004468275245755"
        ],
        [
         "GO",
         "cama_mesa_banho",
         235,
         2280,
         "0.1030701754385965"
        ],
        [
         "GO",
         "beleza_saude",
         229,
         2280,
         "0.1004385964912281"
        ],
        [
         "GO",
         "esporte_lazer",
         167,
         2280,
         "0.0732456140350877"
        ],
        [
         "GO",
         "relogios_presentes",
         147,
         2280,
         "0.0644736842105263"
        ],
        [
         "GO",
         "utilidades_domesticas",
         132,
         2280,
         "0.0578947368421053"
        ],
        [
         "GO",
         "moveis_decoracao",
         128,
         2280,
         "0.0561403508771930"
        ],
        [
         "GO",
         "informatica_acessorios",
         124,
         2280,
         "0.0543859649122807"
        ],
        [
         "GO",
         "telefonia",
         123,
         2280,
         "0.0539473684210526"
        ],
        [
         "GO",
         "ferramentas_jardim",
         118,
         2280,
         "0.0517543859649123"
        ],
        [
         "GO",
         "cool_stuff",
         99,
         2280,
         "0.0434210526315789"
        ],
        [
         "GO",
         "automotivo",
         99,
         2280,
         "0.0434210526315789"
        ],
        [
         "GO",
         "perfumaria",
         93,
         2280,
         "0.0407894736842105"
        ],
        [
         "GO",
         "brinquedos",
         83,
         2280,
         "0.0364035087719298"
        ],
        [
         "GO",
         "bebes",
         54,
         2280,
         "0.0236842105263158"
        ],
        [
         "GO",
         "papelaria",
         50,
         2280,
         "0.0219298245614035"
        ],
        [
         "GO",
         "fashion_bolsas_e_acessorios",
         45,
         2280,
         "0.0197368421052632"
        ],
        [
         "GO",
         "eletronicos",
         33,
         2280,
         "0.0144736842105263"
        ],
        [
         "GO",
         "pet_shop",
         28,
         2280,
         "0.0122807017543860"
        ],
        [
         "GO",
         "consoles_games",
         22,
         2280,
         "0.0096491228070175"
        ],
        [
         "GO",
         "moveis_escritorio",
         22,
         2280,
         "0.0096491228070175"
        ],
        [
         "GO",
         "livros_interesse_geral",
         15,
         2280,
         "0.0065789473684211"
        ],
        [
         "GO",
         "eletrodomesticos",
         14,
         2280,
         "0.0061403508771930"
        ],
        [
         "GO",
         "market_place",
         13,
         2280,
         "0.0057017543859649"
        ],
        [
         "GO",
         "casa_construcao",
         13,
         2280,
         "0.0057017543859649"
        ],
        [
         "GO",
         "malas_acessorios",
         12,
         2280,
         "0.0052631578947368"
        ],
        [
         "GO",
         "construcao_ferramentas_construcao",
         11,
         2280,
         "0.0048245614035088"
        ],
        [
         "GO",
         "eletroportateis",
         11,
         2280,
         "0.0048245614035088"
        ],
        [
         "GO",
         "moveis_sala",
         10,
         2280,
         "0.0043859649122807"
        ],
        [
         "GO",
         "instrumentos_musicais",
         9,
         2280,
         "0.0039473684210526"
        ],
        [
         "GO",
         "casa_conforto",
         8,
         2280,
         "0.0035087719298246"
        ],
        [
         "GO",
         "climatizacao",
         7,
         2280,
         "0.0030701754385965"
        ],
        [
         "GO",
         "audio",
         7,
         2280,
         "0.0030701754385965"
        ],
        [
         "GO",
         "alimentos",
         7,
         2280,
         "0.0030701754385965"
        ],
        [
         "GO",
         "bebidas",
         7,
         2280,
         "0.0030701754385965"
        ],
        [
         "GO",
         "agro_industria_e_comercio",
         7,
         2280,
         "0.0030701754385965"
        ],
        [
         "GO",
         "industria_comercio_e_negocios",
         7,
         2280,
         "0.0030701754385965"
        ],
        [
         "GO",
         "fashion_calcados",
         7,
         2280,
         "0.0030701754385965"
        ],
        [
         "GO",
         "construcao_ferramentas_ferramentas",
         7,
         2280,
         "0.0030701754385965"
        ],
        [
         "GO",
         "construcao_ferramentas_seguranca",
         7,
         2280,
         "0.0030701754385965"
        ],
        [
         "GO",
         "sinalizacao_e_seguranca",
         6,
         2280,
         "0.0026315789473684"
        ],
        [
         "GO",
         "telefonia_fixa",
         6,
         2280,
         "0.0026315789473684"
        ],
        [
         "GO",
         "construcao_ferramentas_iluminacao",
         5,
         2280,
         "0.0021929824561404"
        ],
        [
         "GO",
         "pcs",
         5,
         2280,
         "0.0021929824561404"
        ],
        [
         "GO",
         "construcao_ferramentas_jardim",
         5,
         2280,
         "0.0021929824561404"
        ],
        [
         "GO",
         "fashion_underwear_e_moda_praia",
         5,
         2280,
         "0.0021929824561404"
        ],
        [
         "GO",
         "casa_conforto_2",
         5,
         2280,
         "0.0021929824561404"
        ],
        [
         "GO",
         "artes",
         4,
         2280,
         "0.0017543859649123"
        ],
        [
         "GO",
         "moveis_cozinha_area_de_servico_jantar_e_jardim",
         4,
         2280,
         "0.0017543859649123"
        ],
        [
         "GO",
         "fashion_roupa_masculina",
         3,
         2280,
         "0.0013157894736842"
        ],
        [
         "GO",
         "eletrodomesticos_2",
         3,
         2280,
         "0.0013157894736842"
        ],
        [
         "GO",
         "artigos_de_natal",
         3,
         2280,
         "0.0013157894736842"
        ],
        [
         "GO",
         "livros_tecnicos",
         3,
         2280,
         "0.0013157894736842"
        ],
        [
         "GO",
         "fashion_roupa_feminina",
         2,
         2280,
         "0.0008771929824561"
        ],
        [
         "GO",
         "artigos_de_festas",
         2,
         2280,
         "0.0008771929824561"
        ],
        [
         "GO",
         "dvds_blu_ray",
         1,
         2280,
         "0.0004385964912281"
        ],
        [
         "GO",
         "flores",
         1,
         2280,
         "0.0004385964912281"
        ],
        [
         "GO",
         "musica",
         1,
         2280,
         "0.0004385964912281"
        ],
        [
         "GO",
         "portateis_cozinha_e_preparadores_de_alimentos",
         1,
         2280,
         "0.0004385964912281"
        ],
        [
         "GO",
         "tablets_impressao_imagem",
         1,
         2280,
         "0.0004385964912281"
        ],
        [
         "GO",
         "la_cuisine",
         1,
         2280,
         "0.0004385964912281"
        ],
        [
         "GO",
         "cine_foto",
         1,
         2280,
         "0.0004385964912281"
        ],
        [
         "GO",
         "moveis_colchao_e_estofado",
         1,
         2280,
         "0.0004385964912281"
        ],
        [
         "GO",
         "moveis_quarto",
         1,
         2280,
         "0.0004385964912281"
        ],
        [
         "MA",
         "beleza_saude",
         89,
         813,
         "0.1094710947109471"
        ],
        [
         "MA",
         "informatica_acessorios",
         73,
         813,
         "0.0897908979089791"
        ],
        [
         "MA",
         "esporte_lazer",
         66,
         813,
         "0.0811808118081181"
        ],
        [
         "MA",
         "telefonia",
         65,
         813,
         "0.0799507995079951"
        ],
        [
         "MA",
         "relogios_presentes",
         61,
         813,
         "0.0750307503075031"
        ],
        [
         "MA",
         "moveis_decoracao",
         48,
         813,
         "0.0590405904059041"
        ],
        [
         "MA",
         "automotivo",
         39,
         813,
         "0.0479704797047970"
        ],
        [
         "MA",
         "cama_mesa_banho",
         36,
         813,
         "0.0442804428044280"
        ],
        [
         "MA",
         "cool_stuff",
         35,
         813,
         "0.0430504305043050"
        ],
        [
         "MA",
         "perfumaria",
         31,
         813,
         "0.0381303813038130"
        ],
        [
         "MA",
         "bebes",
         27,
         813,
         "0.0332103321033210"
        ],
        [
         "MA",
         "fashion_bolsas_e_acessorios",
         26,
         813,
         "0.0319803198031980"
        ],
        [
         "MA",
         "utilidades_domesticas",
         24,
         813,
         "0.0295202952029520"
        ],
        [
         "MA",
         "ferramentas_jardim",
         24,
         813,
         "0.0295202952029520"
        ],
        [
         "MA",
         "brinquedos",
         23,
         813,
         "0.0282902829028290"
        ],
        [
         "MA",
         "moveis_escritorio",
         23,
         813,
         "0.0282902829028290"
        ],
        [
         "MA",
         "papelaria",
         20,
         813,
         "0.0246002460024600"
        ],
        [
         "MA",
         "eletronicos",
         13,
         813,
         "0.0159901599015990"
        ],
        [
         "MA",
         "instrumentos_musicais",
         10,
         813,
         "0.0123001230012300"
        ],
        [
         "MA",
         "pet_shop",
         10,
         813,
         "0.0123001230012300"
        ],
        [
         "MA",
         "malas_acessorios",
         9,
         813,
         "0.0110701107011070"
        ],
        [
         "MA",
         "market_place",
         9,
         813,
         "0.0110701107011070"
        ],
        [
         "MA",
         "consoles_games",
         6,
         813,
         "0.0073800738007380"
        ],
        [
         "MA",
         "casa_construcao",
         5,
         813,
         "0.0061500615006150"
        ],
        [
         "MA",
         "pcs",
         5,
         813,
         "0.0061500615006150"
        ],
        [
         "MA",
         "moveis_sala",
         4,
         813,
         "0.0049200492004920"
        ],
        [
         "MA",
         "livros_interesse_geral",
         3,
         813,
         "0.0036900369003690"
        ],
        [
         "MA",
         "livros_tecnicos",
         3,
         813,
         "0.0036900369003690"
        ],
        [
         "MA",
         "audio",
         3,
         813,
         "0.0036900369003690"
        ],
        [
         "MA",
         "eletrodomesticos",
         3,
         813,
         "0.0036900369003690"
        ],
        [
         "MA",
         "eletroportateis",
         2,
         813,
         "0.0024600246002460"
        ],
        [
         "MA",
         "alimentos_bebidas",
         2,
         813,
         "0.0024600246002460"
        ],
        [
         "MA",
         "casa_conforto",
         2,
         813,
         "0.0024600246002460"
        ],
        [
         "MA",
         "agro_industria_e_comercio",
         1,
         813,
         "0.0012300123001230"
        ],
        [
         "MA",
         "artigos_de_natal",
         1,
         813,
         "0.0012300123001230"
        ],
        [
         "MA",
         "cine_foto",
         1,
         813,
         "0.0012300123001230"
        ],
        [
         "MA",
         "telefonia_fixa",
         1,
         813,
         "0.0012300123001230"
        ],
        [
         "MA",
         "construcao_ferramentas_construcao",
         1,
         813,
         "0.0012300123001230"
        ],
        [
         "MA",
         "tablets_impressao_imagem",
         1,
         813,
         "0.0012300123001230"
        ],
        [
         "MA",
         "fashion_roupa_masculina",
         1,
         813,
         "0.0012300123001230"
        ],
        [
         "MA",
         "livros_importados",
         1,
         813,
         "0.0012300123001230"
        ],
        [
         "MA",
         "construcao_ferramentas_iluminacao",
         1,
         813,
         "0.0012300123001230"
        ],
        [
         "MA",
         "cds_dvds_musicais",
         1,
         813,
         "0.0012300123001230"
        ],
        [
         "MA",
         "climatizacao",
         1,
         813,
         "0.0012300123001230"
        ],
        [
         "MA",
         "fashion_calcados",
         1,
         813,
         "0.0012300123001230"
        ],
        [
         "MA",
         "industria_comercio_e_negocios",
         1,
         813,
         "0.0012300123001230"
        ],
        [
         "MA",
         "fashion_esporte",
         1,
         813,
         "0.0012300123001230"
        ],
        [
         "MG",
         "cama_mesa_banho",
         1331,
         12948,
         "0.1027957985789311"
        ],
        [
         "MG",
         "beleza_saude",
         1086,
         12948,
         "0.0838739573679333"
        ],
        [
         "MG",
         "informatica_acessorios",
         1000,
         12948,
         "0.0772320049428483"
        ],
        [
         "MG",
         "esporte_lazer",
         966,
         12948,
         "0.0746061167747915"
        ],
        [
         "MG",
         "moveis_decoracao",
         949,
         12948,
         "0.0732931726907631"
        ],
        [
         "MG",
         "utilidades_domesticas",
         835,
         12948,
         "0.0644887241272783"
        ],
        [
         "MG",
         "relogios_presentes",
         637,
         12948,
         "0.0491967871485944"
        ],
        [
         "MG",
         "ferramentas_jardim",
         608,
         12948,
         "0.0469570590052518"
        ],
        [
         "MG",
         "automotivo",
         513,
         12948,
         "0.0396200185356812"
        ],
        [
         "MG",
         "brinquedos",
         494,
         12948,
         "0.0381526104417671"
        ],
        [
         "MG",
         "telefonia",
         484,
         12948,
         "0.0373802903923386"
        ],
        [
         "MG",
         "cool_stuff",
         459,
         12948,
         "0.0354494902687674"
        ],
        [
         "MG",
         "perfumaria",
         408,
         12948,
         "0.0315106580166821"
        ],
        [
         "MG",
         "bebes",
         372,
         12948,
         "0.0287303058387396"
        ],
        [
         "MG",
         "eletronicos",
         296,
         12948,
         "0.0228606734630831"
        ],
        [
         "MG",
         "papelaria",
         273,
         12948,
         "0.0210843373493976"
        ],
        [
         "MG",
         "fashion_bolsas_e_acessorios",
         265,
         12948,
         "0.0204664813098548"
        ],
        [
         "MG",
         "pet_shop",
         250,
         12948,
         "0.0193080012357121"
        ],
        [
         "MG",
         "malas_acessorios",
         183,
         12948,
         "0.0141334569045412"
        ],
        [
         "MG",
         "moveis_escritorio",
         167,
         12948,
         "0.0128977448254557"
        ],
        [
         "MG",
         "consoles_games",
         133,
         12948,
         "0.0102718566573988"
        ],
        [
         "MG",
         "construcao_ferramentas_construcao",
         121,
         12948,
         "0.0093450725980846"
        ],
        [
         "MG",
         "eletrodomesticos",
         86,
         12948,
         "0.0066419524250850"
        ],
        [
         "MG",
         "instrumentos_musicais",
         80,
         12948,
         "0.0061785603954279"
        ],
        [
         "MG",
         "eletroportateis",
         66,
         12948,
         "0.0050973123262280"
        ],
        [
         "MG",
         "casa_construcao",
         63,
         12948,
         "0.0048656163113994"
        ],
        [
         "MG",
         "casa_conforto",
         57,
         12948,
         "0.0044022242817424"
        ],
        [
         "MG",
         "livros_interesse_geral",
         54,
         12948,
         "0.0041705282669138"
        ],
        [
         "MG",
         "moveis_sala",
         48,
         12948,
         "0.0037071362372567"
        ],
        [
         "MG",
         "fashion_calcados",
         43,
         12948,
         "0.0033209762125425"
        ],
        [
         "MG",
         "construcao_ferramentas_iluminacao",
         41,
         12948,
         "0.0031665122026568"
        ],
        [
         "MG",
         "alimentos",
         38,
         12948,
         "0.0029348161878282"
        ],
        [
         "MG",
         "audio",
         35,
         12948,
         "0.0027031201729997"
        ],
        [
         "MG",
         "market_place",
         33,
         12948,
         "0.0025486561631140"
        ],
        [
         "MG",
         "construcao_ferramentas_jardim",
         30,
         12948,
         "0.0023169601482854"
        ],
        [
         "MG",
         "construcao_ferramentas_seguranca",
         29,
         12948,
         "0.0022397281433426"
        ],
        [
         "MG",
         "moveis_cozinha_area_de_servico_jantar_e_jardim",
         29,
         12948,
         "0.0022397281433426"
        ],
        [
         "MG",
         "livros_tecnicos",
         29,
         12948,
         "0.0022397281433426"
        ],
        [
         "MG",
         "alimentos_bebidas",
         26,
         12948,
         "0.0020080321285141"
        ],
        [
         "MG",
         "bebidas",
         26,
         12948,
         "0.0020080321285141"
        ],
        [
         "MG",
         "agro_industria_e_comercio",
         21,
         12948,
         "0.0016218721037998"
        ],
        [
         "MG",
         "eletrodomesticos_2",
         20,
         12948,
         "0.0015446400988570"
        ],
        [
         "MG",
         "climatizacao",
         20,
         12948,
         "0.0015446400988570"
        ],
        [
         "MG",
         "fashion_roupa_masculina",
         20,
         12948,
         "0.0015446400988570"
        ],
        [
         "MG",
         "pcs",
         19,
         12948,
         "0.0014674080939141"
        ],
        [
         "MG",
         "artigos_de_natal",
         19,
         12948,
         "0.0014674080939141"
        ],
        [
         "MG",
         "artes",
         18,
         12948,
         "0.0013901760889713"
        ],
        [
         "MG",
         "construcao_ferramentas_ferramentas",
         18,
         12948,
         "0.0013901760889713"
        ],
        [
         "MG",
         "fashion_underwear_e_moda_praia",
         18,
         12948,
         "0.0013901760889713"
        ],
        [
         "MG",
         "telefonia_fixa",
         17,
         12948,
         "0.0013129440840284"
        ],
        [
         "MG",
         "industria_comercio_e_negocios",
         17,
         12948,
         "0.0013129440840284"
        ],
        [
         "MG",
         "sinalizacao_e_seguranca",
         11,
         12948,
         "0.0008495520543713"
        ],
        [
         "MG",
         "tablets_impressao_imagem",
         10,
         12948,
         "0.0007723200494285"
        ],
        [
         "MG",
         "portateis_casa_forno_e_cafe",
         10,
         12948,
         "0.0007723200494285"
        ],
        [
         "MG",
         "moveis_quarto",
         7,
         12948,
         "0.0005406240345999"
        ],
        [
         "MG",
         "fashion_roupa_feminina",
         7,
         12948,
         "0.0005406240345999"
        ],
        [
         "MG",
         "livros_importados",
         7,
         12948,
         "0.0005406240345999"
        ],
        [
         "MG",
         "artes_e_artesanato",
         6,
         12948,
         "0.0004633920296571"
        ],
        [
         "MG",
         "cine_foto",
         6,
         12948,
         "0.0004633920296571"
        ],
        [
         "MG",
         "musica",
         6,
         12948,
         "0.0004633920296571"
        ],
        [
         "MG",
         "flores",
         5,
         12948,
         "0.0003861600247142"
        ],
        [
         "MG",
         "artigos_de_festas",
         5,
         12948,
         "0.0003861600247142"
        ],
        [
         "MG",
         "dvds_blu_ray",
         4,
         12948,
         "0.0003089280197714"
        ],
        [
         "MG",
         "moveis_colchao_e_estofado",
         3,
         12948,
         "0.0002316960148285"
        ],
        [
         "MG",
         "casa_conforto_2",
         3,
         12948,
         "0.0002316960148285"
        ],
        [
         "MG",
         "la_cuisine",
         2,
         12948,
         "0.0001544640098857"
        ],
        [
         "MG",
         "portateis_cozinha_e_preparadores_de_alimentos",
         2,
         12948,
         "0.0001544640098857"
        ],
        [
         "MG",
         "fashion_esporte",
         2,
         12948,
         "0.0001544640098857"
        ],
        [
         "MG",
         "fraldas_higiene",
         1,
         12948,
         "0.0000772320049428"
        ],
        [
         "MG",
         "pc_gamer",
         1,
         12948,
         "0.0000772320049428"
        ],
        [
         "MS",
         "esporte_lazer",
         75,
         810,
         "0.0925925925925926"
        ],
        [
         "MS",
         "moveis_decoracao",
         65,
         810,
         "0.0802469135802469"
        ],
        [
         "MS",
         "beleza_saude",
         65,
         810,
         "0.0802469135802469"
        ],
        [
         "MS",
         "cama_mesa_banho",
         64,
         810,
         "0.0790123456790123"
        ],
        [
         "MS",
         "informatica_acessorios",
         63,
         810,
         "0.0777777777777778"
        ],
        [
         "MS",
         "utilidades_domesticas",
         39,
         810,
         "0.0481481481481481"
        ],
        [
         "MS",
         "relogios_presentes",
         37,
         810,
         "0.0456790123456790"
        ],
        [
         "MS",
         "brinquedos",
         36,
         810,
         "0.0444444444444444"
        ],
        [
         "MS",
         "bebes",
         31,
         810,
         "0.0382716049382716"
        ],
        [
         "MS",
         "telefonia",
         28,
         810,
         "0.0345679012345679"
        ],
        [
         "MS",
         "cool_stuff",
         26,
         810,
         "0.0320987654320988"
        ],
        [
         "MS",
         "automotivo",
         26,
         810,
         "0.0320987654320988"
        ],
        [
         "MS",
         "perfumaria",
         25,
         810,
         "0.0308641975308642"
        ],
        [
         "MS",
         "pet_shop",
         25,
         810,
         "0.0308641975308642"
        ],
        [
         "MS",
         "ferramentas_jardim",
         22,
         810,
         "0.0271604938271605"
        ],
        [
         "MS",
         "eletronicos",
         22,
         810,
         "0.0271604938271605"
        ],
        [
         "MS",
         "papelaria",
         22,
         810,
         "0.0271604938271605"
        ],
        [
         "MS",
         "construcao_ferramentas_construcao",
         14,
         810,
         "0.0172839506172840"
        ],
        [
         "MS",
         "fashion_bolsas_e_acessorios",
         14,
         810,
         "0.0172839506172840"
        ],
        [
         "MS",
         "malas_acessorios",
         9,
         810,
         "0.0111111111111111"
        ],
        [
         "MS",
         "construcao_ferramentas_iluminacao",
         9,
         810,
         "0.0111111111111111"
        ],
        [
         "MS",
         "casa_construcao",
         8,
         810,
         "0.0098765432098765"
        ],
        [
         "MS",
         "instrumentos_musicais",
         7,
         810,
         "0.0086419753086420"
        ],
        [
         "MS",
         "eletrodomesticos",
         6,
         810,
         "0.0074074074074074"
        ],
        [
         "MS",
         "consoles_games",
         6,
         810,
         "0.0074074074074074"
        ],
        [
         "MS",
         "eletroportateis",
         6,
         810,
         "0.0074074074074074"
        ],
        [
         "MS",
         "eletrodomesticos_2",
         4,
         810,
         "0.0049382716049383"
        ],
        [
         "MS",
         "alimentos",
         4,
         810,
         "0.0049382716049383"
        ],
        [
         "MS",
         "fashion_calcados",
         4,
         810,
         "0.0049382716049383"
        ],
        [
         "MS",
         "livros_tecnicos",
         4,
         810,
         "0.0049382716049383"
        ],
        [
         "MS",
         "moveis_escritorio",
         4,
         810,
         "0.0049382716049383"
        ],
        [
         "MS",
         "bebidas",
         4,
         810,
         "0.0049382716049383"
        ],
        [
         "MS",
         "dvds_blu_ray",
         3,
         810,
         "0.0037037037037037"
        ],
        [
         "MS",
         "agro_industria_e_comercio",
         3,
         810,
         "0.0037037037037037"
        ],
        [
         "MS",
         "moveis_sala",
         3,
         810,
         "0.0037037037037037"
        ],
        [
         "MS",
         "fashion_underwear_e_moda_praia",
         3,
         810,
         "0.0037037037037037"
        ],
        [
         "MS",
         "construcao_ferramentas_seguranca",
         2,
         810,
         "0.0024691358024691"
        ],
        [
         "MS",
         "tablets_impressao_imagem",
         2,
         810,
         "0.0024691358024691"
        ],
        [
         "MS",
         "construcao_ferramentas_jardim",
         2,
         810,
         "0.0024691358024691"
        ],
        [
         "MS",
         "livros_interesse_geral",
         2,
         810,
         "0.0024691358024691"
        ],
        [
         "MS",
         "market_place",
         2,
         810,
         "0.0024691358024691"
        ],
        [
         "MS",
         "artigos_de_natal",
         2,
         810,
         "0.0024691358024691"
        ],
        [
         "MS",
         "sinalizacao_e_seguranca",
         1,
         810,
         "0.0012345679012346"
        ],
        [
         "MS",
         "artes",
         1,
         810,
         "0.0012345679012346"
        ],
        [
         "MS",
         "pcs",
         1,
         810,
         "0.0012345679012346"
        ],
        [
         "MS",
         "portateis_casa_forno_e_cafe",
         1,
         810,
         "0.0012345679012346"
        ],
        [
         "MS",
         "casa_conforto",
         1,
         810,
         "0.0012345679012346"
        ],
        [
         "MS",
         "construcao_ferramentas_ferramentas",
         1,
         810,
         "0.0012345679012346"
        ],
        [
         "MS",
         "audio",
         1,
         810,
         "0.0012345679012346"
        ],
        [
         "MS",
         "flores",
         1,
         810,
         "0.0012345679012346"
        ],
        [
         "MS",
         "telefonia_fixa",
         1,
         810,
         "0.0012345679012346"
        ],
        [
         "MS",
         "alimentos_bebidas",
         1,
         810,
         "0.0012345679012346"
        ],
        [
         "MS",
         "moveis_quarto",
         1,
         810,
         "0.0012345679012346"
        ],
        [
         "MS",
         "industria_comercio_e_negocios",
         1,
         810,
         "0.0012345679012346"
        ],
        [
         "MT",
         "beleza_saude",
         90,
         1043,
         "0.0862895493767977"
        ],
        [
         "MT",
         "esporte_lazer",
         76,
         1043,
         "0.0728667305848514"
        ],
        [
         "MT",
         "moveis_decoracao",
         75,
         1043,
         "0.0719079578139981"
        ],
        [
         "MT",
         "cama_mesa_banho",
         70,
         1043,
         "0.0671140939597315"
        ],
        [
         "MT",
         "telefonia",
         66,
         1043,
         "0.0632790028763183"
        ],
        [
         "MT",
         "relogios_presentes",
         61,
         1043,
         "0.0584851390220518"
        ],
        [
         "MT",
         "automotivo",
         56,
         1043,
         "0.0536912751677852"
        ],
        [
         "MT",
         "informatica_acessorios",
         55,
         1043,
         "0.0527325023969319"
        ],
        [
         "MT",
         "ferramentas_jardim",
         53,
         1043,
         "0.0508149568552253"
        ],
        [
         "MT",
         "utilidades_domesticas",
         52,
         1043,
         "0.0498561840843720"
        ],
        [
         "MT",
         "cool_stuff",
         46,
         1043,
         "0.0441035474592522"
        ],
        [
         "MT",
         "brinquedos",
         44,
         1043,
         "0.0421860019175455"
        ],
        [
         "MT",
         "bebes",
         35,
         1043,
         "0.0335570469798658"
        ],
        [
         "MT",
         "perfumaria",
         30,
         1043,
         "0.0287631831255992"
        ],
        [
         "MT",
         "papelaria",
         28,
         1043,
         "0.0268456375838926"
        ],
        [
         "MT",
         "eletronicos",
         26,
         1043,
         "0.0249280920421860"
        ],
        [
         "MT",
         "moveis_escritorio",
         20,
         1043,
         "0.0191754554170662"
        ],
        [
         "MT",
         "pet_shop",
         16,
         1043,
         "0.0153403643336529"
        ],
        [
         "MT",
         "fashion_bolsas_e_acessorios",
         14,
         1043,
         "0.0134228187919463"
        ],
        [
         "MT",
         "consoles_games",
         9,
         1043,
         "0.0086289549376798"
        ],
        [
         "MT",
         "eletrodomesticos",
         8,
         1043,
         "0.0076701821668265"
        ],
        [
         "MT",
         "eletroportateis",
         8,
         1043,
         "0.0076701821668265"
        ],
        [
         "MT",
         "malas_acessorios",
         8,
         1043,
         "0.0076701821668265"
        ],
        [
         "MT",
         "alimentos",
         7,
         1043,
         "0.0067114093959732"
        ],
        [
         "MT",
         "casa_construcao",
         7,
         1043,
         "0.0067114093959732"
        ],
        [
         "MT",
         "construcao_ferramentas_construcao",
         7,
         1043,
         "0.0067114093959732"
        ],
        [
         "MT",
         "instrumentos_musicais",
         6,
         1043,
         "0.0057526366251198"
        ],
        [
         "MT",
         "sinalizacao_e_seguranca",
         6,
         1043,
         "0.0057526366251198"
        ],
        [
         "MT",
         "livros_tecnicos",
         5,
         1043,
         "0.0047938638542665"
        ],
        [
         "MT",
         "market_place",
         5,
         1043,
         "0.0047938638542665"
        ],
        [
         "MT",
         "climatizacao",
         5,
         1043,
         "0.0047938638542665"
        ],
        [
         "MT",
         "audio",
         4,
         1043,
         "0.0038350910834132"
        ],
        [
         "MT",
         "construcao_ferramentas_seguranca",
         4,
         1043,
         "0.0038350910834132"
        ],
        [
         "MT",
         "casa_conforto",
         4,
         1043,
         "0.0038350910834132"
        ],
        [
         "MT",
         "moveis_sala",
         3,
         1043,
         "0.0028763183125599"
        ],
        [
         "MT",
         "industria_comercio_e_negocios",
         3,
         1043,
         "0.0028763183125599"
        ],
        [
         "MT",
         "moveis_cozinha_area_de_servico_jantar_e_jardim",
         3,
         1043,
         "0.0028763183125599"
        ],
        [
         "MT",
         "construcao_ferramentas_iluminacao",
         3,
         1043,
         "0.0028763183125599"
        ],
        [
         "MT",
         "fashion_calcados",
         3,
         1043,
         "0.0028763183125599"
        ],
        [
         "MT",
         "eletrodomesticos_2",
         3,
         1043,
         "0.0028763183125599"
        ],
        [
         "MT",
         "agro_industria_e_comercio",
         2,
         1043,
         "0.0019175455417066"
        ],
        [
         "MT",
         "livros_interesse_geral",
         2,
         1043,
         "0.0019175455417066"
        ],
        [
         "MT",
         "tablets_impressao_imagem",
         2,
         1043,
         "0.0019175455417066"
        ],
        [
         "MT",
         "pcs",
         2,
         1043,
         "0.0019175455417066"
        ],
        [
         "MT",
         "moveis_quarto",
         2,
         1043,
         "0.0019175455417066"
        ],
        [
         "MT",
         "cine_foto",
         1,
         1043,
         "0.0009587727708533"
        ],
        [
         "MT",
         "construcao_ferramentas_ferramentas",
         1,
         1043,
         "0.0009587727708533"
        ],
        [
         "MT",
         "fashion_underwear_e_moda_praia",
         1,
         1043,
         "0.0009587727708533"
        ],
        [
         "MT",
         "artes",
         1,
         1043,
         "0.0009587727708533"
        ],
        [
         "MT",
         "fashion_roupa_masculina",
         1,
         1043,
         "0.0009587727708533"
        ],
        [
         "MT",
         "portateis_casa_forno_e_cafe",
         1,
         1043,
         "0.0009587727708533"
        ],
        [
         "MT",
         "artigos_de_natal",
         1,
         1043,
         "0.0009587727708533"
        ],
        [
         "MT",
         "fashion_roupa_feminina",
         1,
         1043,
         "0.0009587727708533"
        ],
        [
         "MT",
         "bebidas",
         1,
         1043,
         "0.0009587727708533"
        ],
        [
         "PA",
         "beleza_saude",
         107,
         1061,
         "0.1008482563619227"
        ],
        [
         "PA",
         "informatica_acessorios",
         90,
         1061,
         "0.0848256361922714"
        ],
        [
         "PA",
         "esporte_lazer",
         85,
         1061,
         "0.0801131008482564"
        ],
        [
         "PA",
         "telefonia",
         77,
         1061,
         "0.0725730442978322"
        ],
        [
         "PA",
         "relogios_presentes",
         76,
         1061,
         "0.0716305372290292"
        ],
        [
         "PA",
         "moveis_decoracao",
         71,
         1061,
         "0.0669180018850141"
        ],
        [
         "PA",
         "automotivo",
         51,
         1061,
         "0.0480678605089538"
        ],
        [
         "PA",
         "cool_stuff",
         49,
         1061,
         "0.0461828463713478"
        ],
        [
         "PA",
         "bebes",
         44,
         1061,
         "0.0414703110273327"
        ],
        [
         "PA",
         "cama_mesa_banho",
         38,
         1061,
         "0.0358152686145146"
        ],
        [
         "PA",
         "utilidades_domesticas",
         38,
         1061,
         "0.0358152686145146"
        ],
        [
         "PA",
         "ferramentas_jardim",
         37,
         1061,
         "0.0348727615457116"
        ],
        [
         "PA",
         "perfumaria",
         35,
         1061,
         "0.0329877474081056"
        ],
        [
         "PA",
         "fashion_bolsas_e_acessorios",
         31,
         1061,
         "0.0292177191328935"
        ],
        [
         "PA",
         "brinquedos",
         29,
         1061,
         "0.0273327049952875"
        ],
        [
         "PA",
         "eletronicos",
         28,
         1061,
         "0.0263901979264844"
        ],
        [
         "PA",
         "moveis_escritorio",
         27,
         1061,
         "0.0254476908576814"
        ],
        [
         "PA",
         "papelaria",
         22,
         1061,
         "0.0207351555136664"
        ],
        [
         "PA",
         "consoles_games",
         14,
         1061,
         "0.0131950989632422"
        ],
        [
         "PA",
         "pet_shop",
         11,
         1061,
         "0.0103675777568332"
        ],
        [
         "PA",
         "instrumentos_musicais",
         10,
         1061,
         "0.0094250706880302"
        ],
        [
         "PA",
         "eletrodomesticos",
         10,
         1061,
         "0.0094250706880302"
        ],
        [
         "PA",
         "eletroportateis",
         9,
         1061,
         "0.0084825636192271"
        ],
        [
         "PA",
         "malas_acessorios",
         7,
         1061,
         "0.0065975494816211"
        ],
        [
         "PA",
         "artigos_de_natal",
         6,
         1061,
         "0.0056550424128181"
        ],
        [
         "PA",
         "market_place",
         5,
         1061,
         "0.0047125353440151"
        ],
        [
         "PA",
         "livros_interesse_geral",
         5,
         1061,
         "0.0047125353440151"
        ],
        [
         "PA",
         "pcs",
         4,
         1061,
         "0.0037700282752121"
        ],
        [
         "PA",
         "tablets_impressao_imagem",
         4,
         1061,
         "0.0037700282752121"
        ],
        [
         "PA",
         "fashion_calcados",
         4,
         1061,
         "0.0037700282752121"
        ],
        [
         "PA",
         "fashion_esporte",
         4,
         1061,
         "0.0037700282752121"
        ],
        [
         "PA",
         "fashion_underwear_e_moda_praia",
         3,
         1061,
         "0.0028275212064090"
        ],
        [
         "PA",
         "sinalizacao_e_seguranca",
         3,
         1061,
         "0.0028275212064090"
        ],
        [
         "PA",
         "cine_foto",
         3,
         1061,
         "0.0028275212064090"
        ],
        [
         "PA",
         "artes",
         2,
         1061,
         "0.0018850141376060"
        ],
        [
         "PA",
         "construcao_ferramentas_construcao",
         2,
         1061,
         "0.0018850141376060"
        ],
        [
         "PA",
         "livros_tecnicos",
         2,
         1061,
         "0.0018850141376060"
        ],
        [
         "PA",
         "casa_construcao",
         2,
         1061,
         "0.0018850141376060"
        ],
        [
         "PA",
         "fashion_roupa_masculina",
         2,
         1061,
         "0.0018850141376060"
        ],
        [
         "PA",
         "agro_industria_e_comercio",
         2,
         1061,
         "0.0018850141376060"
        ],
        [
         "PA",
         "livros_importados",
         2,
         1061,
         "0.0018850141376060"
        ],
        [
         "PA",
         "construcao_ferramentas_jardim",
         1,
         1061,
         "0.0009425070688030"
        ],
        [
         "PA",
         "alimentos_bebidas",
         1,
         1061,
         "0.0009425070688030"
        ],
        [
         "PA",
         "bebidas",
         1,
         1061,
         "0.0009425070688030"
        ],
        [
         "PA",
         "moveis_cozinha_area_de_servico_jantar_e_jardim",
         1,
         1061,
         "0.0009425070688030"
        ],
        [
         "PA",
         "telefonia_fixa",
         1,
         1061,
         "0.0009425070688030"
        ],
        [
         "PA",
         "construcao_ferramentas_iluminacao",
         1,
         1061,
         "0.0009425070688030"
        ],
        [
         "PA",
         "portateis_cozinha_e_preparadores_de_alimentos",
         1,
         1061,
         "0.0009425070688030"
        ],
        [
         "PA",
         "moveis_sala",
         1,
         1061,
         "0.0009425070688030"
        ],
        [
         "PA",
         "construcao_ferramentas_ferramentas",
         1,
         1061,
         "0.0009425070688030"
        ],
        [
         "PA",
         "audio",
         1,
         1061,
         "0.0009425070688030"
        ],
        [
         "PB",
         "beleza_saude",
         78,
         592,
         "0.1317567567567568"
        ],
        [
         "PB",
         "informatica_acessorios",
         54,
         592,
         "0.0912162162162162"
        ],
        [
         "PB",
         "relogios_presentes",
         43,
         592,
         "0.0726351351351351"
        ],
        [
         "PB",
         "moveis_decoracao",
         42,
         592,
         "0.0709459459459459"
        ],
        [
         "PB",
         "esporte_lazer",
         36,
         592,
         "0.0608108108108108"
        ],
        [
         "PB",
         "cama_mesa_banho",
         32,
         592,
         "0.0540540540540541"
        ],
        [
         "PB",
         "telefonia",
         27,
         592,
         "0.0456081081081081"
        ],
        [
         "PB",
         "cool_stuff",
         25,
         592,
         "0.0422297297297297"
        ],
        [
         "PB",
         "utilidades_domesticas",
         23,
         592,
         "0.0388513513513514"
        ],
        [
         "PB",
         "automotivo",
         22,
         592,
         "0.0371621621621622"
        ],
        [
         "PB",
         "perfumaria",
         18,
         592,
         "0.0304054054054054"
        ],
        [
         "PB",
         "papelaria",
         18,
         592,
         "0.0304054054054054"
        ],
        [
         "PB",
         "brinquedos",
         16,
         592,
         "0.0270270270270270"
        ],
        [
         "PB",
         "ferramentas_jardim",
         15,
         592,
         "0.0253378378378378"
        ],
        [
         "PB",
         "fashion_bolsas_e_acessorios",
         15,
         592,
         "0.0253378378378378"
        ],
        [
         "PB",
         "eletronicos",
         13,
         592,
         "0.0219594594594595"
        ],
        [
         "PB",
         "bebes",
         13,
         592,
         "0.0219594594594595"
        ],
        [
         "PB",
         "moveis_escritorio",
         10,
         592,
         "0.0168918918918919"
        ],
        [
         "PB",
         "construcao_ferramentas_seguranca",
         8,
         592,
         "0.0135135135135135"
        ],
        [
         "PB",
         "pet_shop",
         8,
         592,
         "0.0135135135135135"
        ],
        [
         "PB",
         "consoles_games",
         7,
         592,
         "0.0118243243243243"
        ],
        [
         "PB",
         "malas_acessorios",
         7,
         592,
         "0.0118243243243243"
        ],
        [
         "PB",
         "sinalizacao_e_seguranca",
         6,
         592,
         "0.0101351351351351"
        ],
        [
         "PB",
         "casa_construcao",
         5,
         592,
         "0.0084459459459459"
        ],
        [
         "PB",
         "telefonia_fixa",
         5,
         592,
         "0.0084459459459459"
        ],
        [
         "PB",
         "livros_interesse_geral",
         5,
         592,
         "0.0084459459459459"
        ],
        [
         "PB",
         "pcs",
         4,
         592,
         "0.0067567567567568"
        ],
        [
         "PB",
         "eletroportateis",
         4,
         592,
         "0.0067567567567568"
        ],
        [
         "PB",
         "instrumentos_musicais",
         4,
         592,
         "0.0067567567567568"
        ],
        [
         "PB",
         "alimentos",
         3,
         592,
         "0.0050675675675676"
        ],
        [
         "PB",
         "market_place",
         3,
         592,
         "0.0050675675675676"
        ],
        [
         "PB",
         "industria_comercio_e_negocios",
         3,
         592,
         "0.0050675675675676"
        ],
        [
         "PB",
         "moveis_sala",
         3,
         592,
         "0.0050675675675676"
        ],
        [
         "PB",
         "eletrodomesticos",
         2,
         592,
         "0.0033783783783784"
        ],
        [
         "PB",
         "fashion_roupa_feminina",
         2,
         592,
         "0.0033783783783784"
        ],
        [
         "PB",
         "fashion_calcados",
         2,
         592,
         "0.0033783783783784"
        ],
        [
         "PB",
         "agro_industria_e_comercio",
         2,
         592,
         "0.0033783783783784"
        ],
        [
         "PB",
         "audio",
         1,
         592,
         "0.0016891891891892"
        ],
        [
         "PB",
         "construcao_ferramentas_ferramentas",
         1,
         592,
         "0.0016891891891892"
        ],
        [
         "PB",
         "construcao_ferramentas_construcao",
         1,
         592,
         "0.0016891891891892"
        ],
        [
         "PB",
         "climatizacao",
         1,
         592,
         "0.0016891891891892"
        ],
        [
         "PB",
         "casa_conforto",
         1,
         592,
         "0.0016891891891892"
        ],
        [
         "PB",
         "moveis_cozinha_area_de_servico_jantar_e_jardim",
         1,
         592,
         "0.0016891891891892"
        ],
        [
         "PB",
         "fraldas_higiene",
         1,
         592,
         "0.0016891891891892"
        ],
        [
         "PB",
         "artes",
         1,
         592,
         "0.0016891891891892"
        ],
        [
         "PB",
         "construcao_ferramentas_jardim",
         1,
         592,
         "0.0016891891891892"
        ],
        [
         "PE",
         "beleza_saude",
         240,
         1783,
         "0.1346045989904655"
        ],
        [
         "PE",
         "relogios_presentes",
         165,
         1783,
         "0.0925406618059450"
        ],
        [
         "PE",
         "esporte_lazer",
         149,
         1783,
         "0.0835670218732473"
        ],
        [
         "PE",
         "telefonia",
         129,
         1783,
         "0.0723499719573752"
        ],
        [
         "PE",
         "informatica_acessorios",
         106,
         1783,
         "0.0594503645541223"
        ],
        [
         "PE",
         "moveis_decoracao",
         98,
         1783,
         "0.0549635445877734"
        ],
        [
         "PE",
         "cama_mesa_banho",
         93,
         1783,
         "0.0521592821088054"
        ],
        [
         "PE",
         "automotivo",
         86,
         1783,
         "0.0482333146382501"
        ],
        [
         "PE",
         "cool_stuff",
         79,
         1783,
         "0.0443073471676949"
        ],
        [
         "PE",
         "ferramentas_jardim",
         65,
         1783,
         "0.0364554122265844"
        ],
        [
         "PE",
         "brinquedos",
         64,
         1783,
         "0.0358945597307908"
        ],
        [
         "PE",
         "utilidades_domesticas",
         60,
         1783,
         "0.0336511497476164"
        ],
        [
         "PE",
         "perfumaria",
         50,
         1783,
         "0.0280426247896803"
        ],
        [
         "PE",
         "papelaria",
         48,
         1783,
         "0.0269209197980931"
        ],
        [
         "PE",
         "bebes",
         41,
         1783,
         "0.0229949523275379"
        ],
        [
         "PE",
         "eletronicos",
         41,
         1783,
         "0.0229949523275379"
        ],
        [
         "PE",
         "fashion_bolsas_e_acessorios",
         36,
         1783,
         "0.0201906898485698"
        ],
        [
         "PE",
         "pet_shop",
         23,
         1783,
         "0.0128996074032529"
        ],
        [
         "PE",
         "moveis_escritorio",
         20,
         1783,
         "0.0112170499158721"
        ],
        [
         "PE",
         "consoles_games",
         20,
         1783,
         "0.0112170499158721"
        ],
        [
         "PE",
         "malas_acessorios",
         13,
         1783,
         "0.0072910824453169"
        ],
        [
         "PE",
         "construcao_ferramentas_construcao",
         12,
         1783,
         "0.0067302299495233"
        ],
        [
         "PE",
         "fashion_calcados",
         11,
         1783,
         "0.0061693774537297"
        ],
        [
         "PE",
         "instrumentos_musicais",
         11,
         1783,
         "0.0061693774537297"
        ],
        [
         "PE",
         "pcs",
         10,
         1783,
         "0.0056085249579361"
        ],
        [
         "PE",
         "alimentos",
         8,
         1783,
         "0.0044868199663489"
        ],
        [
         "PE",
         "casa_conforto",
         8,
         1783,
         "0.0044868199663489"
        ],
        [
         "PE",
         "livros_interesse_geral",
         8,
         1783,
         "0.0044868199663489"
        ],
        [
         "PE",
         "casa_construcao",
         7,
         1783,
         "0.0039259674705552"
        ],
        [
         "PE",
         "construcao_ferramentas_jardim",
         6,
         1783,
         "0.0033651149747616"
        ],
        [
         "PE",
         "agro_industria_e_comercio",
         5,
         1783,
         "0.0028042624789680"
        ],
        [
         "PE",
         "eletrodomesticos",
         5,
         1783,
         "0.0028042624789680"
        ],
        [
         "PE",
         "alimentos_bebidas",
         5,
         1783,
         "0.0028042624789680"
        ],
        [
         "PE",
         "audio",
         4,
         1783,
         "0.0022434099831744"
        ],
        [
         "PE",
         "moveis_cozinha_area_de_servico_jantar_e_jardim",
         4,
         1783,
         "0.0022434099831744"
        ],
        [
         "PE",
         "artigos_de_natal",
         4,
         1783,
         "0.0022434099831744"
        ],
        [
         "PE",
         "industria_comercio_e_negocios",
         4,
         1783,
         "0.0022434099831744"
        ],
        [
         "PE",
         "market_place",
         4,
         1783,
         "0.0022434099831744"
        ],
        [
         "PE",
         "construcao_ferramentas_seguranca",
         4,
         1783,
         "0.0022434099831744"
        ],
        [
         "PE",
         "moveis_sala",
         4,
         1783,
         "0.0022434099831744"
        ],
        [
         "PE",
         "livros_tecnicos",
         4,
         1783,
         "0.0022434099831744"
        ],
        [
         "PE",
         "eletroportateis",
         3,
         1783,
         "0.0016825574873808"
        ],
        [
         "PE",
         "construcao_ferramentas_iluminacao",
         3,
         1783,
         "0.0016825574873808"
        ],
        [
         "PE",
         "telefonia_fixa",
         3,
         1783,
         "0.0016825574873808"
        ],
        [
         "PE",
         "dvds_blu_ray",
         2,
         1783,
         "0.0011217049915872"
        ],
        [
         "PE",
         "flores",
         2,
         1783,
         "0.0011217049915872"
        ],
        [
         "PE",
         "climatizacao",
         2,
         1783,
         "0.0011217049915872"
        ],
        [
         "PE",
         "eletrodomesticos_2",
         2,
         1783,
         "0.0011217049915872"
        ],
        [
         "PE",
         "tablets_impressao_imagem",
         2,
         1783,
         "0.0011217049915872"
        ],
        [
         "PE",
         "fashion_underwear_e_moda_praia",
         2,
         1783,
         "0.0011217049915872"
        ],
        [
         "PE",
         "sinalizacao_e_seguranca",
         2,
         1783,
         "0.0011217049915872"
        ],
        [
         "PE",
         "pc_gamer",
         1,
         1783,
         "0.0005608524957936"
        ],
        [
         "PE",
         "moveis_quarto",
         1,
         1783,
         "0.0005608524957936"
        ],
        [
         "PE",
         "artes",
         1,
         1783,
         "0.0005608524957936"
        ],
        [
         "PE",
         "cine_foto",
         1,
         1783,
         "0.0005608524957936"
        ],
        [
         "PE",
         "portateis_casa_forno_e_cafe",
         1,
         1783,
         "0.0005608524957936"
        ],
        [
         "PE",
         "construcao_ferramentas_ferramentas",
         1,
         1783,
         "0.0005608524957936"
        ],
        [
         "PI",
         "beleza_saude",
         54,
         535,
         "0.1009345794392523"
        ],
        [
         "PI",
         "relogios_presentes",
         41,
         535,
         "0.0766355140186916"
        ],
        [
         "PI",
         "telefonia",
         38,
         535,
         "0.0710280373831776"
        ],
        [
         "PI",
         "informatica_acessorios",
         36,
         535,
         "0.0672897196261682"
        ],
        [
         "PI",
         "esporte_lazer",
         34,
         535,
         "0.0635514018691589"
        ],
        [
         "PI",
         "cama_mesa_banho",
         34,
         535,
         "0.0635514018691589"
        ],
        [
         "PI",
         "automotivo",
         34,
         535,
         "0.0635514018691589"
        ],
        [
         "PI",
         "brinquedos",
         28,
         535,
         "0.0523364485981308"
        ],
        [
         "PI",
         "moveis_decoracao",
         22,
         535,
         "0.0411214953271028"
        ],
        [
         "PI",
         "eletronicos",
         22,
         535,
         "0.0411214953271028"
        ],
        [
         "PI",
         "cool_stuff",
         20,
         535,
         "0.0373831775700935"
        ],
        [
         "PI",
         "utilidades_domesticas",
         19,
         535,
         "0.0355140186915888"
        ],
        [
         "PI",
         "ferramentas_jardim",
         17,
         535,
         "0.0317757009345794"
        ],
        [
         "PI",
         "perfumaria",
         16,
         535,
         "0.0299065420560748"
        ],
        [
         "PI",
         "bebes",
         12,
         535,
         "0.0224299065420561"
        ],
        [
         "PI",
         "papelaria",
         11,
         535,
         "0.0205607476635514"
        ],
        [
         "PI",
         "moveis_escritorio",
         9,
         535,
         "0.0168224299065421"
        ],
        [
         "PI",
         "consoles_games",
         9,
         535,
         "0.0168224299065421"
        ],
        [
         "PI",
         "pet_shop",
         7,
         535,
         "0.0130841121495327"
        ],
        [
         "PI",
         "instrumentos_musicais",
         6,
         535,
         "0.0112149532710280"
        ],
        [
         "PI",
         "fashion_bolsas_e_acessorios",
         5,
         535,
         "0.0093457943925234"
        ],
        [
         "PI",
         "malas_acessorios",
         5,
         535,
         "0.0093457943925234"
        ],
        [
         "PI",
         "casa_construcao",
         4,
         535,
         "0.0074766355140187"
        ],
        [
         "PI",
         "audio",
         4,
         535,
         "0.0074766355140187"
        ],
        [
         "PI",
         "construcao_ferramentas_jardim",
         4,
         535,
         "0.0074766355140187"
        ],
        [
         "PI",
         "eletrodomesticos",
         4,
         535,
         "0.0074766355140187"
        ],
        [
         "PI",
         "pcs",
         3,
         535,
         "0.0056074766355140"
        ],
        [
         "PI",
         "climatizacao",
         3,
         535,
         "0.0056074766355140"
        ],
        [
         "PI",
         "tablets_impressao_imagem",
         3,
         535,
         "0.0056074766355140"
        ],
        [
         "PI",
         "market_place",
         3,
         535,
         "0.0056074766355140"
        ],
        [
         "PI",
         "industria_comercio_e_negocios",
         3,
         535,
         "0.0056074766355140"
        ],
        [
         "PI",
         "agro_industria_e_comercio",
         3,
         535,
         "0.0056074766355140"
        ],
        [
         "PI",
         "casa_conforto",
         3,
         535,
         "0.0056074766355140"
        ],
        [
         "PI",
         "telefonia_fixa",
         2,
         535,
         "0.0037383177570093"
        ],
        [
         "PI",
         "livros_tecnicos",
         2,
         535,
         "0.0037383177570093"
        ],
        [
         "PI",
         "moveis_sala",
         2,
         535,
         "0.0037383177570093"
        ],
        [
         "PI",
         "artes",
         2,
         535,
         "0.0037383177570093"
        ],
        [
         "PI",
         "dvds_blu_ray",
         1,
         535,
         "0.0018691588785047"
        ],
        [
         "PI",
         "alimentos",
         1,
         535,
         "0.0018691588785047"
        ],
        [
         "PI",
         "fashion_calcados",
         1,
         535,
         "0.0018691588785047"
        ],
        [
         "PI",
         "fashion_underwear_e_moda_praia",
         1,
         535,
         "0.0018691588785047"
        ],
        [
         "PI",
         "artigos_de_festas",
         1,
         535,
         "0.0018691588785047"
        ],
        [
         "PI",
         "bebidas",
         1,
         535,
         "0.0018691588785047"
        ],
        [
         "PI",
         "eletrodomesticos_2",
         1,
         535,
         "0.0018691588785047"
        ],
        [
         "PI",
         "construcao_ferramentas_construcao",
         1,
         535,
         "0.0018691588785047"
        ],
        [
         "PI",
         "construcao_ferramentas_iluminacao",
         1,
         535,
         "0.0018691588785047"
        ],
        [
         "PI",
         "alimentos_bebidas",
         1,
         535,
         "0.0018691588785047"
        ],
        [
         "PI",
         "livros_interesse_geral",
         1,
         535,
         "0.0018691588785047"
        ],
        [
         "PR",
         "moveis_decoracao",
         520,
         5661,
         "0.0918565624447977"
        ],
        [
         "PR",
         "esporte_lazer",
         486,
         5661,
         "0.0858505564387917"
        ],
        [
         "PR",
         "cama_mesa_banho",
         468,
         5661,
         "0.0826709062003180"
        ],
        [
         "PR",
         "beleza_saude",
         425,
         5661,
         "0.0750750750750751"
        ],
        [
         "PR",
         "informatica_acessorios",
         389,
         5661,
         "0.0687157745981275"
        ],
        [
         "PR",
         "utilidades_domesticas",
         337,
         5661,
         "0.0595301183536478"
        ],
        [
         "PR",
         "relogios_presentes",
         307,
         5661,
         "0.0542307012895248"
        ],
        [
         "PR",
         "telefonia",
         250,
         5661,
         "0.0441618088676912"
        ],
        [
         "PR",
         "automotivo",
         234,
         5661,
         "0.0413354531001590"
        ],
        [
         "PR",
         "cool_stuff",
         215,
         5661,
         "0.0379791556262144"
        ],
        [
         "PR",
         "ferramentas_jardim",
         209,
         5661,
         "0.0369192722133899"
        ],
        [
         "PR",
         "brinquedos",
         205,
         5661,
         "0.0362126832715068"
        ],
        [
         "PR",
         "eletronicos",
         183,
         5661,
         "0.0323264440911500"
        ],
        [
         "PR",
         "bebes",
         161,
         5661,
         "0.0284402049107931"
        ],
        [
         "PR",
         "perfumaria",
         153,
         5661,
         "0.0270270270270270"
        ],
        [
         "PR",
         "papelaria",
         128,
         5661,
         "0.0226108461402579"
        ],
        [
         "PR",
         "fashion_bolsas_e_acessorios",
         118,
         5661,
         "0.0208443737855503"
        ],
        [
         "PR",
         "moveis_escritorio",
         92,
         5661,
         "0.0162515456633104"
        ],
        [
         "PR",
         "pet_shop",
         91,
         5661,
         "0.0160748984278396"
        ],
        [
         "PR",
         "construcao_ferramentas_construcao",
         51,
         5661,
         "0.0090090090090090"
        ],
        [
         "PR",
         "malas_acessorios",
         51,
         5661,
         "0.0090090090090090"
        ],
        [
         "PR",
         "consoles_games",
         47,
         5661,
         "0.0083024200671259"
        ],
        [
         "PR",
         "eletrodomesticos",
         44,
         5661,
         "0.0077724783607137"
        ],
        [
         "PR",
         "eletroportateis",
         42,
         5661,
         "0.0074191838897721"
        ],
        [
         "PR",
         "instrumentos_musicais",
         37,
         5661,
         "0.0065359477124183"
        ],
        [
         "PR",
         "livros_interesse_geral",
         37,
         5661,
         "0.0065359477124183"
        ],
        [
         "PR",
         "alimentos",
         29,
         5661,
         "0.0051227698286522"
        ],
        [
         "PR",
         "casa_construcao",
         24,
         5661,
         "0.0042395336512984"
        ],
        [
         "PR",
         "fashion_calcados",
         18,
         5661,
         "0.0031796502384738"
        ],
        [
         "PR",
         "construcao_ferramentas_seguranca",
         18,
         5661,
         "0.0031796502384738"
        ],
        [
         "PR",
         "audio",
         18,
         5661,
         "0.0031796502384738"
        ],
        [
         "PR",
         "moveis_sala",
         17,
         5661,
         "0.0030030030030030"
        ],
        [
         "PR",
         "alimentos_bebidas",
         16,
         5661,
         "0.0028263557675322"
        ],
        [
         "PR",
         "eletrodomesticos_2",
         16,
         5661,
         "0.0028263557675322"
        ],
        [
         "PR",
         "livros_tecnicos",
         15,
         5661,
         "0.0026497085320615"
        ],
        [
         "PR",
         "market_place",
         15,
         5661,
         "0.0026497085320615"
        ],
        [
         "PR",
         "bebidas",
         15,
         5661,
         "0.0026497085320615"
        ],
        [
         "PR",
         "moveis_cozinha_area_de_servico_jantar_e_jardim",
         14,
         5661,
         "0.0024730612965907"
        ],
        [
         "PR",
         "construcao_ferramentas_iluminacao",
         13,
         5661,
         "0.0022964140611199"
        ],
        [
         "PR",
         "casa_conforto",
         13,
         5661,
         "0.0022964140611199"
        ],
        [
         "PR",
         "fashion_roupa_masculina",
         12,
         5661,
         "0.0021197668256492"
        ],
        [
         "PR",
         "agro_industria_e_comercio",
         12,
         5661,
         "0.0021197668256492"
        ],
        [
         "PR",
         "industria_comercio_e_negocios",
         12,
         5661,
         "0.0021197668256492"
        ],
        [
         "PR",
         "climatizacao",
         12,
         5661,
         "0.0021197668256492"
        ],
        [
         "PR",
         "moveis_quarto",
         9,
         5661,
         "0.0015898251192369"
        ],
        [
         "PR",
         "artes",
         9,
         5661,
         "0.0015898251192369"
        ],
        [
         "PR",
         "portateis_casa_forno_e_cafe",
         8,
         5661,
         "0.0014131778837661"
        ],
        [
         "PR",
         "construcao_ferramentas_ferramentas",
         8,
         5661,
         "0.0014131778837661"
        ],
        [
         "PR",
         "musica",
         7,
         5661,
         "0.0012365306482954"
        ],
        [
         "PR",
         "construcao_ferramentas_jardim",
         6,
         5661,
         "0.0010598834128246"
        ],
        [
         "PR",
         "telefonia_fixa",
         6,
         5661,
         "0.0010598834128246"
        ],
        [
         "PR",
         "fashion_underwear_e_moda_praia",
         6,
         5661,
         "0.0010598834128246"
        ],
        [
         "PR",
         "artigos_de_natal",
         6,
         5661,
         "0.0010598834128246"
        ],
        [
         "PR",
         "dvds_blu_ray",
         5,
         5661,
         "0.0008832361773538"
        ],
        [
         "PR",
         "pcs",
         4,
         5661,
         "0.0007065889418831"
        ],
        [
         "PR",
         "tablets_impressao_imagem",
         3,
         5661,
         "0.0005299417064123"
        ],
        [
         "PR",
         "sinalizacao_e_seguranca",
         3,
         5661,
         "0.0005299417064123"
        ],
        [
         "PR",
         "fraldas_higiene",
         2,
         5661,
         "0.0003532944709415"
        ],
        [
         "PR",
         "fashion_roupa_feminina",
         2,
         5661,
         "0.0003532944709415"
        ],
        [
         "PR",
         "cine_foto",
         2,
         5661,
         "0.0003532944709415"
        ],
        [
         "PR",
         "artigos_de_festas",
         2,
         5661,
         "0.0003532944709415"
        ],
        [
         "PR",
         "livros_importados",
         2,
         5661,
         "0.0003532944709415"
        ],
        [
         "PR",
         "casa_conforto_2",
         1,
         5661,
         "0.0001766472354708"
        ],
        [
         "PR",
         "fashion_esporte",
         1,
         5661,
         "0.0001766472354708"
        ],
        [
         "RJ",
         "cama_mesa_banho",
         1644,
         14355,
         "0.1145245559038662"
        ],
        [
         "RJ",
         "moveis_decoracao",
         1090,
         14355,
         "0.0759317311041449"
        ],
        [
         "RJ",
         "beleza_saude",
         1064,
         14355,
         "0.0741205154998258"
        ],
        [
         "RJ",
         "esporte_lazer",
         1041,
         14355,
         "0.0725182863113898"
        ],
        [
         "RJ",
         "informatica_acessorios",
         1002,
         14355,
         "0.0698014629049112"
        ],
        [
         "RJ",
         "utilidades_domesticas",
         877,
         14355,
         "0.0610936955764542"
        ],
        [
         "RJ",
         "relogios_presentes",
         874,
         14355,
         "0.0608847091605712"
        ],
        [
         "RJ",
         "ferramentas_jardim",
         656,
         14355,
         "0.0456983629397423"
        ],
        [
         "RJ",
         "brinquedos",
         585,
         14355,
         "0.0407523510971787"
        ],
        [
         "RJ",
         "cool_stuff",
         523,
         14355,
         "0.0364332985022640"
        ],
        [
         "RJ",
         "perfumaria",
         451,
         14355,
         "0.0314176245210728"
        ],
        [
         "RJ",
         "automotivo",
         442,
         14355,
         "0.0307906652734239"
        ],
        [
         "RJ",
         "telefonia",
         438,
         14355,
         "0.0305120167189133"
        ],
        [
         "RJ",
         "eletronicos",
         437,
         14355,
         "0.0304423545802856"
        ],
        [
         "RJ",
         "bebes",
         359,
         14355,
         "0.0250087077673285"
        ],
        [
         "RJ",
         "papelaria",
         331,
         14355,
         "0.0230581678857541"
        ],
        [
         "RJ",
         "moveis_escritorio",
         306,
         14355,
         "0.0213166144200627"
        ],
        [
         "RJ",
         "pet_shop",
         218,
         14355,
         "0.0151863462208290"
        ],
        [
         "RJ",
         "fashion_bolsas_e_acessorios",
         200,
         14355,
         "0.0139324277255312"
        ],
        [
         "RJ",
         "consoles_games",
         142,
         14355,
         "0.0098920236851271"
        ],
        [
         "RJ",
         "malas_acessorios",
         123,
         14355,
         "0.0085684430512017"
        ],
        [
         "RJ",
         "construcao_ferramentas_construcao",
         122,
         14355,
         "0.0084987809125740"
        ],
        [
         "RJ",
         "moveis_sala",
         117,
         14355,
         "0.0081504702194357"
        ],
        [
         "RJ",
         "eletroportateis",
         88,
         14355,
         "0.0061302681992337"
        ],
        [
         "RJ",
         "eletrodomesticos",
         83,
         14355,
         "0.0057819575060954"
        ],
        [
         "RJ",
         "instrumentos_musicais",
         80,
         14355,
         "0.0055729710902125"
        ],
        [
         "RJ",
         "casa_construcao",
         72,
         14355,
         "0.0050156739811912"
        ],
        [
         "RJ",
         "climatizacao",
         69,
         14355,
         "0.0048066875653083"
        ],
        [
         "RJ",
         "casa_conforto",
         61,
         14355,
         "0.0042493904562870"
        ],
        [
         "RJ",
         "audio",
         58,
         14355,
         "0.0040404040404040"
        ],
        [
         "RJ",
         "livros_interesse_geral",
         57,
         14355,
         "0.0039707419017764"
        ],
        [
         "RJ",
         "bebidas",
         55,
         14355,
         "0.0038314176245211"
        ],
        [
         "RJ",
         "alimentos_bebidas",
         52,
         14355,
         "0.0036224312086381"
        ],
        [
         "RJ",
         "alimentos",
         47,
         14355,
         "0.0032741205154998"
        ],
        [
         "RJ",
         "moveis_cozinha_area_de_servico_jantar_e_jardim",
         47,
         14355,
         "0.0032741205154998"
        ],
        [
         "RJ",
         "eletrodomesticos_2",
         45,
         14355,
         "0.0031347962382445"
        ],
        [
         "RJ",
         "construcao_ferramentas_jardim",
         39,
         14355,
         "0.0027168234064786"
        ],
        [
         "RJ",
         "telefonia_fixa",
         36,
         14355,
         "0.0025078369905956"
        ],
        [
         "RJ",
         "market_place",
         36,
         14355,
         "0.0025078369905956"
        ],
        [
         "RJ",
         "artes",
         33,
         14355,
         "0.0022988505747126"
        ],
        [
         "RJ",
         "livros_tecnicos",
         29,
         14355,
         "0.0020202020202020"
        ],
        [
         "RJ",
         "fashion_calcados",
         29,
         14355,
         "0.0020202020202020"
        ],
        [
         "RJ",
         "agro_industria_e_comercio",
         28,
         14355,
         "0.0019505398815744"
        ],
        [
         "RJ",
         "industria_comercio_e_negocios",
         28,
         14355,
         "0.0019505398815744"
        ],
        [
         "RJ",
         "pcs",
         23,
         14355,
         "0.0016022291884361"
        ],
        [
         "RJ",
         "construcao_ferramentas_iluminacao",
         21,
         14355,
         "0.0014629049111808"
        ],
        [
         "RJ",
         "moveis_quarto",
         20,
         14355,
         "0.0013932427725531"
        ],
        [
         "RJ",
         "sinalizacao_e_seguranca",
         20,
         14355,
         "0.0013932427725531"
        ],
        [
         "RJ",
         "fashion_underwear_e_moda_praia",
         17,
         14355,
         "0.0011842563566701"
        ],
        [
         "RJ",
         "construcao_ferramentas_seguranca",
         17,
         14355,
         "0.0011842563566701"
        ],
        [
         "RJ",
         "artigos_de_natal",
         15,
         14355,
         "0.0010449320794148"
        ],
        [
         "RJ",
         "dvds_blu_ray",
         13,
         14355,
         "0.0009056078021595"
        ],
        [
         "RJ",
         "fashion_roupa_masculina",
         12,
         14355,
         "0.0008359456635319"
        ],
        [
         "RJ",
         "tablets_impressao_imagem",
         10,
         14355,
         "0.0006966213862766"
        ],
        [
         "RJ",
         "construcao_ferramentas_ferramentas",
         9,
         14355,
         "0.0006269592476489"
        ],
        [
         "RJ",
         "flores",
         8,
         14355,
         "0.0005572971090212"
        ],
        [
         "RJ",
         "musica",
         8,
         14355,
         "0.0005572971090212"
        ],
        [
         "RJ",
         "moveis_colchao_e_estofado",
         8,
         14355,
         "0.0005572971090212"
        ],
        [
         "RJ",
         "portateis_casa_forno_e_cafe",
         7,
         14355,
         "0.0004876349703936"
        ],
        [
         "RJ",
         "artigos_de_festas",
         6,
         14355,
         "0.0004179728317659"
        ],
        [
         "RJ",
         "livros_importados",
         6,
         14355,
         "0.0004179728317659"
        ],
        [
         "RJ",
         "cine_foto",
         5,
         14355,
         "0.0003483106931383"
        ],
        [
         "RJ",
         "casa_conforto_2",
         4,
         14355,
         "0.0002786485545106"
        ],
        [
         "RJ",
         "fraldas_higiene",
         2,
         14355,
         "0.0001393242772553"
        ],
        [
         "RJ",
         "pc_gamer",
         2,
         14355,
         "0.0001393242772553"
        ],
        [
         "RJ",
         "cds_dvds_musicais",
         2,
         14355,
         "0.0001393242772553"
        ],
        [
         "RJ",
         "fashion_esporte",
         2,
         14355,
         "0.0001393242772553"
        ],
        [
         "RJ",
         "fashion_roupa_feminina",
         2,
         14355,
         "0.0001393242772553"
        ],
        [
         "RJ",
         "fashion_roupa_infanto_juvenil",
         1,
         14355,
         "0.0000696621386277"
        ],
        [
         "RJ",
         "portateis_cozinha_e_preparadores_de_alimentos",
         1,
         14355,
         "0.0000696621386277"
        ],
        [
         "RN",
         "beleza_saude",
         58,
         523,
         "0.1108986615678776"
        ],
        [
         "RN",
         "relogios_presentes",
         49,
         523,
         "0.0936902485659656"
        ],
        [
         "RN",
         "informatica_acessorios",
         32,
         523,
         "0.0611854684512428"
        ],
        [
         "RN",
         "cama_mesa_banho",
         30,
         523,
         "0.0573613766730402"
        ],
        [
         "RN",
         "moveis_decoracao",
         29,
         523,
         "0.0554493307839388"
        ],
        [
         "RN",
         "livros_interesse_geral",
         27,
         523,
         "0.0516252390057361"
        ],
        [
         "RN",
         "utilidades_domesticas",
         25,
         523,
         "0.0478011472275335"
        ],
        [
         "RN",
         "telefonia",
         25,
         523,
         "0.0478011472275335"
        ],
        [
         "RN",
         "brinquedos",
         25,
         523,
         "0.0478011472275335"
        ],
        [
         "RN",
         "esporte_lazer",
         22,
         523,
         "0.0420650095602294"
        ],
        [
         "RN",
         "cool_stuff",
         21,
         523,
         "0.0401529636711281"
        ],
        [
         "RN",
         "perfumaria",
         21,
         523,
         "0.0401529636711281"
        ],
        [
         "RN",
         "ferramentas_jardim",
         19,
         523,
         "0.0363288718929254"
        ],
        [
         "RN",
         "automotivo",
         19,
         523,
         "0.0363288718929254"
        ],
        [
         "RN",
         "bebes",
         15,
         523,
         "0.0286806883365201"
        ],
        [
         "RN",
         "eletronicos",
         14,
         523,
         "0.0267686424474187"
        ],
        [
         "RN",
         "pet_shop",
         13,
         523,
         "0.0248565965583174"
        ],
        [
         "RN",
         "papelaria",
         13,
         523,
         "0.0248565965583174"
        ],
        [
         "RN",
         "construcao_ferramentas_construcao",
         8,
         523,
         "0.0152963671128107"
        ],
        [
         "RN",
         "fashion_bolsas_e_acessorios",
         8,
         523,
         "0.0152963671128107"
        ],
        [
         "RN",
         "consoles_games",
         6,
         523,
         "0.0114722753346080"
        ],
        [
         "RN",
         "moveis_escritorio",
         5,
         523,
         "0.0095602294455067"
        ],
        [
         "RN",
         "alimentos_bebidas",
         4,
         523,
         "0.0076481835564054"
        ],
        [
         "RN",
         "moveis_quarto",
         3,
         523,
         "0.0057361376673040"
        ],
        [
         "RN",
         "eletroportateis",
         3,
         523,
         "0.0057361376673040"
        ],
        [
         "RN",
         "construcao_ferramentas_jardim",
         3,
         523,
         "0.0057361376673040"
        ],
        [
         "RN",
         "moveis_cozinha_area_de_servico_jantar_e_jardim",
         2,
         523,
         "0.0038240917782027"
        ],
        [
         "RN",
         "fashion_calcados",
         2,
         523,
         "0.0038240917782027"
        ],
        [
         "RN",
         "market_place",
         2,
         523,
         "0.0038240917782027"
        ],
        [
         "RN",
         "instrumentos_musicais",
         2,
         523,
         "0.0038240917782027"
        ],
        [
         "RN",
         "eletrodomesticos_2",
         2,
         523,
         "0.0038240917782027"
        ],
        [
         "RN",
         "alimentos",
         2,
         523,
         "0.0038240917782027"
        ],
        [
         "RN",
         "eletrodomesticos",
         2,
         523,
         "0.0038240917782027"
        ],
        [
         "RN",
         "livros_tecnicos",
         1,
         523,
         "0.0019120458891013"
        ],
        [
         "RN",
         "artigos_de_natal",
         1,
         523,
         "0.0019120458891013"
        ],
        [
         "RN",
         "artes",
         1,
         523,
         "0.0019120458891013"
        ],
        [
         "RN",
         "industria_comercio_e_negocios",
         1,
         523,
         "0.0019120458891013"
        ],
        [
         "RN",
         "dvds_blu_ray",
         1,
         523,
         "0.0019120458891013"
        ],
        [
         "RN",
         "casa_conforto",
         1,
         523,
         "0.0019120458891013"
        ],
        [
         "RN",
         "audio",
         1,
         523,
         "0.0019120458891013"
        ],
        [
         "RN",
         "malas_acessorios",
         1,
         523,
         "0.0019120458891013"
        ],
        [
         "RN",
         "construcao_ferramentas_seguranca",
         1,
         523,
         "0.0019120458891013"
        ],
        [
         "RN",
         "casa_construcao",
         1,
         523,
         "0.0019120458891013"
        ],
        [
         "RN",
         "moveis_colchao_e_estofado",
         1,
         523,
         "0.0019120458891013"
        ],
        [
         "RN",
         "sinalizacao_e_seguranca",
         1,
         523,
         "0.0019120458891013"
        ],
        [
         "RO",
         "beleza_saude",
         25,
         272,
         "0.0919117647058824"
        ],
        [
         "RO",
         "informatica_acessorios",
         23,
         272,
         "0.0845588235294118"
        ],
        [
         "RO",
         "esporte_lazer",
         20,
         272,
         "0.0735294117647059"
        ],
        [
         "RO",
         "telefonia",
         19,
         272,
         "0.0698529411764706"
        ],
        [
         "RO",
         "relogios_presentes",
         15,
         272,
         "0.0551470588235294"
        ],
        [
         "RO",
         "brinquedos",
         15,
         272,
         "0.0551470588235294"
        ],
        [
         "RO",
         "cama_mesa_banho",
         15,
         272,
         "0.0551470588235294"
        ],
        [
         "RO",
         "cool_stuff",
         13,
         272,
         "0.0477941176470588"
        ],
        [
         "RO",
         "moveis_decoracao",
         13,
         272,
         "0.0477941176470588"
        ],
        [
         "RO",
         "bebes",
         11,
         272,
         "0.0404411764705882"
        ],
        [
         "RO",
         "automotivo",
         10,
         272,
         "0.0367647058823529"
        ],
        [
         "RO",
         "fashion_bolsas_e_acessorios",
         9,
         272,
         "0.0330882352941176"
        ],
        [
         "RO",
         "pet_shop",
         8,
         272,
         "0.0294117647058824"
        ],
        [
         "RO",
         "papelaria",
         8,
         272,
         "0.0294117647058824"
        ],
        [
         "RO",
         "ferramentas_jardim",
         7,
         272,
         "0.0257352941176471"
        ],
        [
         "RO",
         "eletronicos",
         6,
         272,
         "0.0220588235294118"
        ],
        [
         "RO",
         "malas_acessorios",
         6,
         272,
         "0.0220588235294118"
        ],
        [
         "RO",
         "moveis_escritorio",
         6,
         272,
         "0.0220588235294118"
        ],
        [
         "RO",
         "perfumaria",
         6,
         272,
         "0.0220588235294118"
        ],
        [
         "RO",
         "utilidades_domesticas",
         5,
         272,
         "0.0183823529411765"
        ],
        [
         "RO",
         "construcao_ferramentas_construcao",
         4,
         272,
         "0.0147058823529412"
        ],
        [
         "RO",
         "agro_industria_e_comercio",
         4,
         272,
         "0.0147058823529412"
        ],
        [
         "RO",
         "pcs",
         2,
         272,
         "0.0073529411764706"
        ],
        [
         "RO",
         "artes",
         2,
         272,
         "0.0073529411764706"
        ],
        [
         "RO",
         "construcao_ferramentas_jardim",
         2,
         272,
         "0.0073529411764706"
        ],
        [
         "RO",
         "artigos_de_natal",
         2,
         272,
         "0.0073529411764706"
        ],
        [
         "RO",
         "eletrodomesticos",
         2,
         272,
         "0.0073529411764706"
        ],
        [
         "RO",
         "moveis_sala",
         1,
         272,
         "0.0036764705882353"
        ],
        [
         "RO",
         "construcao_ferramentas_seguranca",
         1,
         272,
         "0.0036764705882353"
        ],
        [
         "RO",
         "seguros_e_servicos",
         1,
         272,
         "0.0036764705882353"
        ],
        [
         "RO",
         "dvds_blu_ray",
         1,
         272,
         "0.0036764705882353"
        ],
        [
         "RO",
         "market_place",
         1,
         272,
         "0.0036764705882353"
        ],
        [
         "RO",
         "consoles_games",
         1,
         272,
         "0.0036764705882353"
        ],
        [
         "RO",
         "fashion_calcados",
         1,
         272,
         "0.0036764705882353"
        ],
        [
         "RO",
         "casa_conforto",
         1,
         272,
         "0.0036764705882353"
        ],
        [
         "RO",
         "livros_interesse_geral",
         1,
         272,
         "0.0036764705882353"
        ],
        [
         "RO",
         "portateis_casa_forno_e_cafe",
         1,
         272,
         "0.0036764705882353"
        ],
        [
         "RO",
         "industria_comercio_e_negocios",
         1,
         272,
         "0.0036764705882353"
        ],
        [
         "RO",
         "eletroportateis",
         1,
         272,
         "0.0036764705882353"
        ],
        [
         "RO",
         "alimentos",
         1,
         272,
         "0.0036764705882353"
        ],
        [
         "RO",
         "instrumentos_musicais",
         1,
         272,
         "0.0036764705882353"
        ],
        [
         "RR",
         "esporte_lazer",
         8,
         50,
         "0.1600000000000000"
        ],
        [
         "RR",
         "beleza_saude",
         7,
         50,
         "0.1400000000000000"
        ],
        [
         "RR",
         "moveis_decoracao",
         6,
         50,
         "0.1200000000000000"
        ],
        [
         "RR",
         "informatica_acessorios",
         5,
         50,
         "0.1000000000000000"
        ],
        [
         "RR",
         "telefonia",
         4,
         50,
         "0.0800000000000000"
        ],
        [
         "RR",
         "cama_mesa_banho",
         3,
         50,
         "0.0600000000000000"
        ],
        [
         "RR",
         "eletrodomesticos",
         3,
         50,
         "0.0600000000000000"
        ],
        [
         "RR",
         "papelaria",
         2,
         50,
         "0.0400000000000000"
        ],
        [
         "RR",
         "cool_stuff",
         2,
         50,
         "0.0400000000000000"
        ],
        [
         "RR",
         "bebes",
         2,
         50,
         "0.0400000000000000"
        ],
        [
         "RR",
         "eletronicos",
         2,
         50,
         "0.0400000000000000"
        ],
        [
         "RR",
         "ferramentas_jardim",
         2,
         50,
         "0.0400000000000000"
        ],
        [
         "RR",
         "perfumaria",
         1,
         50,
         "0.0200000000000000"
        ],
        [
         "RR",
         "automotivo",
         1,
         50,
         "0.0200000000000000"
        ],
        [
         "RR",
         "moveis_escritorio",
         1,
         50,
         "0.0200000000000000"
        ],
        [
         "RR",
         "relogios_presentes",
         1,
         50,
         "0.0200000000000000"
        ],
        [
         "RS",
         "cama_mesa_banho",
         614,
         6136,
         "0.1000651890482399"
        ],
        [
         "RS",
         "moveis_decoracao",
         561,
         6136,
         "0.0914276401564537"
        ],
        [
         "RS",
         "informatica_acessorios",
         485,
         6136,
         "0.0790417209908735"
        ],
        [
         "RS",
         "esporte_lazer",
         475,
         6136,
         "0.0774119947848761"
        ],
        [
         "RS",
         "beleza_saude",
         436,
         6136,
         "0.0710560625814863"
        ],
        [
         "RS",
         "utilidades_domesticas",
         434,
         6136,
         "0.0707301173402868"
        ],
        [
         "RS",
         "telefonia",
         292,
         6136,
         "0.0475880052151239"
        ],
        [
         "RS",
         "ferramentas_jardim",
         290,
         6136,
         "0.0472620599739244"
        ],
        [
         "RS",
         "cool_stuff",
         262,
         6136,
         "0.0426988265971317"
        ],
        [
         "RS",
         "relogios_presentes",
         233,
         6136,
         "0.0379726205997392"
        ],
        [
         "RS",
         "brinquedos",
         212,
         6136,
         "0.0345501955671447"
        ],
        [
         "RS",
         "bebes",
         210,
         6136,
         "0.0342242503259452"
        ],
        [
         "RS",
         "automotivo",
         188,
         6136,
         "0.0306388526727510"
        ],
        [
         "RS",
         "eletronicos",
         165,
         6136,
         "0.0268904823989570"
        ],
        [
         "RS",
         "perfumaria",
         155,
         6136,
         "0.0252607561929596"
        ],
        [
         "RS",
         "papelaria",
         148,
         6136,
         "0.0241199478487614"
        ],
        [
         "RS",
         "pet_shop",
         99,
         6136,
         "0.0161342894393742"
        ],
        [
         "RS",
         "fashion_bolsas_e_acessorios",
         80,
         6136,
         "0.0130378096479791"
        ],
        [
         "RS",
         "moveis_escritorio",
         68,
         6136,
         "0.0110821382007823"
        ],
        [
         "RS",
         "consoles_games",
         61,
         6136,
         "0.0099413298565841"
        ],
        [
         "RS",
         "malas_acessorios",
         56,
         6136,
         "0.0091264667535854"
        ],
        [
         "RS",
         "eletroportateis",
         45,
         6136,
         "0.0073337679269883"
        ],
        [
         "RS",
         "construcao_ferramentas_construcao",
         44,
         6136,
         "0.0071707953063885"
        ],
        [
         "RS",
         "eletrodomesticos",
         44,
         6136,
         "0.0071707953063885"
        ],
        [
         "RS",
         "casa_construcao",
         43,
         6136,
         "0.0070078226857888"
        ],
        [
         "RS",
         "instrumentos_musicais",
         32,
         6136,
         "0.0052151238591917"
        ],
        [
         "RS",
         "livros_interesse_geral",
         28,
         6136,
         "0.0045632333767927"
        ],
        [
         "RS",
         "construcao_ferramentas_iluminacao",
         24,
         6136,
         "0.0039113428943937"
        ],
        [
         "RS",
         "moveis_sala",
         24,
         6136,
         "0.0039113428943937"
        ],
        [
         "RS",
         "industria_comercio_e_negocios",
         23,
         6136,
         "0.0037483702737940"
        ],
        [
         "RS",
         "market_place",
         21,
         6136,
         "0.0034224250325945"
        ],
        [
         "RS",
         "casa_conforto",
         21,
         6136,
         "0.0034224250325945"
        ],
        [
         "RS",
         "telefonia_fixa",
         19,
         6136,
         "0.0030964797913950"
        ],
        [
         "RS",
         "bebidas",
         18,
         6136,
         "0.0029335071707953"
        ],
        [
         "RS",
         "sinalizacao_e_seguranca",
         17,
         6136,
         "0.0027705345501956"
        ],
        [
         "RS",
         "audio",
         16,
         6136,
         "0.0026075619295958"
        ],
        [
         "RS",
         "climatizacao",
         15,
         6136,
         "0.0024445893089961"
        ],
        [
         "RS",
         "alimentos",
         13,
         6136,
         "0.0021186440677966"
        ],
        [
         "RS",
         "moveis_cozinha_area_de_servico_jantar_e_jardim",
         13,
         6136,
         "0.0021186440677966"
        ],
        [
         "RS",
         "eletrodomesticos_2",
         12,
         6136,
         "0.0019556714471969"
        ],
        [
         "RS",
         "cine_foto",
         12,
         6136,
         "0.0019556714471969"
        ],
        [
         "RS",
         "livros_tecnicos",
         12,
         6136,
         "0.0019556714471969"
        ],
        [
         "RS",
         "fashion_calcados",
         10,
         6136,
         "0.0016297262059974"
        ],
        [
         "RS",
         "fashion_roupa_masculina",
         9,
         6136,
         "0.0014667535853977"
        ],
        [
         "RS",
         "artes",
         9,
         6136,
         "0.0014667535853977"
        ],
        [
         "RS",
         "agro_industria_e_comercio",
         9,
         6136,
         "0.0014667535853977"
        ],
        [
         "RS",
         "pcs",
         8,
         6136,
         "0.0013037809647979"
        ],
        [
         "RS",
         "construcao_ferramentas_seguranca",
         8,
         6136,
         "0.0013037809647979"
        ],
        [
         "RS",
         "construcao_ferramentas_ferramentas",
         8,
         6136,
         "0.0013037809647979"
        ],
        [
         "RS",
         "construcao_ferramentas_jardim",
         7,
         6136,
         "0.0011408083441982"
        ],
        [
         "RS",
         "alimentos_bebidas",
         6,
         6136,
         "0.0009778357235984"
        ],
        [
         "RS",
         "artigos_de_natal",
         6,
         6136,
         "0.0009778357235984"
        ],
        [
         "RS",
         "cds_dvds_musicais",
         5,
         6136,
         "0.0008148631029987"
        ],
        [
         "RS",
         "dvds_blu_ray",
         4,
         6136,
         "0.0006518904823990"
        ],
        [
         "RS",
         "artigos_de_festas",
         4,
         6136,
         "0.0006518904823990"
        ],
        [
         "RS",
         "la_cuisine",
         3,
         6136,
         "0.0004889178617992"
        ],
        [
         "RS",
         "fashion_underwear_e_moda_praia",
         3,
         6136,
         "0.0004889178617992"
        ],
        [
         "RS",
         "flores",
         3,
         6136,
         "0.0004889178617992"
        ],
        [
         "RS",
         "portateis_casa_forno_e_cafe",
         3,
         6136,
         "0.0004889178617992"
        ],
        [
         "RS",
         "fashion_esporte",
         2,
         6136,
         "0.0003259452411995"
        ],
        [
         "RS",
         "moveis_quarto",
         2,
         6136,
         "0.0003259452411995"
        ],
        [
         "RS",
         "livros_importados",
         2,
         6136,
         "0.0003259452411995"
        ],
        [
         "RS",
         "musica",
         1,
         6136,
         "0.0001629726205997"
        ],
        [
         "RS",
         "tablets_impressao_imagem",
         1,
         6136,
         "0.0001629726205997"
        ],
        [
         "RS",
         "casa_conforto_2",
         1,
         6136,
         "0.0001629726205997"
        ],
        [
         "RS",
         "portateis_cozinha_e_preparadores_de_alimentos",
         1,
         6136,
         "0.0001629726205997"
        ],
        [
         "RS",
         "pc_gamer",
         1,
         6136,
         "0.0001629726205997"
        ],
        [
         "SC",
         "esporte_lazer",
         363,
         4113,
         "0.0882567469000729"
        ],
        [
         "SC",
         "moveis_decoracao",
         354,
         4113,
         "0.0860685630926331"
        ],
        [
         "SC",
         "cama_mesa_banho",
         330,
         4113,
         "0.0802334062727936"
        ],
        [
         "SC",
         "informatica_acessorios",
         320,
         4113,
         "0.0778020909311938"
        ],
        [
         "SC",
         "beleza_saude",
         309,
         4113,
         "0.0751276440554340"
        ],
        [
         "SC",
         "utilidades_domesticas",
         264,
         4113,
         "0.0641867250182349"
        ],
        [
         "SC",
         "relogios_presentes",
         185,
         4113,
         "0.0449793338195964"
        ],
        [
         "SC",
         "ferramentas_jardim",
         183,
         4113,
         "0.0444930707512764"
        ],
        [
         "SC",
         "automotivo",
         182,
         4113,
         "0.0442499392171165"
        ],
        [
         "SC",
         "telefonia",
         175,
         4113,
         "0.0425480184779966"
        ],
        [
         "SC",
         "cool_stuff",
         159,
         4113,
         "0.0386579139314369"
        ],
        [
         "SC",
         "eletronicos",
         125,
         4113,
         "0.0303914417699976"
        ],
        [
         "SC",
         "brinquedos",
         120,
         4113,
         "0.0291757840991977"
        ],
        [
         "SC",
         "perfumaria",
         118,
         4113,
         "0.0286895210308777"
        ],
        [
         "SC",
         "bebes",
         113,
         4113,
         "0.0274738633600778"
        ],
        [
         "SC",
         "papelaria",
         94,
         4113,
         "0.0228543642110382"
        ],
        [
         "SC",
         "pet_shop",
         85,
         4113,
         "0.0206661804035983"
        ],
        [
         "SC",
         "fashion_bolsas_e_acessorios",
         79,
         4113,
         "0.0192073911986385"
        ],
        [
         "SC",
         "moveis_escritorio",
         62,
         4113,
         "0.0150741551179188"
        ],
        [
         "SC",
         "malas_acessorios",
         35,
         4113,
         "0.0085096036955993"
        ],
        [
         "SC",
         "consoles_games",
         34,
         4113,
         "0.0082664721614393"
        ],
        [
         "SC",
         "instrumentos_musicais",
         30,
         4113,
         "0.0072939460247994"
        ],
        [
         "SC",
         "construcao_ferramentas_construcao",
         30,
         4113,
         "0.0072939460247994"
        ],
        [
         "SC",
         "eletroportateis",
         28,
         4113,
         "0.0068076829564795"
        ],
        [
         "SC",
         "casa_construcao",
         25,
         4113,
         "0.0060782883539995"
        ],
        [
         "SC",
         "eletrodomesticos",
         25,
         4113,
         "0.0060782883539995"
        ],
        [
         "SC",
         "livros_interesse_geral",
         23,
         4113,
         "0.0055920252856796"
        ],
        [
         "SC",
         "eletrodomesticos_2",
         17,
         4113,
         "0.0041332360807197"
        ],
        [
         "SC",
         "construcao_ferramentas_iluminacao",
         16,
         4113,
         "0.0038901045465597"
        ],
        [
         "SC",
         "industria_comercio_e_negocios",
         16,
         4113,
         "0.0038901045465597"
        ],
        [
         "SC",
         "alimentos",
         16,
         4113,
         "0.0038901045465597"
        ],
        [
         "SC",
         "bebidas",
         14,
         4113,
         "0.0034038414782397"
        ],
        [
         "SC",
         "artigos_de_natal",
         14,
         4113,
         "0.0034038414782397"
        ],
        [
         "SC",
         "market_place",
         14,
         4113,
         "0.0034038414782397"
        ],
        [
         "SC",
         "construcao_ferramentas_seguranca",
         13,
         4113,
         "0.0031607099440797"
        ],
        [
         "SC",
         "casa_conforto",
         12,
         4113,
         "0.0029175784099198"
        ],
        [
         "SC",
         "moveis_sala",
         12,
         4113,
         "0.0029175784099198"
        ],
        [
         "SC",
         "livros_tecnicos",
         10,
         4113,
         "0.0024313153415998"
        ],
        [
         "SC",
         "audio",
         10,
         4113,
         "0.0024313153415998"
        ],
        [
         "SC",
         "sinalizacao_e_seguranca",
         10,
         4113,
         "0.0024313153415998"
        ],
        [
         "SC",
         "fashion_underwear_e_moda_praia",
         8,
         4113,
         "0.0019450522732798"
        ],
        [
         "SC",
         "telefonia_fixa",
         7,
         4113,
         "0.0017019207391199"
        ],
        [
         "SC",
         "moveis_cozinha_area_de_servico_jantar_e_jardim",
         7,
         4113,
         "0.0017019207391199"
        ],
        [
         "SC",
         "fashion_calcados",
         7,
         4113,
         "0.0017019207391199"
        ],
        [
         "SC",
         "artes",
         6,
         4113,
         "0.0014587892049599"
        ],
        [
         "SC",
         "construcao_ferramentas_jardim",
         5,
         4113,
         "0.0012156576707999"
        ],
        [
         "SC",
         "pcs",
         5,
         4113,
         "0.0012156576707999"
        ],
        [
         "SC",
         "construcao_ferramentas_ferramentas",
         5,
         4113,
         "0.0012156576707999"
        ],
        [
         "SC",
         "portateis_casa_forno_e_cafe",
         4,
         4113,
         "0.0009725261366399"
        ],
        [
         "SC",
         "cine_foto",
         4,
         4113,
         "0.0009725261366399"
        ],
        [
         "SC",
         "climatizacao",
         4,
         4113,
         "0.0009725261366399"
        ],
        [
         "SC",
         "alimentos_bebidas",
         3,
         4113,
         "0.0007293946024799"
        ],
        [
         "SC",
         "fashion_esporte",
         3,
         4113,
         "0.0007293946024799"
        ],
        [
         "SC",
         "agro_industria_e_comercio",
         3,
         4113,
         "0.0007293946024799"
        ],
        [
         "SC",
         "moveis_quarto",
         3,
         4113,
         "0.0007293946024799"
        ],
        [
         "SC",
         "fashion_roupa_masculina",
         2,
         4113,
         "0.0004862630683200"
        ],
        [
         "SC",
         "moveis_colchao_e_estofado",
         2,
         4113,
         "0.0004862630683200"
        ],
        [
         "SC",
         "artigos_de_festas",
         2,
         4113,
         "0.0004862630683200"
        ],
        [
         "SC",
         "dvds_blu_ray",
         2,
         4113,
         "0.0004862630683200"
        ],
        [
         "SC",
         "la_cuisine",
         2,
         4113,
         "0.0004862630683200"
        ],
        [
         "SC",
         "fashion_roupa_infanto_juvenil",
         2,
         4113,
         "0.0004862630683200"
        ],
        [
         "SC",
         "fashion_roupa_feminina",
         1,
         4113,
         "0.0002431315341600"
        ],
        [
         "SC",
         "artes_e_artesanato",
         1,
         4113,
         "0.0002431315341600"
        ],
        [
         "SC",
         "livros_importados",
         1,
         4113,
         "0.0002431315341600"
        ],
        [
         "SE",
         "beleza_saude",
         40,
         383,
         "0.1044386422976501"
        ],
        [
         "SE",
         "informatica_acessorios",
         36,
         383,
         "0.0939947780678851"
        ],
        [
         "SE",
         "esporte_lazer",
         35,
         383,
         "0.0913838120104439"
        ],
        [
         "SE",
         "ferramentas_jardim",
         29,
         383,
         "0.0757180156657963"
        ],
        [
         "SE",
         "telefonia",
         28,
         383,
         "0.0731070496083551"
        ],
        [
         "SE",
         "moveis_decoracao",
         25,
         383,
         "0.0652741514360313"
        ],
        [
         "SE",
         "automotivo",
         21,
         383,
         "0.0548302872062663"
        ],
        [
         "SE",
         "relogios_presentes",
         20,
         383,
         "0.0522193211488251"
        ],
        [
         "SE",
         "eletronicos",
         19,
         383,
         "0.0496083550913838"
        ],
        [
         "SE",
         "cool_stuff",
         17,
         383,
         "0.0443864229765013"
        ],
        [
         "SE",
         "cama_mesa_banho",
         15,
         383,
         "0.0391644908616188"
        ],
        [
         "SE",
         "brinquedos",
         11,
         383,
         "0.0287206266318538"
        ],
        [
         "SE",
         "utilidades_domesticas",
         10,
         383,
         "0.0261096605744125"
        ],
        [
         "SE",
         "bebes",
         8,
         383,
         "0.0208877284595300"
        ],
        [
         "SE",
         "fashion_bolsas_e_acessorios",
         8,
         383,
         "0.0208877284595300"
        ],
        [
         "SE",
         "perfumaria",
         7,
         383,
         "0.0182767624020888"
        ],
        [
         "SE",
         "consoles_games",
         6,
         383,
         "0.0156657963446475"
        ],
        [
         "SE",
         "casa_construcao",
         3,
         383,
         "0.0078328981723238"
        ],
        [
         "SE",
         "market_place",
         3,
         383,
         "0.0078328981723238"
        ],
        [
         "SE",
         "papelaria",
         3,
         383,
         "0.0078328981723238"
        ],
        [
         "SE",
         "instrumentos_musicais",
         3,
         383,
         "0.0078328981723238"
        ],
        [
         "SE",
         "industria_comercio_e_negocios",
         3,
         383,
         "0.0078328981723238"
        ],
        [
         "SE",
         "eletroportateis",
         3,
         383,
         "0.0078328981723238"
        ],
        [
         "SE",
         "moveis_escritorio",
         3,
         383,
         "0.0078328981723238"
        ],
        [
         "SE",
         "moveis_sala",
         3,
         383,
         "0.0078328981723238"
        ],
        [
         "SE",
         "pet_shop",
         3,
         383,
         "0.0078328981723238"
        ],
        [
         "SE",
         "malas_acessorios",
         3,
         383,
         "0.0078328981723238"
        ],
        [
         "SE",
         "moveis_quarto",
         2,
         383,
         "0.0052219321148825"
        ],
        [
         "SE",
         "pcs",
         2,
         383,
         "0.0052219321148825"
        ],
        [
         "SE",
         "telefonia_fixa",
         2,
         383,
         "0.0052219321148825"
        ],
        [
         "SE",
         "sinalizacao_e_seguranca",
         2,
         383,
         "0.0052219321148825"
        ],
        [
         "SE",
         "construcao_ferramentas_seguranca",
         1,
         383,
         "0.0026109660574413"
        ],
        [
         "SE",
         "alimentos_bebidas",
         1,
         383,
         "0.0026109660574413"
        ],
        [
         "SE",
         "livros_importados",
         1,
         383,
         "0.0026109660574413"
        ],
        [
         "SE",
         "construcao_ferramentas_iluminacao",
         1,
         383,
         "0.0026109660574413"
        ],
        [
         "SE",
         "eletrodomesticos_2",
         1,
         383,
         "0.0026109660574413"
        ],
        [
         "SE",
         "livros_interesse_geral",
         1,
         383,
         "0.0026109660574413"
        ],
        [
         "SE",
         "alimentos",
         1,
         383,
         "0.0026109660574413"
        ],
        [
         "SE",
         "eletrodomesticos",
         1,
         383,
         "0.0026109660574413"
        ],
        [
         "SE",
         "construcao_ferramentas_construcao",
         1,
         383,
         "0.0026109660574413"
        ],
        [
         "SE",
         "casa_conforto",
         1,
         383,
         "0.0026109660574413"
        ],
        [
         "SP",
         "cama_mesa_banho",
         5235,
         46794,
         "0.1118733170919349"
        ],
        [
         "SP",
         "beleza_saude",
         4204,
         46794,
         "0.0898405778518613"
        ],
        [
         "SP",
         "esporte_lazer",
         3667,
         46794,
         "0.0783647476172159"
        ],
        [
         "SP",
         "moveis_decoracao",
         3531,
         46794,
         "0.0754583921015515"
        ],
        [
         "SP",
         "utilidades_domesticas",
         3265,
         46794,
         "0.0697739026370902"
        ],
        [
         "SP",
         "informatica_acessorios",
         3170,
         46794,
         "0.0677437278283541"
        ],
        [
         "SP",
         "relogios_presentes",
         2281,
         46794,
         "0.0487455656708125"
        ],
        [
         "SP",
         "automotivo",
         1747,
         46794,
         "0.0373338462196008"
        ],
        [
         "SP",
         "brinquedos",
         1712,
         46794,
         "0.0365858870795401"
        ],
        [
         "SP",
         "telefonia",
         1646,
         46794,
         "0.0351754498439971"
        ],
        [
         "SP",
         "ferramentas_jardim",
         1559,
         46794,
         "0.0333162371244177"
        ],
        [
         "SP",
         "perfumaria",
         1477,
         46794,
         "0.0315638757105612"
        ],
        [
         "SP",
         "cool_stuff",
         1364,
         46794,
         "0.0291490362012224"
        ],
        [
         "SP",
         "bebes",
         1276,
         46794,
         "0.0272684532204984"
        ],
        [
         "SP",
         "papelaria",
         1064,
         46794,
         "0.0227379578578450"
        ],
        [
         "SP",
         "eletronicos",
         1005,
         46794,
         "0.0214771124503141"
        ],
        [
         "SP",
         "pet_shop",
         898,
         46794,
         "0.0191904945078429"
        ],
        [
         "SP",
         "fashion_bolsas_e_acessorios",
         861,
         46794,
         "0.0183997948454930"
        ],
        [
         "SP",
         "moveis_escritorio",
         662,
         46794,
         "0.0141471128777194"
        ],
        [
         "SP",
         "consoles_games",
         496,
         46794,
         "0.0105996495277172"
        ],
        [
         "SP",
         "malas_acessorios",
         455,
         46794,
         "0.0097234688207890"
        ],
        [
         "SP",
         "construcao_ferramentas_construcao",
         428,
         46794,
         "0.0091464717698850"
        ],
        [
         "SP",
         "eletrodomesticos",
         347,
         46794,
         "0.0074154806171731"
        ],
        [
         "SP",
         "eletroportateis",
         307,
         46794,
         "0.0065606701713895"
        ],
        [
         "SP",
         "alimentos",
         285,
         46794,
         "0.0060905244262085"
        ],
        [
         "SP",
         "instrumentos_musicais",
         269,
         46794,
         "0.0057486002478950"
        ],
        [
         "SP",
         "casa_construcao",
         268,
         46794,
         "0.0057272299867504"
        ],
        [
         "SP",
         "livros_interesse_geral",
         227,
         46794,
         "0.0048510492798222"
        ],
        [
         "SP",
         "bebidas",
         211,
         46794,
         "0.0045091251015087"
        ],
        [
         "SP",
         "casa_conforto",
         204,
         46794,
         "0.0043595332734966"
        ],
        [
         "SP",
         "moveis_sala",
         202,
         46794,
         "0.0043167927512074"
        ],
        [
         "SP",
         "audio",
         145,
         46794,
         "0.0030986878659657"
        ],
        [
         "SP",
         "moveis_cozinha_area_de_servico_jantar_e_jardim",
         143,
         46794,
         "0.0030559473436765"
        ],
        [
         "SP",
         "construcao_ferramentas_iluminacao",
         143,
         46794,
         "0.0030559473436765"
        ],
        [
         "SP",
         "climatizacao",
         139,
         46794,
         "0.0029704662990982"
        ],
        [
         "SP",
         "alimentos_bebidas",
         136,
         46794,
         "0.0029063555156644"
        ],
        [
         "SP",
         "industria_comercio_e_negocios",
         128,
         46794,
         "0.0027353934265077"
        ],
        [
         "SP",
         "market_place",
         117,
         46794,
         "0.0025003205539172"
        ],
        [
         "SP",
         "telefonia_fixa",
         117,
         46794,
         "0.0025003205539172"
        ],
        [
         "SP",
         "livros_tecnicos",
         113,
         46794,
         "0.0024148395093388"
        ],
        [
         "SP",
         "artes",
         99,
         46794,
         "0.0021156558533145"
        ],
        [
         "SP",
         "construcao_ferramentas_jardim",
         99,
         46794,
         "0.0021156558533145"
        ],
        [
         "SP",
         "agro_industria_e_comercio",
         95,
         46794,
         "0.0020301748087362"
        ],
        [
         "SP",
         "sinalizacao_e_seguranca",
         95,
         46794,
         "0.0020301748087362"
        ],
        [
         "SP",
         "fashion_calcados",
         91,
         46794,
         "0.0019446937641578"
        ],
        [
         "SP",
         "eletrodomesticos_2",
         89,
         46794,
         "0.0019019532418686"
        ],
        [
         "SP",
         "construcao_ferramentas_seguranca",
         66,
         46794,
         "0.0014104372355430"
        ],
        [
         "SP",
         "pcs",
         59,
         46794,
         "0.0012608454075309"
        ],
        [
         "SP",
         "fashion_roupa_masculina",
         57,
         46794,
         "0.0012181048852417"
        ],
        [
         "SP",
         "fashion_underwear_e_moda_praia",
         55,
         46794,
         "0.0011753643629525"
        ],
        [
         "SP",
         "moveis_quarto",
         52,
         46794,
         "0.0011112535795187"
        ],
        [
         "SP",
         "artigos_de_natal",
         50,
         46794,
         "0.0010685130572296"
        ],
        [
         "SP",
         "livros_importados",
         37,
         46794,
         "0.0007906996623499"
        ],
        [
         "SP",
         "portateis_casa_forno_e_cafe",
         35,
         46794,
         "0.0007479591400607"
        ],
        [
         "SP",
         "construcao_ferramentas_ferramentas",
         33,
         46794,
         "0.0007052186177715"
        ],
        [
         "SP",
         "tablets_impressao_imagem",
         32,
         46794,
         "0.0006838483566269"
        ],
        [
         "SP",
         "cine_foto",
         31,
         46794,
         "0.0006624780954823"
        ],
        [
         "SP",
         "fraldas_higiene",
         31,
         46794,
         "0.0006624780954823"
        ],
        [
         "SP",
         "fashion_roupa_feminina",
         28,
         46794,
         "0.0005983673120486"
        ],
        [
         "SP",
         "dvds_blu_ray",
         23,
         46794,
         "0.0004915160063256"
        ],
        [
         "SP",
         "moveis_colchao_e_estofado",
         22,
         46794,
         "0.0004701457451810"
        ],
        [
         "SP",
         "artigos_de_festas",
         18,
         46794,
         "0.0003846647006026"
        ],
        [
         "SP",
         "artes_e_artesanato",
         16,
         46794,
         "0.0003419241783135"
        ],
        [
         "SP",
         "casa_conforto_2",
         14,
         46794,
         "0.0002991836560243"
        ],
        [
         "SP",
         "musica",
         12,
         46794,
         "0.0002564431337351"
        ],
        [
         "SP",
         "fashion_esporte",
         12,
         46794,
         "0.0002564431337351"
        ],
        [
         "SP",
         "flores",
         11,
         46794,
         "0.0002350728725905"
        ],
        [
         "SP",
         "portateis_cozinha_e_preparadores_de_alimentos",
         8,
         46794,
         "0.0001709620891567"
        ],
        [
         "SP",
         "cds_dvds_musicais",
         6,
         46794,
         "0.0001282215668675"
        ],
        [
         "SP",
         "la_cuisine",
         6,
         46794,
         "0.0001282215668675"
        ],
        [
         "SP",
         "fashion_roupa_infanto_juvenil",
         4,
         46794,
         "0.0000854810445784"
        ],
        [
         "SP",
         "pc_gamer",
         4,
         46794,
         "0.0000854810445784"
        ],
        [
         "TO",
         "beleza_saude",
         36,
         310,
         "0.1161290322580645"
        ],
        [
         "TO",
         "relogios_presentes",
         30,
         310,
         "0.0967741935483871"
        ],
        [
         "TO",
         "esporte_lazer",
         25,
         310,
         "0.0806451612903226"
        ],
        [
         "TO",
         "informatica_acessorios",
         21,
         310,
         "0.0677419354838710"
        ],
        [
         "TO",
         "telefonia",
         21,
         310,
         "0.0677419354838710"
        ],
        [
         "TO",
         "moveis_decoracao",
         18,
         310,
         "0.0580645161290323"
        ],
        [
         "TO",
         "automotivo",
         16,
         310,
         "0.0516129032258065"
        ],
        [
         "TO",
         "cool_stuff",
         16,
         310,
         "0.0516129032258065"
        ],
        [
         "TO",
         "utilidades_domesticas",
         14,
         310,
         "0.0451612903225806"
        ],
        [
         "TO",
         "perfumaria",
         13,
         310,
         "0.0419354838709677"
        ],
        [
         "TO",
         "brinquedos",
         13,
         310,
         "0.0419354838709677"
        ],
        [
         "TO",
         "ferramentas_jardim",
         13,
         310,
         "0.0419354838709677"
        ],
        [
         "TO",
         "cama_mesa_banho",
         10,
         310,
         "0.0322580645161290"
        ],
        [
         "TO",
         "fashion_bolsas_e_acessorios",
         8,
         310,
         "0.0258064516129032"
        ],
        [
         "TO",
         "bebes",
         7,
         310,
         "0.0225806451612903"
        ],
        [
         "TO",
         "eletronicos",
         7,
         310,
         "0.0225806451612903"
        ],
        [
         "TO",
         "moveis_escritorio",
         6,
         310,
         "0.0193548387096774"
        ],
        [
         "TO",
         "pet_shop",
         4,
         310,
         "0.0129032258064516"
        ],
        [
         "TO",
         "consoles_games",
         4,
         310,
         "0.0129032258064516"
        ],
        [
         "TO",
         "papelaria",
         3,
         310,
         "0.0096774193548387"
        ],
        [
         "TO",
         "eletrodomesticos_2",
         3,
         310,
         "0.0096774193548387"
        ],
        [
         "TO",
         "construcao_ferramentas_iluminacao",
         2,
         310,
         "0.0064516129032258"
        ],
        [
         "TO",
         "telefonia_fixa",
         2,
         310,
         "0.0064516129032258"
        ],
        [
         "TO",
         "livros_tecnicos",
         2,
         310,
         "0.0064516129032258"
        ],
        [
         "TO",
         "malas_acessorios",
         2,
         310,
         "0.0064516129032258"
        ],
        [
         "TO",
         "moveis_sala",
         2,
         310,
         "0.0064516129032258"
        ],
        [
         "TO",
         "instrumentos_musicais",
         1,
         310,
         "0.0032258064516129"
        ],
        [
         "TO",
         "moveis_cozinha_area_de_servico_jantar_e_jardim",
         1,
         310,
         "0.0032258064516129"
        ],
        [
         "TO",
         "industria_comercio_e_negocios",
         1,
         310,
         "0.0032258064516129"
        ],
        [
         "TO",
         "portateis_casa_forno_e_cafe",
         1,
         310,
         "0.0032258064516129"
        ],
        [
         "TO",
         "audio",
         1,
         310,
         "0.0032258064516129"
        ],
        [
         "TO",
         "casa_construcao",
         1,
         310,
         "0.0032258064516129"
        ],
        [
         "TO",
         "eletrodomesticos",
         1,
         310,
         "0.0032258064516129"
        ],
        [
         "TO",
         "fashion_calcados",
         1,
         310,
         "0.0032258064516129"
        ],
        [
         "TO",
         "market_place",
         1,
         310,
         "0.0032258064516129"
        ],
        [
         "TO",
         "casa_conforto",
         1,
         310,
         "0.0032258064516129"
        ],
        [
         "TO",
         "livros_interesse_geral",
         1,
         310,
         "0.0032258064516129"
        ],
        [
         "TO",
         "pcs",
         1,
         310,
         "0.0032258064516129"
        ]
       ],
       "datasetInfos": [],
       "dbfsResultPath": null,
       "isJsonSchema": true,
       "metadata": {},
       "overflow": false,
       "plotOptions": {
        "customPlotOptions": {},
        "displayType": "table",
        "pivotAggregation": null,
        "pivotColumns": null,
        "xColumns": null,
        "yColumns": null
       },
       "removedWidgets": [],
       "schema": [
        {
         "metadata": "{}",
         "name": "estado",
         "type": "\"string\""
        },
        {
         "metadata": "{}",
         "name": "categoria",
         "type": "\"string\""
        },
        {
         "metadata": "{}",
         "name": "produtos",
         "type": "\"long\""
        },
        {
         "metadata": "{}",
         "name": "total_vendas_estado",
         "type": "\"long\""
        },
        {
         "metadata": "{}",
         "name": "percentual_vendas",
         "type": "\"decimal(38,16)\""
        }
       ],
       "type": "table"
      }
     },
     "output_type": "display_data"
    }
   ],
   "source": [
    "%sql\n",
    "WITH vendas AS (\n",
    "  SELECT c.customer_state AS estado, p.product_category_name AS categoria, COUNT(oi.product_id) AS produtos\n",
    "  FROM delta_gold_orders o LEFT JOIN delta_gold_order_items oi ON (oi.order_id = o.order_id)\n",
    "                             LEFT JOIN delta_gold_products p ON (p.product_id = oi.product_id)\n",
    "                             LEFT JOIN delta_gold_customers c ON (c.customer_id = o.customer_id)\n",
    "  GROUP BY c.customer_state, p.product_category_name\n",
    "  HAVING p.product_category_name IS NOT NULL                           \n",
    ")\n",
    "SELECT estado, categoria, produtos,\n",
    "       SUM(produtos) OVER (PARTITION BY estado) AS total_vendas_estado,\n",
    "       produtos*1.0/SUM(produtos) OVER (PARTITION BY estado) AS percentual_vendas\n",
    "FROM vendas v \n",
    "ORDER BY estado, percentual_vendas DESC\n",
    "-- Encontra o percentual de vendas de cada categoria de produtos em cada estado"
   ]
  },
  {
   "cell_type": "code",
   "execution_count": 0,
   "metadata": {
    "application/vnd.databricks.v1+cell": {
     "cellMetadata": {
      "byteLimit": 2048000,
      "implicitDf": true,
      "rowLimit": 10000
     },
     "inputWidgets": {},
     "nuid": "548c2f34-69fd-4a26-b4fc-3ade539d397b",
     "showTitle": false,
     "tableResultSettingsMap": {},
     "title": ""
    }
   },
   "outputs": [
    {
     "output_type": "display_data",
     "data": {
      "text/html": [
       "<style scoped>\n",
       "  .table-result-container {\n",
       "    max-height: 300px;\n",
       "    overflow: auto;\n",
       "  }\n",
       "  table, th, td {\n",
       "    border: 1px solid black;\n",
       "    border-collapse: collapse;\n",
       "  }\n",
       "  th, td {\n",
       "    padding: 5px;\n",
       "  }\n",
       "  th {\n",
       "    text-align: left;\n",
       "  }\n",
       "</style><div class='table-result-container'><table class='table-result'><thead style='background-color: white'><tr><th>customer_state</th><th>qtd_clientes</th></tr></thead><tbody><tr><td>SP</td><td>41746</td></tr><tr><td>RJ</td><td>12852</td></tr><tr><td>MG</td><td>11635</td></tr><tr><td>RS</td><td>5466</td></tr><tr><td>PR</td><td>5045</td></tr><tr><td>SC</td><td>3637</td></tr><tr><td>BA</td><td>3380</td></tr><tr><td>DF</td><td>2140</td></tr><tr><td>ES</td><td>2033</td></tr><tr><td>GO</td><td>2020</td></tr><tr><td>PE</td><td>1652</td></tr><tr><td>CE</td><td>1336</td></tr><tr><td>PA</td><td>975</td></tr><tr><td>MT</td><td>907</td></tr><tr><td>MA</td><td>747</td></tr><tr><td>MS</td><td>715</td></tr><tr><td>PB</td><td>536</td></tr><tr><td>PI</td><td>495</td></tr><tr><td>RN</td><td>485</td></tr><tr><td>AL</td><td>413</td></tr><tr><td>SE</td><td>350</td></tr><tr><td>TO</td><td>280</td></tr><tr><td>RO</td><td>253</td></tr><tr><td>AM</td><td>148</td></tr><tr><td>AC</td><td>81</td></tr><tr><td>AP</td><td>68</td></tr><tr><td>RR</td><td>46</td></tr></tbody></table></div>"
      ]
     },
     "metadata": {
      "application/vnd.databricks.v1+output": {
       "addedWidgets": {},
       "aggData": [],
       "aggError": "",
       "aggOverflow": false,
       "aggSchema": [],
       "aggSeriesLimitReached": false,
       "aggType": "",
       "arguments": {},
       "columnCustomDisplayInfos": {},
       "data": [
        [
         "SP",
         41746
        ],
        [
         "RJ",
         12852
        ],
        [
         "MG",
         11635
        ],
        [
         "RS",
         5466
        ],
        [
         "PR",
         5045
        ],
        [
         "SC",
         3637
        ],
        [
         "BA",
         3380
        ],
        [
         "DF",
         2140
        ],
        [
         "ES",
         2033
        ],
        [
         "GO",
         2020
        ],
        [
         "PE",
         1652
        ],
        [
         "CE",
         1336
        ],
        [
         "PA",
         975
        ],
        [
         "MT",
         907
        ],
        [
         "MA",
         747
        ],
        [
         "MS",
         715
        ],
        [
         "PB",
         536
        ],
        [
         "PI",
         495
        ],
        [
         "RN",
         485
        ],
        [
         "AL",
         413
        ],
        [
         "SE",
         350
        ],
        [
         "TO",
         280
        ],
        [
         "RO",
         253
        ],
        [
         "AM",
         148
        ],
        [
         "AC",
         81
        ],
        [
         "AP",
         68
        ],
        [
         "RR",
         46
        ]
       ],
       "datasetInfos": [],
       "dbfsResultPath": null,
       "isJsonSchema": true,
       "metadata": {},
       "overflow": false,
       "plotOptions": {
        "customPlotOptions": {},
        "displayType": "table",
        "pivotAggregation": null,
        "pivotColumns": null,
        "xColumns": null,
        "yColumns": null
       },
       "removedWidgets": [],
       "schema": [
        {
         "metadata": "{}",
         "name": "customer_state",
         "type": "\"string\""
        },
        {
         "metadata": "{}",
         "name": "qtd_clientes",
         "type": "\"long\""
        }
       ],
       "type": "table"
      }
     },
     "output_type": "display_data"
    }
   ],
   "source": [
    "%sql\n",
    "SELECT customer_state, COUNT(DISTINCT customer_id) AS qtd_clientes\n",
    "FROM delta_gold_customers\n",
    "GROUP BY customer_state\n",
    "ORDER BY qtd_clientes DESC\n",
    "-- QTD de clientes por estado em ordem decrescente"
   ]
  },
  {
   "cell_type": "code",
   "execution_count": 0,
   "metadata": {
    "application/vnd.databricks.v1+cell": {
     "cellMetadata": {},
     "inputWidgets": {},
     "nuid": "71e7f089-3490-4ab4-a992-e86770fa12d2",
     "showTitle": false,
     "tableResultSettingsMap": {},
     "title": ""
    }
   },
   "outputs": [],
   "source": [
    "%sql\n",
    "SELECT product_category_name, COUNT(DISTINCT product_id) AS qtd_produtos\n",
    "FROM delta_silver_products p\n",
    "GROUP BY product_category_name\n",
    "ORDER BY qtd_produtos DESC\n",
    "-- QTD de produtos de cada categoria"
   ]
  },
  {
   "cell_type": "code",
   "execution_count": 0,
   "metadata": {
    "application/vnd.databricks.v1+cell": {
     "cellMetadata": {},
     "inputWidgets": {},
     "nuid": "f5be7120-a0c5-4e18-b16f-f2168c99fb5a",
     "showTitle": false,
     "tableResultSettingsMap": {},
     "title": ""
    }
   },
   "outputs": [],
   "source": [
    "%sql\n",
    "SELECT order_item_id, order_id, product_id, price FROM delta_bronze_order_items\n",
    "ORDER BY price DESC\n",
    "-- Ajustar para gold"
   ]
  },
  {
   "cell_type": "code",
   "execution_count": 0,
   "metadata": {
    "application/vnd.databricks.v1+cell": {
     "cellMetadata": {},
     "inputWidgets": {},
     "nuid": "9a37d2a2-dec2-49e1-a306-3726ab671c97",
     "showTitle": false,
     "tableResultSettingsMap": {},
     "title": ""
    }
   },
   "outputs": [],
   "source": [
    "# 4. Quais os vendedores com as melhores médias de avaliações?"
   ]
  },
  {
   "cell_type": "code",
   "execution_count": 0,
   "metadata": {
    "application/vnd.databricks.v1+cell": {
     "cellMetadata": {
      "byteLimit": 2048000,
      "implicitDf": true,
      "rowLimit": 10000
     },
     "inputWidgets": {},
     "nuid": "3bd67248-ecb3-4765-9d0b-c5cfee39c5eb",
     "showTitle": false,
     "tableResultSettingsMap": {},
     "title": ""
    }
   },
   "outputs": [
    {
     "output_type": "display_data",
     "data": {
      "text/html": [
       "<style scoped>\n",
       "  .table-result-container {\n",
       "    max-height: 300px;\n",
       "    overflow: auto;\n",
       "  }\n",
       "  table, th, td {\n",
       "    border: 1px solid black;\n",
       "    border-collapse: collapse;\n",
       "  }\n",
       "  th, td {\n",
       "    padding: 5px;\n",
       "  }\n",
       "  th {\n",
       "    text-align: left;\n",
       "  }\n",
       "</style><div class='table-result-container'><table class='table-result'><thead style='background-color: white'><tr><th>seller</th><th>total_reviews</th><th>avg_ratings</th></tr></thead><tbody><tr><td>c3cfdc648177fdbbbb35635a37472c53</td><td>282</td><td>4.45</td></tr><tr><td>fa40cc5b934574b62717c68f3d678b6d</td><td>306</td><td>4.43</td></tr><tr><td>7299e27ed73d2ad986de7f7c77d919fa</td><td>338</td><td>4.42</td></tr><tr><td>a3a38f4affed601eb87a97788c949667</td><td>250</td><td>4.39</td></tr><tr><td>fe2032dab1a61af8794248c8196565c9</td><td>290</td><td>4.38</td></tr><tr><td>87142160b41353c4e5fca2360caf6f92</td><td>307</td><td>4.37</td></tr><tr><td>6edacfd9f9074789dad6d62ba7950b9c</td><td>208</td><td>4.36</td></tr><tr><td>4b9750c8ad28220fe6702d4ecb7c898f</td><td>218</td><td>4.35</td></tr><tr><td>fa1c13f2614d7b5c4749cbc52fecda94</td><td>581</td><td>4.34</td></tr><tr><td>0ea22c1cfbdc755f86b9b54b39c16043</td><td>234</td><td>4.33</td></tr></tbody></table></div>"
      ]
     },
     "metadata": {
      "application/vnd.databricks.v1+output": {
       "addedWidgets": {},
       "aggData": [],
       "aggError": "",
       "aggOverflow": false,
       "aggSchema": [],
       "aggSeriesLimitReached": false,
       "aggType": "",
       "arguments": {},
       "columnCustomDisplayInfos": {},
       "data": [
        [
         "c3cfdc648177fdbbbb35635a37472c53",
         282,
         4.45
        ],
        [
         "fa40cc5b934574b62717c68f3d678b6d",
         306,
         4.43
        ],
        [
         "7299e27ed73d2ad986de7f7c77d919fa",
         338,
         4.42
        ],
        [
         "a3a38f4affed601eb87a97788c949667",
         250,
         4.39
        ],
        [
         "fe2032dab1a61af8794248c8196565c9",
         290,
         4.38
        ],
        [
         "87142160b41353c4e5fca2360caf6f92",
         307,
         4.37
        ],
        [
         "6edacfd9f9074789dad6d62ba7950b9c",
         208,
         4.36
        ],
        [
         "4b9750c8ad28220fe6702d4ecb7c898f",
         218,
         4.35
        ],
        [
         "fa1c13f2614d7b5c4749cbc52fecda94",
         581,
         4.34
        ],
        [
         "0ea22c1cfbdc755f86b9b54b39c16043",
         234,
         4.33
        ]
       ],
       "datasetInfos": [],
       "dbfsResultPath": null,
       "isJsonSchema": true,
       "metadata": {},
       "overflow": false,
       "plotOptions": {
        "customPlotOptions": {},
        "displayType": "table",
        "pivotAggregation": null,
        "pivotColumns": null,
        "xColumns": null,
        "yColumns": null
       },
       "removedWidgets": [],
       "schema": [
        {
         "metadata": "{}",
         "name": "seller",
         "type": "\"string\""
        },
        {
         "metadata": "{}",
         "name": "total_reviews",
         "type": "\"long\""
        },
        {
         "metadata": "{}",
         "name": "avg_ratings",
         "type": "\"double\""
        }
       ],
       "type": "table"
      }
     },
     "output_type": "display_data"
    }
   ],
   "source": [
    "%sql\n",
    "WITH reviews AS \n",
    "(SELECT o.order_id, r.review_id, r.review_score FROM\n",
    "delta_gold_order_reviews r JOIN delta_gold_orders o \n",
    "ON r.order_id=o.order_id),\n",
    "\n",
    "order_details AS \n",
    "(SELECT i.seller_id, reviews.order_id, reviews.review_id, reviews.review_score FROM\n",
    "reviews JOIN delta_gold_order_items i\n",
    "ON reviews.order_id=i.order_id)\n",
    "\n",
    "SELECT seller_id AS seller, COUNT(distinct review_id) AS total_reviews, \n",
    "ROUND(AVG(review_score),2) AS avg_ratings FROM order_details\n",
    "GROUP BY seller_id\n",
    "HAVING COUNT(distinct review_id)>200\n",
    "ORDER BY avg_ratings DESC\n",
    "LIMIT 10"
   ]
  },
  {
   "cell_type": "code",
   "execution_count": 0,
   "metadata": {
    "application/vnd.databricks.v1+cell": {
     "cellMetadata": {},
     "inputWidgets": {},
     "nuid": "58694f7d-1519-4ba0-a76f-13389a79afc6",
     "showTitle": false,
     "tableResultSettingsMap": {},
     "title": ""
    }
   },
   "outputs": [],
   "source": [
    "# 5. Qual o faturamento de cada categoria e seu percentual sobre o faturamento total no período?"
   ]
  },
  {
   "cell_type": "markdown",
   "metadata": {
    "application/vnd.databricks.v1+cell": {
     "cellMetadata": {},
     "inputWidgets": {},
     "nuid": "b392d007-8647-4636-aa34-a7ed33ba73c3",
     "showTitle": false,
     "tableResultSettingsMap": {},
     "title": ""
    }
   },
   "source": [
    "## Questão 5\n",
    "**Qual o faturamento de cada categoria e seu percentual sobre o faturamento total no período?**"
   ]
  },
  {
   "cell_type": "code",
   "execution_count": 0,
   "metadata": {
    "application/vnd.databricks.v1+cell": {
     "cellMetadata": {
      "byteLimit": 2048000,
      "implicitDf": true,
      "rowLimit": 10000
     },
     "inputWidgets": {},
     "nuid": "54d79729-29e0-41f8-8a16-e7059a429d6f",
     "showTitle": false,
     "tableResultSettingsMap": {},
     "title": ""
    }
   },
   "outputs": [
    {
     "output_type": "display_data",
     "data": {
      "text/html": [
       "<style scoped>\n",
       "  .table-result-container {\n",
       "    max-height: 300px;\n",
       "    overflow: auto;\n",
       "  }\n",
       "  table, th, td {\n",
       "    border: 1px solid black;\n",
       "    border-collapse: collapse;\n",
       "  }\n",
       "  th, td {\n",
       "    padding: 5px;\n",
       "  }\n",
       "  th {\n",
       "    text-align: left;\n",
       "  }\n",
       "</style><div class='table-result-container'><table class='table-result'><thead style='background-color: white'><tr><th>product_category</th><th>revenue</th><th>percent_revenue</th></tr></thead><tbody><tr><td>health_beauty</td><td>1258681.339999968</td><td>9.38852437563066</td></tr><tr><td>watches_gifts</td><td>1205005.6800000058</td><td>8.988156763691865</td></tr><tr><td>bed_bath_table</td><td>1036988.6800000716</td><td>7.734915256179124</td></tr><tr><td>sports_leisure</td><td>988048.9700000364</td><td>7.369873171522781</td></tr><tr><td>computers_accessories</td><td>911954.320000041</td><td>6.802281952302785</td></tr><tr><td>furniture_decor</td><td>729762.4900000462</td><td>5.443310159652111</td></tr><tr><td>cool_stuff</td><td>635290.8500000037</td><td>4.738644676213527</td></tr><tr><td>housewares</td><td>632248.6600000246</td><td>4.715952932034572</td></tr><tr><td>auto</td><td>592720.110000013</td><td>4.421108841306689</td></tr><tr><td>garden_tools</td><td>485256.4600000161</td><td>3.6195357461504205</td></tr></tbody></table></div>"
      ]
     },
     "metadata": {
      "application/vnd.databricks.v1+output": {
       "addedWidgets": {},
       "aggData": [],
       "aggError": "",
       "aggOverflow": false,
       "aggSchema": [],
       "aggSeriesLimitReached": false,
       "aggType": "",
       "arguments": {},
       "columnCustomDisplayInfos": {},
       "data": [
        [
         "health_beauty",
         1258681.339999968,
         9.38852437563066
        ],
        [
         "watches_gifts",
         1205005.6800000058,
         8.988156763691865
        ],
        [
         "bed_bath_table",
         1036988.6800000716,
         7.734915256179124
        ],
        [
         "sports_leisure",
         988048.9700000364,
         7.369873171522781
        ],
        [
         "computers_accessories",
         911954.320000041,
         6.802281952302785
        ],
        [
         "furniture_decor",
         729762.4900000462,
         5.443310159652111
        ],
        [
         "cool_stuff",
         635290.8500000037,
         4.738644676213527
        ],
        [
         "housewares",
         632248.6600000246,
         4.715952932034572
        ],
        [
         "auto",
         592720.110000013,
         4.421108841306689
        ],
        [
         "garden_tools",
         485256.4600000161,
         3.6195357461504205
        ]
       ],
       "datasetInfos": [],
       "dbfsResultPath": null,
       "isJsonSchema": true,
       "metadata": {},
       "overflow": false,
       "plotOptions": {
        "customPlotOptions": {},
        "displayType": "table",
        "pivotAggregation": null,
        "pivotColumns": null,
        "xColumns": null,
        "yColumns": null
       },
       "removedWidgets": [],
       "schema": [
        {
         "metadata": "{}",
         "name": "product_category",
         "type": "\"string\""
        },
        {
         "metadata": "{}",
         "name": "revenue",
         "type": "\"double\""
        },
        {
         "metadata": "{}",
         "name": "percent_revenue",
         "type": "\"double\""
        }
       ],
       "type": "table"
      }
     },
     "output_type": "display_data"
    }
   ],
   "source": [
    "%sql\n",
    "WITH product_details AS\n",
    "(SELECT product_id, product_category_name_english AS product_category\n",
    "FROM delta_gold_products p join delta_gold_category_translation t\n",
    "ON p.product_category_name=t.product_category_name),\n",
    "\n",
    "order_details AS\n",
    "(SELECT o.order_id, o.product_id, p.product_category, o.price\n",
    "FROM product_details p join delta_gold_order_items o\n",
    "ON p.product_id=o.product_id)\n",
    "\n",
    "SELECT product_category, SUM(price) AS revenue, 100*SUM(price)/(SELECT SUM(price) FROM order_details) AS percent_revenue\n",
    "FROM order_details \n",
    "GROUP BY product_category ORDER BY percent_revenue DESC\n",
    "LIMIT 10"
   ]
  },
  {
   "cell_type": "code",
   "execution_count": 0,
   "metadata": {
    "application/vnd.databricks.v1+cell": {
     "cellMetadata": {},
     "inputWidgets": {},
     "nuid": "f76969d9-1595-4422-b5d1-543f9e6a861f",
     "showTitle": false,
     "tableResultSettingsMap": {},
     "title": ""
    }
   },
   "outputs": [],
   "source": [
    "# 6. Qual faixa etária mais usa o cartão de crédito para pagar as compras?\n",
    "# nenhum tipo de dado que possa fornecer essa informação. Cadastro de customers ñ tem"
   ]
  },
  {
   "cell_type": "code",
   "execution_count": 0,
   "metadata": {
    "application/vnd.databricks.v1+cell": {
     "cellMetadata": {},
     "inputWidgets": {},
     "nuid": "6631830f-fc79-403b-b62f-179c1b78247d",
     "showTitle": false,
     "tableResultSettingsMap": {},
     "title": ""
    }
   },
   "outputs": [],
   "source": [
    "# 7. Quais os status dos pedidos entre janeiro de 2016 e dezembro de 2018?"
   ]
  },
  {
   "cell_type": "markdown",
   "metadata": {
    "application/vnd.databricks.v1+cell": {
     "cellMetadata": {},
     "inputWidgets": {},
     "nuid": "f617378d-f74e-4e44-928c-30cce2056c7f",
     "showTitle": false,
     "tableResultSettingsMap": {},
     "title": ""
    }
   },
   "source": [
    "## Questão 7\n",
    "**Quais os status dos pedidos entre janeiro de 2016 e dezembro de 2018?**"
   ]
  },
  {
   "cell_type": "code",
   "execution_count": 0,
   "metadata": {
    "application/vnd.databricks.v1+cell": {
     "cellMetadata": {
      "byteLimit": 2048000,
      "implicitDf": true,
      "rowLimit": 10000
     },
     "inputWidgets": {},
     "nuid": "c55d5677-8c97-4e49-af34-771072474647",
     "showTitle": false,
     "tableResultSettingsMap": {},
     "title": ""
    }
   },
   "outputs": [
    {
     "output_type": "display_data",
     "data": {
      "text/html": [
       "<style scoped>\n",
       "  .table-result-container {\n",
       "    max-height: 300px;\n",
       "    overflow: auto;\n",
       "  }\n",
       "  table, th, td {\n",
       "    border: 1px solid black;\n",
       "    border-collapse: collapse;\n",
       "  }\n",
       "  th, td {\n",
       "    padding: 5px;\n",
       "  }\n",
       "  th {\n",
       "    text-align: left;\n",
       "  }\n",
       "</style><div class='table-result-container'><table class='table-result'><thead style='background-color: white'><tr><th>order_status</th><th>qtd_clientes</th></tr></thead><tbody><tr><td>shipped</td><td>1106</td></tr><tr><td>delivered</td><td>96477</td></tr><tr><td>processing</td><td>301</td></tr></tbody></table></div>"
      ]
     },
     "metadata": {
      "application/vnd.databricks.v1+output": {
       "addedWidgets": {},
       "aggData": [],
       "aggError": "",
       "aggOverflow": false,
       "aggSchema": [],
       "aggSeriesLimitReached": false,
       "aggType": "",
       "arguments": {},
       "columnCustomDisplayInfos": {},
       "data": [
        [
         "shipped",
         1106
        ],
        [
         "delivered",
         96477
        ],
        [
         "processing",
         301
        ]
       ],
       "datasetInfos": [],
       "dbfsResultPath": null,
       "isJsonSchema": true,
       "metadata": {},
       "overflow": false,
       "plotOptions": {
        "customPlotOptions": {},
        "displayType": "table",
        "pivotAggregation": null,
        "pivotColumns": null,
        "xColumns": null,
        "yColumns": null
       },
       "removedWidgets": [],
       "schema": [
        {
         "metadata": "{}",
         "name": "order_status",
         "type": "\"string\""
        },
        {
         "metadata": "{}",
         "name": "qtd_clientes",
         "type": "\"long\""
        }
       ],
       "type": "table"
      }
     },
     "output_type": "display_data"
    }
   ],
   "source": [
    "%sql\n",
    "SELECT order_status, COUNT(DISTINCT customer_id) AS qtd_clientes\n",
    "FROM delta_gold_orders o \n",
    "WHERE( o.order_status IN ('processing','shipped','delivered')) AND\n",
    "     (o.order_purchase_timestamp BETWEEN '2016-10-01' AND '2018-12-31')\n",
    "GROUP BY o.order_status\n",
    "HAVING qtd_clientes>1\n",
    "-- Status das entregas dos pedidos em maio de 2016\n"
   ]
  },
  {
   "cell_type": "markdown",
   "metadata": {
    "application/vnd.databricks.v1+cell": {
     "cellMetadata": {},
     "inputWidgets": {},
     "nuid": "fc79ce19-2bf6-44ae-8619-02d6bcfd09d4",
     "showTitle": false,
     "tableResultSettingsMap": {},
     "title": ""
    }
   },
   "source": [
    "## Questão 8\n",
    "**Quais os estados têm mais clientes registrados?**"
   ]
  },
  {
   "cell_type": "code",
   "execution_count": 0,
   "metadata": {
    "application/vnd.databricks.v1+cell": {
     "cellMetadata": {
      "byteLimit": 2048000,
      "implicitDf": true,
      "rowLimit": 10000
     },
     "inputWidgets": {},
     "nuid": "fe18fa7c-4629-4757-861f-0e93b9479447",
     "showTitle": false,
     "tableResultSettingsMap": {},
     "title": ""
    }
   },
   "outputs": [
    {
     "output_type": "display_data",
     "data": {
      "text/html": [
       "<style scoped>\n",
       "  .table-result-container {\n",
       "    max-height: 300px;\n",
       "    overflow: auto;\n",
       "  }\n",
       "  table, th, td {\n",
       "    border: 1px solid black;\n",
       "    border-collapse: collapse;\n",
       "  }\n",
       "  th, td {\n",
       "    padding: 5px;\n",
       "  }\n",
       "  th {\n",
       "    text-align: left;\n",
       "  }\n",
       "</style><div class='table-result-container'><table class='table-result'><thead style='background-color: white'><tr><th>customer_state</th><th>qtd_clientes</th></tr></thead><tbody><tr><td>SP</td><td>41746</td></tr><tr><td>RJ</td><td>12852</td></tr><tr><td>MG</td><td>11635</td></tr><tr><td>RS</td><td>5466</td></tr><tr><td>PR</td><td>5045</td></tr><tr><td>SC</td><td>3637</td></tr><tr><td>BA</td><td>3380</td></tr><tr><td>DF</td><td>2140</td></tr><tr><td>ES</td><td>2033</td></tr><tr><td>GO</td><td>2020</td></tr><tr><td>PE</td><td>1652</td></tr><tr><td>CE</td><td>1336</td></tr><tr><td>PA</td><td>975</td></tr><tr><td>MT</td><td>907</td></tr><tr><td>MA</td><td>747</td></tr><tr><td>MS</td><td>715</td></tr><tr><td>PB</td><td>536</td></tr><tr><td>PI</td><td>495</td></tr><tr><td>RN</td><td>485</td></tr><tr><td>AL</td><td>413</td></tr><tr><td>SE</td><td>350</td></tr><tr><td>TO</td><td>280</td></tr><tr><td>RO</td><td>253</td></tr><tr><td>AM</td><td>148</td></tr><tr><td>AC</td><td>81</td></tr><tr><td>AP</td><td>68</td></tr><tr><td>RR</td><td>46</td></tr></tbody></table></div>"
      ]
     },
     "metadata": {
      "application/vnd.databricks.v1+output": {
       "addedWidgets": {},
       "aggData": [],
       "aggError": "",
       "aggOverflow": false,
       "aggSchema": [],
       "aggSeriesLimitReached": false,
       "aggType": "",
       "arguments": {},
       "columnCustomDisplayInfos": {},
       "data": [
        [
         "SP",
         41746
        ],
        [
         "RJ",
         12852
        ],
        [
         "MG",
         11635
        ],
        [
         "RS",
         5466
        ],
        [
         "PR",
         5045
        ],
        [
         "SC",
         3637
        ],
        [
         "BA",
         3380
        ],
        [
         "DF",
         2140
        ],
        [
         "ES",
         2033
        ],
        [
         "GO",
         2020
        ],
        [
         "PE",
         1652
        ],
        [
         "CE",
         1336
        ],
        [
         "PA",
         975
        ],
        [
         "MT",
         907
        ],
        [
         "MA",
         747
        ],
        [
         "MS",
         715
        ],
        [
         "PB",
         536
        ],
        [
         "PI",
         495
        ],
        [
         "RN",
         485
        ],
        [
         "AL",
         413
        ],
        [
         "SE",
         350
        ],
        [
         "TO",
         280
        ],
        [
         "RO",
         253
        ],
        [
         "AM",
         148
        ],
        [
         "AC",
         81
        ],
        [
         "AP",
         68
        ],
        [
         "RR",
         46
        ]
       ],
       "datasetInfos": [],
       "dbfsResultPath": null,
       "isJsonSchema": true,
       "metadata": {},
       "overflow": false,
       "plotOptions": {
        "customPlotOptions": {},
        "displayType": "table",
        "pivotAggregation": null,
        "pivotColumns": null,
        "xColumns": null,
        "yColumns": null
       },
       "removedWidgets": [],
       "schema": [
        {
         "metadata": "{}",
         "name": "customer_state",
         "type": "\"string\""
        },
        {
         "metadata": "{}",
         "name": "qtd_clientes",
         "type": "\"long\""
        }
       ],
       "type": "table"
      }
     },
     "output_type": "display_data"
    }
   ],
   "source": [
    "%sql\n",
    "SELECT customer_state, COUNT(DISTINCT customer_id) AS qtd_clientes\n",
    "FROM delta_gold_customers\n",
    "GROUP BY customer_state\n",
    "ORDER BY qtd_clientes DESC\n",
    "-- QTD de clientes por estado em ordem decrescente"
   ]
  }
 ],
 "metadata": {
  "application/vnd.databricks.v1+notebook": {
   "computePreferences": null,
   "dashboards": [],
   "environmentMetadata": {
    "base_environment": "",
    "environment_version": "1"
   },
   "inputWidgetPreferences": null,
   "language": "python",
   "notebookMetadata": {
    "mostRecentlyExecutedCommandWithImplicitDF": {
     "commandId": 1181540494291377,
     "dataframes": [
      "_sqldf"
     ]
    },
    "pythonIndentUnit": 4
   },
   "notebookName": "MVP_2_BETA",
   "widgets": {}
  }
 },
 "nbformat": 4,
 "nbformat_minor": 0
}
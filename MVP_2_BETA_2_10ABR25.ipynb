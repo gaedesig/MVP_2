{
 "cells": [
  {
   "cell_type": "code",
   "execution_count": 0,
   "metadata": {
    "application/vnd.databricks.v1+cell": {
     "cellMetadata": {
      "byteLimit": 2048000,
      "rowLimit": 10000
     },
     "inputWidgets": {},
     "nuid": "a6476e1e-d35b-4709-842a-9a7fd969be33",
     "showTitle": false,
     "tableResultSettingsMap": {},
     "title": ""
    }
   },
   "outputs": [
    {
     "output_type": "stream",
     "name": "stdout",
     "output_type": "stream",
     "text": [
      "Oi!!!\n"
     ]
    }
   ],
   "source": [
    "import datetime as dt\n",
    "print('Oi!!!')"
   ]
  },
  {
   "cell_type": "code",
   "execution_count": 0,
   "metadata": {
    "application/vnd.databricks.v1+cell": {
     "cellMetadata": {
      "byteLimit": 2048000,
      "rowLimit": 10000
     },
     "inputWidgets": {},
     "nuid": "af4af71d-b716-4b1b-ba7b-3fc66a60f394",
     "showTitle": false,
     "tableResultSettingsMap": {},
     "title": ""
    }
   },
   "outputs": [],
   "source": [
    "# Criar o diretório no Databricks\n",
    "dbutils.fs.mkdirs(\"/FileStore/tables/\")\n",
    "print(\"Diretório criado com sucesso!\")\n"
   ]
  },
  {
   "cell_type": "markdown",
   "metadata": {
    "application/vnd.databricks.v1+cell": {
     "cellMetadata": {},
     "inputWidgets": {},
     "nuid": "410fe0bd-b87b-43cc-8f07-f6e72b0f8a6a",
     "showTitle": false,
     "tableResultSettingsMap": {},
     "title": ""
    }
   },
   "source": [
    "# **1**"
   ]
  },
  {
   "cell_type": "code",
   "execution_count": 0,
   "metadata": {
    "application/vnd.databricks.v1+cell": {
     "cellMetadata": {
      "byteLimit": 2048000,
      "rowLimit": 10000
     },
     "inputWidgets": {},
     "nuid": "b8c698d0-0a48-460c-96a6-f36bbceafe7e",
     "showTitle": false,
     "tableResultSettingsMap": {},
     "title": ""
    }
   },
   "outputs": [
    {
     "output_type": "stream",
     "name": "stdout",
     "output_type": "stream",
     "text": [
      "Wrote 17654914 bytes.\nArquivo orders salvo em: /FileStore/tables/orders.csv\nWrote 9033957 bytes.\nArquivo customers salvo em: /FileStore/tables/customers.csv\nWrote 2379446 bytes.\nArquivo products salvo em: /FileStore/tables/products.csv\nWrote 15438671 bytes.\nArquivo ord_prds salvo em: /FileStore/tables/ord_prds.csv\nWrote 2613 bytes.\nArquivo categories salvo em: /FileStore/tables/categories.csv\nWrote 174703 bytes.\nArquivo sellers salvo em: /FileStore/tables/sellers.csv\nWrote 5777138 bytes.\nArquivo payments salvo em: /FileStore/tables/payments.csv\nWrote 14451670 bytes.\nArquivo ord_reviews salvo em: /FileStore/tables/ord_reviews.csv\n"
     ]
    }
   ],
   "source": [
    "# 1\n",
    "import requests\n",
    "\n",
    "# Links diretos dos arquivos CSV no GitHub\n",
    "file_urls = {\n",
    "    \"orders\": \"https://raw.githubusercontent.com/gaedesig/MVP_2/refs/heads/main/olist_orders_dataset.csv\",\n",
    "    \"customers\": \"https://raw.githubusercontent.com/gaedesig/MVP_2/refs/heads/main/olist_customers_dataset.csv\",\n",
    "    \"products\": \"https://raw.githubusercontent.com/gaedesig/MVP_2/refs/heads/main/olist_products_dataset.csv\",\n",
    "    \"ord_prds\": \"https://raw.githubusercontent.com/gaedesig/MVP_2/refs/heads/main/olist_order_items_dataset.csv\",\n",
    "    \"categories\": \"https://raw.githubusercontent.com/gaedesig/MVP_2/refs/heads/main/product_category_name_translation.csv\",\n",
    "    \"sellers\": \"https://raw.githubusercontent.com/gaedesig/MVP_2/refs/heads/main/olist_sellers_dataset.csv\",\n",
    "    \"payments\": \"https://raw.githubusercontent.com/gaedesig/MVP_2/refs/heads/main/olist_order_payments_dataset.csv\",\n",
    "    \"ord_reviews\": \"https://raw.githubusercontent.com/gaedesig/MVP_2/refs/heads/main/olist_order_reviews_dataset.csv\"\n",
    "}\n",
    "\n",
    "# Caminhos locais no Databricks para salvar os arquivos\n",
    "local_paths = {name: f\"/FileStore/tables/{name}.csv\" for name in file_urls.keys()}\n",
    "\n",
    "# Baixar cada arquivo e salvar no Databricks usando dbutils.fs.put\n",
    "for name, url in file_urls.items():\n",
    "    response = requests.get(url)\n",
    "    if response.status_code == 200:  # Checar se o download foi bem-sucedido\n",
    "        file_content = response.content.decode(\"utf-8\")  # Decodificar o conteúdo do arquivo\n",
    "        dbutils.fs.put(local_paths[name], file_content, overwrite=True)\n",
    "        print(f\"Arquivo {name} salvo em: {local_paths[name]}\")\n",
    "    else:\n",
    "        print(f\"Erro ao baixar o arquivo {name}: {response.status_code}\")\n"
   ]
  },
  {
   "cell_type": "code",
   "execution_count": 0,
   "metadata": {
    "application/vnd.databricks.v1+cell": {
     "cellMetadata": {
      "byteLimit": 2048000,
      "rowLimit": 10000
     },
     "inputWidgets": {},
     "nuid": "df2598dd-6319-4c61-ab63-d4ead6e073d9",
     "showTitle": false,
     "tableResultSettingsMap": {},
     "title": ""
    }
   },
   "outputs": [
    {
     "output_type": "stream",
     "name": "stdout",
     "output_type": "stream",
     "text": [
      "Out[2]: [FileInfo(path='dbfs:/FileStore/tables/categories.csv', name='categories.csv', size=2613, modificationTime=1744222879000),\n FileInfo(path='dbfs:/FileStore/tables/customers.csv', name='customers.csv', size=9033957, modificationTime=1744222873000),\n FileInfo(path='dbfs:/FileStore/tables/ord_prds.csv', name='ord_prds.csv', size=15438671, modificationTime=1744222878000),\n FileInfo(path='dbfs:/FileStore/tables/ord_reviews.csv', name='ord_reviews.csv', size=14451670, modificationTime=1744222884000),\n FileInfo(path='dbfs:/FileStore/tables/orders.csv', name='orders.csv', size=17654914, modificationTime=1744222871000),\n FileInfo(path='dbfs:/FileStore/tables/payments.csv', name='payments.csv', size=5777138, modificationTime=1744222881000),\n FileInfo(path='dbfs:/FileStore/tables/products.csv', name='products.csv', size=2379446, modificationTime=1744222875000),\n FileInfo(path='dbfs:/FileStore/tables/sellers.csv', name='sellers.csv', size=174703, modificationTime=1744222879000)]"
     ]
    }
   ],
   "source": [
    "# 2\n",
    "# Listar os arquivos no diretório\n",
    "dbutils.fs.ls(\"/FileStore/tables/\")\n"
   ]
  },
  {
   "cell_type": "markdown",
   "metadata": {
    "application/vnd.databricks.v1+cell": {
     "cellMetadata": {},
     "inputWidgets": {},
     "nuid": "43998b7e-c727-438f-9466-a2b2de8a4d40",
     "showTitle": false,
     "tableResultSettingsMap": {},
     "title": ""
    }
   },
   "source": [
    "Para limpar arquivos desnecessários acima... célula seguinte"
   ]
  },
  {
   "cell_type": "markdown",
   "metadata": {
    "application/vnd.databricks.v1+cell": {
     "cellMetadata": {},
     "inputWidgets": {},
     "nuid": "6df81d15-1fc3-4f39-814d-86cfa6f94a48",
     "showTitle": false,
     "tableResultSettingsMap": {},
     "title": ""
    }
   },
   "source": [
    "## MANUTENÇÃO"
   ]
  },
  {
   "cell_type": "code",
   "execution_count": 0,
   "metadata": {
    "application/vnd.databricks.v1+cell": {
     "cellMetadata": {
      "byteLimit": 2048000,
      "rowLimit": 10000
     },
     "inputWidgets": {},
     "nuid": "ff09b5eb-e29f-4af5-bdcf-0cc916ce69e1",
     "showTitle": false,
     "tableResultSettingsMap": {},
     "title": ""
    }
   },
   "outputs": [
    {
     "output_type": "stream",
     "name": "stdout",
     "output_type": "stream",
     "text": [
      "Pasta '/FileStore/tables/' limpa com sucesso!\n"
     ]
    }
   ],
   "source": [
    "# Limpar todos os arquivos da pasta \"/FileStore/tables/\"\n",
    "files = dbutils.fs.ls(\"/FileStore/tables/\")\n",
    "for file in files:\n",
    "    dbutils.fs.rm(file.path, recurse=True)\n",
    "\n",
    "print(\"Pasta '/FileStore/tables/' limpa com sucesso!\")\n"
   ]
  },
  {
   "cell_type": "markdown",
   "metadata": {
    "application/vnd.databricks.v1+cell": {
     "cellMetadata": {},
     "inputWidgets": {},
     "nuid": "79311612-02bc-4e84-9cd1-2502cd8c2002",
     "showTitle": false,
     "tableResultSettingsMap": {},
     "title": ""
    }
   },
   "source": [
    "# **3** "
   ]
  },
  {
   "cell_type": "code",
   "execution_count": 0,
   "metadata": {
    "application/vnd.databricks.v1+cell": {
     "cellMetadata": {
      "byteLimit": 2048000,
      "rowLimit": 10000
     },
     "inputWidgets": {},
     "nuid": "2d56f40d-f8da-424d-9bd5-e036fc61d8e1",
     "showTitle": false,
     "tableResultSettingsMap": {},
     "title": ""
    }
   },
   "outputs": [
    {
     "output_type": "display_data",
     "data": {
      "application/vnd.databricks.v1+bamboolib_hint": "{\"pd.DataFrames\": [], \"version\": \"0.0.1\"}",
      "text/plain": []
     },
     "metadata": {},
     "output_type": "display_data"
    }
   ],
   "source": [
    "# 3\n",
    "import pandas as pd"
   ]
  },
  {
   "cell_type": "markdown",
   "metadata": {
    "application/vnd.databricks.v1+cell": {
     "cellMetadata": {},
     "inputWidgets": {},
     "nuid": "9959d63a-62ec-431b-893b-9ef852a1a12e",
     "showTitle": false,
     "tableResultSettingsMap": {},
     "title": ""
    }
   },
   "source": [
    "# **4** Análise inicial dos dados"
   ]
  },
  {
   "cell_type": "code",
   "execution_count": 0,
   "metadata": {
    "application/vnd.databricks.v1+cell": {
     "cellMetadata": {
      "byteLimit": 2048000,
      "rowLimit": 10000
     },
     "inputWidgets": {},
     "nuid": "758e44e2-d170-4e24-b762-8e43ebd82d3e",
     "showTitle": false,
     "tableResultSettingsMap": {},
     "title": ""
    }
   },
   "outputs": [],
   "source": [
    "# 4\n",
    "# Ler os arquivos CSV salvos\n",
    "\n",
    "customers_df = spark.read.format(\"csv\").option(\"header\", \"true\").load(\"/FileStore/tables/customers.csv\")\n",
    "products_df = spark.read.format(\"csv\").option(\"header\", \"true\").load(\"/FileStore/tables/products.csv\")\n",
    "order_items_df = spark.read.format(\"csv\").option(\"header\", \"true\").load(\"/FileStore/tables/ord_prds.csv\")\n",
    "category_translation_df = spark.read.format(\"csv\").option(\"header\", \"true\").load(\"/FileStore/tables/categories.csv\")\n",
    "sellers_df = spark.read.format(\"csv\").option(\"header\", \"true\").load(\"/FileStore/tables/sellers.csv\")\n",
    "payments_df = spark.read.format(\"csv\").option(\"header\", \"true\").load(\"/FileStore/tables/payments.csv\")\n",
    "order_reviews_df = spark.read.format(\"csv\").option(\"header\", \"true\").load(\"/FileStore/tables/ord_reviews.csv\")\n",
    "orders_df = spark.read.format(\"csv\").option(\"header\", \"true\").load(\"/FileStore/tables/orders.csv\")"
   ]
  },
  {
   "cell_type": "markdown",
   "metadata": {
    "application/vnd.databricks.v1+cell": {
     "cellMetadata": {},
     "inputWidgets": {},
     "nuid": "1c5d1659-236a-4ab3-8989-f1c63636afdf",
     "showTitle": false,
     "tableResultSettingsMap": {},
     "title": ""
    }
   },
   "source": [
    "# Criando dataframes em pandas para melhor visualização\n"
   ]
  },
  {
   "cell_type": "code",
   "execution_count": 0,
   "metadata": {
    "application/vnd.databricks.v1+cell": {
     "cellMetadata": {
      "byteLimit": 2048000,
      "rowLimit": 10000
     },
     "inputWidgets": {},
     "nuid": "1d005012-6fa9-43b9-9c69-db157ae8848e",
     "showTitle": false,
     "tableResultSettingsMap": {},
     "title": ""
    }
   },
   "outputs": [],
   "source": [
    "# Converter o DataFrame Spark para Pandas\n",
    "orders_pandas_df = orders_df.toPandas()\n",
    "customer_pandas_df = customers_df.toPandas()\n",
    "order_items_pandas_df = order_items_df.toPandas()\n",
    "order_reviews_pandas_df = order_reviews_df.toPandas()\n",
    "payments_pandas_df = payments_df.toPandas()\n",
    "products_pandas_df = products_df.toPandas()\n",
    "sellers_pandas_df = sellers_df.toPandas()\n",
    "category_translation_pandas_df = category_translation_df.toPandas()\n"
   ]
  },
  {
   "cell_type": "markdown",
   "metadata": {
    "application/vnd.databricks.v1+cell": {
     "cellMetadata": {},
     "inputWidgets": {},
     "nuid": "87bc6852-8d8d-4365-a68e-f9161d14416d",
     "showTitle": false,
     "tableResultSettingsMap": {},
     "title": ""
    }
   },
   "source": [
    "# Análise inicial nos dataframes que originarão as tabelas"
   ]
  },
  {
   "cell_type": "markdown",
   "metadata": {
    "application/vnd.databricks.v1+cell": {
     "cellMetadata": {},
     "inputWidgets": {},
     "nuid": "f055e3ff-6790-4eb5-8bd0-ea1f3c0c54c8",
     "showTitle": false,
     "tableResultSettingsMap": {},
     "title": ""
    }
   },
   "source": [
    "## Analisar nulos, valores ambíguos,  utilizando info(), describe() e outros\n",
    "(ex hipotético: Ilhas das Flores <> I.Flores), possíveis outliers, etc\n",
    "##"
   ]
  },
  {
   "cell_type": "code",
   "execution_count": 0,
   "metadata": {
    "application/vnd.databricks.v1+cell": {
     "cellMetadata": {
      "byteLimit": 2048000,
      "rowLimit": 10000
     },
     "inputWidgets": {},
     "nuid": "316757ec-bee3-4bc4-a308-b802897dbafd",
     "showTitle": false,
     "tableResultSettingsMap": {},
     "title": ""
    }
   },
   "outputs": [
    {
     "output_type": "stream",
     "name": "stdout",
     "output_type": "stream",
     "text": [
      "<class 'pandas.core.frame.DataFrame'>\nRangeIndex: 99441 entries, 0 to 99440\nData columns (total 8 columns):\n #   Column                         Non-Null Count  Dtype \n---  ------                         --------------  ----- \n 0   order_id                       99441 non-null  object\n 1   customer_id                    99441 non-null  object\n 2   order_status                   99441 non-null  object\n 3   order_purchase_timestamp       99441 non-null  object\n 4   order_approved_at              99281 non-null  object\n 5   order_delivered_carrier_date   97658 non-null  object\n 6   order_delivered_customer_date  96476 non-null  object\n 7   order_estimated_delivery_date  99441 non-null  object\ndtypes: object(8)\nmemory usage: 6.1+ MB\n"
     ]
    }
   ],
   "source": [
    "orders_pandas_df.info()"
   ]
  },
  {
   "cell_type": "code",
   "execution_count": 0,
   "metadata": {
    "application/vnd.databricks.v1+cell": {
     "cellMetadata": {
      "byteLimit": 2048000,
      "rowLimit": 10000
     },
     "inputWidgets": {},
     "nuid": "90680dc3-06ba-4c0e-a1e4-3650861337dc",
     "showTitle": false,
     "tableResultSettingsMap": {},
     "title": ""
    }
   },
   "outputs": [
    {
     "output_type": "stream",
     "name": "stdout",
     "output_type": "stream",
     "text": [
      "Out[8]: order_id                            0\ncustomer_id                         0\norder_status                        0\norder_purchase_timestamp            0\norder_approved_at                 160\norder_delivered_carrier_date     1783\norder_delivered_customer_date    2965\norder_estimated_delivery_date       0\ndtype: int64"
     ]
    }
   ],
   "source": [
    "orders_pandas_df.isnull().sum()"
   ]
  },
  {
   "cell_type": "markdown",
   "metadata": {
    "application/vnd.databricks.v1+cell": {
     "cellMetadata": {},
     "inputWidgets": {},
     "nuid": "de0cf5c4-4d6c-4386-84e9-d095c6efa4a8",
     "showTitle": false,
     "tableResultSettingsMap": {},
     "title": ""
    }
   },
   "source": [
    "## order_pandas_df\n",
    "Contém nulos em 3 colunas. Entender se são importantes\n",
    "\n",
    "Entendo que esses valores nulos ñ devem influenciar.\n",
    "\n",
    "A q, provavelmente mais influenciaria, 'order_approved_at' tem\n",
    "poucos valores nulos - 160 em mais de 99 mil registros"
   ]
  },
  {
   "cell_type": "code",
   "execution_count": 0,
   "metadata": {
    "application/vnd.databricks.v1+cell": {
     "cellMetadata": {
      "byteLimit": 2048000,
      "rowLimit": 10000
     },
     "inputWidgets": {},
     "nuid": "6ddbbc1c-a946-4924-a40f-f1d030776ef0",
     "showTitle": false,
     "tableResultSettingsMap": {},
     "title": ""
    }
   },
   "outputs": [
    {
     "output_type": "stream",
     "name": "stdout",
     "output_type": "stream",
     "text": [
      "<class 'pandas.core.frame.DataFrame'>\nRangeIndex: 99441 entries, 0 to 99440\nData columns (total 5 columns):\n #   Column                    Non-Null Count  Dtype \n---  ------                    --------------  ----- \n 0   customer_id               99441 non-null  object\n 1   customer_unique_id        99441 non-null  object\n 2   customer_zip_code_prefix  99441 non-null  object\n 3   customer_city             99441 non-null  object\n 4   customer_state            99441 non-null  object\ndtypes: object(5)\nmemory usage: 3.8+ MB\n"
     ]
    }
   ],
   "source": [
    "customer_pandas_df.info()"
   ]
  },
  {
   "cell_type": "markdown",
   "metadata": {
    "application/vnd.databricks.v1+cell": {
     "cellMetadata": {},
     "inputWidgets": {},
     "nuid": "35066d9f-3f5c-4d35-ac7b-6b9b41322bd5",
     "showTitle": false,
     "tableResultSettingsMap": {},
     "title": ""
    }
   },
   "source": [
    "## customer_pandas_df\n",
    "Não contém nenhum nulo"
   ]
  },
  {
   "cell_type": "code",
   "execution_count": 0,
   "metadata": {
    "application/vnd.databricks.v1+cell": {
     "cellMetadata": {
      "byteLimit": 2048000,
      "rowLimit": 10000
     },
     "inputWidgets": {},
     "nuid": "2ffa504b-c104-43c0-93ba-a96cce1e39eb",
     "showTitle": false,
     "tableResultSettingsMap": {},
     "title": ""
    }
   },
   "outputs": [
    {
     "output_type": "stream",
     "name": "stdout",
     "output_type": "stream",
     "text": [
      "<class 'pandas.core.frame.DataFrame'>\nRangeIndex: 103886 entries, 0 to 103885\nData columns (total 5 columns):\n #   Column                Non-Null Count   Dtype \n---  ------                --------------   ----- \n 0   order_id              103886 non-null  object\n 1   payment_sequential    103886 non-null  object\n 2   payment_type          103886 non-null  object\n 3   payment_installments  103886 non-null  object\n 4   payment_value         103886 non-null  object\ndtypes: object(5)\nmemory usage: 4.0+ MB\n"
     ]
    }
   ],
   "source": [
    "payments_pandas_df.info()"
   ]
  },
  {
   "cell_type": "code",
   "execution_count": 0,
   "metadata": {
    "application/vnd.databricks.v1+cell": {
     "cellMetadata": {
      "byteLimit": 2048000,
      "rowLimit": 10000
     },
     "inputWidgets": {},
     "nuid": "f22f6bea-042b-402f-afe5-b43664c30a1a",
     "showTitle": false,
     "tableResultSettingsMap": {},
     "title": ""
    }
   },
   "outputs": [
    {
     "output_type": "display_data",
     "data": {
      "text/html": [
       "<div>\n",
       "<style scoped>\n",
       "    .dataframe tbody tr th:only-of-type {\n",
       "        vertical-align: middle;\n",
       "    }\n",
       "\n",
       "    .dataframe tbody tr th {\n",
       "        vertical-align: top;\n",
       "    }\n",
       "\n",
       "    .dataframe thead th {\n",
       "        text-align: right;\n",
       "    }\n",
       "</style>\n",
       "<table border=\"1\" class=\"dataframe\">\n",
       "  <thead>\n",
       "    <tr style=\"text-align: right;\">\n",
       "      <th></th>\n",
       "      <th>order_id</th>\n",
       "      <th>payment_sequential</th>\n",
       "      <th>payment_type</th>\n",
       "      <th>payment_installments</th>\n",
       "      <th>payment_value</th>\n",
       "    </tr>\n",
       "  </thead>\n",
       "  <tbody>\n",
       "    <tr>\n",
       "      <th>count</th>\n",
       "      <td>103886</td>\n",
       "      <td>103886</td>\n",
       "      <td>103886</td>\n",
       "      <td>103886</td>\n",
       "      <td>103886</td>\n",
       "    </tr>\n",
       "    <tr>\n",
       "      <th>unique</th>\n",
       "      <td>99440</td>\n",
       "      <td>29</td>\n",
       "      <td>5</td>\n",
       "      <td>24</td>\n",
       "      <td>29077</td>\n",
       "    </tr>\n",
       "    <tr>\n",
       "      <th>top</th>\n",
       "      <td>fa65dad1b0e818e3ccc5cb0e39231352</td>\n",
       "      <td>1</td>\n",
       "      <td>credit_card</td>\n",
       "      <td>1</td>\n",
       "      <td>50.00</td>\n",
       "    </tr>\n",
       "    <tr>\n",
       "      <th>freq</th>\n",
       "      <td>29</td>\n",
       "      <td>99360</td>\n",
       "      <td>76795</td>\n",
       "      <td>52546</td>\n",
       "      <td>324</td>\n",
       "    </tr>\n",
       "  </tbody>\n",
       "</table>\n",
       "</div>"
      ]
     },
     "metadata": {
      "application/vnd.databricks.v1+output": {
       "addedWidgets": {},
       "arguments": {},
       "data": "<div>\n<style scoped>\n    .dataframe tbody tr th:only-of-type {\n        vertical-align: middle;\n    }\n\n    .dataframe tbody tr th {\n        vertical-align: top;\n    }\n\n    .dataframe thead th {\n        text-align: right;\n    }\n</style>\n<table border=\"1\" class=\"dataframe\">\n  <thead>\n    <tr style=\"text-align: right;\">\n      <th></th>\n      <th>order_id</th>\n      <th>payment_sequential</th>\n      <th>payment_type</th>\n      <th>payment_installments</th>\n      <th>payment_value</th>\n    </tr>\n  </thead>\n  <tbody>\n    <tr>\n      <th>count</th>\n      <td>103886</td>\n      <td>103886</td>\n      <td>103886</td>\n      <td>103886</td>\n      <td>103886</td>\n    </tr>\n    <tr>\n      <th>unique</th>\n      <td>99440</td>\n      <td>29</td>\n      <td>5</td>\n      <td>24</td>\n      <td>29077</td>\n    </tr>\n    <tr>\n      <th>top</th>\n      <td>fa65dad1b0e818e3ccc5cb0e39231352</td>\n      <td>1</td>\n      <td>credit_card</td>\n      <td>1</td>\n      <td>50.00</td>\n    </tr>\n    <tr>\n      <th>freq</th>\n      <td>29</td>\n      <td>99360</td>\n      <td>76795</td>\n      <td>52546</td>\n      <td>324</td>\n    </tr>\n  </tbody>\n</table>\n</div>",
       "datasetInfos": [],
       "metadata": {},
       "removedWidgets": [],
       "textData": null,
       "type": "htmlSandbox"
      }
     },
     "output_type": "display_data"
    }
   ],
   "source": [
    "payments_pandas_df.describe()"
   ]
  },
  {
   "cell_type": "code",
   "execution_count": 0,
   "metadata": {
    "application/vnd.databricks.v1+cell": {
     "cellMetadata": {
      "byteLimit": 2048000,
      "rowLimit": 10000
     },
     "inputWidgets": {},
     "nuid": "909d6235-c9ee-4d87-a4c7-79f515d25ed0",
     "showTitle": false,
     "tableResultSettingsMap": {},
     "title": ""
    }
   },
   "outputs": [
    {
     "output_type": "stream",
     "name": "stdout",
     "output_type": "stream",
     "text": [
      "Out[18]: '0.00'"
     ]
    }
   ],
   "source": [
    "payments_pandas_df['payment_value'].min()\n"
   ]
  },
  {
   "cell_type": "code",
   "execution_count": 0,
   "metadata": {
    "application/vnd.databricks.v1+cell": {
     "cellMetadata": {
      "byteLimit": 2048000,
      "rowLimit": 10000
     },
     "inputWidgets": {},
     "nuid": "3103d412-e4fa-44a7-81b3-c4fc87ed7c60",
     "showTitle": false,
     "tableResultSettingsMap": {},
     "title": ""
    }
   },
   "outputs": [
    {
     "output_type": "stream",
     "name": "stdout",
     "output_type": "stream",
     "text": [
      "Out[19]: '999.68'"
     ]
    }
   ],
   "source": [
    "payments_pandas_df['payment_value'].max()\n"
   ]
  },
  {
   "cell_type": "markdown",
   "metadata": {
    "application/vnd.databricks.v1+cell": {
     "cellMetadata": {},
     "inputWidgets": {},
     "nuid": "e7b6f09b-750a-4fc8-b9b0-87cfbe9477b7",
     "showTitle": false,
     "tableResultSettingsMap": {},
     "title": ""
    }
   },
   "source": [
    "## payment_pandas_df \n",
    "Não contém nenhum nulo\n",
    "\n",
    "Achei valores max(999,68) e min(0,00) questionáveis. Vou avaliar na camada Gold em SQL"
   ]
  },
  {
   "cell_type": "code",
   "execution_count": 0,
   "metadata": {
    "application/vnd.databricks.v1+cell": {
     "cellMetadata": {
      "byteLimit": 2048000,
      "rowLimit": 10000
     },
     "inputWidgets": {},
     "nuid": "e396b09e-7be4-48e2-a45b-e850d939b211",
     "showTitle": false,
     "tableResultSettingsMap": {},
     "title": ""
    }
   },
   "outputs": [
    {
     "output_type": "stream",
     "name": "stdout",
     "output_type": "stream",
     "text": [
      "<class 'pandas.core.frame.DataFrame'>\nRangeIndex: 112650 entries, 0 to 112649\nData columns (total 7 columns):\n #   Column               Non-Null Count   Dtype \n---  ------               --------------   ----- \n 0   order_id             112650 non-null  object\n 1   order_item_id        112650 non-null  object\n 2   product_id           112650 non-null  object\n 3   seller_id            112650 non-null  object\n 4   shipping_limit_date  112650 non-null  object\n 5   price                112650 non-null  object\n 6   freight_value        112650 non-null  object\ndtypes: object(7)\nmemory usage: 6.0+ MB\n"
     ]
    }
   ],
   "source": [
    "order_items_pandas_df.info()"
   ]
  },
  {
   "cell_type": "code",
   "execution_count": 0,
   "metadata": {
    "application/vnd.databricks.v1+cell": {
     "cellMetadata": {
      "byteLimit": 2048000,
      "rowLimit": 10000
     },
     "inputWidgets": {},
     "nuid": "97c28948-c970-47ae-9ce0-1b2137a8ff96",
     "showTitle": false,
     "tableResultSettingsMap": {},
     "title": ""
    }
   },
   "outputs": [
    {
     "output_type": "stream",
     "name": "stdout",
     "output_type": "stream",
     "text": [
      "Out[12]: '999.99'"
     ]
    }
   ],
   "source": [
    "order_items_pandas_df['price'].max()"
   ]
  },
  {
   "cell_type": "code",
   "execution_count": 0,
   "metadata": {
    "application/vnd.databricks.v1+cell": {
     "cellMetadata": {
      "byteLimit": 2048000,
      "rowLimit": 10000
     },
     "inputWidgets": {},
     "nuid": "cdf03ac7-a618-428b-835b-15454999d014",
     "showTitle": false,
     "tableResultSettingsMap": {},
     "title": ""
    }
   },
   "outputs": [
    {
     "output_type": "stream",
     "name": "stdout",
     "output_type": "stream",
     "text": [
      "Out[13]: '0.85'"
     ]
    }
   ],
   "source": [
    "order_items_pandas_df['price'].min()"
   ]
  },
  {
   "cell_type": "code",
   "execution_count": 0,
   "metadata": {
    "application/vnd.databricks.v1+cell": {
     "cellMetadata": {
      "byteLimit": 2048000,
      "rowLimit": 10000
     },
     "inputWidgets": {},
     "nuid": "dfef3c06-22b0-4450-b1ae-1005876f154f",
     "showTitle": false,
     "tableResultSettingsMap": {},
     "title": ""
    }
   },
   "outputs": [
    {
     "output_type": "display_data",
     "data": {
      "text/html": [
       "<div>\n",
       "<style scoped>\n",
       "    .dataframe tbody tr th:only-of-type {\n",
       "        vertical-align: middle;\n",
       "    }\n",
       "\n",
       "    .dataframe tbody tr th {\n",
       "        vertical-align: top;\n",
       "    }\n",
       "\n",
       "    .dataframe thead th {\n",
       "        text-align: right;\n",
       "    }\n",
       "</style>\n",
       "<table border=\"1\" class=\"dataframe\">\n",
       "  <thead>\n",
       "    <tr style=\"text-align: right;\">\n",
       "      <th></th>\n",
       "      <th>order_id</th>\n",
       "      <th>order_item_id</th>\n",
       "      <th>product_id</th>\n",
       "      <th>seller_id</th>\n",
       "      <th>shipping_limit_date</th>\n",
       "      <th>price</th>\n",
       "      <th>freight_value</th>\n",
       "    </tr>\n",
       "  </thead>\n",
       "  <tbody>\n",
       "    <tr>\n",
       "      <th>count</th>\n",
       "      <td>112650</td>\n",
       "      <td>112650</td>\n",
       "      <td>112650</td>\n",
       "      <td>112650</td>\n",
       "      <td>112650</td>\n",
       "      <td>112650</td>\n",
       "      <td>112650</td>\n",
       "    </tr>\n",
       "    <tr>\n",
       "      <th>unique</th>\n",
       "      <td>98666</td>\n",
       "      <td>21</td>\n",
       "      <td>32951</td>\n",
       "      <td>3095</td>\n",
       "      <td>93318</td>\n",
       "      <td>5968</td>\n",
       "      <td>6999</td>\n",
       "    </tr>\n",
       "    <tr>\n",
       "      <th>top</th>\n",
       "      <td>8272b63d03f5f79c56e9e4120aec44ef</td>\n",
       "      <td>1</td>\n",
       "      <td>aca2eb7d00ea1a7b8ebd4e68314663af</td>\n",
       "      <td>6560211a19b47992c3666cc44a7e94c0</td>\n",
       "      <td>2017-07-21 18:25:23</td>\n",
       "      <td>59.90</td>\n",
       "      <td>15.10</td>\n",
       "    </tr>\n",
       "    <tr>\n",
       "      <th>freq</th>\n",
       "      <td>21</td>\n",
       "      <td>98666</td>\n",
       "      <td>527</td>\n",
       "      <td>2033</td>\n",
       "      <td>21</td>\n",
       "      <td>2481</td>\n",
       "      <td>3707</td>\n",
       "    </tr>\n",
       "  </tbody>\n",
       "</table>\n",
       "</div>"
      ]
     },
     "metadata": {
      "application/vnd.databricks.v1+output": {
       "addedWidgets": {},
       "arguments": {},
       "data": "<div>\n<style scoped>\n    .dataframe tbody tr th:only-of-type {\n        vertical-align: middle;\n    }\n\n    .dataframe tbody tr th {\n        vertical-align: top;\n    }\n\n    .dataframe thead th {\n        text-align: right;\n    }\n</style>\n<table border=\"1\" class=\"dataframe\">\n  <thead>\n    <tr style=\"text-align: right;\">\n      <th></th>\n      <th>order_id</th>\n      <th>order_item_id</th>\n      <th>product_id</th>\n      <th>seller_id</th>\n      <th>shipping_limit_date</th>\n      <th>price</th>\n      <th>freight_value</th>\n    </tr>\n  </thead>\n  <tbody>\n    <tr>\n      <th>count</th>\n      <td>112650</td>\n      <td>112650</td>\n      <td>112650</td>\n      <td>112650</td>\n      <td>112650</td>\n      <td>112650</td>\n      <td>112650</td>\n    </tr>\n    <tr>\n      <th>unique</th>\n      <td>98666</td>\n      <td>21</td>\n      <td>32951</td>\n      <td>3095</td>\n      <td>93318</td>\n      <td>5968</td>\n      <td>6999</td>\n    </tr>\n    <tr>\n      <th>top</th>\n      <td>8272b63d03f5f79c56e9e4120aec44ef</td>\n      <td>1</td>\n      <td>aca2eb7d00ea1a7b8ebd4e68314663af</td>\n      <td>6560211a19b47992c3666cc44a7e94c0</td>\n      <td>2017-07-21 18:25:23</td>\n      <td>59.90</td>\n      <td>15.10</td>\n    </tr>\n    <tr>\n      <th>freq</th>\n      <td>21</td>\n      <td>98666</td>\n      <td>527</td>\n      <td>2033</td>\n      <td>21</td>\n      <td>2481</td>\n      <td>3707</td>\n    </tr>\n  </tbody>\n</table>\n</div>",
       "datasetInfos": [],
       "metadata": {},
       "removedWidgets": [],
       "textData": null,
       "type": "htmlSandbox"
      }
     },
     "output_type": "display_data"
    }
   ],
   "source": [
    "order_items_pandas_df.describe()"
   ]
  },
  {
   "cell_type": "markdown",
   "metadata": {
    "application/vnd.databricks.v1+cell": {
     "cellMetadata": {},
     "inputWidgets": {},
     "nuid": "70d453ff-8265-43c8-b7d5-5d56a7d01850",
     "showTitle": false,
     "tableResultSettingsMap": {},
     "title": ""
    }
   },
   "source": [
    "## order_items_pandas_df\n",
    "Não contém nenhum nulo\n",
    "\n",
    "Útil na camada gold para análise"
   ]
  },
  {
   "cell_type": "code",
   "execution_count": 0,
   "metadata": {
    "application/vnd.databricks.v1+cell": {
     "cellMetadata": {
      "byteLimit": 2048000,
      "rowLimit": 10000
     },
     "inputWidgets": {},
     "nuid": "46eafe61-275c-4716-91eb-4861c991e69a",
     "showTitle": false,
     "tableResultSettingsMap": {},
     "title": ""
    }
   },
   "outputs": [
    {
     "output_type": "stream",
     "name": "stdout",
     "output_type": "stream",
     "text": [
      "<class 'pandas.core.frame.DataFrame'>\nRangeIndex: 104162 entries, 0 to 104161\nData columns (total 7 columns):\n #   Column                   Non-Null Count   Dtype \n---  ------                   --------------   ----- \n 0   review_id                104161 non-null  object\n 1   order_id                 101926 non-null  object\n 2   review_score             101782 non-null  object\n 3   review_comment_title     12005 non-null   object\n 4   review_comment_message   41083 non-null   object\n 5   review_creation_date     95398 non-null   object\n 6   review_answer_timestamp  95377 non-null   object\ndtypes: object(7)\nmemory usage: 5.6+ MB\n"
     ]
    }
   ],
   "source": [
    "order_reviews_pandas_df.info()"
   ]
  },
  {
   "cell_type": "code",
   "execution_count": 0,
   "metadata": {
    "application/vnd.databricks.v1+cell": {
     "cellMetadata": {
      "byteLimit": 2048000,
      "rowLimit": 10000
     },
     "inputWidgets": {},
     "nuid": "13b3d8ce-4a35-4754-8637-c227a7e78a2f",
     "showTitle": false,
     "tableResultSettingsMap": {},
     "title": ""
    }
   },
   "outputs": [
    {
     "output_type": "stream",
     "name": "stdout",
     "output_type": "stream",
     "text": [
      "Out[20]: review_id                      1\norder_id                    2236\nreview_score                2380\nreview_comment_title       92157\nreview_comment_message     63079\nreview_creation_date        8764\nreview_answer_timestamp     8785\ndtype: int64"
     ]
    }
   ],
   "source": [
    "order_reviews_pandas_df.isnull().sum()"
   ]
  },
  {
   "cell_type": "code",
   "execution_count": 0,
   "metadata": {
    "application/vnd.databricks.v1+cell": {
     "cellMetadata": {
      "byteLimit": 2048000,
      "rowLimit": 10000
     },
     "inputWidgets": {},
     "nuid": "acb51dbd-b084-433b-9444-a360c5b10a01",
     "showTitle": false,
     "tableResultSettingsMap": {},
     "title": ""
    }
   },
   "outputs": [
    {
     "output_type": "display_data",
     "data": {
      "text/html": [
       "<div>\n",
       "<style scoped>\n",
       "    .dataframe tbody tr th:only-of-type {\n",
       "        vertical-align: middle;\n",
       "    }\n",
       "\n",
       "    .dataframe tbody tr th {\n",
       "        vertical-align: top;\n",
       "    }\n",
       "\n",
       "    .dataframe thead th {\n",
       "        text-align: right;\n",
       "    }\n",
       "</style>\n",
       "<table border=\"1\" class=\"dataframe\">\n",
       "  <thead>\n",
       "    <tr style=\"text-align: right;\">\n",
       "      <th></th>\n",
       "      <th>review_id</th>\n",
       "      <th>order_id</th>\n",
       "      <th>review_score</th>\n",
       "      <th>review_comment_title</th>\n",
       "      <th>review_comment_message</th>\n",
       "      <th>review_creation_date</th>\n",
       "      <th>review_answer_timestamp</th>\n",
       "    </tr>\n",
       "  </thead>\n",
       "  <tbody>\n",
       "    <tr>\n",
       "      <th>0</th>\n",
       "      <td>7bc2406110b926393aa56f80a40eba40</td>\n",
       "      <td>73fc7af87114b39712e6da79b0a377eb</td>\n",
       "      <td>4</td>\n",
       "      <td>None</td>\n",
       "      <td>None</td>\n",
       "      <td>2018-01-18 00:00:00</td>\n",
       "      <td>2018-01-18 21:46:59</td>\n",
       "    </tr>\n",
       "    <tr>\n",
       "      <th>1</th>\n",
       "      <td>80e641a11e56f04c1ad469d5645fdfde</td>\n",
       "      <td>a548910a1c6147796b98fdf73dbeba33</td>\n",
       "      <td>5</td>\n",
       "      <td>None</td>\n",
       "      <td>None</td>\n",
       "      <td>2018-03-10 00:00:00</td>\n",
       "      <td>2018-03-11 03:05:13</td>\n",
       "    </tr>\n",
       "    <tr>\n",
       "      <th>2</th>\n",
       "      <td>228ce5500dc1d8e020d8d1322874b6f0</td>\n",
       "      <td>f9e4b658b201a9f2ecdecbb34bed034b</td>\n",
       "      <td>5</td>\n",
       "      <td>None</td>\n",
       "      <td>None</td>\n",
       "      <td>2018-02-17 00:00:00</td>\n",
       "      <td>2018-02-18 14:36:24</td>\n",
       "    </tr>\n",
       "    <tr>\n",
       "      <th>3</th>\n",
       "      <td>e64fb393e7b32834bb789ff8bb30750e</td>\n",
       "      <td>658677c97b385a9be170737859d3511b</td>\n",
       "      <td>5</td>\n",
       "      <td>None</td>\n",
       "      <td>Recebi bem antes do prazo estipulado.</td>\n",
       "      <td>2017-04-21 00:00:00</td>\n",
       "      <td>2017-04-21 22:02:06</td>\n",
       "    </tr>\n",
       "    <tr>\n",
       "      <th>4</th>\n",
       "      <td>f7c4243c7fe1938f181bec41a392bdeb</td>\n",
       "      <td>8e6bfb81e283fa7e4f11123a3fb894f1</td>\n",
       "      <td>5</td>\n",
       "      <td>None</td>\n",
       "      <td>Parabéns lojas lannister adorei comprar pela I...</td>\n",
       "      <td>2018-03-01 00:00:00</td>\n",
       "      <td>2018-03-02 10:26:53</td>\n",
       "    </tr>\n",
       "  </tbody>\n",
       "</table>\n",
       "</div>"
      ]
     },
     "metadata": {
      "application/vnd.databricks.v1+output": {
       "addedWidgets": {},
       "arguments": {},
       "data": "<div>\n<style scoped>\n    .dataframe tbody tr th:only-of-type {\n        vertical-align: middle;\n    }\n\n    .dataframe tbody tr th {\n        vertical-align: top;\n    }\n\n    .dataframe thead th {\n        text-align: right;\n    }\n</style>\n<table border=\"1\" class=\"dataframe\">\n  <thead>\n    <tr style=\"text-align: right;\">\n      <th></th>\n      <th>review_id</th>\n      <th>order_id</th>\n      <th>review_score</th>\n      <th>review_comment_title</th>\n      <th>review_comment_message</th>\n      <th>review_creation_date</th>\n      <th>review_answer_timestamp</th>\n    </tr>\n  </thead>\n  <tbody>\n    <tr>\n      <th>0</th>\n      <td>7bc2406110b926393aa56f80a40eba40</td>\n      <td>73fc7af87114b39712e6da79b0a377eb</td>\n      <td>4</td>\n      <td>None</td>\n      <td>None</td>\n      <td>2018-01-18 00:00:00</td>\n      <td>2018-01-18 21:46:59</td>\n    </tr>\n    <tr>\n      <th>1</th>\n      <td>80e641a11e56f04c1ad469d5645fdfde</td>\n      <td>a548910a1c6147796b98fdf73dbeba33</td>\n      <td>5</td>\n      <td>None</td>\n      <td>None</td>\n      <td>2018-03-10 00:00:00</td>\n      <td>2018-03-11 03:05:13</td>\n    </tr>\n    <tr>\n      <th>2</th>\n      <td>228ce5500dc1d8e020d8d1322874b6f0</td>\n      <td>f9e4b658b201a9f2ecdecbb34bed034b</td>\n      <td>5</td>\n      <td>None</td>\n      <td>None</td>\n      <td>2018-02-17 00:00:00</td>\n      <td>2018-02-18 14:36:24</td>\n    </tr>\n    <tr>\n      <th>3</th>\n      <td>e64fb393e7b32834bb789ff8bb30750e</td>\n      <td>658677c97b385a9be170737859d3511b</td>\n      <td>5</td>\n      <td>None</td>\n      <td>Recebi bem antes do prazo estipulado.</td>\n      <td>2017-04-21 00:00:00</td>\n      <td>2017-04-21 22:02:06</td>\n    </tr>\n    <tr>\n      <th>4</th>\n      <td>f7c4243c7fe1938f181bec41a392bdeb</td>\n      <td>8e6bfb81e283fa7e4f11123a3fb894f1</td>\n      <td>5</td>\n      <td>None</td>\n      <td>Parabéns lojas lannister adorei comprar pela I...</td>\n      <td>2018-03-01 00:00:00</td>\n      <td>2018-03-02 10:26:53</td>\n    </tr>\n  </tbody>\n</table>\n</div>",
       "datasetInfos": [],
       "metadata": {},
       "removedWidgets": [],
       "textData": null,
       "type": "htmlSandbox"
      }
     },
     "output_type": "display_data"
    }
   ],
   "source": [
    "order_reviews_pandas_df.head()"
   ]
  },
  {
   "cell_type": "markdown",
   "metadata": {
    "application/vnd.databricks.v1+cell": {
     "cellMetadata": {},
     "inputWidgets": {},
     "nuid": "4a44184b-9af7-4351-8bd3-f12cf87aa807",
     "showTitle": false,
     "tableResultSettingsMap": {},
     "title": ""
    }
   },
   "source": [
    "## order_reviews_pandas_df\n",
    "Contém alguns nulos. Avaliar melhor a importância disso\n",
    "Algumas colunas contêm muitos valores nulos.\n",
    "Entendo porém, que as principais como, review_score contêm poucos"
   ]
  },
  {
   "cell_type": "code",
   "execution_count": 0,
   "metadata": {
    "application/vnd.databricks.v1+cell": {
     "cellMetadata": {
      "byteLimit": 2048000,
      "rowLimit": 10000
     },
     "inputWidgets": {},
     "nuid": "bfb5a48e-c5b3-4144-b32a-33fa28ef63fb",
     "showTitle": false,
     "tableResultSettingsMap": {},
     "title": ""
    }
   },
   "outputs": [
    {
     "output_type": "stream",
     "name": "stdout",
     "output_type": "stream",
     "text": [
      "<class 'pandas.core.frame.DataFrame'>\nRangeIndex: 71 entries, 0 to 70\nData columns (total 2 columns):\n #   Column                         Non-Null Count  Dtype \n---  ------                         --------------  ----- \n 0   product_category_name          71 non-null     object\n 1   product_category_name_english  71 non-null     object\ndtypes: object(2)\nmemory usage: 1.2+ KB\n"
     ]
    }
   ],
   "source": [
    "category_translation_pandas_df.info()"
   ]
  },
  {
   "cell_type": "code",
   "execution_count": 0,
   "metadata": {
    "application/vnd.databricks.v1+cell": {
     "cellMetadata": {
      "byteLimit": 2048000,
      "rowLimit": 10000
     },
     "inputWidgets": {},
     "nuid": "8823ce45-3e00-4b5a-9092-33b7afa82377",
     "showTitle": false,
     "tableResultSettingsMap": {},
     "title": ""
    }
   },
   "outputs": [],
   "source": [
    "# Unique\n",
    "pd.unique(category_translation_pandas_df['product_category_name'])"
   ]
  },
  {
   "cell_type": "markdown",
   "metadata": {
    "application/vnd.databricks.v1+cell": {
     "cellMetadata": {},
     "inputWidgets": {},
     "nuid": "4ddba939-d868-4b58-bf91-fd75040f77ac",
     "showTitle": false,
     "tableResultSettingsMap": {},
     "title": ""
    }
   },
   "source": [
    "## category_translation_pandas_df\n",
    "Não contém nenhum nulo e nem valores ambíguos"
   ]
  },
  {
   "cell_type": "code",
   "execution_count": 0,
   "metadata": {
    "application/vnd.databricks.v1+cell": {
     "cellMetadata": {
      "byteLimit": 2048000,
      "rowLimit": 10000
     },
     "inputWidgets": {},
     "nuid": "26888b51-7cc1-484d-b55f-be71861967a4",
     "showTitle": false,
     "tableResultSettingsMap": {},
     "title": ""
    }
   },
   "outputs": [
    {
     "output_type": "stream",
     "name": "stdout",
     "output_type": "stream",
     "text": [
      "<class 'pandas.core.frame.DataFrame'>\nRangeIndex: 32951 entries, 0 to 32950\nData columns (total 9 columns):\n #   Column                      Non-Null Count  Dtype \n---  ------                      --------------  ----- \n 0   product_id                  32951 non-null  object\n 1   product_category_name       32341 non-null  object\n 2   product_name_lenght         32341 non-null  object\n 3   product_description_lenght  32341 non-null  object\n 4   product_photos_qty          32341 non-null  object\n 5   product_weight_g            32949 non-null  object\n 6   product_length_cm           32949 non-null  object\n 7   product_height_cm           32949 non-null  object\n 8   product_width_cm            32949 non-null  object\ndtypes: object(9)\nmemory usage: 2.3+ MB\n"
     ]
    }
   ],
   "source": [
    "products_pandas_df.info()"
   ]
  },
  {
   "cell_type": "markdown",
   "metadata": {
    "application/vnd.databricks.v1+cell": {
     "cellMetadata": {},
     "inputWidgets": {},
     "nuid": "28df1580-a4da-4ae8-951f-4509ba66263c",
     "showTitle": false,
     "tableResultSettingsMap": {},
     "title": ""
    }
   },
   "source": [
    "## products_pandas_df\n",
    "Vários nulos. Entender melhor o que afeta\n",
    "Um ponto negativo é que esse dataframe ñ contém a descrição do produto, ficando dependendo muito da category_name, que contém centenas de \n",
    "valores nulos"
   ]
  },
  {
   "cell_type": "code",
   "execution_count": 0,
   "metadata": {
    "application/vnd.databricks.v1+cell": {
     "cellMetadata": {
      "byteLimit": 2048000,
      "rowLimit": 10000
     },
     "inputWidgets": {},
     "nuid": "194a7aa0-4535-4635-af18-82aa7dfd3425",
     "showTitle": false,
     "tableResultSettingsMap": {},
     "title": ""
    }
   },
   "outputs": [
    {
     "output_type": "stream",
     "name": "stdout",
     "output_type": "stream",
     "text": [
      "<class 'pandas.core.frame.DataFrame'>\nRangeIndex: 3095 entries, 0 to 3094\nData columns (total 4 columns):\n #   Column                  Non-Null Count  Dtype \n---  ------                  --------------  ----- \n 0   seller_id               3095 non-null   object\n 1   seller_zip_code_prefix  3095 non-null   object\n 2   seller_city             3095 non-null   object\n 3   seller_state            3095 non-null   object\ndtypes: object(4)\nmemory usage: 96.8+ KB\n"
     ]
    }
   ],
   "source": [
    "sellers_pandas_df.info()"
   ]
  },
  {
   "cell_type": "code",
   "execution_count": 0,
   "metadata": {
    "application/vnd.databricks.v1+cell": {
     "cellMetadata": {
      "byteLimit": 2048000,
      "rowLimit": 10000
     },
     "inputWidgets": {},
     "nuid": "14b4d36b-5360-4e27-8aca-531898be539d",
     "showTitle": false,
     "tableResultSettingsMap": {},
     "title": ""
    }
   },
   "outputs": [
    {
     "output_type": "stream",
     "name": "stdout",
     "output_type": "stream",
     "text": [
      "Out[30]: array(['campinas', 'mogi guacu', 'rio de janeiro', 'sao paulo',\n       'braganca paulista', 'brejao', 'penapolis', 'curitiba', 'anapolis',\n       'itirapina', 'tubarao', 'lauro de freitas', 'imbituba', 'brasilia',\n       'porto seguro', 'guaruja', 'tabatinga', 'salto', 'tres de maio',\n       'belo horizonte', 'arapongas', 'sao bernardo do campo', 'tatui',\n       'garopaba', 'camanducaia', 'tupa', 'guarulhos',\n       'sao jose dos pinhais', 'sao ludgero', 'sao jose', 'piracicaba',\n       'porto alegre', 'congonhal', 'santo andre', 'osasco', 'valinhos',\n       'joinville', 'saquarema', 'barra velha', 'petropolis',\n       'santo antonio da patrulha', 'ponta grossa', 'santana de parnaiba',\n       'sao carlos', 'ibitinga', 'barueri', 'caxias do sul', 'araguari',\n       'contagem', 'jaragua do sul', 'lages - sc', 'bento goncalves',\n       'catanduva', 'ribeirao pires', 'jaboticabal', 'echapora', 'cotia',\n       'rio do sul', 'sorocaba', 'pradopolis', 'itaborai', 'mirassol',\n       'birigui', 'assis', 'jaguariuna', 'araraquara', 'macae',\n       'rio claro', 'londrina', 'ribeirao preto', 'tres coracoes',\n       'nhandeara', 'orleans', 'cuiaba', 'formosa do oeste', 'santos',\n       'santa terezinha de goias', 'arvorezinha', 'guiricema', 'caruaru',\n       'franca', 'salvador', 'diadema', 'itaquaquecetuba',\n       'lencois paulista', 'carapicuiba', 'uruacu', 'itajai', 'loanda',\n       'maringa', 'ferraz de vasconcelos', 'limeira', 'claudio',\n       'niteroi', 'osvaldo cruz', 'sao goncalo', 'jaciara',\n       'balenario camboriu', 'timbo', 'jacutinga', 'fortaleza',\n       'ferraz de  vasconcelos', 'mirandopolis', 'bauru', 'jacarei',\n       'itu', 'laranjeiras do sul', 'videira', 'florianopolis',\n       'itapecerica da serra', 'mamanguape', 'ponte nova', 'goioere',\n       'pederneiras', 'itapevi', 'goiania', 'campina grande',\n       'estancia velha', 'resende', 'maua', 'caratinga', 'auriflama/sp',\n       'cafelandia', 'uba', 'sao paulo / sao paulo',\n       'sao jose do rio preto', 'porto ferreira', 'tres coroas',\n       'blumenau', 'mogi das cruzes', 'jaci', 'laranjal paulista',\n       'americana', 'sertanopolis', 'apucarana', 'colombo',\n       'vicente de carvalho', 'mesquita', 'sao pauo', 'cascavel',\n       'fazenda rio grande', 'taboao da serra', 'sao jose dos campos',\n       'toledo', 'marechal candido rondon', 'jundiai', 'mandirituba',\n       'suzano', 'vespasiano', 'santa rosa', 'sao joaquim da barra',\n       'santo antonio de posse', 'uruguaiana', 'campanha', 'piracanjuba',\n       'concordia', 'santa rita do sapucai', 'barretos', 'indaiatuba',\n       'nilopolis', 'pompeia', 'barro alto', 'são paulo', 'praia grande',\n       'luiz alves', 'brusque', 'criciuma', 'jales', 'atibaia',\n       'rio branco', 'barra mansa', 'marilia', 'bahia', 'taubate',\n       'cascavael', 'monteiro lobato', 'viana', 'paraiba do sul',\n       'mococa', 'sao roque', 'passos', 'francisco beltrao', 'tocantins',\n       'porto belo', 'nova iguacu', 'icara', 'lajeado', 'horizontina',\n       'votorantim', 'campo bom', 'monte alto', 'fernandopolis',\n       'pedreira', 'poa', 'divinopolis', 'santa barbara d´oeste',\n       'canoas', 'mombuca', 'sete lagoas', 'campo do meio',\n       'cordeiropolis', 'uberlandia', 'santa barbara d oeste',\n       'volta redonda', '04482255', 'aracatuba', 'monte siao', 'garuva',\n       'bonfinopolis de minas', 'cosmopolis', 'pocos de caldas',\n       'artur nogueira', 'joao pessoa', 'dois corregos', 'araquari',\n       'novo hamburgo, rio grande do sul, brasil', 'floranopolis',\n       'sumare', 'guaira', 'cachoeiro de itapemirim', 'serrana',\n       'rolandia', 'congonhas', 'sao  jose dos pinhais', 'boituva',\n       'mairipora', 'guaimbe', 'parai', 'aperibe', 'jaguaruna',\n       'vila velha', 'juiz de fora', 'fronteira', 'novo horizonte',\n       'pilar do sul', 'itajobi', 'cariacica / es', 'prados', 'mucambo',\n       'montes claros', 'vicosa', 'porto velho', 'sao jose do rio pardo',\n       'pato branco', 'sao joao del rei', 'presidente prudente',\n       'paracambi', 'serra negra', 'sao caetano do sul', 'bom jardim',\n       'serra redonda', 'sao francisco do sul', 'betim', 'imbituva',\n       'guaratuba', 'teresina', \"sao miguel d'oeste\", 'california',\n       'japira', 'foz do iguacu', 'nova friburgo', 'itau de minas',\n       'oliveira', 'sabara', 'pedrinhas paulista', 'votuporanga',\n       'holambra', 'ararangua', 'pinhais', 'pato bragado', 'carazinho',\n       'arinos', 'sao pedro', 'lages', 'ampere', 'itauna', 'mogi mirim',\n       'curitibanos', 'brasilia df', 'mogi das cruses', 'hortolandia',\n       'ipatinga', 'laguna', 'dores de campos', 'sao paulo - sp',\n       'araras', 'divisa nova', 'igaracu do tiete', 'pitangueiras',\n       'campo grande', 'garca', 'presidente epitacio', 'sbc/sp',\n       \"arraial d'ajuda (porto seguro)\", 'pacatuba', 'formosa',\n       'borda da mata', 'ubatuba', 'entre rios do oeste', 'formiga',\n       'venancio aires', 'navegantes', 'cruzeiro', 'santa maria',\n       'muriae', 'santo andre/sao paulo', 'ipe', 'messias targino',\n       'varginha', 'botucatu', 'domingos martins', 'uberaba',\n       'coronel fabriciano', 'cachoeirinha', 's jose do rio preto',\n       'taruma', 'pirassununga', 'aruja', 'sp / sp', 'angra dos reis',\n       'juzeiro do norte', 'laurentino', 'flores da cunha', 'montenegro',\n       'pedregulho', 'novo hamburgo', 'torres', 'aracaju',\n       'santa catarina', 'joao pinheiro', 'bady bassitt', 'sinop',\n       'guarapuava', 'araucaria', 'vitoria', 'batatais', 'lagoa santa',\n       'chapeco', 'umuarama', 'belford roxo', 'cariacica',\n       'monte alegre do sul', 'sp', 'lagoa da prata', 'rolante',\n       'teresopolis', 'itaporanga', 'campo largo', 'sao joao de meriti',\n       'maua/sao paulo', 'bom jesus dos perdoes', 'brotas', 'irece',\n       'coxim', 'jau', 'conselheiro lafaiete', 'amparo',\n       'sao miguel do oeste', 'gaspar', 'rio bonito', 'mandaguari',\n       'vargem grande paulista', 'conchal', 'cambe', 'marialva',\n       'alfenas', 'balneario camboriu', 'palhoca', 'sao bernardo do capo',\n       'guara', 'colatina', 'franco da rocha', 'lambari',\n       'mogi das cruzes / sp', 'treze tilias',\n       'rio de janeiro \\\\rio de janeiro', 'paulo lopes', 'santa cecilia',\n       'braco do norte', 'floresta', 'farroupilha', 'castro', 'luziania',\n       'joao monlevade', 'pelotas', 'sao bento', 'campos dos goytacazes',\n       'ouro fino', 'sao jose dos pinhas', 'tiete', 'viamao', 'janauba',\n       'capivari', 'santa terezinha de itaipu', 'igrejinha',\n       'sao bento do sul', 'duque de caxias', 'araxa', 'canoinhas',\n       'recife', 'barbacena/ minas gerais', 'vera cruz', 'parnamirim',\n       'santo angelo', 'paincandu', 'tres rios', 'tanabi',\n       'portoferreira', 'itatiba', 'sarandi', 'cravinhos', 'morrinhos',\n       'bebedouro', 'almirante tamandare', 'bertioga', 'natal',\n       'belo horizont', 'ivoti', 'andira-pr', 'cerqueira cesar',\n       'marapoama', 'imigrante', 'mairinque', 'sao paulo sp',\n       'rio de janeiro / rio de janeiro', 'andradas', 'sando andre',\n       'nova odessa', 'paulinia', 'extrema', 'olimpia',\n       'angra dos reis rj', 'ronda alta', 'sao  paulo', 'sao vicente',\n       'pinhais/pr', 'portao', 'registro', 'ao bernardo do campo',\n       'carmo do cajuru', 'embu das artes', 'fernando prestes',\n       'castro pires', 'vargem grande do sul', 'campina das missoes',\n       'sao pedro da aldeia', 'miguelopolis', 'itapui', 'sbc', 'neopolis',\n       'mineiros do tiete', 'varzea paulista', 'nova lima', 'barbacena',\n       'caieiras', 'buritama', 'erechim', 'itapetininga', 'pinhalzinho',\n       'descalvado', 'pitanga', 'bage', 'taio', \"santa barbara d'oeste\",\n       'patos de minas', 'garulhos', 'jarinu', 'nova petropolis',\n       'ribeirao preto / sao paulo', 'camboriu', 'nova trento',\n       'sao luis', 'sao jose do rio pret', 'eusebio', 'itaipulandia',\n       'ipira', 'campo magro', 'tiradentes', 'sao paluo', 'baependi',\n       'embu guacu', 'paraiso do sul', 'aparecida', 'cataguases',\n       'bariri', 'abadia de goias', 'alambari', 'ji parana', 'vassouras',\n       'lorena', 'rodeio', 'louveira', 'guanhaes',\n       'santo antonio de padua', 'presidente getulio', 'campos novos',\n       'eunapolis', 'engenheiro coelho', 'rio das pedras',\n       'afonso claudio', 'carapicuiba / sao paulo', 'centro', 'parana',\n       'indaial', 'bombinhas', 'orlandia', 'itapeva', 'sao sebastiao',\n       'macatuba', 'sao joao da boa vista', 'teixeira soares',\n       'mandaguacu', 'rio do oeste', 'vendas@creditparts.com.br',\n       'armacao dos buzios', 'mateus leme', 'sao paulop',\n       'campo limpo paulista', 'socorro', 'serra', 'bocaiuva do sul',\n       'ilheus', 'imbe', 'soledade', 'cajamar', 'rio negrinho',\n       'clementina', 'francisco morato', 'rio grande', 'xaxim', 'manaus',\n       'terra boa', 'minas gerais', 'avare', 'ibirite',\n       'santa maria da serra', 'auriflama', 'condor', 'ibia', 'guanambi',\n       'caucaia', 'cordilheira alta', 'carmo da mata', 'ouro preto',\n       'pedro leopoldo', 'santa rosa de viterbo', 'xanxere',\n       'alvares machado', 'scao jose do rio pardo', 'ribeirao das neves',\n       'medianeira', 'massaranduba', 'cornelio procopio', 'pirituba',\n       'jambeiro', 'sao leopoldo', 'aguas claras df', 'ribeirao pretp',\n       'cianorte', 'feira de santana', 'cachoeira do sul', 'guariba',\n       'sao sebastiao da grama/sp', 'dracena', 'ourinhos',\n       'robeirao preto', 'cacador', 'gama', 'queimados', 'cananeia',\n       'presidente bernardes', 'pinhalao', 'sombrio', 'campo mourao',\n       'ilicinea', 'itabira', 'barrinha', 'jussara', 'uniao da vitoria',\n       'triunfo', 'santa cruz do sul', 'colorado', 'itapema', 'sapiranga',\n       'paranavai', 'alvorada', 'ipaussu', 'rio verde', 'mage',\n       'tabao da serra', 'bofete', 'picarras', 'marica', 'jaragua',\n       'governador valadares', 'rio de janeiro, rio de janeiro, brasil',\n       'pouso alegre', 'timoteo', 'muqui', 'ipua', 'jacarei / sao paulo',\n       'varzea alegre', 'guaratingueta', 'tambau', 'irati',\n       'riberao preto', 'aparecida de goiania', 'bandeirantes',\n       'vitoria de santo antao', 'palotina', 'leme'], dtype=object)"
     ]
    }
   ],
   "source": [
    "pd.unique(sellers_pandas_df['seller_city'])"
   ]
  },
  {
   "cell_type": "markdown",
   "metadata": {
    "application/vnd.databricks.v1+cell": {
     "cellMetadata": {},
     "inputWidgets": {},
     "nuid": "f93abd55-7585-424b-8280-098dbbbca18b",
     "showTitle": false,
     "tableResultSettingsMap": {},
     "title": ""
    }
   },
   "source": [
    "## sellers_pandas_df\n",
    "Não tem valores nulos\n",
    "\n",
    "Como em categorias, valores devem ser escolhidos de uma lista no site"
   ]
  },
  {
   "cell_type": "markdown",
   "metadata": {
    "application/vnd.databricks.v1+cell": {
     "cellMetadata": {},
     "inputWidgets": {},
     "nuid": "5da9bc17-9c7f-4a40-a2f0-ee91ce9ba98d",
     "showTitle": false,
     "tableResultSettingsMap": {},
     "title": ""
    }
   },
   "source": [
    "%md\n",
    "# Fim da análise"
   ]
  },
  {
   "cell_type": "code",
   "execution_count": 0,
   "metadata": {
    "application/vnd.databricks.v1+cell": {
     "cellMetadata": {
      "byteLimit": 2048000,
      "rowLimit": 10000
     },
     "inputWidgets": {},
     "nuid": "ffdb8f12-1e96-49e0-8139-92730146ba12",
     "showTitle": false,
     "tableResultSettingsMap": {},
     "title": ""
    }
   },
   "outputs": [
    {
     "output_type": "stream",
     "name": "stdout",
     "output_type": "stream",
     "text": [
      "Out[21]: True"
     ]
    }
   ],
   "source": [
    "# 6\n",
    "bronze_path = \"/mnt/bronze/\"  # Diretório para persistir os dados na camada Bronze\n",
    "dbutils.fs.mkdirs(bronze_path)  # Criar o diretório no Databricks\n"
   ]
  },
  {
   "cell_type": "code",
   "execution_count": 0,
   "metadata": {
    "application/vnd.databricks.v1+cell": {
     "cellMetadata": {
      "byteLimit": 2048000,
      "rowLimit": 10000
     },
     "inputWidgets": {},
     "nuid": "fc9dd62b-a091-4fea-9c88-d858dd82dbc8",
     "showTitle": false,
     "tableResultSettingsMap": {},
     "title": ""
    }
   },
   "outputs": [
    {
     "output_type": "stream",
     "name": "stdout",
     "output_type": "stream",
     "text": [
      "Out[9]: [FileInfo(path='dbfs:/mnt/bronze/category_translation/', name='category_translation/', size=0, modificationTime=0),\n FileInfo(path='dbfs:/mnt/bronze/customers/', name='customers/', size=0, modificationTime=0),\n FileInfo(path='dbfs:/mnt/bronze/ord_reviews/', name='ord_reviews/', size=0, modificationTime=0),\n FileInfo(path='dbfs:/mnt/bronze/order_items/', name='order_items/', size=0, modificationTime=0),\n FileInfo(path='dbfs:/mnt/bronze/orders/', name='orders/', size=0, modificationTime=0),\n FileInfo(path='dbfs:/mnt/bronze/payments/', name='payments/', size=0, modificationTime=0),\n FileInfo(path='dbfs:/mnt/bronze/products/', name='products/', size=0, modificationTime=0),\n FileInfo(path='dbfs:/mnt/bronze/sellers/', name='sellers/', size=0, modificationTime=0)]"
     ]
    }
   ],
   "source": [
    "# Listar os arquivos no diretório Bronze\n",
    "dbutils.fs.ls(\"/mnt/bronze/\")\n"
   ]
  },
  {
   "cell_type": "code",
   "execution_count": 0,
   "metadata": {
    "application/vnd.databricks.v1+cell": {
     "cellMetadata": {
      "byteLimit": 2048000,
      "rowLimit": 10000
     },
     "inputWidgets": {},
     "nuid": "9bee3154-0c10-4b6b-b62b-27f4bc99a6bd",
     "showTitle": false,
     "tableResultSettingsMap": {},
     "title": ""
    }
   },
   "outputs": [
    {
     "output_type": "stream",
     "name": "stdout",
     "output_type": "stream",
     "text": [
      "DataFrames persistidos com sucesso na camada Bronze!\n"
     ]
    }
   ],
   "source": [
    "# 7 \n",
    "# Persistir o DataFrame orders_df\n",
    "orders_df.write.format(\"delta\").mode(\"overwrite\").save(\"/mnt/bronze/orders\")\n",
    "\n",
    "# Persistir o DataFrame customers_df\n",
    "customers_df.write.format(\"delta\").mode(\"overwrite\").save(\"/mnt/bronze/customers\")\n",
    "\n",
    "# Persistir o DataFrame products_df\n",
    "products_df.write.format(\"delta\").mode(\"overwrite\").save(\"/mnt/bronze/products\")\n",
    "\n",
    "\n",
    "# Persistir o DataFrame order_items_df\n",
    "order_items_df.write.format(\"delta\").mode(\"overwrite\").save(\"/mnt/bronze/order_items\")\n",
    "\n",
    "\n",
    "# Persistir o DataFrame category_translation_df\n",
    "category_translation_df.write.format(\"delta\").mode(\"overwrite\").save(\"/mnt/bronze/category_translation\")\n",
    "\n",
    "\n",
    "# Persistir o DataFrame sellers_df\n",
    "sellers_df.write.format(\"delta\").mode(\"overwrite\").save(\"/mnt/bronze/sellers\")\n",
    "\n",
    "\n",
    "# Persistir o DataFrame payments_df\n",
    "payments_df.write.format(\"delta\").mode(\"overwrite\").save(\"/mnt/bronze/payments\")\n",
    "\n",
    "\n",
    "# Persistir o DataFrame order_reviews_df\n",
    "order_reviews_df.write.format(\"delta\").mode(\"overwrite\").save(\"/mnt/bronze/ord_reviews\")\n",
    "\n",
    "\n",
    "print(\"DataFrames persistidos com sucesso na camada Bronze!\")\n"
   ]
  },
  {
   "cell_type": "markdown",
   "metadata": {
    "application/vnd.databricks.v1+cell": {
     "cellMetadata": {},
     "inputWidgets": {},
     "nuid": "ac56e4ae-210c-4d7a-b41e-cb1b797aa7f3",
     "showTitle": false,
     "tableResultSettingsMap": {},
     "title": ""
    }
   },
   "source": [
    "## Para testar resultado"
   ]
  },
  {
   "cell_type": "code",
   "execution_count": 0,
   "metadata": {
    "application/vnd.databricks.v1+cell": {
     "cellMetadata": {
      "byteLimit": 2048000,
      "rowLimit": 10000
     },
     "inputWidgets": {},
     "nuid": "b1e9748c-ae56-43ec-bc6f-0b9c827b21e8",
     "showTitle": false,
     "tableResultSettingsMap": {},
     "title": ""
    }
   },
   "outputs": [
    {
     "output_type": "stream",
     "name": "stdout",
     "output_type": "stream",
     "text": [
      "['product_category_name', 'product_category_name_english']\n"
     ]
    }
   ],
   "source": [
    "# Exibir nomes das colunas\n",
    "print(category_translation_df.columns)\n"
   ]
  },
  {
   "cell_type": "markdown",
   "metadata": {
    "application/vnd.databricks.v1+cell": {
     "cellMetadata": {},
     "inputWidgets": {},
     "nuid": "c46b2724-e69d-49e5-ba75-4f138a67f077",
     "showTitle": false,
     "tableResultSettingsMap": {},
     "title": ""
    }
   },
   "source": [
    "## MANUTENÇÃO"
   ]
  },
  {
   "cell_type": "code",
   "execution_count": 0,
   "metadata": {
    "application/vnd.databricks.v1+cell": {
     "cellMetadata": {
      "byteLimit": 2048000,
      "rowLimit": 10000
     },
     "inputWidgets": {},
     "nuid": "a42f3d6c-18bb-435f-825b-1f0c7a8d18ee",
     "showTitle": false,
     "tableResultSettingsMap": {},
     "title": ""
    }
   },
   "outputs": [
    {
     "output_type": "stream",
     "name": "stdout",
     "output_type": "stream",
     "text": [
      "Pasta '/mnt/bronze/' limpa com sucesso!\n"
     ]
    }
   ],
   "source": [
    "# Limpar todos os arquivos da pasta \"/mnt/bronze/\"\n",
    "files = dbutils.fs.ls(\"/mnt/bronze/\")\n",
    "for file in files:\n",
    "    dbutils.fs.rm(file.path, recurse=True)\n",
    "\n",
    "print(\"Pasta '/mnt/bronze/' limpa com sucesso!\")"
   ]
  },
  {
   "cell_type": "markdown",
   "metadata": {
    "application/vnd.databricks.v1+cell": {
     "cellMetadata": {},
     "inputWidgets": {},
     "nuid": "fcac302b-0b93-48ab-8fe5-9f986234f7be",
     "showTitle": false,
     "tableResultSettingsMap": {},
     "title": ""
    }
   },
   "source": [
    "## Ínicio tratamento dos dados para enviá-los a camada prata"
   ]
  },
  {
   "cell_type": "markdown",
   "metadata": {
    "application/vnd.databricks.v1+cell": {
     "cellMetadata": {},
     "inputWidgets": {},
     "nuid": "066f97d4-3eef-4c81-b271-b1908d778c6c",
     "showTitle": false,
     "tableResultSettingsMap": {},
     "title": ""
    }
   },
   "source": [
    "# **8**"
   ]
  },
  {
   "cell_type": "code",
   "execution_count": 0,
   "metadata": {
    "application/vnd.databricks.v1+cell": {
     "cellMetadata": {
      "byteLimit": 2048000,
      "rowLimit": 10000
     },
     "inputWidgets": {},
     "nuid": "8c527699-fcfa-46df-9540-b51d3b31a156",
     "showTitle": false,
     "tableResultSettingsMap": {},
     "title": ""
    }
   },
   "outputs": [],
   "source": [
    "# 8 \n",
    "# Carregar dados da camada Bronze criando dataframes\n",
    "bronze_orders_df = spark.read.format(\"delta\").load(\"/mnt/bronze/orders\")\n",
    "bronze_customers_df = spark.read.format(\"delta\").load(\"/mnt/bronze/customers\")\n",
    "bronze_products_df = spark.read.format(\"delta\").load(\"/mnt/bronze/products\")\n",
    "bronze_order_items_df = spark.read.format(\"delta\").load(\"/mnt/bronze/order_items\")\n",
    "bronze_category_translation_df = spark.read.format(\"delta\").load(\"/mnt/bronze/category_translation\")\n",
    "bronze_sellers_df = spark.read.format(\"delta\").load(\"/mnt/bronze/sellers\")\n",
    "bronze_payments_df = spark.read.format(\"delta\").load(\"/mnt/bronze/payments\")\n",
    "bronze_order_reviews = spark.read.format(\"delta\").load(\"/mnt/bronze/ord_reviews\")\n",
    "\n"
   ]
  },
  {
   "cell_type": "code",
   "execution_count": 0,
   "metadata": {
    "application/vnd.databricks.v1+cell": {
     "cellMetadata": {
      "byteLimit": 2048000,
      "rowLimit": 10000
     },
     "inputWidgets": {},
     "nuid": "699c30f1-d1bb-4993-99c2-cf68a924f118",
     "showTitle": false,
     "tableResultSettingsMap": {},
     "title": ""
    }
   },
   "outputs": [
    {
     "output_type": "stream",
     "name": "stdout",
     "output_type": "stream",
     "text": [
      "+--------------------+--------------------+------------+------------------------+-------------------+----------------------------+-----------------------------+-----------------------------+\n|            order_id|         customer_id|order_status|order_purchase_timestamp|  order_approved_at|order_delivered_carrier_date|order_delivered_customer_date|order_estimated_delivery_date|\n+--------------------+--------------------+------------+------------------------+-------------------+----------------------------+-----------------------------+-----------------------------+\n|e481f51cbdc54678b...|9ef432eb625129730...|   delivered|     2017-10-02 10:56:33|2017-10-02 11:07:15|         2017-10-04 19:55:00|          2017-10-10 21:25:13|          2017-10-18 00:00:00|\n|53cdb2fc8bc7dce0b...|b0830fb4747a6c6d2...|   delivered|     2018-07-24 20:41:37|2018-07-26 03:24:27|         2018-07-26 14:31:00|          2018-08-07 15:27:45|          2018-08-13 00:00:00|\n|47770eb9100c2d0c4...|41ce2a54c0b03bf34...|   delivered|     2018-08-08 08:38:49|2018-08-08 08:55:23|         2018-08-08 13:50:00|          2018-08-17 18:06:29|          2018-09-04 00:00:00|\n|949d5b44dbf5de918...|f88197465ea7920ad...|   delivered|     2017-11-18 19:28:06|2017-11-18 19:45:59|         2017-11-22 13:39:59|          2017-12-02 00:28:42|          2017-12-15 00:00:00|\n|ad21c59c0840e6cb8...|8ab97904e6daea886...|   delivered|     2018-02-13 21:18:39|2018-02-13 22:20:29|         2018-02-14 19:46:34|          2018-02-16 18:17:02|          2018-02-26 00:00:00|\n+--------------------+--------------------+------------+------------------------+-------------------+----------------------------+-----------------------------+-----------------------------+\nonly showing top 5 rows\n\n"
     ]
    }
   ],
   "source": [
    "bronze_orders_df.show(5)"
   ]
  },
  {
   "cell_type": "markdown",
   "metadata": {
    "application/vnd.databricks.v1+cell": {
     "cellMetadata": {},
     "inputWidgets": {},
     "nuid": "e08d0cad-a014-4144-981a-0c3d767e9720",
     "showTitle": false,
     "tableResultSettingsMap": {},
     "title": ""
    }
   },
   "source": [
    "# **9**"
   ]
  },
  {
   "cell_type": "code",
   "execution_count": 0,
   "metadata": {
    "application/vnd.databricks.v1+cell": {
     "cellMetadata": {
      "byteLimit": 2048000,
      "rowLimit": 10000
     },
     "inputWidgets": {},
     "nuid": "29049564-83df-4642-a6f4-603aa003d6ec",
     "showTitle": false,
     "tableResultSettingsMap": {},
     "title": ""
    }
   },
   "outputs": [
    {
     "output_type": "stream",
     "name": "stdout",
     "output_type": "stream",
     "text": [
      "Views temporárias criadas com sucesso!\n"
     ]
    }
   ],
   "source": [
    "# Registrar os DataFrames como Temporary Views\n",
    "bronze_orders_df.createOrReplaceTempView(\"bronze_orders\")\n",
    "bronze_customers_df.createOrReplaceTempView(\"bronze_customers\")\n",
    "bronze_products_df.createOrReplaceTempView(\"bronze_products\")\n",
    "bronze_order_items_df.createOrReplaceTempView(\"bronze_order_items\")\n",
    "bronze_category_translation_df.createOrReplaceTempView(\"bronze_category_translation\")\n",
    "bronze_sellers_df.createOrReplaceTempView(\"bronze_sellers\")\n",
    "bronze_payments_df.createOrReplaceTempView(\"bronze_payments\")\n",
    "bronze_order_reviews.createOrReplaceTempView(\"bronze_order_reviews\")\n",
    "print(\"Views temporárias criadas com sucesso!\")\n"
   ]
  },
  {
   "cell_type": "code",
   "execution_count": 0,
   "metadata": {
    "application/vnd.databricks.v1+cell": {
     "cellMetadata": {
      "byteLimit": 2048000,
      "implicitDf": true,
      "rowLimit": 10000
     },
     "inputWidgets": {},
     "nuid": "9eb38d3a-3ac7-46b4-bf1a-bc4b6cd3eba5",
     "showTitle": false,
     "tableResultSettingsMap": {},
     "title": ""
    }
   },
   "outputs": [],
   "source": [
    "%sql\n",
    "SELECT * FROM bronze_orders"
   ]
  },
  {
   "cell_type": "markdown",
   "metadata": {
    "application/vnd.databricks.v1+cell": {
     "cellMetadata": {},
     "inputWidgets": {},
     "nuid": "aef0f242-cb84-41c9-940e-fcf933209882",
     "showTitle": false,
     "tableResultSettingsMap": {},
     "title": ""
    }
   },
   "source": [
    "Possível relação entre order_purchase_timestamp e order_approved_at - tempo de tela após fechar pedido"
   ]
  },
  {
   "cell_type": "markdown",
   "metadata": {
    "application/vnd.databricks.v1+cell": {
     "cellMetadata": {},
     "inputWidgets": {},
     "nuid": "e80ebd27-f4bc-4d09-ac2b-044b2cad9449",
     "showTitle": false,
     "tableResultSettingsMap": {},
     "title": ""
    }
   },
   "source": [
    "# **10**"
   ]
  },
  {
   "cell_type": "markdown",
   "metadata": {
    "application/vnd.databricks.v1+cell": {
     "cellMetadata": {},
     "inputWidgets": {},
     "nuid": "9ae45c62-b26b-4ab0-aa99-7c639eaf760a",
     "showTitle": false,
     "tableResultSettingsMap": {},
     "title": ""
    }
   },
   "source": [
    "## Se necessário..."
   ]
  },
  {
   "cell_type": "code",
   "execution_count": 0,
   "metadata": {
    "application/vnd.databricks.v1+cell": {
     "cellMetadata": {
      "byteLimit": 2048000,
      "implicitDf": true,
      "rowLimit": 10000
     },
     "inputWidgets": {},
     "nuid": "e4099618-5392-4cde-bd11-8ffa9f11fe88",
     "showTitle": false,
     "tableResultSettingsMap": {},
     "title": ""
    }
   },
   "outputs": [],
   "source": [
    "%sql\n",
    "DROP TABLE delta_bronze_orders\n",
    "DROP TABLE delta_bronze_customers;\n",
    "DROP TABLE delta_bronze_products;\n",
    "DROP TABLE delta_bronze_order_items;\n",
    "DROP TABLE delta_bronze_category_translation;\n",
    "DROP TABLE delta_bronze_sellers;\n",
    "DROP TABLE delta_bronze_payments;\n",
    "DROP TABLE delta_bronze_order_reviews"
   ]
  },
  {
   "cell_type": "code",
   "execution_count": 0,
   "metadata": {
    "application/vnd.databricks.v1+cell": {
     "cellMetadata": {
      "byteLimit": 2048000,
      "implicitDf": true,
      "rowLimit": 10000
     },
     "inputWidgets": {},
     "nuid": "051ae179-35d1-404e-b1e3-e093d955de40",
     "showTitle": false,
     "tableResultSettingsMap": {},
     "title": ""
    }
   },
   "outputs": [
    {
     "output_type": "display_data",
     "data": {
      "text/html": [
       "<style scoped>\n",
       "  .table-result-container {\n",
       "    max-height: 300px;\n",
       "    overflow: auto;\n",
       "  }\n",
       "  table, th, td {\n",
       "    border: 1px solid black;\n",
       "    border-collapse: collapse;\n",
       "  }\n",
       "  th, td {\n",
       "    padding: 5px;\n",
       "  }\n",
       "  th {\n",
       "    text-align: left;\n",
       "  }\n",
       "</style><div class='table-result-container'><table class='table-result'><thead style='background-color: white'><tr><th>database</th><th>tableName</th><th>isTemporary</th></tr></thead><tbody><tr><td></td><td>bronze_category_translation</td><td>true</td></tr><tr><td></td><td>bronze_customers</td><td>true</td></tr><tr><td></td><td>bronze_order_items</td><td>true</td></tr><tr><td></td><td>bronze_order_reviews</td><td>true</td></tr><tr><td></td><td>bronze_orders</td><td>true</td></tr><tr><td></td><td>bronze_payments</td><td>true</td></tr><tr><td></td><td>bronze_products</td><td>true</td></tr><tr><td></td><td>bronze_sellers</td><td>true</td></tr></tbody></table></div>"
      ]
     },
     "metadata": {
      "application/vnd.databricks.v1+output": {
       "addedWidgets": {},
       "aggData": [],
       "aggError": "",
       "aggOverflow": false,
       "aggSchema": [],
       "aggSeriesLimitReached": false,
       "aggType": "",
       "arguments": {},
       "columnCustomDisplayInfos": {},
       "data": [
        [
         "",
         "bronze_category_translation",
         true
        ],
        [
         "",
         "bronze_customers",
         true
        ],
        [
         "",
         "bronze_order_items",
         true
        ],
        [
         "",
         "bronze_order_reviews",
         true
        ],
        [
         "",
         "bronze_orders",
         true
        ],
        [
         "",
         "bronze_payments",
         true
        ],
        [
         "",
         "bronze_products",
         true
        ],
        [
         "",
         "bronze_sellers",
         true
        ]
       ],
       "datasetInfos": [],
       "dbfsResultPath": null,
       "isJsonSchema": true,
       "metadata": {},
       "overflow": false,
       "plotOptions": {
        "customPlotOptions": {},
        "displayType": "table",
        "pivotAggregation": null,
        "pivotColumns": null,
        "xColumns": null,
        "yColumns": null
       },
       "removedWidgets": [],
       "schema": [
        {
         "metadata": "{}",
         "name": "database",
         "type": "\"string\""
        },
        {
         "metadata": "{}",
         "name": "tableName",
         "type": "\"string\""
        },
        {
         "metadata": "{}",
         "name": "isTemporary",
         "type": "\"boolean\""
        }
       ],
       "type": "table"
      }
     },
     "output_type": "display_data"
    }
   ],
   "source": [
    "%sql\n",
    "SHOW TABLES"
   ]
  },
  {
   "cell_type": "code",
   "execution_count": 0,
   "metadata": {
    "application/vnd.databricks.v1+cell": {
     "cellMetadata": {
      "byteLimit": 2048000,
      "implicitDf": true,
      "rowLimit": 10000
     },
     "inputWidgets": {},
     "nuid": "dc961d0f-14df-4075-bd1c-519a301202b1",
     "showTitle": false,
     "tableResultSettingsMap": {},
     "title": ""
    }
   },
   "outputs": [],
   "source": [
    "%sql\n",
    "SELECT * FROM delta_bronze_orders"
   ]
  },
  {
   "cell_type": "code",
   "execution_count": 0,
   "metadata": {
    "application/vnd.databricks.v1+cell": {
     "cellMetadata": {
      "byteLimit": 2048000,
      "rowLimit": 10000
     },
     "inputWidgets": {},
     "nuid": "2dc9f509-f096-4b34-8d9a-c25df589fd9a",
     "showTitle": false,
     "tableResultSettingsMap": {},
     "title": ""
    }
   },
   "outputs": [
    {
     "output_type": "stream",
     "name": "stdout",
     "output_type": "stream",
     "text": [
      "Out[21]: True"
     ]
    }
   ],
   "source": [
    "# Se confirmar que o diretório pode ser apagado, use:\n",
    "dbutils.fs.rm(\"dbfs:/user/hive/warehouse/delta_bronze_orders\", True) # True para deletar recursivamente\n",
    "dbutils.fs.rm(\"dbfs:/user/hive/warehouse/delta_bronze_customers\", True) \n",
    "dbutils.fs.rm(\"dbfs:/user/hive/warehouse/delta_bronze_products\", True) \n",
    "dbutils.fs.rm(\"dbfs:/user/hive/warehouse/delta_bronze_order_items\", True) \n",
    "dbutils.fs.rm(\"dbfs:/user/hive/warehouse/delta_bronze_category_translation\", True) \n",
    "dbutils.fs.rm(\"dbfs:/user/hive/warehouse/delta_bronze_sellers\", True) \n",
    "dbutils.fs.rm(\"dbfs:/user/hive/warehouse/delta_bronze_payments\", True)   \n",
    "dbutils.fs.rm(\"dbfs:/user/hive/warehouse/delta_bronze_order_reviews\", True)  \n"
   ]
  },
  {
   "cell_type": "code",
   "execution_count": 0,
   "metadata": {
    "application/vnd.databricks.v1+cell": {
     "cellMetadata": {
      "byteLimit": 2048000,
      "implicitDf": true,
      "rowLimit": 10000
     },
     "inputWidgets": {},
     "nuid": "8aef9438-bcde-4f9d-8764-990010515713",
     "showTitle": false,
     "tableResultSettingsMap": {},
     "title": ""
    }
   },
   "outputs": [],
   "source": [
    "%sql\n",
    "-- Criar tabela Delta para bronze_orders\n",
    "-- CREATE TABLE delta_bronze_orders\n",
    "-- USING DELTA\n",
    "-- AS SELECT * FROM bronze_orders;\n",
    "\n",
    "-- Criar tabela Delta para bronze_customers\n",
    "CREATE TABLE delta_bronze_customers\n",
    "USING DELTA\n",
    "AS SELECT * FROM bronze_customers;\n",
    "\n",
    "-- Criar tabela Delta para bronze_products\n",
    "CREATE TABLE delta_bronze_products\n",
    "USING DELTA\n",
    "AS SELECT * FROM bronze_products;\n",
    "\n",
    "-- Criar tabela Delta para bronze_order_items\n",
    "CREATE TABLE delta_bronze_order_items\n",
    "USING DELTA\n",
    "AS SELECT * FROM bronze_order_items;\n",
    "\n",
    "-- Criar tabela Delta para bronze_category_translation\n",
    "CREATE TABLE delta_bronze_category_translation\n",
    "USING DELTA\n",
    "AS SELECT * FROM bronze_category_translation;\n",
    "\n",
    "-- Criar tabela Delta para bronze_sellers\n",
    "CREATE TABLE delta_bronze_sellers\n",
    "USING DELTA\n",
    "AS SELECT * FROM bronze_sellers;\n",
    "\n",
    "-- Criar tabela Delta para bronze_payments\n",
    "CREATE TABLE delta_bronze_payments\n",
    "USING DELTA\n",
    "AS SELECT * FROM bronze_payments;\n",
    "\n",
    "-- Criar tabela Delta para bronze_order_reviews\n",
    "CREATE TABLE delta_bronze_order_reviews\n",
    "USING DELTA\n",
    "AS SELECT * FROM bronze_order_reviews;\n",
    "\n",
    "-- Exibir confirmação\n",
    "SHOW TABLES;\n"
   ]
  },
  {
   "cell_type": "code",
   "execution_count": 0,
   "metadata": {
    "application/vnd.databricks.v1+cell": {
     "cellMetadata": {
      "byteLimit": 2048000,
      "rowLimit": 10000
     },
     "inputWidgets": {},
     "nuid": "fb540300-edea-4787-8f54-3352c7dc261f",
     "showTitle": false,
     "tableResultSettingsMap": {},
     "title": ""
    }
   },
   "outputs": [],
   "source": [
    "# Listar arquivos no diretório problemático\n",
    "dbutils.fs.ls(\"dbfs:/user/hive/warehouse/delta_bronze_customers\")"
   ]
  },
  {
   "cell_type": "markdown",
   "metadata": {
    "application/vnd.databricks.v1+cell": {
     "cellMetadata": {},
     "inputWidgets": {},
     "nuid": "2b475746-23fe-4b40-a42a-e4c9e2042b20",
     "showTitle": false,
     "tableResultSettingsMap": {},
     "title": ""
    }
   },
   "source": [
    "## Análise inicial dos dados na camada bronze"
   ]
  },
  {
   "cell_type": "markdown",
   "metadata": {
    "application/vnd.databricks.v1+cell": {
     "cellMetadata": {},
     "inputWidgets": {},
     "nuid": "188ebe6b-455e-4d3a-87bc-e58f8c165d2a",
     "showTitle": false,
     "tableResultSettingsMap": {},
     "title": ""
    }
   },
   "source": []
  },
  {
   "cell_type": "markdown",
   "metadata": {
    "application/vnd.databricks.v1+cell": {
     "cellMetadata": {},
     "inputWidgets": {},
     "nuid": "fc194c5a-791f-4285-a9fc-3d6c9230e425",
     "showTitle": false,
     "tableResultSettingsMap": {},
     "title": ""
    }
   },
   "source": [
    "Entender se é melhor deixar essas consultas conclusivas na camada Gold"
   ]
  },
  {
   "cell_type": "markdown",
   "metadata": {
    "application/vnd.databricks.v1+cell": {
     "cellMetadata": {},
     "inputWidgets": {},
     "nuid": "b5e429d6-3da1-41e5-ad64-76ea738cf5c7",
     "showTitle": false,
     "tableResultSettingsMap": {},
     "title": ""
    }
   },
   "source": [
    "## Passando para a camada prata"
   ]
  },
  {
   "cell_type": "code",
   "execution_count": 0,
   "metadata": {
    "application/vnd.databricks.v1+cell": {
     "cellMetadata": {
      "byteLimit": 2048000,
      "rowLimit": 10000
     },
     "inputWidgets": {},
     "nuid": "8d2631a3-0bba-47a9-aba0-3b498fdfb6a4",
     "showTitle": false,
     "tableResultSettingsMap": {},
     "title": ""
    }
   },
   "outputs": [
    {
     "output_type": "stream",
     "name": "stdout",
     "output_type": "stream",
     "text": [
      "Out[27]: True"
     ]
    }
   ],
   "source": [
    "# Diretório da camada Prata\n",
    "silver_path = \"/mnt/silver/\"\n",
    "dbutils.fs.mkdirs(silver_path)"
   ]
  },
  {
   "cell_type": "code",
   "execution_count": 0,
   "metadata": {
    "application/vnd.databricks.v1+cell": {
     "cellMetadata": {
      "byteLimit": 2048000,
      "rowLimit": 10000
     },
     "inputWidgets": {},
     "nuid": "d8632a96-9756-4775-9d0c-a673f121b6e5",
     "showTitle": false,
     "tableResultSettingsMap": {},
     "title": ""
    }
   },
   "outputs": [
    {
     "output_type": "stream",
     "name": "stdout",
     "output_type": "stream",
     "text": [
      "Out[25]: [FileInfo(path='dbfs:/mnt/silver/category_translation/', name='category_translation/', size=0, modificationTime=0),\n FileInfo(path='dbfs:/mnt/silver/customers/', name='customers/', size=0, modificationTime=0),\n FileInfo(path='dbfs:/mnt/silver/order_items/', name='order_items/', size=0, modificationTime=0),\n FileInfo(path='dbfs:/mnt/silver/order_reviews/', name='order_reviews/', size=0, modificationTime=0),\n FileInfo(path='dbfs:/mnt/silver/orders/', name='orders/', size=0, modificationTime=0),\n FileInfo(path='dbfs:/mnt/silver/payments/', name='payments/', size=0, modificationTime=0),\n FileInfo(path='dbfs:/mnt/silver/products/', name='products/', size=0, modificationTime=0),\n FileInfo(path='dbfs:/mnt/silver/sellers/', name='sellers/', size=0, modificationTime=0)]"
     ]
    }
   ],
   "source": [
    "# Listar os arquivos no diretório Silver\n",
    "dbutils.fs.ls(\"/mnt/silver/\")\n"
   ]
  },
  {
   "cell_type": "code",
   "execution_count": 0,
   "metadata": {
    "application/vnd.databricks.v1+cell": {
     "cellMetadata": {
      "byteLimit": 2048000,
      "rowLimit": 10000
     },
     "inputWidgets": {},
     "nuid": "3f8ed351-5e41-4a76-bd66-c78d8345a73c",
     "showTitle": false,
     "tableResultSettingsMap": {},
     "title": ""
    }
   },
   "outputs": [],
   "source": [
    "# Copiar DataFrames diretamente para a camada Prata - verificar se usa essa célula\n",
    "bronze_orders_df.write.format(\"delta\").mode(\"overwrite\").save(f\"{silver_path}orders\")\n",
    "bronze_customers_df.write.format(\"delta\").mode(\"overwrite\").save(f\"{silver_path}customers\")\n",
    "bronze_products_df.write.format(\"delta\").mode(\"overwrite\").save(f\"{silver_path}products\")\n",
    "bronze_order_items_df.write.format(\"delta\").mode(\"overwrite\").save(f\"{silver_path}order_items\")\n",
    "bronze_category_translation_df.write.format(\"delta\").mode(\"overwrite\").save(f\"{silver_path}category_translation\")\n",
    "bronze_sellers_df.write.format(\"delta\").mode(\"overwrite\").save(f\"{silver_path}sellers\")\n",
    "bronze_payments_df.write.format(\"delta\").mode(\"overwrite\").save(f\"{silver_path}payments\")\n",
    "bronze_order_reviews.write.format(\"delta\").mode(\"overwrite\").save(f\"{silver_path}order_reviews\")"
   ]
  },
  {
   "cell_type": "code",
   "execution_count": 0,
   "metadata": {
    "application/vnd.databricks.v1+cell": {
     "cellMetadata": {
      "byteLimit": 2048000,
      "rowLimit": 10000
     },
     "inputWidgets": {},
     "nuid": "31c0fd8d-fa55-4428-b368-f7c0d4c1a66f",
     "showTitle": false,
     "tableResultSettingsMap": {},
     "title": ""
    }
   },
   "outputs": [],
   "source": [
    "# 8 \n",
    "# Carregar dados da camada Bronze criando dataframes\n",
    "silver_orders_df = spark.read.format(\"delta\").load(\"/mnt/silver/orders\")\n",
    "silver_customers_df = spark.read.format(\"delta\").load(\"/mnt/silver/customers\")\n",
    "silver_products_df = spark.read.format(\"delta\").load(\"/mnt/silver/products\")\n",
    "silver_order_items_df = spark.read.format(\"delta\").load(\"/mnt/silver/order_items\")\n",
    "silver_category_translation_df = spark.read.format(\"delta\").load(\"/mnt/silver/category_translation\")\n",
    "silver_sellers_df = spark.read.format(\"delta\").load(\"/mnt/silver/sellers\")\n",
    "silver_payments_df = spark.read.format(\"delta\").load(\"/mnt/silver/payments\")\n",
    "silver_order_reviews = spark.read.format(\"delta\").load(\"/mnt/silver/order_reviews\")\n",
    "\n"
   ]
  },
  {
   "cell_type": "code",
   "execution_count": 0,
   "metadata": {
    "application/vnd.databricks.v1+cell": {
     "cellMetadata": {
      "byteLimit": 2048000,
      "rowLimit": 10000
     },
     "inputWidgets": {},
     "nuid": "231c8ac7-c1ce-43b3-8116-93426803db81",
     "showTitle": false,
     "tableResultSettingsMap": {},
     "title": ""
    }
   },
   "outputs": [
    {
     "output_type": "stream",
     "name": "stdout",
     "output_type": "stream",
     "text": [
      "+--------------------+--------------------+------------+------------------------+-------------------+----------------------------+-----------------------------+-----------------------------+\n|            order_id|         customer_id|order_status|order_purchase_timestamp|  order_approved_at|order_delivered_carrier_date|order_delivered_customer_date|order_estimated_delivery_date|\n+--------------------+--------------------+------------+------------------------+-------------------+----------------------------+-----------------------------+-----------------------------+\n|e481f51cbdc54678b...|9ef432eb625129730...|   delivered|     2017-10-02 10:56:33|2017-10-02 11:07:15|         2017-10-04 19:55:00|          2017-10-10 21:25:13|          2017-10-18 00:00:00|\n|53cdb2fc8bc7dce0b...|b0830fb4747a6c6d2...|   delivered|     2018-07-24 20:41:37|2018-07-26 03:24:27|         2018-07-26 14:31:00|          2018-08-07 15:27:45|          2018-08-13 00:00:00|\n|47770eb9100c2d0c4...|41ce2a54c0b03bf34...|   delivered|     2018-08-08 08:38:49|2018-08-08 08:55:23|         2018-08-08 13:50:00|          2018-08-17 18:06:29|          2018-09-04 00:00:00|\n|949d5b44dbf5de918...|f88197465ea7920ad...|   delivered|     2017-11-18 19:28:06|2017-11-18 19:45:59|         2017-11-22 13:39:59|          2017-12-02 00:28:42|          2017-12-15 00:00:00|\n|ad21c59c0840e6cb8...|8ab97904e6daea886...|   delivered|     2018-02-13 21:18:39|2018-02-13 22:20:29|         2018-02-14 19:46:34|          2018-02-16 18:17:02|          2018-02-26 00:00:00|\n|a4591c265e18cb1dc...|503740e9ca751ccdd...|   delivered|     2017-07-09 21:57:05|2017-07-09 22:10:13|         2017-07-11 14:58:04|          2017-07-26 10:57:55|          2017-08-01 00:00:00|\n|136cce7faa42fdb2c...|ed0271e0b7da060a3...|    invoiced|     2017-04-11 12:22:08|2017-04-13 13:25:17|                        null|                         null|          2017-05-09 00:00:00|\n|6514b8ad8028c9f2c...|9bdf08b4b3b52b552...|   delivered|     2017-05-16 13:10:30|2017-05-16 13:22:11|         2017-05-22 10:07:46|          2017-05-26 12:55:51|          2017-06-07 00:00:00|\n|76c6e866289321a7c...|f54a9f0e6b351c431...|   delivered|     2017-01-23 18:29:09|2017-01-25 02:50:47|         2017-01-26 14:16:31|          2017-02-02 14:08:10|          2017-03-06 00:00:00|\n|e69bfb5eb88e0ed6a...|31ad1d1b63eb99624...|   delivered|     2017-07-29 11:55:02|2017-07-29 12:05:32|         2017-08-10 19:45:24|          2017-08-16 17:14:30|          2017-08-23 00:00:00|\n|e6ce16cb79ec1d90b...|494dded5b201313c6...|   delivered|     2017-05-16 19:41:10|2017-05-16 19:50:18|         2017-05-18 11:40:40|          2017-05-29 11:18:31|          2017-06-07 00:00:00|\n|34513ce0c4fab462a...|7711cf624183d843a...|   delivered|     2017-07-13 19:58:11|2017-07-13 20:10:08|         2017-07-14 18:43:29|          2017-07-19 14:04:48|          2017-08-08 00:00:00|\n|82566a660a982b15f...|d3e3b74c766bc6214...|   delivered|     2018-06-07 10:06:19|2018-06-09 03:13:12|         2018-06-11 13:29:00|          2018-06-19 12:05:52|          2018-07-18 00:00:00|\n|5ff96c15d0b717ac6...|19402a48fe860416a...|   delivered|     2018-07-25 17:44:10|2018-07-25 17:55:14|         2018-07-26 13:16:00|          2018-07-30 15:52:25|          2018-08-08 00:00:00|\n|432aaf21d85167c2c...|3df704f53d3f1d481...|   delivered|     2018-03-01 14:14:28|2018-03-01 15:10:47|         2018-03-02 21:09:20|          2018-03-12 23:36:26|          2018-03-21 00:00:00|\n|dcb36b511fcac050b...|3b6828a50ffe54694...|   delivered|     2018-06-07 19:03:12|2018-06-12 23:31:02|         2018-06-11 14:54:00|          2018-06-21 15:34:32|          2018-07-04 00:00:00|\n|403b97836b0c04a62...|738b086814c6fcc74...|   delivered|     2018-01-02 19:00:43|2018-01-02 19:09:04|         2018-01-03 18:19:09|          2018-01-20 01:38:59|          2018-02-06 00:00:00|\n|116f0b09343b49556...|3187789bec9909876...|   delivered|     2017-12-26 23:41:31|2017-12-26 23:50:22|         2017-12-28 18:33:05|          2018-01-08 22:36:36|          2018-01-29 00:00:00|\n|85ce859fd6dc634de...|059f7fc5719c7da6c...|   delivered|     2017-11-21 00:03:41|2017-11-21 00:14:22|         2017-11-23 21:32:26|          2017-11-27 18:28:00|          2017-12-11 00:00:00|\n|83018ec114eee8641...|7f8c8b9c2ae27bf33...|   delivered|     2017-10-26 15:54:26|2017-10-26 16:08:14|         2017-10-26 21:46:53|          2017-11-08 22:22:00|          2017-11-23 00:00:00|\n+--------------------+--------------------+------------+------------------------+-------------------+----------------------------+-----------------------------+-----------------------------+\nonly showing top 20 rows\n\n"
     ]
    }
   ],
   "source": [
    "silver_orders_df.show()"
   ]
  },
  {
   "cell_type": "code",
   "execution_count": 0,
   "metadata": {
    "application/vnd.databricks.v1+cell": {
     "cellMetadata": {
      "byteLimit": 2048000,
      "rowLimit": 10000
     },
     "inputWidgets": {},
     "nuid": "62345d1c-7aa0-45e1-9eb4-d44703f63093",
     "showTitle": false,
     "tableResultSettingsMap": {},
     "title": ""
    }
   },
   "outputs": [
    {
     "output_type": "stream",
     "name": "stdout",
     "output_type": "stream",
     "text": [
      "Views temporárias criadas com sucesso!\n"
     ]
    }
   ],
   "source": [
    "# Registrar os DataFrames como Temporary Views\n",
    "silver_orders_df.createOrReplaceTempView(\"silver_orders\")\n",
    "silver_customers_df.createOrReplaceTempView(\"silver_customers\")\n",
    "silver_products_df.createOrReplaceTempView(\"silver_products\")\n",
    "silver_order_items_df.createOrReplaceTempView(\"silver_order_items\")\n",
    "silver_category_translation_df.createOrReplaceTempView(\"silver_category_translation\")\n",
    "silver_sellers_df.createOrReplaceTempView(\"silver_sellers\")\n",
    "silver_payments_df.createOrReplaceTempView(\"silver_payments\")\n",
    "silver_order_reviews.createOrReplaceTempView(\"silver_order_reviews\")\n",
    "print(\"Views temporárias criadas com sucesso!\")\n"
   ]
  },
  {
   "cell_type": "code",
   "execution_count": 0,
   "metadata": {
    "application/vnd.databricks.v1+cell": {
     "cellMetadata": {
      "byteLimit": 2048000,
      "implicitDf": true,
      "rowLimit": 10000
     },
     "inputWidgets": {},
     "nuid": "7f2da3c3-c031-4697-b9b3-e35d7f61b8ce",
     "showTitle": false,
     "tableResultSettingsMap": {},
     "title": ""
    }
   },
   "outputs": [
    {
     "output_type": "display_data",
     "data": {
      "text/html": [
       "<style scoped>\n",
       "  .table-result-container {\n",
       "    max-height: 300px;\n",
       "    overflow: auto;\n",
       "  }\n",
       "  table, th, td {\n",
       "    border: 1px solid black;\n",
       "    border-collapse: collapse;\n",
       "  }\n",
       "  th, td {\n",
       "    padding: 5px;\n",
       "  }\n",
       "  th {\n",
       "    text-align: left;\n",
       "  }\n",
       "</style><div class='table-result-container'><table class='table-result'><thead style='background-color: white'><tr><th>database</th><th>tableName</th><th>isTemporary</th></tr></thead><tbody><tr><td>default</td><td>delta_bronze_category_translation</td><td>false</td></tr><tr><td>default</td><td>delta_bronze_customers</td><td>false</td></tr><tr><td>default</td><td>delta_bronze_order_items</td><td>false</td></tr><tr><td>default</td><td>delta_bronze_order_reviews</td><td>false</td></tr><tr><td>default</td><td>delta_bronze_orders</td><td>false</td></tr><tr><td>default</td><td>delta_bronze_payments</td><td>false</td></tr><tr><td>default</td><td>delta_bronze_products</td><td>false</td></tr><tr><td>default</td><td>delta_bronze_sellers</td><td>false</td></tr><tr><td></td><td>bronze_category_translation</td><td>true</td></tr><tr><td></td><td>bronze_customers</td><td>true</td></tr><tr><td></td><td>bronze_order_items</td><td>true</td></tr><tr><td></td><td>bronze_order_reviews</td><td>true</td></tr><tr><td></td><td>bronze_orders</td><td>true</td></tr><tr><td></td><td>bronze_payments</td><td>true</td></tr><tr><td></td><td>bronze_products</td><td>true</td></tr><tr><td></td><td>bronze_sellers</td><td>true</td></tr><tr><td></td><td>silver_category_translation</td><td>true</td></tr><tr><td></td><td>silver_customers</td><td>true</td></tr><tr><td></td><td>silver_order_items</td><td>true</td></tr><tr><td></td><td>silver_order_reviews</td><td>true</td></tr><tr><td></td><td>silver_orders</td><td>true</td></tr><tr><td></td><td>silver_payments</td><td>true</td></tr><tr><td></td><td>silver_products</td><td>true</td></tr><tr><td></td><td>silver_sellers</td><td>true</td></tr></tbody></table></div>"
      ]
     },
     "metadata": {
      "application/vnd.databricks.v1+output": {
       "addedWidgets": {},
       "aggData": [],
       "aggError": "",
       "aggOverflow": false,
       "aggSchema": [],
       "aggSeriesLimitReached": false,
       "aggType": "",
       "arguments": {},
       "columnCustomDisplayInfos": {},
       "data": [
        [
         "default",
         "delta_bronze_category_translation",
         false
        ],
        [
         "default",
         "delta_bronze_customers",
         false
        ],
        [
         "default",
         "delta_bronze_order_items",
         false
        ],
        [
         "default",
         "delta_bronze_order_reviews",
         false
        ],
        [
         "default",
         "delta_bronze_orders",
         false
        ],
        [
         "default",
         "delta_bronze_payments",
         false
        ],
        [
         "default",
         "delta_bronze_products",
         false
        ],
        [
         "default",
         "delta_bronze_sellers",
         false
        ],
        [
         "",
         "bronze_category_translation",
         true
        ],
        [
         "",
         "bronze_customers",
         true
        ],
        [
         "",
         "bronze_order_items",
         true
        ],
        [
         "",
         "bronze_order_reviews",
         true
        ],
        [
         "",
         "bronze_orders",
         true
        ],
        [
         "",
         "bronze_payments",
         true
        ],
        [
         "",
         "bronze_products",
         true
        ],
        [
         "",
         "bronze_sellers",
         true
        ],
        [
         "",
         "silver_category_translation",
         true
        ],
        [
         "",
         "silver_customers",
         true
        ],
        [
         "",
         "silver_order_items",
         true
        ],
        [
         "",
         "silver_order_reviews",
         true
        ],
        [
         "",
         "silver_orders",
         true
        ],
        [
         "",
         "silver_payments",
         true
        ],
        [
         "",
         "silver_products",
         true
        ],
        [
         "",
         "silver_sellers",
         true
        ]
       ],
       "datasetInfos": [],
       "dbfsResultPath": null,
       "isJsonSchema": true,
       "metadata": {},
       "overflow": false,
       "plotOptions": {
        "customPlotOptions": {},
        "displayType": "table",
        "pivotAggregation": null,
        "pivotColumns": null,
        "xColumns": null,
        "yColumns": null
       },
       "removedWidgets": [],
       "schema": [
        {
         "metadata": "{}",
         "name": "database",
         "type": "\"string\""
        },
        {
         "metadata": "{}",
         "name": "tableName",
         "type": "\"string\""
        },
        {
         "metadata": "{}",
         "name": "isTemporary",
         "type": "\"boolean\""
        }
       ],
       "type": "table"
      }
     },
     "output_type": "display_data"
    }
   ],
   "source": [
    "%sql\n",
    "SHOW TABLES"
   ]
  },
  {
   "cell_type": "code",
   "execution_count": 0,
   "metadata": {
    "application/vnd.databricks.v1+cell": {
     "cellMetadata": {
      "byteLimit": 2048000,
      "rowLimit": 10000
     },
     "inputWidgets": {},
     "nuid": "6c5eae41-7f38-4413-b79c-bf4a8020b3bd",
     "showTitle": false,
     "tableResultSettingsMap": {},
     "title": ""
    }
   },
   "outputs": [
    {
     "output_type": "stream",
     "name": "stdout",
     "output_type": "stream",
     "text": [
      "Out[36]: True"
     ]
    }
   ],
   "source": [
    "# limpar diretório\n",
    "# Se confirmar que o diretório pode ser apagado, use:\n",
    "dbutils.fs.rm(\"dbfs:/user/hive/warehouse/delta_silver_orders\", True) # True para deletar recursivamente\n",
    "dbutils.fs.rm(\"dbfs:/user/hive/warehouse/delta_silver_customers\", True) \n",
    "dbutils.fs.rm(\"dbfs:/user/hive/warehouse/delta_silver_products\", True) \n",
    "dbutils.fs.rm(\"dbfs:/user/hive/warehouse/delta_silver_order_items\", True) \n",
    "dbutils.fs.rm(\"dbfs:/user/hive/warehouse/delta_silver_category_translation\", True) \n",
    "dbutils.fs.rm(\"dbfs:/user/hive/warehouse/delta_silver_sellers\", True) \n",
    "dbutils.fs.rm(\"dbfs:/user/hive/warehouse/delta_silver_payments\", True)   \n",
    "dbutils.fs.rm(\"dbfs:/user/hive/warehouse/delta_silver_order_reviews\", True)  "
   ]
  },
  {
   "cell_type": "code",
   "execution_count": 0,
   "metadata": {
    "application/vnd.databricks.v1+cell": {
     "cellMetadata": {
      "byteLimit": 2048000,
      "implicitDf": true,
      "rowLimit": 10000
     },
     "inputWidgets": {},
     "nuid": "39aa6555-f565-4375-9f34-f354234f68f5",
     "showTitle": false,
     "tableResultSettingsMap": {},
     "title": ""
    }
   },
   "outputs": [
    {
     "output_type": "display_data",
     "data": {
      "text/html": [
       "<style scoped>\n",
       "  .table-result-container {\n",
       "    max-height: 300px;\n",
       "    overflow: auto;\n",
       "  }\n",
       "  table, th, td {\n",
       "    border: 1px solid black;\n",
       "    border-collapse: collapse;\n",
       "  }\n",
       "  th, td {\n",
       "    padding: 5px;\n",
       "  }\n",
       "  th {\n",
       "    text-align: left;\n",
       "  }\n",
       "</style><div class='table-result-container'><table class='table-result'><thead style='background-color: white'><tr><th>database</th><th>tableName</th><th>isTemporary</th></tr></thead><tbody><tr><td>default</td><td>delta_bronze_category_translation</td><td>false</td></tr><tr><td>default</td><td>delta_bronze_customers</td><td>false</td></tr><tr><td>default</td><td>delta_bronze_order_items</td><td>false</td></tr><tr><td>default</td><td>delta_bronze_order_reviews</td><td>false</td></tr><tr><td>default</td><td>delta_bronze_orders</td><td>false</td></tr><tr><td>default</td><td>delta_bronze_payments</td><td>false</td></tr><tr><td>default</td><td>delta_bronze_products</td><td>false</td></tr><tr><td>default</td><td>delta_bronze_sellers</td><td>false</td></tr><tr><td>default</td><td>delta_silver_category_translation</td><td>false</td></tr><tr><td>default</td><td>delta_silver_customers</td><td>false</td></tr><tr><td>default</td><td>delta_silver_order_items</td><td>false</td></tr><tr><td>default</td><td>delta_silver_order_reviews</td><td>false</td></tr><tr><td>default</td><td>delta_silver_orders</td><td>false</td></tr><tr><td>default</td><td>delta_silver_payments</td><td>false</td></tr><tr><td>default</td><td>delta_silver_products</td><td>false</td></tr><tr><td>default</td><td>delta_silver_sellers</td><td>false</td></tr><tr><td></td><td>bronze_category_translation</td><td>true</td></tr><tr><td></td><td>bronze_customers</td><td>true</td></tr><tr><td></td><td>bronze_order_items</td><td>true</td></tr><tr><td></td><td>bronze_order_reviews</td><td>true</td></tr><tr><td></td><td>bronze_orders</td><td>true</td></tr><tr><td></td><td>bronze_payments</td><td>true</td></tr><tr><td></td><td>bronze_products</td><td>true</td></tr><tr><td></td><td>bronze_sellers</td><td>true</td></tr><tr><td></td><td>silver_category_translation</td><td>true</td></tr><tr><td></td><td>silver_customers</td><td>true</td></tr><tr><td></td><td>silver_order_items</td><td>true</td></tr><tr><td></td><td>silver_order_reviews</td><td>true</td></tr><tr><td></td><td>silver_orders</td><td>true</td></tr><tr><td></td><td>silver_payments</td><td>true</td></tr><tr><td></td><td>silver_products</td><td>true</td></tr><tr><td></td><td>silver_sellers</td><td>true</td></tr></tbody></table></div>"
      ]
     },
     "metadata": {
      "application/vnd.databricks.v1+output": {
       "addedWidgets": {},
       "aggData": [],
       "aggError": "",
       "aggOverflow": false,
       "aggSchema": [],
       "aggSeriesLimitReached": false,
       "aggType": "",
       "arguments": {},
       "columnCustomDisplayInfos": {},
       "data": [
        [
         "default",
         "delta_bronze_category_translation",
         false
        ],
        [
         "default",
         "delta_bronze_customers",
         false
        ],
        [
         "default",
         "delta_bronze_order_items",
         false
        ],
        [
         "default",
         "delta_bronze_order_reviews",
         false
        ],
        [
         "default",
         "delta_bronze_orders",
         false
        ],
        [
         "default",
         "delta_bronze_payments",
         false
        ],
        [
         "default",
         "delta_bronze_products",
         false
        ],
        [
         "default",
         "delta_bronze_sellers",
         false
        ],
        [
         "default",
         "delta_silver_category_translation",
         false
        ],
        [
         "default",
         "delta_silver_customers",
         false
        ],
        [
         "default",
         "delta_silver_order_items",
         false
        ],
        [
         "default",
         "delta_silver_order_reviews",
         false
        ],
        [
         "default",
         "delta_silver_orders",
         false
        ],
        [
         "default",
         "delta_silver_payments",
         false
        ],
        [
         "default",
         "delta_silver_products",
         false
        ],
        [
         "default",
         "delta_silver_sellers",
         false
        ],
        [
         "",
         "bronze_category_translation",
         true
        ],
        [
         "",
         "bronze_customers",
         true
        ],
        [
         "",
         "bronze_order_items",
         true
        ],
        [
         "",
         "bronze_order_reviews",
         true
        ],
        [
         "",
         "bronze_orders",
         true
        ],
        [
         "",
         "bronze_payments",
         true
        ],
        [
         "",
         "bronze_products",
         true
        ],
        [
         "",
         "bronze_sellers",
         true
        ],
        [
         "",
         "silver_category_translation",
         true
        ],
        [
         "",
         "silver_customers",
         true
        ],
        [
         "",
         "silver_order_items",
         true
        ],
        [
         "",
         "silver_order_reviews",
         true
        ],
        [
         "",
         "silver_orders",
         true
        ],
        [
         "",
         "silver_payments",
         true
        ],
        [
         "",
         "silver_products",
         true
        ],
        [
         "",
         "silver_sellers",
         true
        ]
       ],
       "datasetInfos": [],
       "dbfsResultPath": null,
       "isJsonSchema": true,
       "metadata": {},
       "overflow": false,
       "plotOptions": {
        "customPlotOptions": {},
        "displayType": "table",
        "pivotAggregation": null,
        "pivotColumns": null,
        "xColumns": null,
        "yColumns": null
       },
       "removedWidgets": [],
       "schema": [
        {
         "metadata": "{}",
         "name": "database",
         "type": "\"string\""
        },
        {
         "metadata": "{}",
         "name": "tableName",
         "type": "\"string\""
        },
        {
         "metadata": "{}",
         "name": "isTemporary",
         "type": "\"boolean\""
        }
       ],
       "type": "table"
      }
     },
     "output_type": "display_data"
    }
   ],
   "source": [
    "%sql\n",
    "-- Criar tabela Delta para bronze_orders\n",
    "CREATE TABLE delta_silver_orders\n",
    "USING DELTA\n",
    "AS SELECT * FROM silver_orders;\n",
    "\n",
    "-- Criar tabela Delta para bronze_customers\n",
    "CREATE TABLE delta_silver_customers\n",
    "USING DELTA\n",
    "AS SELECT * FROM silver_customers;\n",
    "\n",
    "-- Criar tabela Delta para bronze_products\n",
    "CREATE TABLE delta_silver_products\n",
    "USING DELTA\n",
    "AS SELECT * FROM silver_products;\n",
    "\n",
    "-- Criar tabela Delta para bronze_order_items\n",
    "CREATE TABLE delta_silver_order_items\n",
    "USING DELTA\n",
    "AS SELECT * FROM silver_order_items;\n",
    "\n",
    "-- Criar tabela Delta para bronze_category_translation\n",
    "CREATE TABLE delta_silver_category_translation\n",
    "USING DELTA\n",
    "AS SELECT * FROM silver_category_translation;\n",
    "\n",
    "-- Criar tabela Delta para bronze_sellers\n",
    "CREATE TABLE delta_silver_sellers\n",
    "USING DELTA\n",
    "AS SELECT * FROM silver_sellers;\n",
    "\n",
    "-- Criar tabela Delta para bronze_payments\n",
    "CREATE TABLE delta_silver_payments\n",
    "USING DELTA\n",
    "AS SELECT * FROM silver_payments;\n",
    "\n",
    "-- Criar tabela Delta para bronze_order_reviews\n",
    "CREATE TABLE delta_silver_order_reviews\n",
    "USING DELTA\n",
    "AS SELECT * FROM silver_order_reviews;\n",
    "\n",
    "-- Exibir confirmação\n",
    "SHOW TABLES;\n"
   ]
  },
  {
   "cell_type": "code",
   "execution_count": 0,
   "metadata": {
    "application/vnd.databricks.v1+cell": {
     "cellMetadata": {
      "byteLimit": 2048000,
      "implicitDf": true,
      "rowLimit": 10000
     },
     "inputWidgets": {},
     "nuid": "77a0f9a1-d385-44cf-8e0d-6c5d3221b661",
     "showTitle": false,
     "tableResultSettingsMap": {},
     "title": ""
    }
   },
   "outputs": [],
   "source": [
    "%sql\n",
    "SHOW TABLES"
   ]
  },
  {
   "cell_type": "markdown",
   "metadata": {
    "application/vnd.databricks.v1+cell": {
     "cellMetadata": {},
     "inputWidgets": {},
     "nuid": "96476d94-aad3-4f53-ba1b-a2901ed4027b",
     "showTitle": false,
     "tableResultSettingsMap": {},
     "title": ""
    }
   },
   "source": [
    "## Fim da camada prata"
   ]
  },
  {
   "cell_type": "markdown",
   "metadata": {
    "application/vnd.databricks.v1+cell": {
     "cellMetadata": {},
     "inputWidgets": {},
     "nuid": "de670412-1657-4b42-8901-dfe000f6d59d",
     "showTitle": false,
     "tableResultSettingsMap": {},
     "title": ""
    }
   },
   "source": [
    "PAREI AQUI EM 09ABR25 22:38h"
   ]
  },
  {
   "cell_type": "markdown",
   "metadata": {
    "application/vnd.databricks.v1+cell": {
     "cellMetadata": {},
     "inputWidgets": {},
     "nuid": "6b10a8c8-a210-4247-aef7-1aa6ca983f4b",
     "showTitle": false,
     "tableResultSettingsMap": {},
     "title": ""
    }
   },
   "source": [
    "## Início camada gold"
   ]
  },
  {
   "cell_type": "markdown",
   "metadata": {
    "application/vnd.databricks.v1+cell": {
     "cellMetadata": {},
     "inputWidgets": {},
     "nuid": "e614ffc0-4542-4cb0-8fbc-0258d8a8c91d",
     "showTitle": false,
     "tableResultSettingsMap": {},
     "title": ""
    }
   },
   "source": [
    "Transformações Avançadas:\n",
    "\n",
    "Criar novos campos, métricas ou combinações de tabelas baseadas nos dados existentes para atender aos requisitos de análise.\n",
    "\n",
    "Estruturação das tabelas ouro:\n",
    "\n",
    "Definir tabelas finais ou views consolidadas para as análises, seguindo os padrões do seu projeto."
   ]
  },
  {
   "cell_type": "markdown",
   "metadata": {
    "application/vnd.databricks.v1+cell": {
     "cellMetadata": {},
     "inputWidgets": {},
     "nuid": "c27dc3dd-01ea-43b0-a65e-1de88e50a950",
     "showTitle": false,
     "tableResultSettingsMap": {},
     "title": ""
    }
   },
   "source": [
    "Revendo perguntas iniciais para entender que campos e consultas terei que fazer\n"
   ]
  },
  {
   "cell_type": "markdown",
   "metadata": {
    "application/vnd.databricks.v1+cell": {
     "cellMetadata": {},
     "inputWidgets": {},
     "nuid": "fc805c24-57eb-4d81-b122-4e4a8898caac",
     "showTitle": false,
     "tableResultSettingsMap": {},
     "title": ""
    }
   },
   "source": [
    "Analisar o mercado on-line de forma sintética (Produtos mais vendidos, Produtos que mais faturaram, faixa etária que mais compra, etc.) e analítica (vendas por região, produtos por faixa etária e região, formas de pagamento por faixa etária, por período, etc.)."
   ]
  },
  {
   "cell_type": "markdown",
   "metadata": {
    "application/vnd.databricks.v1+cell": {
     "cellMetadata": {},
     "inputWidgets": {},
     "nuid": "285410ad-ae08-4c07-b639-68e4523eaffd",
     "showTitle": false,
     "tableResultSettingsMap": {},
     "title": ""
    }
   },
   "source": [
    "## 1. Qual o produto mais vendido no período registrado?\n",
    "\n",
    "a. Como estão divididas as faixas etárias na compra desse produto?\n",
    "\n",
    "b. Qual o peso de cada região na venda desse produto?\n",
    "## 2. Qual a forma de pagamento mais usada nas transações?\n",
    "a. Qual a faixe etária que mais utiliza esse método?\n",
    "\n",
    "b. Qual o percentual de cada faixa etária que utilizam esse método?\n",
    "## 3. Qual o tipo/categoria de produtos que mais vendeu nesse período?\n",
    "a. Qual o percentual de cada região nas vendas desses tipos/categorias?\n",
    "\n",
    "b. Que tipos/categorias cada região compra?\n",
    "## 4. Qual produto teve a maior variação de preços durante esse período?\n",
    "a. Quais os 5 produtos que tiveram a maior variação de preços no período?\n",
    "\n",
    "b. Quais os 5 produtos que tiveram crescimento nas vendas nesse período?\n",
    "## 5. Qual faixa etária compra mais?\n",
    "a. Quais os tipos/categorias que cada faixa etária compra?\n",
    "\n",
    "## 6. Qual mês mais vende?\n",
    "a. Qual o período do mês mais vende?\n",
    "\n",
    "## 7. Qual faixa etária mais usa o cartão de crédito para pagar as compras?"
   ]
  },
  {
   "cell_type": "code",
   "execution_count": 0,
   "metadata": {
    "application/vnd.databricks.v1+cell": {
     "cellMetadata": {},
     "inputWidgets": {},
     "nuid": "15c1038b-1f9a-4455-be40-37916d26340b",
     "showTitle": false,
     "tableResultSettingsMap": {},
     "title": ""
    }
   },
   "outputs": [],
   "source": [
    "# 1. Qual o produto mais vendido no período registrado?\n",
    "# Tabelas products, order e order_items\n"
   ]
  },
  {
   "cell_type": "code",
   "execution_count": 0,
   "metadata": {
    "application/vnd.databricks.v1+cell": {
     "cellMetadata": {},
     "inputWidgets": {},
     "nuid": "6e0723f1-c175-4b39-b38c-b0337e3aa50f",
     "showTitle": false,
     "tableResultSettingsMap": {},
     "title": ""
    }
   },
   "outputs": [],
   "source": [
    "# 2. Qual a forma de pagamento mais usada nas transações?\n",
    "# Tabelas order e payments"
   ]
  },
  {
   "cell_type": "code",
   "execution_count": 0,
   "metadata": {
    "application/vnd.databricks.v1+cell": {
     "cellMetadata": {
      "byteLimit": 2048000,
      "implicitDf": true,
      "rowLimit": 10000
     },
     "inputWidgets": {},
     "nuid": "3ef47658-c131-4433-9537-ff1f8af05320",
     "showTitle": false,
     "tableResultSettingsMap": {},
     "title": ""
    }
   },
   "outputs": [],
   "source": [
    "%sql\n",
    "SELECT order_id, payment_type, payment_value, payment_installments FROM delta_silver_payments\n",
    "ORDER BY order_id\n"
   ]
  },
  {
   "cell_type": "markdown",
   "metadata": {
    "application/vnd.databricks.v1+cell": {
     "cellMetadata": {},
     "inputWidgets": {},
     "nuid": "33681540-55d1-4386-84d6-edf19f79f11d",
     "showTitle": false,
     "tableResultSettingsMap": {},
     "title": ""
    }
   },
   "source": [
    "Tentar chegar no valor total da compra comparando com payments - principalmente o campo payment_installments\n",
    "\n",
    "Tabelas orders, order_itens, payments"
   ]
  },
  {
   "cell_type": "code",
   "execution_count": 0,
   "metadata": {
    "application/vnd.databricks.v1+cell": {
     "cellMetadata": {},
     "inputWidgets": {},
     "nuid": "1e5c3d43-7d88-4b2a-aa17-03a9c4685066",
     "showTitle": false,
     "tableResultSettingsMap": {},
     "title": ""
    }
   },
   "outputs": [],
   "source": [
    "# 3. Qual o tipo/categoria de produtos que mais vendeu nesse período?\n",
    "# Tabelas products, orders, order_items\n"
   ]
  },
  {
   "cell_type": "code",
   "execution_count": 0,
   "metadata": {
    "application/vnd.databricks.v1+cell": {
     "cellMetadata": {},
     "inputWidgets": {},
     "nuid": "6eed0b35-d939-4732-917a-8654597558df",
     "showTitle": false,
     "tableResultSettingsMap": {},
     "title": ""
    }
   },
   "outputs": [],
   "source": [
    "# 4. Qual produto teve a maior variação de preços durante esse período?\n",
    "# Tabelas products, orders, order_items"
   ]
  },
  {
   "cell_type": "code",
   "execution_count": 0,
   "metadata": {
    "application/vnd.databricks.v1+cell": {
     "cellMetadata": {},
     "inputWidgets": {},
     "nuid": "9a37d2a2-dec2-49e1-a306-3726ab671c97",
     "showTitle": false,
     "tableResultSettingsMap": {},
     "title": ""
    }
   },
   "outputs": [],
   "source": [
    "# 5. Qual faixa etária compra mais?\n",
    "# não nenhum tipo de dado que possa fornecer essa informação. Cadastro de customers ñ tem"
   ]
  },
  {
   "cell_type": "code",
   "execution_count": 0,
   "metadata": {
    "application/vnd.databricks.v1+cell": {
     "cellMetadata": {},
     "inputWidgets": {},
     "nuid": "efe6a522-a157-4696-bfa7-a47f8dda22c0",
     "showTitle": false,
     "tableResultSettingsMap": {},
     "title": ""
    }
   },
   "outputs": [],
   "source": [
    "# 6. Qual mês mais vende?\n",
    "# Tabelas order, order_items"
   ]
  },
  {
   "cell_type": "code",
   "execution_count": 0,
   "metadata": {
    "application/vnd.databricks.v1+cell": {
     "cellMetadata": {},
     "inputWidgets": {},
     "nuid": "f76969d9-1595-4422-b5d1-543f9e6a861f",
     "showTitle": false,
     "tableResultSettingsMap": {},
     "title": ""
    }
   },
   "outputs": [],
   "source": [
    "# 7. Qual faixa etária mais usa o cartão de crédito para pagar as compras?\n",
    "# não nenhum tipo de dado que possa fornecer essa informação. Cadastro de customers ñ tem"
   ]
  },
  {
   "cell_type": "markdown",
   "metadata": {
    "application/vnd.databricks.v1+cell": {
     "cellMetadata": {},
     "inputWidgets": {},
     "nuid": "983a0e88-67b0-46ee-9b3e-2fcbb0a65df2",
     "showTitle": false,
     "tableResultSettingsMap": {},
     "title": ""
    }
   },
   "source": [
    "## Anotações sobre análise dos dados\n",
    "1 - Ñ há como definir nenhuma pergunta relacionada à faixa etária. As tabelas disponibilizadas ñ fornecem esse tipo de dado"
   ]
  },
  {
   "cell_type": "markdown",
   "metadata": {
    "application/vnd.databricks.v1+cell": {
     "cellMetadata": {},
     "inputWidgets": {},
     "nuid": "57db35e5-bb86-493a-89ae-119621537050",
     "showTitle": false,
     "tableResultSettingsMap": {},
     "title": ""
    }
   },
   "source": [
    "## Fim da camada gold"
   ]
  },
  {
   "cell_type": "code",
   "execution_count": 0,
   "metadata": {
    "application/vnd.databricks.v1+cell": {
     "cellMetadata": {},
     "inputWidgets": {},
     "nuid": "c72b89c5-116b-4dcc-a6ed-51471d7fcd73",
     "showTitle": false,
     "tableResultSettingsMap": {},
     "title": ""
    }
   },
   "outputs": [],
   "source": [
    "# Refresh 1\n",
    "# Refresh 2\n",
    "# Refresh 3 - 08:12h\n",
    "# Refresh 4  - 09:01h\n",
    "# Refresh 5 - 09:20h\n",
    "# Refresh 6 - 10:38h\n",
    "# Refresh 7 - 10:54h\n",
    "# Refresh 8 - 11:07h\n",
    "# Refresh 9 - 11:42\n",
    "# Refresh 1 - 12:11\n",
    "# Refresh 11 - 12:40\n",
    "# Refresh 12 - 12:52\n",
    "# Refresh 1\n",
    "# Refresh 1\n",
    "# Refresh 1\n"
   ]
  },
  {
   "cell_type": "markdown",
   "metadata": {
    "application/vnd.databricks.v1+cell": {
     "cellMetadata": {},
     "inputWidgets": {},
     "nuid": "963785c7-21af-4cb6-be74-01e097f3dcd8",
     "showTitle": false,
     "tableResultSettingsMap": {},
     "title": ""
    }
   },
   "source": [
    "## Possíveis consultas extras - início\n",
    "Avaliar outras consultas durante a análise, aqui\n",
    "\n",
    "Avaliar outras consultas em outros projetos."
   ]
  },
  {
   "cell_type": "markdown",
   "metadata": {
    "application/vnd.databricks.v1+cell": {
     "cellMetadata": {},
     "inputWidgets": {},
     "nuid": "8ac3989b-21d8-4a9f-a377-6f3d16749d1f",
     "showTitle": false,
     "tableResultSettingsMap": {},
     "title": ""
    }
   },
   "source": [
    "## Algumas perguntas sugeridas pelo projeto do kaggle:\n",
    "**Clustering:**\n",
    "Some customers didn't write a review. But why are they happy or mad?\n",
    "\n",
    "**Sales Prediction:**\n",
    "With purchase date information you'll be able to predict future sales.\n",
    "\n",
    "**Delivery Performance:**\n",
    "You will also be able to work through delivery performance and find ways to optimize delivery times.\n",
    "\n",
    "**Product Quality:**\n",
    "Enjoy yourself discovering the products categories that are more prone to customer insatisfaction.\n",
    "\n",
    "**Feature Engineering:**\n",
    "Create features from this rich dataset or attach some external public information to it."
   ]
  },
  {
   "cell_type": "markdown",
   "metadata": {
    "application/vnd.databricks.v1+cell": {
     "cellMetadata": {},
     "inputWidgets": {},
     "nuid": "76fe0360-e2ff-4c9e-ae6b-c0197d7bd8dc",
     "showTitle": false,
     "tableResultSettingsMap": {},
     "title": ""
    }
   },
   "source": [
    "## Também\n",
    "Quantidade e valores de venda por loja"
   ]
  },
  {
   "cell_type": "code",
   "execution_count": 0,
   "metadata": {
    "application/vnd.databricks.v1+cell": {
     "cellMetadata": {
      "byteLimit": 2048000,
      "implicitDf": true,
      "rowLimit": 10000
     },
     "inputWidgets": {},
     "nuid": "704cd4d3-4b07-42a5-8abb-749e88612161",
     "showTitle": false,
     "tableResultSettingsMap": {},
     "title": ""
    }
   },
   "outputs": [],
   "source": [
    "%sql\n",
    "SELECT customer_state, COUNT(DISTINCT customer_id) AS qtd_clientes\n",
    "FROM delta_silver_customers\n",
    "GROUP BY customer_state\n",
    "ORDER BY qtd_clientes DESC\n",
    "-- QTD de clientes por estado em ordem decrescente\n"
   ]
  },
  {
   "cell_type": "code",
   "execution_count": 0,
   "metadata": {
    "application/vnd.databricks.v1+cell": {
     "cellMetadata": {
      "byteLimit": 2048000,
      "implicitDf": true,
      "rowLimit": 10000
     },
     "inputWidgets": {},
     "nuid": "5e3fbb9a-4afe-4692-826a-a5d94c8b9d22",
     "showTitle": false,
     "tableResultSettingsMap": {},
     "title": ""
    }
   },
   "outputs": [],
   "source": [
    "%sql\n",
    "SELECT product_category_name, COUNT(DISTINCT product_id) AS qtd_produtos\n",
    "FROM delta_silver_products p\n",
    "GROUP BY product_category_name\n",
    "ORDER BY qtd_produtos DESC\n",
    "-- QTD de produtos de cada categoria"
   ]
  },
  {
   "cell_type": "code",
   "execution_count": 0,
   "metadata": {
    "application/vnd.databricks.v1+cell": {
     "cellMetadata": {
      "byteLimit": 2048000,
      "implicitDf": true,
      "rowLimit": 10000
     },
     "collapsed": true,
     "inputWidgets": {},
     "nuid": "3f22b4fb-b63d-4405-8b38-dc2bf61292ab",
     "showTitle": false,
     "tableResultSettingsMap": {},
     "title": ""
    }
   },
   "outputs": [],
   "source": [
    "%sql\n",
    "SELECT order_id, order_item_id, product_id, price, freight_value FROM delta_bronze_order_items\n",
    "WHERE order_id = \"00143d0f86d6fbd9f9b38ab440ac16f5\"\n"
   ]
  },
  {
   "cell_type": "code",
   "execution_count": 0,
   "metadata": {
    "application/vnd.databricks.v1+cell": {
     "cellMetadata": {
      "byteLimit": 2048000,
      "implicitDf": true,
      "rowLimit": 10000
     },
     "collapsed": true,
     "inputWidgets": {},
     "nuid": "f3115bf8-3c3d-4119-b82f-2ffee427eab9",
     "showTitle": false,
     "tableResultSettingsMap": {},
     "title": ""
    }
   },
   "outputs": [],
   "source": [
    "%sql\n",
    "SELECT * FROM delta_bronze_products\n",
    "WHERE product_id = \"e95ee6822b66ac6058e2e4aff656071a\""
   ]
  },
  {
   "cell_type": "code",
   "execution_count": 0,
   "metadata": {
    "application/vnd.databricks.v1+cell": {
     "cellMetadata": {
      "byteLimit": 2048000,
      "implicitDf": true,
      "rowLimit": 10000
     },
     "collapsed": true,
     "inputWidgets": {},
     "nuid": "4a9bc265-dc47-4fb2-8b3a-fe7b79482a04",
     "showTitle": false,
     "tableResultSettingsMap": {},
     "title": ""
    }
   },
   "outputs": [],
   "source": [
    "%sql\n",
    "SELECT order_item_id, order_id, product_id, price FROM delta_bronze_order_items\n",
    "ORDER BY price DESC"
   ]
  },
  {
   "cell_type": "code",
   "execution_count": 0,
   "metadata": {
    "application/vnd.databricks.v1+cell": {
     "cellMetadata": {
      "byteLimit": 2048000,
      "implicitDf": true,
      "rowLimit": 10000
     },
     "inputWidgets": {},
     "nuid": "3a2738b0-fb8f-421f-b864-123e79897791",
     "showTitle": false,
     "tableResultSettingsMap": {},
     "title": ""
    }
   },
   "outputs": [],
   "source": [
    "%sql\n",
    "SELECT p.product_category_name, p.product_id, oi.price\n",
    "FROM delta_silver_order_items oi LEFT JOIN delta_silver_products p ON (p.product_id = oi.product_id)\n",
    "WHERE price = (SELECT MAX(price) FROM delta_silver_order_items oi)\n",
    "-- Encontra valor máximo e produtos com esses valores\n"
   ]
  },
  {
   "cell_type": "code",
   "execution_count": 0,
   "metadata": {
    "application/vnd.databricks.v1+cell": {
     "cellMetadata": {
      "byteLimit": 2048000,
      "implicitDf": true,
      "rowLimit": 10000
     },
     "inputWidgets": {},
     "nuid": "18e11402-367e-4d6c-a1e7-59a7e21206c2",
     "showTitle": false,
     "tableResultSettingsMap": {},
     "title": ""
    }
   },
   "outputs": [],
   "source": [
    "%sql\n",
    "SELECT order_status, COUNT(DISTINCT customer_id) AS qtd_clientes\n",
    "FROM delta_silver_orders o \n",
    "WHERE( o.order_status IN ('processing','shipped','delivered')) AND\n",
    "     (o.order_purchase_timestamp BETWEEN '2016-10-01' AND '2016-10-31')\n",
    "GROUP BY o.order_status\n",
    "HAVING qtd_clientes>1\n",
    "-- Status das entregas dos pedidos em maio de 2016\n"
   ]
  },
  {
   "cell_type": "code",
   "execution_count": 0,
   "metadata": {
    "application/vnd.databricks.v1+cell": {
     "cellMetadata": {
      "byteLimit": 2048000,
      "implicitDf": true,
      "rowLimit": 10000
     },
     "inputWidgets": {},
     "nuid": "8d17c5bd-601f-4e0e-8408-f55715756fd8",
     "showTitle": false,
     "tableResultSettingsMap": {},
     "title": ""
    }
   },
   "outputs": [],
   "source": [
    "%sql\n",
    "WITH categoria_preco AS (\n",
    "  SELECT oi.product_id,\n",
    "    (CASE\n",
    "      WHEN price < 50 THEN 'Categoria_E'\n",
    "      WHEN price >= 50 AND price <100 THEN 'Categoria_D'\n",
    "      WHEN price >= 100 AND price <500 THEN 'Categoria_C'\n",
    "      WHEN price >= 500 AND price <1500 THEN 'Categoria_B'\n",
    "      ELSE 'Categoria_A'\n",
    "    END) AS categoria_produto\n",
    "  FROM delta_silver_order_items oi  \n",
    "    \n",
    ")\n",
    "SELECT categoria_produto, COUNT(DISTINCT product_id) AS qtd_produto\n",
    "FROM categoria_preco cp\n",
    "GROUP BY cp.categoria_produto\n",
    "ORDER BY cp.categoria_produto\n",
    "-- Definição e criação de categorias de produtos agrupadas por faixa de valores"
   ]
  },
  {
   "cell_type": "code",
   "execution_count": 0,
   "metadata": {
    "application/vnd.databricks.v1+cell": {
     "cellMetadata": {
      "byteLimit": 2048000,
      "implicitDf": true,
      "rowLimit": 10000
     },
     "inputWidgets": {},
     "nuid": "85bc2ab7-209a-4da1-855f-1116a4b60207",
     "showTitle": false,
     "tableResultSettingsMap": {},
     "title": ""
    }
   },
   "outputs": [],
   "source": [
    "%sql\n",
    "WITH vendas AS (\n",
    "  SELECT c.customer_state AS estado, p.product_category_name AS categoria, COUNT(oi.product_id) AS produtos\n",
    "  FROM delta_silver_orders o LEFT JOIN delta_silver_order_items oi ON (oi.order_id = o.order_id)\n",
    "                             LEFT JOIN delta_silver_products p ON (p.product_id = oi.product_id)\n",
    "                             LEFT JOIN delta_silver_customers c ON (c.customer_id = o.customer_id)\n",
    "  GROUP BY c.customer_state, p.product_category_name\n",
    "  HAVING p.product_category_name IS NOT NULL                           \n",
    ")\n",
    "SELECT estado, categoria, produtos,\n",
    "       SUM(produtos) OVER (PARTITION BY estado) AS total_vendas_estado,\n",
    "       produtos*1.0/SUM(produtos) OVER (PARTITION BY estado) AS percentual_vendas\n",
    "FROM vendas v \n",
    "ORDER BY estado, percentual_vendas DESC\n",
    "-- Encontra o percentual de vendas de cada categoria de produtos em cada estado"
   ]
  },
  {
   "cell_type": "code",
   "execution_count": 0,
   "metadata": {
    "application/vnd.databricks.v1+cell": {
     "cellMetadata": {
      "byteLimit": 2048000,
      "implicitDf": true,
      "rowLimit": 10000
     },
     "inputWidgets": {},
     "nuid": "7a84e4d5-6ac2-4b02-b6be-dbf97f498f98",
     "showTitle": false,
     "tableResultSettingsMap": {},
     "title": ""
    }
   },
   "outputs": [],
   "source": [
    "%sql\n",
    "WITH vendas_lojas AS (\n",
    "  SELECT s.seller_id, COUNT(DISTINCT o.order_id) AS total_pedidos\n",
    "  FROM delta_silver_orders o LEFT JOIN delta_silver_order_items oi ON (oi.order_id=o.order_id)\n",
    "                             LEFT JOIN delta_silver_sellers s ON (s.seller_id=oi.seller_id)\n",
    "  WHERE s.seller_id IS NOT NULL\n",
    "  GROUP BY s.seller_id                           \n",
    ")\n",
    "SELECT seller_id, total_pedidos,\n",
    "NTILE(4) OVER (ORDER BY total_pedidos) AS quartil\n",
    "FROM vendas_lojas vl\n",
    "-- Agrupa qtd total de vendas por loja e classifica em qual quartil está"
   ]
  }
 ],
 "metadata": {
  "application/vnd.databricks.v1+notebook": {
   "computePreferences": null,
   "dashboards": [],
   "environmentMetadata": {
    "base_environment": "",
    "environment_version": "1"
   },
   "inputWidgetPreferences": null,
   "language": "python",
   "notebookMetadata": {
    "mostRecentlyExecutedCommandWithImplicitDF": {
     "commandId": 2251636071208669,
     "dataframes": [
      "_sqldf"
     ]
    },
    "pythonIndentUnit": 4
   },
   "notebookName": "MVP_2_BETA",
   "widgets": {}
  }
 },
 "nbformat": 4,
 "nbformat_minor": 0
}